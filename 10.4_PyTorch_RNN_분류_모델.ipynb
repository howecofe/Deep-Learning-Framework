{
  "nbformat": 4,
  "nbformat_minor": 0,
  "metadata": {
    "colab": {
      "name": "_10.4 파이토치 RNN 분류 모델.ipynb의 사본",
      "provenance": [],
      "collapsed_sections": []
    },
    "kernelspec": {
      "name": "python3",
      "display_name": "Python 3"
    }
  },
  "cells": [
    {
      "cell_type": "markdown",
      "metadata": {
        "id": "w7dUbyNVXcEf"
      },
      "source": [
        "# 파이토치 RNN 분류 모델\n",
        "- 코드 출처: https://tutorials.pytorch.kr/intermediate/char_rnn_classification_tutorial.html"
      ]
    },
    {
      "cell_type": "code",
      "metadata": {
        "id": "dB-d43kLYEAi",
        "colab": {
          "base_uri": "https://localhost:8080/"
        },
        "outputId": "f689ce2d-6845-471e-c915-7dddb5ec84b9"
      },
      "source": [
        "!wget https://download.pytorch.org/tutorial/data.zip\n",
        "!unzip data.zip"
      ],
      "execution_count": null,
      "outputs": [
        {
          "output_type": "stream",
          "text": [
            "--2020-10-30 09:02:17--  https://download.pytorch.org/tutorial/data.zip\n",
            "Resolving download.pytorch.org (download.pytorch.org)... 13.226.49.83, 13.226.49.39, 13.226.49.84, ...\n",
            "Connecting to download.pytorch.org (download.pytorch.org)|13.226.49.83|:443... connected.\n",
            "HTTP request sent, awaiting response... 200 OK\n",
            "Length: 2882130 (2.7M) [application/zip]\n",
            "Saving to: ‘data.zip’\n",
            "\n",
            "data.zip            100%[===================>]   2.75M  18.1MB/s    in 0.2s    \n",
            "\n",
            "2020-10-30 09:02:17 (18.1 MB/s) - ‘data.zip’ saved [2882130/2882130]\n",
            "\n",
            "Archive:  data.zip\n",
            "   creating: data/\n",
            "  inflating: data/eng-fra.txt        \n",
            "   creating: data/names/\n",
            "  inflating: data/names/Arabic.txt   \n",
            "  inflating: data/names/Chinese.txt  \n",
            "  inflating: data/names/Czech.txt    \n",
            "  inflating: data/names/Dutch.txt    \n",
            "  inflating: data/names/English.txt  \n",
            "  inflating: data/names/French.txt   \n",
            "  inflating: data/names/German.txt   \n",
            "  inflating: data/names/Greek.txt    \n",
            "  inflating: data/names/Irish.txt    \n",
            "  inflating: data/names/Italian.txt  \n",
            "  inflating: data/names/Japanese.txt  \n",
            "  inflating: data/names/Korean.txt   \n",
            "  inflating: data/names/Polish.txt   \n",
            "  inflating: data/names/Portuguese.txt  \n",
            "  inflating: data/names/Russian.txt  \n",
            "  inflating: data/names/Scottish.txt  \n",
            "  inflating: data/names/Spanish.txt  \n",
            "  inflating: data/names/Vietnamese.txt  \n"
          ],
          "name": "stdout"
        }
      ]
    },
    {
      "cell_type": "markdown",
      "metadata": {
        "id": "Vukqoa09LSZw"
      },
      "source": [
        "이름: Ślusàrski"
      ]
    },
    {
      "cell_type": "code",
      "metadata": {
        "id": "2d1pQ-JeYKzw",
        "colab": {
          "base_uri": "https://localhost:8080/"
        },
        "outputId": "eaf76bab-46f6-4095-df9d-639d3ee24e59"
      },
      "source": [
        "from io import open\n",
        "import glob\n",
        "import os\n",
        "\n",
        "def findFiles(path):\n",
        "  return glob.glob(path)\n",
        "\n",
        "print(findFiles('data/names/*.txt'))\n",
        "\n",
        "import unicodedata\n",
        "import string\n",
        "\n",
        "all_letters = string.ascii_letters + \".,;'\"\n",
        "n_letters = len(all_letters)\n",
        "\n",
        "def unicodeToAscii(s):\n",
        "  return ''.join(\n",
        "      c for c in unicodedata.normalize('NFD', s)\n",
        "      if unicodedata.category(c) != 'Mn' and c in all_letters\n",
        "  )\n",
        "\n",
        "print(unicodeToAscii('Ślusàrski'))\n",
        "\n",
        "category_lines = {}\n",
        "all_categories = []\n",
        "\n",
        "def readLines(filename):\n",
        "  lines = open(filename, encoding='utf-8').read().strip().split('\\n')\n",
        "  return [unicodeToAscii(line) for line in lines]\n",
        "\n",
        "for filename in findFiles('data/names/*.txt'):\n",
        "  category = os.path.splitext(os.path.basename(filename))[0]\n",
        "  all_categories.append(category)\n",
        "  lines = readLines(filename)\n",
        "  category_lines[category] = lines\n",
        "\n",
        "n_categories = len(all_categories)"
      ],
      "execution_count": null,
      "outputs": [
        {
          "output_type": "stream",
          "text": [
            "['data/names/Russian.txt', 'data/names/Arabic.txt', 'data/names/Chinese.txt', 'data/names/French.txt', 'data/names/Italian.txt', 'data/names/Portuguese.txt', 'data/names/Korean.txt', 'data/names/Dutch.txt', 'data/names/Polish.txt', 'data/names/Vietnamese.txt', 'data/names/Greek.txt', 'data/names/Czech.txt', 'data/names/Japanese.txt', 'data/names/English.txt', 'data/names/Scottish.txt', 'data/names/Spanish.txt', 'data/names/Irish.txt', 'data/names/German.txt']\n",
            "Slusarski\n"
          ],
          "name": "stdout"
        }
      ]
    },
    {
      "cell_type": "code",
      "metadata": {
        "id": "o39feEPmYRdv",
        "colab": {
          "base_uri": "https://localhost:8080/"
        },
        "outputId": "edae8818-8ccd-43b3-f37f-d555cd247f5f"
      },
      "source": [
        "print(category_lines['Italian'][:5])"
      ],
      "execution_count": null,
      "outputs": [
        {
          "output_type": "stream",
          "text": [
            "['Abandonato', 'Abatangelo', 'Abatantuono', 'Abate', 'Abategiovanni']\n"
          ],
          "name": "stdout"
        }
      ]
    },
    {
      "cell_type": "code",
      "metadata": {
        "id": "Mkjk05rwYUyx",
        "colab": {
          "base_uri": "https://localhost:8080/"
        },
        "outputId": "8e8be987-854d-4ab0-b972-76a302b4c28d"
      },
      "source": [
        "import torch\n",
        "\n",
        "def letterToIndex(letter):\n",
        "  return all_letters.find(letter)\n",
        "\n",
        "def letterToTensor(letter):\n",
        "  tensor = torch.zeros(1, n_letters)\n",
        "  tensor[0][letterToIndex(letter)] = 1\n",
        "  return tensor\n",
        "\n",
        "def lineToTensor(line):\n",
        "  tensor = torch.zeros(len(line), 1, n_letters)\n",
        "  for li, letter in enumerate(line):\n",
        "    tensor[li][0][letterToIndex(letter)] = 1\n",
        "  return tensor\n",
        "\n",
        "print(letterToTensor('J'))\n",
        "\n",
        "print(lineToTensor('Jones').size())"
      ],
      "execution_count": null,
      "outputs": [
        {
          "output_type": "stream",
          "text": [
            "tensor([[0., 0., 0., 0., 0., 0., 0., 0., 0., 0., 0., 0., 0., 0., 0., 0., 0., 0.,\n",
            "         0., 0., 0., 0., 0., 0., 0., 0., 0., 0., 0., 0., 0., 0., 0., 0., 0., 1.,\n",
            "         0., 0., 0., 0., 0., 0., 0., 0., 0., 0., 0., 0., 0., 0., 0., 0., 0., 0.,\n",
            "         0., 0.]])\n",
            "torch.Size([5, 1, 56])\n"
          ],
          "name": "stdout"
        }
      ]
    },
    {
      "cell_type": "markdown",
      "metadata": {
        "id": "IPVvWrMHYelv"
      },
      "source": [
        "## 신경망 생성\n",
        "\n",
        "- 모델 생성 방법 참고 : https://pytorch.org/tutorials/beginner/former_torchies/nnft_tutorial.html"
      ]
    },
    {
      "cell_type": "code",
      "metadata": {
        "id": "t6gKYokQYYZW"
      },
      "source": [
        "import torch.nn as nn \n",
        "\n",
        "class RNN(nn.Module):\n",
        "  def __init__(self, input_size, hidden_size, outupt_size):\n",
        "    super(RNN, self).__init__()\n",
        "\n",
        "    self.hidden_size = hidden_size\n",
        "\n",
        "    self.i2h = nn.Linear(input_size + hidden_size, hidden_size)\n",
        "    self.i2o = nn.Linear(input_size + hidden_size, outupt_size)\n",
        "    self.softmax = nn.LogSoftmax(dim=1)\n",
        "\n",
        "  def forward(self, input, hidden):\n",
        "    combined = torch.cat((input, hidden), 1)\n",
        "    hidden = self.i2h(combined)\n",
        "    output = self.i2o(combined)\n",
        "    output = self.softmax(output)\n",
        "    return output, hidden\n",
        "\n",
        "  def initHidden(self):\n",
        "    return torch.zeros(1, self.hidden_size)\n",
        "\n",
        "n_hidden = 128\n",
        "rnn = RNN(n_letters, n_hidden, n_categories)"
      ],
      "execution_count": null,
      "outputs": []
    },
    {
      "cell_type": "code",
      "metadata": {
        "id": "wuFpzGrHYgBY",
        "colab": {
          "base_uri": "https://localhost:8080/"
        },
        "outputId": "b3c30dd9-3179-4fb4-c0b7-1820ae2f78f7"
      },
      "source": [
        "input = letterToTensor('A')\n",
        "hidden = torch.zeros(1, n_hidden)\n",
        "\n",
        "output, next_hidden = rnn(input, hidden)\n",
        "print(output, next_hidden)"
      ],
      "execution_count": null,
      "outputs": [
        {
          "output_type": "stream",
          "text": [
            "tensor([[-2.8725, -2.9039, -2.8876, -2.9259, -2.8823, -2.8283, -2.8635, -3.0039,\n",
            "         -2.9079, -2.8672, -2.8504, -2.9670, -2.9026, -2.8135, -2.9707, -2.8719,\n",
            "         -2.8807, -2.8478]], grad_fn=<LogSoftmaxBackward>) tensor([[ 0.1294,  0.0922, -0.0232,  0.0484, -0.0176, -0.0545,  0.0373,  0.0564,\n",
            "         -0.0232,  0.0021,  0.1082,  0.0901,  0.1052, -0.0112, -0.0172, -0.0199,\n",
            "         -0.0252, -0.0464,  0.0865,  0.0482, -0.0112, -0.0821,  0.0010, -0.0281,\n",
            "         -0.1234, -0.0649, -0.0499,  0.0273, -0.0462, -0.0287, -0.1185,  0.0370,\n",
            "          0.0168,  0.0743,  0.0120, -0.0210,  0.0736, -0.0065, -0.0112, -0.0205,\n",
            "         -0.0483, -0.0554,  0.1195,  0.0691, -0.0290, -0.0210, -0.0467, -0.0137,\n",
            "         -0.0493,  0.0540, -0.1261,  0.0064, -0.0026, -0.0847, -0.0931, -0.0379,\n",
            "          0.0256, -0.0457,  0.0378, -0.1318, -0.0800,  0.0115, -0.1117,  0.0216,\n",
            "         -0.0952,  0.1164,  0.0218,  0.0027,  0.0003,  0.0383,  0.0011, -0.0840,\n",
            "         -0.0026, -0.0876, -0.1311, -0.0701,  0.0024,  0.0795,  0.0705,  0.0736,\n",
            "         -0.0932,  0.1318, -0.0338,  0.0945,  0.0469,  0.1143, -0.0264,  0.0654,\n",
            "         -0.0375, -0.0297, -0.0554,  0.0235, -0.0429, -0.0429, -0.1215, -0.1014,\n",
            "         -0.0448, -0.0889,  0.0743,  0.0015,  0.0498, -0.0946,  0.0509, -0.1364,\n",
            "          0.0838,  0.1224,  0.0717,  0.0146,  0.0521, -0.0310, -0.0314, -0.0039,\n",
            "         -0.0326, -0.0419,  0.1250,  0.0535,  0.0587,  0.0057, -0.0784,  0.0149,\n",
            "          0.0110, -0.0797, -0.0748,  0.0784,  0.0309, -0.0656,  0.0050, -0.0186]],\n",
            "       grad_fn=<AddmmBackward>)\n"
          ],
          "name": "stdout"
        }
      ]
    },
    {
      "cell_type": "code",
      "metadata": {
        "id": "wpGGzL2NYku2",
        "colab": {
          "base_uri": "https://localhost:8080/"
        },
        "outputId": "c1a7d2a4-a303-4ad7-fb78-c8d3b55ba7c5"
      },
      "source": [
        "input = lineToTensor('Albert')\n",
        "hidden = torch.zeros(1, n_hidden)\n",
        "\n",
        "output, next_hidden = rnn(input[0], hidden)\n",
        "print(output, next_hidden)"
      ],
      "execution_count": null,
      "outputs": [
        {
          "output_type": "stream",
          "text": [
            "tensor([[-2.8725, -2.9039, -2.8876, -2.9259, -2.8823, -2.8283, -2.8635, -3.0039,\n",
            "         -2.9079, -2.8672, -2.8504, -2.9670, -2.9026, -2.8135, -2.9707, -2.8719,\n",
            "         -2.8807, -2.8478]], grad_fn=<LogSoftmaxBackward>) tensor([[ 0.1294,  0.0922, -0.0232,  0.0484, -0.0176, -0.0545,  0.0373,  0.0564,\n",
            "         -0.0232,  0.0021,  0.1082,  0.0901,  0.1052, -0.0112, -0.0172, -0.0199,\n",
            "         -0.0252, -0.0464,  0.0865,  0.0482, -0.0112, -0.0821,  0.0010, -0.0281,\n",
            "         -0.1234, -0.0649, -0.0499,  0.0273, -0.0462, -0.0287, -0.1185,  0.0370,\n",
            "          0.0168,  0.0743,  0.0120, -0.0210,  0.0736, -0.0065, -0.0112, -0.0205,\n",
            "         -0.0483, -0.0554,  0.1195,  0.0691, -0.0290, -0.0210, -0.0467, -0.0137,\n",
            "         -0.0493,  0.0540, -0.1261,  0.0064, -0.0026, -0.0847, -0.0931, -0.0379,\n",
            "          0.0256, -0.0457,  0.0378, -0.1318, -0.0800,  0.0115, -0.1117,  0.0216,\n",
            "         -0.0952,  0.1164,  0.0218,  0.0027,  0.0003,  0.0383,  0.0011, -0.0840,\n",
            "         -0.0026, -0.0876, -0.1311, -0.0701,  0.0024,  0.0795,  0.0705,  0.0736,\n",
            "         -0.0932,  0.1318, -0.0338,  0.0945,  0.0469,  0.1143, -0.0264,  0.0654,\n",
            "         -0.0375, -0.0297, -0.0554,  0.0235, -0.0429, -0.0429, -0.1215, -0.1014,\n",
            "         -0.0448, -0.0889,  0.0743,  0.0015,  0.0498, -0.0946,  0.0509, -0.1364,\n",
            "          0.0838,  0.1224,  0.0717,  0.0146,  0.0521, -0.0310, -0.0314, -0.0039,\n",
            "         -0.0326, -0.0419,  0.1250,  0.0535,  0.0587,  0.0057, -0.0784,  0.0149,\n",
            "          0.0110, -0.0797, -0.0748,  0.0784,  0.0309, -0.0656,  0.0050, -0.0186]],\n",
            "       grad_fn=<AddmmBackward>)\n"
          ],
          "name": "stdout"
        }
      ]
    },
    {
      "cell_type": "markdown",
      "metadata": {
        "id": "q3qAoF6BYrPW"
      },
      "source": [
        "## 모델 학습\n",
        "- 준비"
      ]
    },
    {
      "cell_type": "code",
      "metadata": {
        "id": "WNTCbv4aYoP2",
        "colab": {
          "base_uri": "https://localhost:8080/"
        },
        "outputId": "560b10a9-74f2-4813-e78b-614e3c96c107"
      },
      "source": [
        "def categoryFromOutput(output):\n",
        "  top_n, top_i = output.topk(1)\n",
        "  category_i = top_i[0].item()\n",
        "  return all_categories[category_i], category_i\n",
        "  \n",
        "print(categoryFromOutput(output))"
      ],
      "execution_count": null,
      "outputs": [
        {
          "output_type": "stream",
          "text": [
            "('English', 13)\n"
          ],
          "name": "stdout"
        }
      ]
    },
    {
      "cell_type": "code",
      "metadata": {
        "id": "aanvL45oYs00",
        "colab": {
          "base_uri": "https://localhost:8080/"
        },
        "outputId": "b1d99843-9480-4987-d2c0-cf9e66d1c4aa"
      },
      "source": [
        "import random\n",
        "\n",
        "def randomChoice(l):\n",
        "  return l[random.randint(0, len(l) - 1)]\n",
        "\n",
        "def randomTrainingExample():\n",
        "  category = randomChoice(all_categories)\n",
        "  line = randomChoice(category_lines[category])\n",
        "  category_tensor = torch.tensor([all_categories.index(category)], dtype=torch.long)\n",
        "  line_tensor = lineToTensor(line)\n",
        "  return category, line, category_tensor, line_tensor\n",
        "\n",
        "for i in range(10):\n",
        "  category, line, category_tensor, line_tensor = randomTrainingExample()\n",
        "  print('category: {}\\tline: {}'.format(category, line))"
      ],
      "execution_count": null,
      "outputs": [
        {
          "output_type": "stream",
          "text": [
            "category: French\tline: Favre\n",
            "category: Italian\tline: Albani\n",
            "category: Arabic\tline: Guirguis\n",
            "category: Russian\tline: Ruzanov\n",
            "category: Greek\tline: Demakis\n",
            "category: Korean\tline: Jung\n",
            "category: Korean\tline: Sun\n",
            "category: Scottish\tline: Walker\n",
            "category: Italian\tline: Abbatantuono\n",
            "category: Korean\tline: Choe\n"
          ],
          "name": "stdout"
        }
      ]
    },
    {
      "cell_type": "markdown",
      "metadata": {
        "id": "qVA-IZP3Yzz2"
      },
      "source": [
        "## 손실함수"
      ]
    },
    {
      "cell_type": "code",
      "metadata": {
        "id": "Y98Uy0YPYwjY"
      },
      "source": [
        "criterion = nn.NLLLoss()"
      ],
      "execution_count": null,
      "outputs": []
    },
    {
      "cell_type": "markdown",
      "metadata": {
        "id": "oDyQIe8lY_Vl"
      },
      "source": [
        "## 모델 학습"
      ]
    },
    {
      "cell_type": "code",
      "metadata": {
        "id": "4vIcTqP8Y9lo"
      },
      "source": [
        "learning_rate = 0.005\n",
        "\n",
        "def train(category_tensor, line_tensor):\n",
        "  hidden = rnn.initHidden()\n",
        "\n",
        "  rnn.zero_grad()\n",
        "\n",
        "  for i in range(line_tensor.size()[0]):\n",
        "    output, hidden = rnn(line_tensor[i], hidden)\n",
        "\n",
        "  loss = criterion(output, category_tensor)\n",
        "  loss.backward()\n",
        "\n",
        "  for p in rnn.parameters():\n",
        "    p.data.add_(p.grad.data, alpha=-learning_rate)\n",
        "\n",
        "  return output, loss.item()"
      ],
      "execution_count": null,
      "outputs": []
    },
    {
      "cell_type": "code",
      "metadata": {
        "id": "DRDcSbrsZAK9",
        "colab": {
          "base_uri": "https://localhost:8080/"
        },
        "outputId": "cddfea43-2a9e-46d4-af47-eef5b6c81b88"
      },
      "source": [
        "import time\n",
        "import math\n",
        "\n",
        "n_iters = 100000\n",
        "print_every = 5000\n",
        "plot_every = 1000\n",
        "\n",
        "current_loss = 0\n",
        "all_losses = []\n",
        "\n",
        "def timeSince(since):\n",
        "  now = time.time()\n",
        "  s = now - since\n",
        "  m = math.floor(s / 60)\n",
        "  s -= m * 60\n",
        "  return '%dm %ds' % (m, s)\n",
        "\n",
        "start = time.time()\n",
        "\n",
        "for iter in range(1, n_iters + 1):\n",
        "  category, line, category_tensor, line_tensor = randomTrainingExample()\n",
        "  output, loss = train(category_tensor, line_tensor)\n",
        "  current_loss += loss\n",
        "\n",
        "  if iter % print_every == 0:\n",
        "    guess, guess_i = categoryFromOutput(output)\n",
        "    correct = 'O' if guess == category else 'X (%s)' % category\n",
        "    print(\"%d %d (%s) %.4f %s / %s %s\" % (iter, iter/n_iters * 100, timeSince(start), loss, line, guess, correct))\n",
        "\n",
        "  if iter % plot_every == 0:\n",
        "    all_losses.append(current_loss / plot_every)\n",
        "    current_loss = 0"
      ],
      "execution_count": null,
      "outputs": [
        {
          "output_type": "stream",
          "text": [
            "5000 5 (0m 6s) 2.8486 Landau / Arabic X (German)\n",
            "10000 10 (0m 12s) 1.4185 Furusawa / Japanese O\n",
            "15000 15 (0m 19s) 1.6441 Rorris / Portuguese X (Greek)\n",
            "20000 20 (0m 25s) 0.1461 Fujimaki / Japanese O\n",
            "25000 25 (0m 31s) 0.6789 Dunajski / Polish O\n",
            "30000 30 (0m 37s) 1.2880 Jung / Chinese X (Korean)\n",
            "35000 35 (0m 44s) 0.2854 Bobienski / Polish O\n",
            "40000 40 (0m 50s) 0.6199 Vesnitsky / Russian O\n",
            "45000 45 (0m 56s) 1.1378 Ding / Vietnamese X (Chinese)\n",
            "50000 50 (1m 3s) 0.4871 Araujo / Portuguese O\n",
            "55000 55 (1m 9s) 2.8244 Shirai / Arabic X (Japanese)\n",
            "60000 60 (1m 15s) 0.6504 Hlyzov / Russian O\n",
            "65000 65 (1m 22s) 1.0848 Favreau / French O\n",
            "70000 70 (1m 28s) 0.3698 Ryoo / Korean O\n",
            "75000 75 (1m 35s) 0.3185 Luspekaev / Russian O\n",
            "80000 80 (1m 41s) 0.3781 Suk / Korean O\n",
            "85000 85 (1m 47s) 1.3442 Palmeiro / Italian X (Portuguese)\n",
            "90000 90 (1m 54s) 3.1850 Rootham / Czech X (English)\n",
            "95000 95 (2m 0s) 3.2739 Anderson / Scottish X (English)\n",
            "100000 100 (2m 6s) 1.5908 Fuentes / Portuguese X (Spanish)\n"
          ],
          "name": "stdout"
        }
      ]
    },
    {
      "cell_type": "code",
      "metadata": {
        "id": "cSwAjR6QZDRf",
        "colab": {
          "base_uri": "https://localhost:8080/",
          "height": 262
        },
        "outputId": "f48a7aa9-9e29-42a3-baa0-ea7b0d4ab60c"
      },
      "source": [
        "import matplotlib.ticker as ticker\n",
        "import matplotlib.pyplot as plt\n",
        "plt.style.use('seaborn-white')\n",
        "\n",
        "plt.figure()\n",
        "plt.plot(all_losses)\n",
        "plt.show()"
      ],
      "execution_count": null,
      "outputs": [
        {
          "output_type": "display_data",
          "data": {
            "image/png": "[encoded data removed]",
            "text/plain": [
              "<Figure size 432x288 with 1 Axes>"
            ]
          },
          "metadata": {
            "tags": []
          }
        }
      ]
    },
    {
      "cell_type": "markdown",
      "metadata": {
        "id": "J0_2HyE3ZPZk"
      },
      "source": [
        "## 모델 테스트"
      ]
    },
    {
      "cell_type": "code",
      "metadata": {
        "id": "MBVWJNmoZO8a",
        "colab": {
          "base_uri": "https://localhost:8080/",
          "height": 311
        },
        "outputId": "e38a7fb2-355b-4323-c432-ea83a12cfe47"
      },
      "source": [
        "confusion = torch.zeros(n_categories, n_categories)\n",
        "n_confusion = 10000\n",
        "\n",
        "def evaluate(line_tensor):\n",
        "  hidden = rnn.initHidden()\n",
        "\n",
        "  for i in range(line_tensor.size()[0]):\n",
        "    output, hidden = rnn(line_tensor[i], hidden)\n",
        "\n",
        "  return output\n",
        "\n",
        "for i in range(n_confusion):\n",
        "  category, line, category_tensor, line_tensor = randomTrainingExample()\n",
        "  output = evaluate(line_tensor)\n",
        "  guess, guess_i = categoryFromOutput(output)\n",
        "  category_i = all_categories.index(category)\n",
        "  confusion[category_i][guess_i] += 1\n",
        "\n",
        "for i in range(n_categories):\n",
        "  confusion[i] = confusion[i] / confusion[i].sum()\n",
        "\n",
        "fig = plt.figure()\n",
        "ax = fig.add_subplot(111)\n",
        "cax = ax.matshow(confusion.numpy())\n",
        "fig.colorbar(cax)\n",
        "ax.set_xticklabels([''] + all_categories, rotation=90)\n",
        "ax.set_yticklabels([''] + all_categories)\n",
        "ax.xaxis.set_major_locator(ticker.MultipleLocator(1))\n",
        "ax.yaxis.set_major_locator(ticker.MultipleLocator(1))\n",
        "\n",
        "plt.show()"
      ],
      "execution_count": null,
      "outputs": [
        {
          "output_type": "display_data",
          "data": {
            "image/png": "[encoded data removed]",
            "text/plain": [
              "<Figure size 432x288 with 2 Axes>"
            ]
          },
          "metadata": {
            "tags": []
          }
        }
      ]
    },
    {
      "cell_type": "markdown",
      "metadata": {
        "id": "AfjRYlioZV3o"
      },
      "source": [
        "## 사용자 입력으로부터의 실행"
      ]
    },
    {
      "cell_type": "code",
      "metadata": {
        "id": "uteG1Je5ZQWg",
        "colab": {
          "base_uri": "https://localhost:8080/"
        },
        "outputId": "2cd78c9c-912e-4748-cc5e-f87bd8a6ca7b"
      },
      "source": [
        "def predict(input_line, n_predictions=3):\n",
        "  print('\\n> %s' % input_line)\n",
        "  with torch.no_grad():\n",
        "    output = evaluate(lineToTensor(input_line))\n",
        "\n",
        "    topv, topi = output.topk(n_predictions, 1, True)\n",
        "    predictions = []\n",
        "\n",
        "    for i in range(n_predictions):\n",
        "      value = topv[0][i].item()\n",
        "      category_index = topi[0][i].item()\n",
        "      print('(%.2f) %s' % (value, all_categories[category_index]))\n",
        "      predictions.append([value, all_categories[category_index]])\n",
        "\n",
        "predict('Jackson')\n",
        "predict('Bill')\n",
        "predict('Dovesky')\n",
        "predict('Lee')"
      ],
      "execution_count": null,
      "outputs": [
        {
          "output_type": "stream",
          "text": [
            "\n",
            "> Jackson\n",
            "(-1.01) English\n",
            "(-1.68) Scottish\n",
            "(-1.84) Dutch\n",
            "\n",
            "> Bill\n",
            "(-1.59) English\n",
            "(-1.60) Irish\n",
            "(-1.89) Scottish\n",
            "\n",
            "> Dovesky\n",
            "(-0.28) Czech\n",
            "(-2.20) Russian\n",
            "(-2.77) English\n",
            "\n",
            "> Lee\n",
            "(-1.16) Chinese\n",
            "(-1.38) Vietnamese\n",
            "(-1.93) Korean\n"
          ],
          "name": "stdout"
        }
      ]
    }
  ]
}