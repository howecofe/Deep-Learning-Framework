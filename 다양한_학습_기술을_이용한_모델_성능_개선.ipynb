{
  "nbformat": 4,
  "nbformat_minor": 0,
  "metadata": {
    "colab": {
      "name": "[과제] 다양한 학습 기술을 이용한 모델 성능 개선.ipynb",
      "provenance": [],
      "collapsed_sections": []
    },
    "kernelspec": {
      "name": "python3",
      "display_name": "Python 3"
    }
  },
  "cells": [
    {
      "cell_type": "markdown",
      "metadata": {
        "id": "gj-RA7rQLSC4"
      },
      "source": [
        "# 케라스 보스턴 주택 가격 모델"
      ]
    },
    {
      "cell_type": "markdown",
      "metadata": {
        "id": "P1rSC60ILf0U"
      },
      "source": [
        "## modules import"
      ]
    },
    {
      "cell_type": "code",
      "metadata": {
        "id": "bmYcVLNsmFR_"
      },
      "source": [
        "import tensorflow as tf\n",
        "from tensorflow.keras.datasets.boston_housing import load_data\n",
        "from tensorflow.keras.layers import Dense, LeakyReLU, BatchNormalization, Dropout\n",
        "from tensorflow.keras.regularizers import l1_l2\n",
        "from tensorflow.keras.models import Sequential\n",
        "from tensorflow.keras.optimizers import Adam\n",
        "from tensorflow.keras.utils import plot_model\n",
        "\n",
        "from sklearn.model_selection import train_test_split\n",
        "\n",
        "import numpy as np\n",
        "import matplotlib.pyplot as plt\n",
        "plt.style.use('seaborn-white')"
      ],
      "execution_count": null,
      "outputs": []
    },
    {
      "cell_type": "markdown",
      "metadata": {
        "id": "qbRqQY1aMMTU"
      },
      "source": [
        "## 데이터 로드"
      ]
    },
    {
      "cell_type": "code",
      "metadata": {
        "id": "AWHBrPVTMGyu",
        "colab": {
          "base_uri": "https://localhost:8080/"
        },
        "outputId": "71b517dd-d6d1-4f51-b7e8-92b49f0ab7cf"
      },
      "source": [
        "tf.random.set_seed(111)\n",
        "\n",
        "(x_train_full, y_train_full), (x_test, y_test) = load_data(path='boston_housing.npz',\n",
        "                                                           test_split=0.2,\n",
        "                                                           seed=111)"
      ],
      "execution_count": null,
      "outputs": [
        {
          "output_type": "stream",
          "text": [
            "Downloading data from https://storage.googleapis.com/tensorflow/tf-keras-datasets/boston_housing.npz\n",
            "57344/57026 [==============================] - 0s 0us/step\n"
          ],
          "name": "stdout"
        }
      ]
    },
    {
      "cell_type": "markdown",
      "metadata": {
        "id": "tCTcnMT6Mgx9"
      },
      "source": [
        "## 데이터 확인"
      ]
    },
    {
      "cell_type": "code",
      "metadata": {
        "id": "MdisxCBbMbRh",
        "colab": {
          "base_uri": "https://localhost:8080/"
        },
        "outputId": "57fc6026-2f68-41e5-907c-695792ba6208"
      },
      "source": [
        "print(\"학습 데이터: {}\\t레이블: {}\".format(x_train_full.shape, y_train_full.shape))\n",
        "print(\"테스트 데이터: {}\\t레이블: {}\".format(x_test.shape, y_test.shape))"
      ],
      "execution_count": null,
      "outputs": [
        {
          "output_type": "stream",
          "text": [
            "학습 데이터: (404, 13)\t레이블: (404,)\n",
            "테스트 데이터: (102, 13)\t레이블: (102,)\n"
          ],
          "name": "stdout"
        }
      ]
    },
    {
      "cell_type": "code",
      "metadata": {
        "id": "vjEoDJ6fM4I-",
        "colab": {
          "base_uri": "https://localhost:8080/"
        },
        "outputId": "4013c0d0-2555-495f-f0e1-d08548f5a7e1"
      },
      "source": [
        "print(x_train_full[0])"
      ],
      "execution_count": null,
      "outputs": [
        {
          "output_type": "stream",
          "text": [
            "[2.8750e-02 2.8000e+01 1.5040e+01 0.0000e+00 4.6400e-01 6.2110e+00\n",
            " 2.8900e+01 3.6659e+00 4.0000e+00 2.7000e+02 1.8200e+01 3.9633e+02\n",
            " 6.2100e+00]\n"
          ],
          "name": "stdout"
        }
      ]
    },
    {
      "cell_type": "code",
      "metadata": {
        "id": "U-V0pQdbNSso",
        "colab": {
          "base_uri": "https://localhost:8080/"
        },
        "outputId": "3b784d45-3e77-4df2-a929-334fb9408318"
      },
      "source": [
        "print(y_train_full[0])"
      ],
      "execution_count": null,
      "outputs": [
        {
          "output_type": "stream",
          "text": [
            "25.0\n"
          ],
          "name": "stdout"
        }
      ]
    },
    {
      "cell_type": "markdown",
      "metadata": {
        "id": "I_ZK_dJdOlCu"
      },
      "source": [
        "## 데이터 전처리"
      ]
    },
    {
      "cell_type": "code",
      "metadata": {
        "id": "DjRcDM_CNV--"
      },
      "source": [
        "mean = np.mean(x_train_full, axis=0)\n",
        "std = np.std(x_train_full, axis=0)\n",
        "\n",
        "x_train_preprocessed = (x_train_full - mean) / std\n",
        "x_test = (x_test - mean) / std\n",
        "\n",
        "x_train, x_val, y_train, y_val = train_test_split(x_train_preprocessed, y_train_full,\n",
        "                                                  test_size=0.3,\n",
        "                                                  random_state=111)"
      ],
      "execution_count": null,
      "outputs": []
    },
    {
      "cell_type": "code",
      "metadata": {
        "id": "M1fl37t9PR0G",
        "colab": {
          "base_uri": "https://localhost:8080/"
        },
        "outputId": "79fa0c81-e7fa-4912-9a64-fc01b61e6c39"
      },
      "source": [
        "print(\"학습 데이터: {}\\t레이블: {}\".format(x_train_full.shape, y_train_full.shape))\n",
        "print(\"학습 데이터: {}\\t레이블: {}\".format(x_train.shape, y_train.shape))\n",
        "print(\"검증 데이터: {}\\t레이블: {}\".format(x_val.shape, y_val.shape))\n",
        "print(\"테스트 데이터: {}\\t레이블: {}\".format(x_test.shape, y_test.shape))"
      ],
      "execution_count": null,
      "outputs": [
        {
          "output_type": "stream",
          "text": [
            "학습 데이터: (404, 13)\t레이블: (404,)\n",
            "학습 데이터: (282, 13)\t레이블: (282,)\n",
            "검증 데이터: (122, 13)\t레이블: (122,)\n",
            "테스트 데이터: (102, 13)\t레이블: (102,)\n"
          ],
          "name": "stdout"
        }
      ]
    },
    {
      "cell_type": "markdown",
      "metadata": {
        "id": "zTcwvMqdPynu"
      },
      "source": [
        "## 모델 생성 - 가중치 초기화, 배치 정규화, 규제화, 드롭아웃"
      ]
    },
    {
      "cell_type": "code",
      "metadata": {
        "id": "1P7pAnqUPcCf"
      },
      "source": [
        "model = Sequential([Dense(100, kernel_initializer='he_normal', kernel_regularizer=l1_l2(l1=0.0001, l2=0.0001),\n",
        "                          activation='relu', input_shape=(13, ), name='dense1'),\n",
        "                    LeakyReLU(alpha=0.2),\n",
        "                    Dropout(0.5),\n",
        "                    Dense(64, kernel_initializer='he_normal', kernel_regularizer=l1_l2(l1=0.0001, l2=0.0001),\n",
        "                          activation='relu', name='dense2'),\n",
        "                    LeakyReLU(alpha=0.2),\n",
        "                    Dropout(0.5),\n",
        "                    Dense(32, kernel_initializer='he_normal', kernel_regularizer=l1_l2(l1=0.0001, l2=0.0001),\n",
        "                          activation='relu', name='dense3'),\n",
        "                    BatchNormalization(),\n",
        "                    Dropout(0.5),\n",
        "                    Dense(1, name='output')])"
      ],
      "execution_count": null,
      "outputs": []
    },
    {
      "cell_type": "code",
      "metadata": {
        "id": "dRi6Vd8WQYyj",
        "colab": {
          "base_uri": "https://localhost:8080/"
        },
        "outputId": "c68ab0ca-643d-4bb2-f67a-fc6a0714282b"
      },
      "source": [
        "model.summary()"
      ],
      "execution_count": null,
      "outputs": [
        {
          "output_type": "stream",
          "text": [
            "Model: \"sequential\"\n",
            "_________________________________________________________________\n",
            "Layer (type)                 Output Shape              Param #   \n",
            "=================================================================\n",
            "dense1 (Dense)               (None, 100)               1400      \n",
            "_________________________________________________________________\n",
            "leaky_re_lu_2 (LeakyReLU)    (None, 100)               0         \n",
            "_________________________________________________________________\n",
            "dropout_2 (Dropout)          (None, 100)               0         \n",
            "_________________________________________________________________\n",
            "dense2 (Dense)               (None, 64)                6464      \n",
            "_________________________________________________________________\n",
            "leaky_re_lu_3 (LeakyReLU)    (None, 64)                0         \n",
            "_________________________________________________________________\n",
            "dropout_3 (Dropout)          (None, 64)                0         \n",
            "_________________________________________________________________\n",
            "dense3 (Dense)               (None, 32)                2080      \n",
            "_________________________________________________________________\n",
            "batch_normalization (BatchNo (None, 32)                128       \n",
            "_________________________________________________________________\n",
            "dropout_4 (Dropout)          (None, 32)                0         \n",
            "_________________________________________________________________\n",
            "output (Dense)               (None, 1)                 33        \n",
            "=================================================================\n",
            "Total params: 10,105\n",
            "Trainable params: 10,041\n",
            "Non-trainable params: 64\n",
            "_________________________________________________________________\n"
          ],
          "name": "stdout"
        }
      ]
    },
    {
      "cell_type": "code",
      "metadata": {
        "id": "M-dFvQRGQalM",
        "colab": {
          "base_uri": "https://localhost:8080/",
          "height": 1000
        },
        "outputId": "1698f6c0-ec42-44e7-a4c0-b11d664ac76c"
      },
      "source": [
        "plot_model(model)"
      ],
      "execution_count": null,
      "outputs": [
        {
          "output_type": "execute_result",
          "data": {
            "image/png": "[encoded data removed]",
            "text/plain": [
              "<IPython.core.display.Image object>"
            ]
          },
          "metadata": {
            "tags": []
          },
          "execution_count": 12
        }
      ]
    },
    {
      "cell_type": "markdown",
      "metadata": {
        "id": "0m05yRQmQmFA"
      },
      "source": [
        "## 모델 컴파일(compile) - optimizer: Adam"
      ]
    },
    {
      "cell_type": "code",
      "metadata": {
        "id": "_Z2IMfH3QkGv"
      },
      "source": [
        "model.compile(loss='mse',\n",
        "             optimizer=Adam(learning_rate=1e-2, beta_1=0.9, beta_2=0.999),\n",
        "             metrics=['mae'])"
      ],
      "execution_count": null,
      "outputs": []
    },
    {
      "cell_type": "markdown",
      "metadata": {
        "id": "6YhN4fzmRQpY"
      },
      "source": [
        "## 모델 학습"
      ]
    },
    {
      "cell_type": "code",
      "metadata": {
        "id": "jGA9gPIERPxF",
        "colab": {
          "base_uri": "https://localhost:8080/"
        },
        "outputId": "4de69b67-d2dd-428b-efe8-b82cba86ffd9"
      },
      "source": [
        "history = model.fit(x_train, y_train, epochs=300,\n",
        "                    validation_data=(x_val, y_val))"
      ],
      "execution_count": null,
      "outputs": [
        {
          "output_type": "stream",
          "text": [
            "Epoch 1/300\n",
            "9/9 [==============================] - 0s 23ms/step - loss: 544.6071 - mae: 21.5724 - val_loss: 624.3114 - val_mae: 23.7811\n",
            "Epoch 2/300\n",
            "9/9 [==============================] - 0s 4ms/step - loss: 506.4713 - mae: 20.9109 - val_loss: 609.8850 - val_mae: 23.8040\n",
            "Epoch 3/300\n",
            "9/9 [==============================] - 0s 4ms/step - loss: 460.3147 - mae: 20.1340 - val_loss: 549.2133 - val_mae: 22.6210\n",
            "Epoch 4/300\n",
            "9/9 [==============================] - 0s 4ms/step - loss: 405.8043 - mae: 18.8261 - val_loss: 452.5111 - val_mae: 20.5100\n",
            "Epoch 5/300\n",
            "9/9 [==============================] - 0s 4ms/step - loss: 318.2286 - mae: 16.6226 - val_loss: 319.3118 - val_mae: 16.8475\n",
            "Epoch 6/300\n",
            "9/9 [==============================] - 0s 4ms/step - loss: 240.9253 - mae: 14.0814 - val_loss: 253.6301 - val_mae: 14.9097\n",
            "Epoch 7/300\n",
            "9/9 [==============================] - 0s 4ms/step - loss: 167.7002 - mae: 11.0916 - val_loss: 168.6373 - val_mae: 11.9312\n",
            "Epoch 8/300\n",
            "9/9 [==============================] - 0s 4ms/step - loss: 112.6754 - mae: 8.5082 - val_loss: 80.2730 - val_mae: 7.7259\n",
            "Epoch 9/300\n",
            "9/9 [==============================] - 0s 4ms/step - loss: 72.8506 - mae: 6.4190 - val_loss: 39.6786 - val_mae: 4.8344\n",
            "Epoch 10/300\n",
            "9/9 [==============================] - 0s 4ms/step - loss: 66.7548 - mae: 5.9757 - val_loss: 32.3347 - val_mae: 4.2078\n",
            "Epoch 11/300\n",
            "9/9 [==============================] - 0s 4ms/step - loss: 55.1219 - mae: 5.6765 - val_loss: 18.4486 - val_mae: 3.1330\n",
            "Epoch 12/300\n",
            "9/9 [==============================] - 0s 4ms/step - loss: 61.4429 - mae: 5.9600 - val_loss: 19.8440 - val_mae: 3.2669\n",
            "Epoch 13/300\n",
            "9/9 [==============================] - 0s 5ms/step - loss: 63.5378 - mae: 5.9862 - val_loss: 21.2962 - val_mae: 3.4074\n",
            "Epoch 14/300\n",
            "9/9 [==============================] - 0s 4ms/step - loss: 55.0874 - mae: 5.5062 - val_loss: 18.0967 - val_mae: 3.0771\n",
            "Epoch 15/300\n",
            "9/9 [==============================] - 0s 4ms/step - loss: 52.2684 - mae: 5.3563 - val_loss: 16.5284 - val_mae: 2.9062\n",
            "Epoch 16/300\n",
            "9/9 [==============================] - 0s 4ms/step - loss: 47.3993 - mae: 5.2818 - val_loss: 15.9081 - val_mae: 2.8528\n",
            "Epoch 17/300\n",
            "9/9 [==============================] - 0s 4ms/step - loss: 51.8813 - mae: 5.3565 - val_loss: 17.3819 - val_mae: 2.9704\n",
            "Epoch 18/300\n",
            "9/9 [==============================] - 0s 5ms/step - loss: 45.6765 - mae: 5.0754 - val_loss: 16.3041 - val_mae: 2.8593\n",
            "Epoch 19/300\n",
            "9/9 [==============================] - 0s 5ms/step - loss: 46.1415 - mae: 4.8996 - val_loss: 15.1185 - val_mae: 2.7697\n",
            "Epoch 20/300\n",
            "9/9 [==============================] - 0s 4ms/step - loss: 43.7777 - mae: 4.6465 - val_loss: 14.5616 - val_mae: 2.7178\n",
            "Epoch 21/300\n",
            "9/9 [==============================] - 0s 4ms/step - loss: 45.7225 - mae: 4.9963 - val_loss: 13.7433 - val_mae: 2.6830\n",
            "Epoch 22/300\n",
            "9/9 [==============================] - 0s 4ms/step - loss: 49.5531 - mae: 5.2391 - val_loss: 13.1124 - val_mae: 2.6403\n",
            "Epoch 23/300\n",
            "9/9 [==============================] - 0s 4ms/step - loss: 46.5414 - mae: 5.0631 - val_loss: 14.7379 - val_mae: 2.7721\n",
            "Epoch 24/300\n",
            "9/9 [==============================] - 0s 4ms/step - loss: 46.2869 - mae: 5.0521 - val_loss: 14.8524 - val_mae: 2.7703\n",
            "Epoch 25/300\n",
            "9/9 [==============================] - 0s 4ms/step - loss: 39.7729 - mae: 4.5854 - val_loss: 14.7273 - val_mae: 2.7837\n",
            "Epoch 26/300\n",
            "9/9 [==============================] - 0s 4ms/step - loss: 43.6414 - mae: 4.8187 - val_loss: 12.7793 - val_mae: 2.6251\n",
            "Epoch 27/300\n",
            "9/9 [==============================] - 0s 4ms/step - loss: 41.6338 - mae: 4.7528 - val_loss: 15.0358 - val_mae: 2.8117\n",
            "Epoch 28/300\n",
            "9/9 [==============================] - 0s 4ms/step - loss: 41.2480 - mae: 4.6640 - val_loss: 11.2948 - val_mae: 2.5411\n",
            "Epoch 29/300\n",
            "9/9 [==============================] - 0s 4ms/step - loss: 37.1690 - mae: 4.6126 - val_loss: 9.9653 - val_mae: 2.3248\n",
            "Epoch 30/300\n",
            "9/9 [==============================] - 0s 4ms/step - loss: 37.5688 - mae: 4.6275 - val_loss: 10.0481 - val_mae: 2.3074\n",
            "Epoch 31/300\n",
            "9/9 [==============================] - 0s 4ms/step - loss: 38.9917 - mae: 4.6161 - val_loss: 10.4323 - val_mae: 2.3826\n",
            "Epoch 32/300\n",
            "9/9 [==============================] - 0s 4ms/step - loss: 42.9616 - mae: 4.7996 - val_loss: 16.1411 - val_mae: 2.8912\n",
            "Epoch 33/300\n",
            "9/9 [==============================] - 0s 4ms/step - loss: 41.7843 - mae: 4.5505 - val_loss: 16.5958 - val_mae: 2.9090\n",
            "Epoch 34/300\n",
            "9/9 [==============================] - 0s 4ms/step - loss: 43.6866 - mae: 4.8121 - val_loss: 14.4413 - val_mae: 2.7417\n",
            "Epoch 35/300\n",
            "9/9 [==============================] - 0s 4ms/step - loss: 45.0099 - mae: 5.0036 - val_loss: 12.5304 - val_mae: 2.6154\n",
            "Epoch 36/300\n",
            "9/9 [==============================] - 0s 5ms/step - loss: 44.0373 - mae: 4.9307 - val_loss: 13.3306 - val_mae: 2.6623\n",
            "Epoch 37/300\n",
            "9/9 [==============================] - 0s 4ms/step - loss: 39.5085 - mae: 4.8874 - val_loss: 16.0252 - val_mae: 2.8939\n",
            "Epoch 38/300\n",
            "9/9 [==============================] - 0s 4ms/step - loss: 35.7004 - mae: 4.2913 - val_loss: 14.5452 - val_mae: 2.7727\n",
            "Epoch 39/300\n",
            "9/9 [==============================] - 0s 4ms/step - loss: 43.1192 - mae: 4.7390 - val_loss: 16.9752 - val_mae: 2.9249\n",
            "Epoch 40/300\n",
            "9/9 [==============================] - 0s 4ms/step - loss: 41.9261 - mae: 4.8859 - val_loss: 13.2611 - val_mae: 2.6392\n",
            "Epoch 41/300\n",
            "9/9 [==============================] - 0s 4ms/step - loss: 35.6744 - mae: 4.3487 - val_loss: 10.9561 - val_mae: 2.4390\n",
            "Epoch 42/300\n",
            "9/9 [==============================] - 0s 4ms/step - loss: 40.0480 - mae: 4.7846 - val_loss: 11.1494 - val_mae: 2.4429\n",
            "Epoch 43/300\n",
            "9/9 [==============================] - 0s 4ms/step - loss: 45.4793 - mae: 4.8971 - val_loss: 12.4186 - val_mae: 2.5764\n",
            "Epoch 44/300\n",
            "9/9 [==============================] - 0s 4ms/step - loss: 36.3635 - mae: 4.5213 - val_loss: 10.6210 - val_mae: 2.4332\n",
            "Epoch 45/300\n",
            "9/9 [==============================] - 0s 4ms/step - loss: 37.3025 - mae: 4.4841 - val_loss: 11.7701 - val_mae: 2.5412\n",
            "Epoch 46/300\n",
            "9/9 [==============================] - 0s 4ms/step - loss: 41.3389 - mae: 4.6719 - val_loss: 14.4575 - val_mae: 2.7224\n",
            "Epoch 47/300\n",
            "9/9 [==============================] - 0s 4ms/step - loss: 36.0459 - mae: 4.3158 - val_loss: 19.9528 - val_mae: 3.0950\n",
            "Epoch 48/300\n",
            "9/9 [==============================] - 0s 4ms/step - loss: 48.5336 - mae: 4.9101 - val_loss: 18.4198 - val_mae: 3.0185\n",
            "Epoch 49/300\n",
            "9/9 [==============================] - 0s 4ms/step - loss: 35.8457 - mae: 4.5383 - val_loss: 17.5536 - val_mae: 2.9562\n",
            "Epoch 50/300\n",
            "9/9 [==============================] - 0s 4ms/step - loss: 40.2652 - mae: 4.6916 - val_loss: 17.1355 - val_mae: 2.9480\n",
            "Epoch 51/300\n",
            "9/9 [==============================] - 0s 4ms/step - loss: 42.2086 - mae: 4.7538 - val_loss: 16.2363 - val_mae: 2.8173\n",
            "Epoch 52/300\n",
            "9/9 [==============================] - 0s 4ms/step - loss: 43.5026 - mae: 4.7196 - val_loss: 15.9987 - val_mae: 2.8060\n",
            "Epoch 53/300\n",
            "9/9 [==============================] - 0s 5ms/step - loss: 34.3778 - mae: 4.4299 - val_loss: 14.3286 - val_mae: 2.6877\n",
            "Epoch 54/300\n",
            "9/9 [==============================] - 0s 4ms/step - loss: 34.0714 - mae: 4.4277 - val_loss: 13.5644 - val_mae: 2.6507\n",
            "Epoch 55/300\n",
            "9/9 [==============================] - 0s 5ms/step - loss: 38.3466 - mae: 4.4684 - val_loss: 13.8464 - val_mae: 2.6634\n",
            "Epoch 56/300\n",
            "9/9 [==============================] - 0s 5ms/step - loss: 37.2366 - mae: 4.3800 - val_loss: 13.4828 - val_mae: 2.5995\n",
            "Epoch 57/300\n",
            "9/9 [==============================] - 0s 4ms/step - loss: 34.7410 - mae: 4.3949 - val_loss: 10.9916 - val_mae: 2.4258\n",
            "Epoch 58/300\n",
            "9/9 [==============================] - 0s 4ms/step - loss: 37.8360 - mae: 4.7100 - val_loss: 11.8748 - val_mae: 2.4830\n",
            "Epoch 59/300\n",
            "9/9 [==============================] - 0s 4ms/step - loss: 33.8328 - mae: 4.4094 - val_loss: 14.2689 - val_mae: 2.6725\n",
            "Epoch 60/300\n",
            "9/9 [==============================] - 0s 4ms/step - loss: 43.6241 - mae: 4.7500 - val_loss: 17.3547 - val_mae: 2.9213\n",
            "Epoch 61/300\n",
            "9/9 [==============================] - 0s 4ms/step - loss: 34.4797 - mae: 4.3928 - val_loss: 17.0037 - val_mae: 2.8638\n",
            "Epoch 62/300\n",
            "9/9 [==============================] - 0s 4ms/step - loss: 42.9955 - mae: 4.6347 - val_loss: 19.3570 - val_mae: 3.0573\n",
            "Epoch 63/300\n",
            "9/9 [==============================] - 0s 4ms/step - loss: 40.5824 - mae: 4.7719 - val_loss: 19.8333 - val_mae: 3.0840\n",
            "Epoch 64/300\n",
            "9/9 [==============================] - 0s 4ms/step - loss: 39.8790 - mae: 4.5603 - val_loss: 19.4588 - val_mae: 3.0644\n",
            "Epoch 65/300\n",
            "9/9 [==============================] - 0s 4ms/step - loss: 31.8038 - mae: 4.1590 - val_loss: 15.1992 - val_mae: 2.7917\n",
            "Epoch 66/300\n",
            "9/9 [==============================] - 0s 4ms/step - loss: 36.9268 - mae: 4.5866 - val_loss: 13.9422 - val_mae: 2.7159\n",
            "Epoch 67/300\n",
            "9/9 [==============================] - 0s 4ms/step - loss: 33.1682 - mae: 4.3827 - val_loss: 14.7886 - val_mae: 2.7870\n",
            "Epoch 68/300\n",
            "9/9 [==============================] - 0s 4ms/step - loss: 32.9229 - mae: 4.1606 - val_loss: 13.3307 - val_mae: 2.6704\n",
            "Epoch 69/300\n",
            "9/9 [==============================] - 0s 4ms/step - loss: 33.7394 - mae: 4.3857 - val_loss: 15.0587 - val_mae: 2.8219\n",
            "Epoch 70/300\n",
            "9/9 [==============================] - 0s 5ms/step - loss: 31.8794 - mae: 4.2485 - val_loss: 11.9548 - val_mae: 2.5724\n",
            "Epoch 71/300\n",
            "9/9 [==============================] - 0s 4ms/step - loss: 33.3100 - mae: 4.3224 - val_loss: 9.8539 - val_mae: 2.3923\n",
            "Epoch 72/300\n",
            "9/9 [==============================] - 0s 4ms/step - loss: 39.8783 - mae: 4.3721 - val_loss: 9.9899 - val_mae: 2.4018\n",
            "Epoch 73/300\n",
            "9/9 [==============================] - 0s 4ms/step - loss: 26.5628 - mae: 3.9563 - val_loss: 11.5959 - val_mae: 2.5147\n",
            "Epoch 74/300\n",
            "9/9 [==============================] - 0s 4ms/step - loss: 36.6053 - mae: 4.4626 - val_loss: 14.4509 - val_mae: 2.7230\n",
            "Epoch 75/300\n",
            "9/9 [==============================] - 0s 4ms/step - loss: 32.0203 - mae: 4.1310 - val_loss: 14.2251 - val_mae: 2.6844\n",
            "Epoch 76/300\n",
            "9/9 [==============================] - 0s 5ms/step - loss: 35.1677 - mae: 4.3671 - val_loss: 14.4598 - val_mae: 2.6847\n",
            "Epoch 77/300\n",
            "9/9 [==============================] - 0s 4ms/step - loss: 36.0126 - mae: 4.3350 - val_loss: 13.2788 - val_mae: 2.6188\n",
            "Epoch 78/300\n",
            "9/9 [==============================] - 0s 4ms/step - loss: 30.3479 - mae: 4.2354 - val_loss: 11.7171 - val_mae: 2.5115\n",
            "Epoch 79/300\n",
            "9/9 [==============================] - 0s 4ms/step - loss: 34.4141 - mae: 4.3975 - val_loss: 12.7647 - val_mae: 2.6007\n",
            "Epoch 80/300\n",
            "9/9 [==============================] - 0s 4ms/step - loss: 35.8637 - mae: 4.2904 - val_loss: 12.0146 - val_mae: 2.5350\n",
            "Epoch 81/300\n",
            "9/9 [==============================] - 0s 4ms/step - loss: 32.0677 - mae: 4.2342 - val_loss: 10.8836 - val_mae: 2.4772\n",
            "Epoch 82/300\n",
            "9/9 [==============================] - 0s 4ms/step - loss: 30.0205 - mae: 4.1471 - val_loss: 10.5629 - val_mae: 2.4555\n",
            "Epoch 83/300\n",
            "9/9 [==============================] - 0s 4ms/step - loss: 33.7265 - mae: 4.4992 - val_loss: 14.3150 - val_mae: 2.7173\n",
            "Epoch 84/300\n",
            "9/9 [==============================] - 0s 4ms/step - loss: 30.7532 - mae: 4.2462 - val_loss: 19.7265 - val_mae: 3.1066\n",
            "Epoch 85/300\n",
            "9/9 [==============================] - 0s 4ms/step - loss: 38.8502 - mae: 4.7458 - val_loss: 19.2498 - val_mae: 3.0827\n",
            "Epoch 86/300\n",
            "9/9 [==============================] - 0s 4ms/step - loss: 39.6808 - mae: 4.5697 - val_loss: 14.4753 - val_mae: 2.7281\n",
            "Epoch 87/300\n",
            "9/9 [==============================] - 0s 4ms/step - loss: 33.7081 - mae: 4.3507 - val_loss: 13.4131 - val_mae: 2.6462\n",
            "Epoch 88/300\n",
            "9/9 [==============================] - 0s 4ms/step - loss: 30.7215 - mae: 4.1635 - val_loss: 16.1314 - val_mae: 2.8202\n",
            "Epoch 89/300\n",
            "9/9 [==============================] - 0s 4ms/step - loss: 29.4994 - mae: 4.1557 - val_loss: 15.3821 - val_mae: 2.7553\n",
            "Epoch 90/300\n",
            "9/9 [==============================] - 0s 4ms/step - loss: 36.8953 - mae: 4.4973 - val_loss: 17.4839 - val_mae: 2.9060\n",
            "Epoch 91/300\n",
            "9/9 [==============================] - 0s 4ms/step - loss: 37.3132 - mae: 4.5232 - val_loss: 20.6341 - val_mae: 3.1398\n",
            "Epoch 92/300\n",
            "9/9 [==============================] - 0s 4ms/step - loss: 33.4290 - mae: 4.2481 - val_loss: 22.5228 - val_mae: 3.2605\n",
            "Epoch 93/300\n",
            "9/9 [==============================] - 0s 4ms/step - loss: 36.0474 - mae: 4.5945 - val_loss: 16.8741 - val_mae: 2.8581\n",
            "Epoch 94/300\n",
            "9/9 [==============================] - 0s 4ms/step - loss: 31.9228 - mae: 4.1286 - val_loss: 17.5502 - val_mae: 2.9496\n",
            "Epoch 95/300\n",
            "9/9 [==============================] - 0s 5ms/step - loss: 41.1012 - mae: 4.6674 - val_loss: 17.6213 - val_mae: 3.0211\n",
            "Epoch 96/300\n",
            "9/9 [==============================] - 0s 4ms/step - loss: 37.3982 - mae: 4.3630 - val_loss: 18.1213 - val_mae: 2.9830\n",
            "Epoch 97/300\n",
            "9/9 [==============================] - 0s 4ms/step - loss: 33.4770 - mae: 4.2002 - val_loss: 18.2394 - val_mae: 2.9746\n",
            "Epoch 98/300\n",
            "9/9 [==============================] - 0s 4ms/step - loss: 34.9061 - mae: 4.2391 - val_loss: 13.3424 - val_mae: 2.6488\n",
            "Epoch 99/300\n",
            "9/9 [==============================] - 0s 4ms/step - loss: 30.2678 - mae: 4.1352 - val_loss: 12.5715 - val_mae: 2.5796\n",
            "Epoch 100/300\n",
            "9/9 [==============================] - 0s 4ms/step - loss: 37.5338 - mae: 4.5338 - val_loss: 13.0559 - val_mae: 2.6321\n",
            "Epoch 101/300\n",
            "9/9 [==============================] - 0s 4ms/step - loss: 31.4746 - mae: 4.1538 - val_loss: 14.4691 - val_mae: 2.7571\n",
            "Epoch 102/300\n",
            "9/9 [==============================] - 0s 4ms/step - loss: 31.0847 - mae: 4.0791 - val_loss: 12.8471 - val_mae: 2.6219\n",
            "Epoch 103/300\n",
            "9/9 [==============================] - 0s 4ms/step - loss: 28.6440 - mae: 3.9740 - val_loss: 12.9597 - val_mae: 2.6085\n",
            "Epoch 104/300\n",
            "9/9 [==============================] - 0s 5ms/step - loss: 32.4419 - mae: 4.3351 - val_loss: 13.4289 - val_mae: 2.6441\n",
            "Epoch 105/300\n",
            "9/9 [==============================] - 0s 4ms/step - loss: 30.2602 - mae: 4.0563 - val_loss: 18.2719 - val_mae: 3.0437\n",
            "Epoch 106/300\n",
            "9/9 [==============================] - 0s 4ms/step - loss: 37.3574 - mae: 4.5339 - val_loss: 15.5412 - val_mae: 2.8350\n",
            "Epoch 107/300\n",
            "9/9 [==============================] - 0s 4ms/step - loss: 32.9558 - mae: 4.4167 - val_loss: 18.6555 - val_mae: 3.0579\n",
            "Epoch 108/300\n",
            "9/9 [==============================] - 0s 4ms/step - loss: 33.7712 - mae: 4.2922 - val_loss: 17.6165 - val_mae: 3.0203\n",
            "Epoch 109/300\n",
            "9/9 [==============================] - 0s 4ms/step - loss: 36.0162 - mae: 4.3702 - val_loss: 12.5343 - val_mae: 2.5890\n",
            "Epoch 110/300\n",
            "9/9 [==============================] - 0s 4ms/step - loss: 33.9316 - mae: 4.2221 - val_loss: 12.0975 - val_mae: 2.5259\n",
            "Epoch 111/300\n",
            "9/9 [==============================] - 0s 4ms/step - loss: 42.1604 - mae: 4.8130 - val_loss: 15.7197 - val_mae: 2.7963\n",
            "Epoch 112/300\n",
            "9/9 [==============================] - 0s 4ms/step - loss: 33.5507 - mae: 4.3156 - val_loss: 13.4479 - val_mae: 2.6389\n",
            "Epoch 113/300\n",
            "9/9 [==============================] - 0s 5ms/step - loss: 33.2019 - mae: 4.3312 - val_loss: 11.3664 - val_mae: 2.5020\n",
            "Epoch 114/300\n",
            "9/9 [==============================] - 0s 4ms/step - loss: 36.3835 - mae: 4.4339 - val_loss: 11.3171 - val_mae: 2.5020\n",
            "Epoch 115/300\n",
            "9/9 [==============================] - 0s 4ms/step - loss: 35.4756 - mae: 4.6805 - val_loss: 12.1119 - val_mae: 2.5944\n",
            "Epoch 116/300\n",
            "9/9 [==============================] - 0s 4ms/step - loss: 35.0149 - mae: 4.4591 - val_loss: 10.2670 - val_mae: 2.4184\n",
            "Epoch 117/300\n",
            "9/9 [==============================] - 0s 4ms/step - loss: 36.9528 - mae: 4.5285 - val_loss: 9.6226 - val_mae: 2.3444\n",
            "Epoch 118/300\n",
            "9/9 [==============================] - 0s 4ms/step - loss: 27.2084 - mae: 3.9852 - val_loss: 9.5515 - val_mae: 2.3457\n",
            "Epoch 119/300\n",
            "9/9 [==============================] - 0s 4ms/step - loss: 34.3583 - mae: 4.4509 - val_loss: 10.2754 - val_mae: 2.3811\n",
            "Epoch 120/300\n",
            "9/9 [==============================] - 0s 4ms/step - loss: 30.6064 - mae: 4.2679 - val_loss: 13.1741 - val_mae: 2.6367\n",
            "Epoch 121/300\n",
            "9/9 [==============================] - 0s 6ms/step - loss: 33.0122 - mae: 4.2403 - val_loss: 11.2928 - val_mae: 2.5118\n",
            "Epoch 122/300\n",
            "9/9 [==============================] - 0s 4ms/step - loss: 38.2044 - mae: 4.4883 - val_loss: 10.6422 - val_mae: 2.4552\n",
            "Epoch 123/300\n",
            "9/9 [==============================] - 0s 4ms/step - loss: 32.5174 - mae: 4.3663 - val_loss: 10.8458 - val_mae: 2.4689\n",
            "Epoch 124/300\n",
            "9/9 [==============================] - 0s 4ms/step - loss: 31.2593 - mae: 4.2350 - val_loss: 12.1595 - val_mae: 2.5972\n",
            "Epoch 125/300\n",
            "9/9 [==============================] - 0s 4ms/step - loss: 33.5874 - mae: 4.4295 - val_loss: 15.2074 - val_mae: 2.8316\n",
            "Epoch 126/300\n",
            "9/9 [==============================] - 0s 4ms/step - loss: 33.4348 - mae: 4.2698 - val_loss: 11.4467 - val_mae: 2.5676\n",
            "Epoch 127/300\n",
            "9/9 [==============================] - 0s 4ms/step - loss: 26.7822 - mae: 3.9007 - val_loss: 10.9313 - val_mae: 2.5193\n",
            "Epoch 128/300\n",
            "9/9 [==============================] - 0s 4ms/step - loss: 37.0010 - mae: 4.4719 - val_loss: 11.3406 - val_mae: 2.5604\n",
            "Epoch 129/300\n",
            "9/9 [==============================] - 0s 4ms/step - loss: 36.3500 - mae: 4.6567 - val_loss: 8.1560 - val_mae: 2.2079\n",
            "Epoch 130/300\n",
            "9/9 [==============================] - 0s 4ms/step - loss: 33.6952 - mae: 4.2410 - val_loss: 9.2674 - val_mae: 2.3151\n",
            "Epoch 131/300\n",
            "9/9 [==============================] - 0s 5ms/step - loss: 29.9730 - mae: 4.1007 - val_loss: 12.1427 - val_mae: 2.5323\n",
            "Epoch 132/300\n",
            "9/9 [==============================] - 0s 4ms/step - loss: 30.3334 - mae: 4.1623 - val_loss: 11.9250 - val_mae: 2.5121\n",
            "Epoch 133/300\n",
            "9/9 [==============================] - 0s 4ms/step - loss: 27.5426 - mae: 4.0878 - val_loss: 10.1713 - val_mae: 2.3635\n",
            "Epoch 134/300\n",
            "9/9 [==============================] - 0s 5ms/step - loss: 33.3465 - mae: 4.3515 - val_loss: 12.1871 - val_mae: 2.5686\n",
            "Epoch 135/300\n",
            "9/9 [==============================] - 0s 4ms/step - loss: 33.1348 - mae: 4.2590 - val_loss: 10.6259 - val_mae: 2.4469\n",
            "Epoch 136/300\n",
            "9/9 [==============================] - 0s 4ms/step - loss: 33.7895 - mae: 4.2412 - val_loss: 9.6387 - val_mae: 2.3464\n",
            "Epoch 137/300\n",
            "9/9 [==============================] - 0s 4ms/step - loss: 27.5044 - mae: 3.8621 - val_loss: 9.1283 - val_mae: 2.2915\n",
            "Epoch 138/300\n",
            "9/9 [==============================] - 0s 4ms/step - loss: 28.9813 - mae: 3.9885 - val_loss: 9.4267 - val_mae: 2.3519\n",
            "Epoch 139/300\n",
            "9/9 [==============================] - 0s 4ms/step - loss: 34.7804 - mae: 4.4068 - val_loss: 10.2584 - val_mae: 2.4364\n",
            "Epoch 140/300\n",
            "9/9 [==============================] - 0s 5ms/step - loss: 31.4320 - mae: 4.1816 - val_loss: 9.7142 - val_mae: 2.3860\n",
            "Epoch 141/300\n",
            "9/9 [==============================] - 0s 4ms/step - loss: 31.9857 - mae: 4.1439 - val_loss: 8.5638 - val_mae: 2.2544\n",
            "Epoch 142/300\n",
            "9/9 [==============================] - 0s 4ms/step - loss: 31.8730 - mae: 4.2010 - val_loss: 9.5334 - val_mae: 2.3516\n",
            "Epoch 143/300\n",
            "9/9 [==============================] - 0s 5ms/step - loss: 32.2499 - mae: 4.1827 - val_loss: 13.0643 - val_mae: 2.6267\n",
            "Epoch 144/300\n",
            "9/9 [==============================] - 0s 4ms/step - loss: 36.4025 - mae: 4.4445 - val_loss: 13.3165 - val_mae: 2.6536\n",
            "Epoch 145/300\n",
            "9/9 [==============================] - 0s 4ms/step - loss: 31.7635 - mae: 4.4023 - val_loss: 12.7354 - val_mae: 2.6016\n",
            "Epoch 146/300\n",
            "9/9 [==============================] - 0s 5ms/step - loss: 29.8859 - mae: 4.0263 - val_loss: 11.8895 - val_mae: 2.5252\n",
            "Epoch 147/300\n",
            "9/9 [==============================] - 0s 4ms/step - loss: 36.1692 - mae: 4.3083 - val_loss: 11.3379 - val_mae: 2.4659\n",
            "Epoch 148/300\n",
            "9/9 [==============================] - 0s 4ms/step - loss: 30.1757 - mae: 4.1804 - val_loss: 13.5362 - val_mae: 2.6471\n",
            "Epoch 149/300\n",
            "9/9 [==============================] - 0s 4ms/step - loss: 28.8665 - mae: 4.0426 - val_loss: 13.7947 - val_mae: 2.6607\n",
            "Epoch 150/300\n",
            "9/9 [==============================] - 0s 4ms/step - loss: 31.9072 - mae: 4.3261 - val_loss: 12.2169 - val_mae: 2.5436\n",
            "Epoch 151/300\n",
            "9/9 [==============================] - 0s 4ms/step - loss: 32.7270 - mae: 4.3854 - val_loss: 11.6744 - val_mae: 2.5299\n",
            "Epoch 152/300\n",
            "9/9 [==============================] - 0s 5ms/step - loss: 25.0861 - mae: 4.0269 - val_loss: 11.0076 - val_mae: 2.5172\n",
            "Epoch 153/300\n",
            "9/9 [==============================] - 0s 4ms/step - loss: 27.0747 - mae: 4.0793 - val_loss: 10.4387 - val_mae: 2.4942\n",
            "Epoch 154/300\n",
            "9/9 [==============================] - 0s 4ms/step - loss: 35.1836 - mae: 4.4893 - val_loss: 10.9246 - val_mae: 2.5460\n",
            "Epoch 155/300\n",
            "9/9 [==============================] - 0s 4ms/step - loss: 30.0086 - mae: 4.2581 - val_loss: 12.2975 - val_mae: 2.6532\n",
            "Epoch 156/300\n",
            "9/9 [==============================] - 0s 4ms/step - loss: 30.5901 - mae: 4.1923 - val_loss: 11.7037 - val_mae: 2.5862\n",
            "Epoch 157/300\n",
            "9/9 [==============================] - 0s 4ms/step - loss: 27.4801 - mae: 4.0959 - val_loss: 10.1276 - val_mae: 2.4380\n",
            "Epoch 158/300\n",
            "9/9 [==============================] - 0s 4ms/step - loss: 31.3097 - mae: 4.0962 - val_loss: 10.3109 - val_mae: 2.4757\n",
            "Epoch 159/300\n",
            "9/9 [==============================] - 0s 5ms/step - loss: 35.2026 - mae: 4.4618 - val_loss: 14.8478 - val_mae: 2.8286\n",
            "Epoch 160/300\n",
            "9/9 [==============================] - 0s 4ms/step - loss: 31.0172 - mae: 4.1916 - val_loss: 17.0215 - val_mae: 2.9658\n",
            "Epoch 161/300\n",
            "9/9 [==============================] - 0s 4ms/step - loss: 35.2099 - mae: 4.2795 - val_loss: 13.5786 - val_mae: 2.6852\n",
            "Epoch 162/300\n",
            "9/9 [==============================] - 0s 4ms/step - loss: 29.9512 - mae: 4.2613 - val_loss: 14.9845 - val_mae: 2.8125\n",
            "Epoch 163/300\n",
            "9/9 [==============================] - 0s 4ms/step - loss: 26.7048 - mae: 3.7439 - val_loss: 16.8934 - val_mae: 2.9213\n",
            "Epoch 164/300\n",
            "9/9 [==============================] - 0s 5ms/step - loss: 30.6773 - mae: 4.1753 - val_loss: 19.1832 - val_mae: 3.0318\n",
            "Epoch 165/300\n",
            "9/9 [==============================] - 0s 5ms/step - loss: 34.5770 - mae: 4.3693 - val_loss: 16.3322 - val_mae: 2.8288\n",
            "Epoch 166/300\n",
            "9/9 [==============================] - 0s 4ms/step - loss: 28.3796 - mae: 4.0630 - val_loss: 15.7531 - val_mae: 2.8014\n",
            "Epoch 167/300\n",
            "9/9 [==============================] - 0s 4ms/step - loss: 32.4460 - mae: 4.2750 - val_loss: 12.3258 - val_mae: 2.5534\n",
            "Epoch 168/300\n",
            "9/9 [==============================] - 0s 5ms/step - loss: 22.2574 - mae: 3.5668 - val_loss: 9.5660 - val_mae: 2.3603\n",
            "Epoch 169/300\n",
            "9/9 [==============================] - 0s 4ms/step - loss: 27.2432 - mae: 3.7811 - val_loss: 10.6317 - val_mae: 2.4468\n",
            "Epoch 170/300\n",
            "9/9 [==============================] - 0s 4ms/step - loss: 27.1019 - mae: 3.8878 - val_loss: 12.9049 - val_mae: 2.6164\n",
            "Epoch 171/300\n",
            "9/9 [==============================] - 0s 4ms/step - loss: 27.6979 - mae: 4.0564 - val_loss: 13.0306 - val_mae: 2.5972\n",
            "Epoch 172/300\n",
            "9/9 [==============================] - 0s 4ms/step - loss: 31.1036 - mae: 3.9725 - val_loss: 14.3519 - val_mae: 2.6931\n",
            "Epoch 173/300\n",
            "9/9 [==============================] - 0s 4ms/step - loss: 31.9012 - mae: 4.1143 - val_loss: 16.3182 - val_mae: 2.8130\n",
            "Epoch 174/300\n",
            "9/9 [==============================] - 0s 4ms/step - loss: 31.2829 - mae: 4.1372 - val_loss: 14.7725 - val_mae: 2.6750\n",
            "Epoch 175/300\n",
            "9/9 [==============================] - 0s 4ms/step - loss: 32.6966 - mae: 4.4317 - val_loss: 13.3419 - val_mae: 2.5827\n",
            "Epoch 176/300\n",
            "9/9 [==============================] - 0s 4ms/step - loss: 27.1029 - mae: 3.8977 - val_loss: 13.5701 - val_mae: 2.6373\n",
            "Epoch 177/300\n",
            "9/9 [==============================] - 0s 4ms/step - loss: 25.3093 - mae: 3.6842 - val_loss: 12.4908 - val_mae: 2.5741\n",
            "Epoch 178/300\n",
            "9/9 [==============================] - 0s 4ms/step - loss: 34.1354 - mae: 4.3174 - val_loss: 12.4411 - val_mae: 2.5478\n",
            "Epoch 179/300\n",
            "9/9 [==============================] - 0s 4ms/step - loss: 32.0747 - mae: 4.2491 - val_loss: 12.9216 - val_mae: 2.6389\n",
            "Epoch 180/300\n",
            "9/9 [==============================] - 0s 4ms/step - loss: 25.9355 - mae: 3.8478 - val_loss: 10.6726 - val_mae: 2.4470\n",
            "Epoch 181/300\n",
            "9/9 [==============================] - 0s 4ms/step - loss: 25.1822 - mae: 3.8288 - val_loss: 10.3291 - val_mae: 2.4437\n",
            "Epoch 182/300\n",
            "9/9 [==============================] - 0s 4ms/step - loss: 33.0910 - mae: 4.2055 - val_loss: 10.6751 - val_mae: 2.4477\n",
            "Epoch 183/300\n",
            "9/9 [==============================] - 0s 5ms/step - loss: 32.1296 - mae: 4.1784 - val_loss: 10.0067 - val_mae: 2.3913\n",
            "Epoch 184/300\n",
            "9/9 [==============================] - 0s 4ms/step - loss: 29.4662 - mae: 4.1132 - val_loss: 9.2510 - val_mae: 2.3013\n",
            "Epoch 185/300\n",
            "9/9 [==============================] - 0s 4ms/step - loss: 30.6717 - mae: 4.1639 - val_loss: 8.4060 - val_mae: 2.2170\n",
            "Epoch 186/300\n",
            "9/9 [==============================] - 0s 4ms/step - loss: 27.0633 - mae: 3.8494 - val_loss: 10.0614 - val_mae: 2.4023\n",
            "Epoch 187/300\n",
            "9/9 [==============================] - 0s 5ms/step - loss: 28.3376 - mae: 4.1981 - val_loss: 8.5787 - val_mae: 2.2322\n",
            "Epoch 188/300\n",
            "9/9 [==============================] - 0s 4ms/step - loss: 28.7592 - mae: 4.0536 - val_loss: 9.8296 - val_mae: 2.3454\n",
            "Epoch 189/300\n",
            "9/9 [==============================] - 0s 4ms/step - loss: 29.0544 - mae: 3.8617 - val_loss: 12.0563 - val_mae: 2.5493\n",
            "Epoch 190/300\n",
            "9/9 [==============================] - 0s 4ms/step - loss: 28.6691 - mae: 4.0013 - val_loss: 11.4067 - val_mae: 2.4828\n",
            "Epoch 191/300\n",
            "9/9 [==============================] - 0s 4ms/step - loss: 31.5007 - mae: 3.9918 - val_loss: 14.3530 - val_mae: 2.6561\n",
            "Epoch 192/300\n",
            "9/9 [==============================] - 0s 4ms/step - loss: 27.7065 - mae: 3.9045 - val_loss: 15.6102 - val_mae: 2.7646\n",
            "Epoch 193/300\n",
            "9/9 [==============================] - 0s 4ms/step - loss: 24.0401 - mae: 3.7339 - val_loss: 14.3716 - val_mae: 2.6701\n",
            "Epoch 194/300\n",
            "9/9 [==============================] - 0s 4ms/step - loss: 30.2858 - mae: 4.2067 - val_loss: 10.9368 - val_mae: 2.4035\n",
            "Epoch 195/300\n",
            "9/9 [==============================] - 0s 5ms/step - loss: 25.5671 - mae: 3.9136 - val_loss: 9.4568 - val_mae: 2.2940\n",
            "Epoch 196/300\n",
            "9/9 [==============================] - 0s 5ms/step - loss: 29.8643 - mae: 4.1204 - val_loss: 10.1334 - val_mae: 2.3187\n",
            "Epoch 197/300\n",
            "9/9 [==============================] - 0s 4ms/step - loss: 31.4968 - mae: 4.0441 - val_loss: 10.3180 - val_mae: 2.3562\n",
            "Epoch 198/300\n",
            "9/9 [==============================] - 0s 4ms/step - loss: 32.6316 - mae: 4.0779 - val_loss: 11.3661 - val_mae: 2.5044\n",
            "Epoch 199/300\n",
            "9/9 [==============================] - 0s 4ms/step - loss: 28.5253 - mae: 3.9388 - val_loss: 12.2322 - val_mae: 2.5907\n",
            "Epoch 200/300\n",
            "9/9 [==============================] - 0s 4ms/step - loss: 25.9244 - mae: 3.8331 - val_loss: 11.8696 - val_mae: 2.5559\n",
            "Epoch 201/300\n",
            "9/9 [==============================] - 0s 5ms/step - loss: 29.6448 - mae: 3.8732 - val_loss: 10.2369 - val_mae: 2.3858\n",
            "Epoch 202/300\n",
            "9/9 [==============================] - 0s 4ms/step - loss: 29.5842 - mae: 3.9690 - val_loss: 11.0493 - val_mae: 2.4408\n",
            "Epoch 203/300\n",
            "9/9 [==============================] - 0s 4ms/step - loss: 27.8601 - mae: 4.0877 - val_loss: 12.3644 - val_mae: 2.5486\n",
            "Epoch 204/300\n",
            "9/9 [==============================] - 0s 5ms/step - loss: 25.6146 - mae: 3.8023 - val_loss: 12.7241 - val_mae: 2.6772\n",
            "Epoch 205/300\n",
            "9/9 [==============================] - 0s 5ms/step - loss: 30.3120 - mae: 4.1563 - val_loss: 11.5727 - val_mae: 2.5868\n",
            "Epoch 206/300\n",
            "9/9 [==============================] - 0s 4ms/step - loss: 23.4681 - mae: 3.6590 - val_loss: 11.0847 - val_mae: 2.5039\n",
            "Epoch 207/300\n",
            "9/9 [==============================] - 0s 4ms/step - loss: 31.9098 - mae: 4.1055 - val_loss: 8.8751 - val_mae: 2.2681\n",
            "Epoch 208/300\n",
            "9/9 [==============================] - 0s 6ms/step - loss: 27.9711 - mae: 4.1886 - val_loss: 7.0157 - val_mae: 2.0169\n",
            "Epoch 209/300\n",
            "9/9 [==============================] - 0s 4ms/step - loss: 24.0162 - mae: 3.6905 - val_loss: 6.9623 - val_mae: 2.0020\n",
            "Epoch 210/300\n",
            "9/9 [==============================] - 0s 4ms/step - loss: 27.8266 - mae: 3.9149 - val_loss: 7.0945 - val_mae: 2.0231\n",
            "Epoch 211/300\n",
            "9/9 [==============================] - 0s 5ms/step - loss: 24.4558 - mae: 3.7851 - val_loss: 8.9823 - val_mae: 2.3141\n",
            "Epoch 212/300\n",
            "9/9 [==============================] - 0s 5ms/step - loss: 27.7732 - mae: 3.9574 - val_loss: 12.1836 - val_mae: 2.6080\n",
            "Epoch 213/300\n",
            "9/9 [==============================] - 0s 4ms/step - loss: 25.8073 - mae: 3.7937 - val_loss: 12.9777 - val_mae: 2.6489\n",
            "Epoch 214/300\n",
            "9/9 [==============================] - 0s 4ms/step - loss: 27.5052 - mae: 3.8286 - val_loss: 15.0920 - val_mae: 2.7967\n",
            "Epoch 215/300\n",
            "9/9 [==============================] - 0s 5ms/step - loss: 28.5487 - mae: 3.9699 - val_loss: 17.7880 - val_mae: 3.0453\n",
            "Epoch 216/300\n",
            "9/9 [==============================] - 0s 4ms/step - loss: 28.1556 - mae: 4.0858 - val_loss: 14.9435 - val_mae: 2.7735\n",
            "Epoch 217/300\n",
            "9/9 [==============================] - 0s 5ms/step - loss: 24.7501 - mae: 3.8597 - val_loss: 11.5191 - val_mae: 2.5130\n",
            "Epoch 218/300\n",
            "9/9 [==============================] - 0s 5ms/step - loss: 29.1807 - mae: 3.9717 - val_loss: 10.2149 - val_mae: 2.4328\n",
            "Epoch 219/300\n",
            "9/9 [==============================] - 0s 5ms/step - loss: 27.2190 - mae: 3.9159 - val_loss: 10.0078 - val_mae: 2.4043\n",
            "Epoch 220/300\n",
            "9/9 [==============================] - 0s 4ms/step - loss: 26.2638 - mae: 3.9049 - val_loss: 14.7811 - val_mae: 2.8452\n",
            "Epoch 221/300\n",
            "9/9 [==============================] - 0s 5ms/step - loss: 35.1807 - mae: 4.3566 - val_loss: 15.0122 - val_mae: 2.8707\n",
            "Epoch 222/300\n",
            "9/9 [==============================] - 0s 5ms/step - loss: 24.1413 - mae: 3.8447 - val_loss: 13.5458 - val_mae: 2.8086\n",
            "Epoch 223/300\n",
            "9/9 [==============================] - 0s 4ms/step - loss: 30.5447 - mae: 4.1036 - val_loss: 12.3958 - val_mae: 2.6951\n",
            "Epoch 224/300\n",
            "9/9 [==============================] - 0s 5ms/step - loss: 32.6392 - mae: 4.1009 - val_loss: 12.6759 - val_mae: 2.7197\n",
            "Epoch 225/300\n",
            "9/9 [==============================] - 0s 5ms/step - loss: 34.5777 - mae: 4.4915 - val_loss: 14.9688 - val_mae: 2.7796\n",
            "Epoch 226/300\n",
            "9/9 [==============================] - 0s 4ms/step - loss: 25.1152 - mae: 3.8102 - val_loss: 14.5657 - val_mae: 2.7200\n",
            "Epoch 227/300\n",
            "9/9 [==============================] - 0s 5ms/step - loss: 26.9631 - mae: 3.7478 - val_loss: 12.7983 - val_mae: 2.6025\n",
            "Epoch 228/300\n",
            "9/9 [==============================] - 0s 6ms/step - loss: 30.3806 - mae: 3.8997 - val_loss: 11.3384 - val_mae: 2.4893\n",
            "Epoch 229/300\n",
            "9/9 [==============================] - 0s 4ms/step - loss: 31.2670 - mae: 4.1103 - val_loss: 12.4895 - val_mae: 2.6181\n",
            "Epoch 230/300\n",
            "9/9 [==============================] - 0s 5ms/step - loss: 26.9316 - mae: 3.8718 - val_loss: 15.4591 - val_mae: 2.8746\n",
            "Epoch 231/300\n",
            "9/9 [==============================] - 0s 5ms/step - loss: 30.4081 - mae: 4.0928 - val_loss: 16.6163 - val_mae: 2.9432\n",
            "Epoch 232/300\n",
            "9/9 [==============================] - 0s 4ms/step - loss: 28.8810 - mae: 4.0234 - val_loss: 13.9873 - val_mae: 2.7338\n",
            "Epoch 233/300\n",
            "9/9 [==============================] - 0s 4ms/step - loss: 22.9922 - mae: 3.6293 - val_loss: 12.0550 - val_mae: 2.5586\n",
            "Epoch 234/300\n",
            "9/9 [==============================] - 0s 5ms/step - loss: 28.2697 - mae: 3.9079 - val_loss: 17.0355 - val_mae: 2.9010\n",
            "Epoch 235/300\n",
            "9/9 [==============================] - 0s 4ms/step - loss: 28.4435 - mae: 3.9139 - val_loss: 15.9343 - val_mae: 2.7935\n",
            "Epoch 236/300\n",
            "9/9 [==============================] - 0s 4ms/step - loss: 29.6544 - mae: 4.0720 - val_loss: 13.5297 - val_mae: 2.6243\n",
            "Epoch 237/300\n",
            "9/9 [==============================] - 0s 5ms/step - loss: 26.1253 - mae: 3.8119 - val_loss: 11.6022 - val_mae: 2.5011\n",
            "Epoch 238/300\n",
            "9/9 [==============================] - 0s 5ms/step - loss: 32.8372 - mae: 4.3199 - val_loss: 11.2124 - val_mae: 2.5005\n",
            "Epoch 239/300\n",
            "9/9 [==============================] - 0s 4ms/step - loss: 34.4904 - mae: 4.3039 - val_loss: 11.6504 - val_mae: 2.5590\n",
            "Epoch 240/300\n",
            "9/9 [==============================] - 0s 5ms/step - loss: 29.6409 - mae: 4.0102 - val_loss: 9.8327 - val_mae: 2.3832\n",
            "Epoch 241/300\n",
            "9/9 [==============================] - 0s 5ms/step - loss: 24.6578 - mae: 3.8220 - val_loss: 10.7537 - val_mae: 2.4475\n",
            "Epoch 242/300\n",
            "9/9 [==============================] - 0s 4ms/step - loss: 22.4277 - mae: 3.6184 - val_loss: 9.3101 - val_mae: 2.3016\n",
            "Epoch 243/300\n",
            "9/9 [==============================] - 0s 5ms/step - loss: 25.4684 - mae: 3.8023 - val_loss: 10.8740 - val_mae: 2.4682\n",
            "Epoch 244/300\n",
            "9/9 [==============================] - 0s 5ms/step - loss: 32.1654 - mae: 4.1189 - val_loss: 12.6311 - val_mae: 2.6486\n",
            "Epoch 245/300\n",
            "9/9 [==============================] - 0s 6ms/step - loss: 30.7330 - mae: 4.1206 - val_loss: 9.9622 - val_mae: 2.3926\n",
            "Epoch 246/300\n",
            "9/9 [==============================] - 0s 5ms/step - loss: 31.1999 - mae: 4.0133 - val_loss: 13.9350 - val_mae: 2.6993\n",
            "Epoch 247/300\n",
            "9/9 [==============================] - 0s 5ms/step - loss: 25.0619 - mae: 3.5594 - val_loss: 15.9986 - val_mae: 2.8469\n",
            "Epoch 248/300\n",
            "9/9 [==============================] - 0s 4ms/step - loss: 33.7162 - mae: 4.2881 - val_loss: 16.3874 - val_mae: 2.8898\n",
            "Epoch 249/300\n",
            "9/9 [==============================] - 0s 5ms/step - loss: 27.8237 - mae: 3.9178 - val_loss: 16.5844 - val_mae: 2.9439\n",
            "Epoch 250/300\n",
            "9/9 [==============================] - 0s 5ms/step - loss: 23.8881 - mae: 3.6323 - val_loss: 14.4329 - val_mae: 2.7760\n",
            "Epoch 251/300\n",
            "9/9 [==============================] - 0s 4ms/step - loss: 30.4574 - mae: 4.0621 - val_loss: 14.3252 - val_mae: 2.7595\n",
            "Epoch 252/300\n",
            "9/9 [==============================] - 0s 5ms/step - loss: 26.7907 - mae: 3.9309 - val_loss: 10.9793 - val_mae: 2.4811\n",
            "Epoch 253/300\n",
            "9/9 [==============================] - 0s 4ms/step - loss: 29.2308 - mae: 4.0080 - val_loss: 10.7029 - val_mae: 2.4642\n",
            "Epoch 254/300\n",
            "9/9 [==============================] - 0s 5ms/step - loss: 27.6646 - mae: 3.8813 - val_loss: 13.0793 - val_mae: 2.6971\n",
            "Epoch 255/300\n",
            "9/9 [==============================] - 0s 4ms/step - loss: 28.1600 - mae: 4.0976 - val_loss: 12.9642 - val_mae: 2.6738\n",
            "Epoch 256/300\n",
            "9/9 [==============================] - 0s 5ms/step - loss: 33.3926 - mae: 4.1836 - val_loss: 12.9088 - val_mae: 2.6321\n",
            "Epoch 257/300\n",
            "9/9 [==============================] - 0s 5ms/step - loss: 22.0851 - mae: 3.4910 - val_loss: 11.7997 - val_mae: 2.5362\n",
            "Epoch 258/300\n",
            "9/9 [==============================] - 0s 5ms/step - loss: 28.2070 - mae: 3.9786 - val_loss: 10.4831 - val_mae: 2.3943\n",
            "Epoch 259/300\n",
            "9/9 [==============================] - 0s 5ms/step - loss: 27.9615 - mae: 3.9393 - val_loss: 9.4287 - val_mae: 2.3171\n",
            "Epoch 260/300\n",
            "9/9 [==============================] - 0s 5ms/step - loss: 21.9912 - mae: 3.5597 - val_loss: 11.9151 - val_mae: 2.4783\n",
            "Epoch 261/300\n",
            "9/9 [==============================] - 0s 4ms/step - loss: 26.9227 - mae: 3.9218 - val_loss: 10.9795 - val_mae: 2.3892\n",
            "Epoch 262/300\n",
            "9/9 [==============================] - 0s 5ms/step - loss: 26.2982 - mae: 3.7813 - val_loss: 10.7519 - val_mae: 2.3728\n",
            "Epoch 263/300\n",
            "9/9 [==============================] - 0s 5ms/step - loss: 27.5217 - mae: 4.0680 - val_loss: 9.4300 - val_mae: 2.2592\n",
            "Epoch 264/300\n",
            "9/9 [==============================] - 0s 5ms/step - loss: 25.6215 - mae: 3.7837 - val_loss: 10.5658 - val_mae: 2.3690\n",
            "Epoch 265/300\n",
            "9/9 [==============================] - 0s 5ms/step - loss: 28.0775 - mae: 3.9732 - val_loss: 16.1623 - val_mae: 2.8673\n",
            "Epoch 266/300\n",
            "9/9 [==============================] - 0s 5ms/step - loss: 29.3987 - mae: 4.0301 - val_loss: 16.6151 - val_mae: 2.9025\n",
            "Epoch 267/300\n",
            "9/9 [==============================] - 0s 5ms/step - loss: 32.3041 - mae: 4.1541 - val_loss: 15.0767 - val_mae: 2.7545\n",
            "Epoch 268/300\n",
            "9/9 [==============================] - 0s 4ms/step - loss: 25.2876 - mae: 3.7435 - val_loss: 10.3897 - val_mae: 2.3660\n",
            "Epoch 269/300\n",
            "9/9 [==============================] - 0s 4ms/step - loss: 28.6118 - mae: 3.9479 - val_loss: 8.4195 - val_mae: 2.1576\n",
            "Epoch 270/300\n",
            "9/9 [==============================] - 0s 5ms/step - loss: 25.1444 - mae: 3.7181 - val_loss: 9.3134 - val_mae: 2.3008\n",
            "Epoch 271/300\n",
            "9/9 [==============================] - 0s 5ms/step - loss: 23.7188 - mae: 3.7079 - val_loss: 8.9321 - val_mae: 2.1823\n",
            "Epoch 272/300\n",
            "9/9 [==============================] - 0s 4ms/step - loss: 26.6520 - mae: 3.9606 - val_loss: 8.1815 - val_mae: 2.0743\n",
            "Epoch 273/300\n",
            "9/9 [==============================] - 0s 5ms/step - loss: 23.0443 - mae: 3.5439 - val_loss: 8.0075 - val_mae: 2.1696\n",
            "Epoch 274/300\n",
            "9/9 [==============================] - 0s 4ms/step - loss: 23.2177 - mae: 3.6711 - val_loss: 9.5773 - val_mae: 2.3280\n",
            "Epoch 275/300\n",
            "9/9 [==============================] - 0s 5ms/step - loss: 28.0056 - mae: 3.7974 - val_loss: 11.8654 - val_mae: 2.5635\n",
            "Epoch 276/300\n",
            "9/9 [==============================] - 0s 4ms/step - loss: 26.5482 - mae: 3.8556 - val_loss: 11.5712 - val_mae: 2.4850\n",
            "Epoch 277/300\n",
            "9/9 [==============================] - 0s 4ms/step - loss: 27.5431 - mae: 3.8635 - val_loss: 12.0418 - val_mae: 2.5364\n",
            "Epoch 278/300\n",
            "9/9 [==============================] - 0s 5ms/step - loss: 23.3550 - mae: 3.7289 - val_loss: 11.6382 - val_mae: 2.5064\n",
            "Epoch 279/300\n",
            "9/9 [==============================] - 0s 5ms/step - loss: 31.7059 - mae: 4.2658 - val_loss: 15.4284 - val_mae: 2.7987\n",
            "Epoch 280/300\n",
            "9/9 [==============================] - 0s 5ms/step - loss: 20.2508 - mae: 3.3183 - val_loss: 15.1855 - val_mae: 2.7496\n",
            "Epoch 281/300\n",
            "9/9 [==============================] - 0s 4ms/step - loss: 27.6537 - mae: 3.8282 - val_loss: 12.8229 - val_mae: 2.5689\n",
            "Epoch 282/300\n",
            "9/9 [==============================] - 0s 4ms/step - loss: 26.4591 - mae: 3.8785 - val_loss: 12.7228 - val_mae: 2.5523\n",
            "Epoch 283/300\n",
            "9/9 [==============================] - 0s 4ms/step - loss: 25.8126 - mae: 3.8013 - val_loss: 16.6214 - val_mae: 2.8605\n",
            "Epoch 284/300\n",
            "9/9 [==============================] - 0s 5ms/step - loss: 26.3029 - mae: 3.8075 - val_loss: 15.5348 - val_mae: 2.7693\n",
            "Epoch 285/300\n",
            "9/9 [==============================] - 0s 5ms/step - loss: 27.5230 - mae: 3.9021 - val_loss: 16.6446 - val_mae: 2.8694\n",
            "Epoch 286/300\n",
            "9/9 [==============================] - 0s 5ms/step - loss: 25.2039 - mae: 3.7744 - val_loss: 16.4992 - val_mae: 2.8684\n",
            "Epoch 287/300\n",
            "9/9 [==============================] - 0s 6ms/step - loss: 22.0153 - mae: 3.4728 - val_loss: 18.8641 - val_mae: 3.1006\n",
            "Epoch 288/300\n",
            "9/9 [==============================] - 0s 4ms/step - loss: 28.1962 - mae: 3.9169 - val_loss: 18.9077 - val_mae: 3.1071\n",
            "Epoch 289/300\n",
            "9/9 [==============================] - 0s 5ms/step - loss: 26.9180 - mae: 3.9506 - val_loss: 14.8118 - val_mae: 2.7527\n",
            "Epoch 290/300\n",
            "9/9 [==============================] - 0s 4ms/step - loss: 32.9074 - mae: 4.0026 - val_loss: 14.0225 - val_mae: 2.7070\n",
            "Epoch 291/300\n",
            "9/9 [==============================] - 0s 5ms/step - loss: 24.6722 - mae: 3.5539 - val_loss: 11.8305 - val_mae: 2.5227\n",
            "Epoch 292/300\n",
            "9/9 [==============================] - 0s 5ms/step - loss: 26.1998 - mae: 3.8229 - val_loss: 12.9956 - val_mae: 2.6232\n",
            "Epoch 293/300\n",
            "9/9 [==============================] - 0s 4ms/step - loss: 22.6133 - mae: 3.6657 - val_loss: 13.4792 - val_mae: 2.6739\n",
            "Epoch 294/300\n",
            "9/9 [==============================] - 0s 5ms/step - loss: 27.1095 - mae: 3.8462 - val_loss: 10.1055 - val_mae: 2.4217\n",
            "Epoch 295/300\n",
            "9/9 [==============================] - 0s 4ms/step - loss: 25.4487 - mae: 3.8162 - val_loss: 10.0671 - val_mae: 2.4445\n",
            "Epoch 296/300\n",
            "9/9 [==============================] - 0s 5ms/step - loss: 28.3113 - mae: 3.9833 - val_loss: 11.9272 - val_mae: 2.6185\n",
            "Epoch 297/300\n",
            "9/9 [==============================] - 0s 4ms/step - loss: 30.3917 - mae: 4.0430 - val_loss: 13.4339 - val_mae: 2.7279\n",
            "Epoch 298/300\n",
            "9/9 [==============================] - 0s 5ms/step - loss: 21.9866 - mae: 3.5825 - val_loss: 14.1721 - val_mae: 2.8106\n",
            "Epoch 299/300\n",
            "9/9 [==============================] - 0s 5ms/step - loss: 24.4360 - mae: 3.7739 - val_loss: 11.8762 - val_mae: 2.5825\n",
            "Epoch 300/300\n",
            "9/9 [==============================] - 0s 5ms/step - loss: 27.0526 - mae: 3.8657 - val_loss: 11.8176 - val_mae: 2.5866\n"
          ],
          "name": "stdout"
        }
      ]
    },
    {
      "cell_type": "markdown",
      "metadata": {
        "id": "1erMMEoeR0rB"
      },
      "source": [
        "## 모델 평가"
      ]
    },
    {
      "cell_type": "code",
      "metadata": {
        "id": "Jo0n0SaZRbD1",
        "colab": {
          "base_uri": "https://localhost:8080/"
        },
        "outputId": "3f9e58e5-b26e-4c1b-e3de-3436e77fad75"
      },
      "source": [
        "model.evaluate(x_test, y_test)"
      ],
      "execution_count": null,
      "outputs": [
        {
          "output_type": "stream",
          "text": [
            "4/4 [==============================] - 0s 2ms/step - loss: 22.4368 - mae: 2.9481\n"
          ],
          "name": "stdout"
        },
        {
          "output_type": "execute_result",
          "data": {
            "text/plain": [
              "[22.436813354492188, 2.948094606399536]"
            ]
          },
          "metadata": {
            "tags": []
          },
          "execution_count": 15
        }
      ]
    },
    {
      "cell_type": "code",
      "metadata": {
        "id": "dl98Ql_8nvf3",
        "colab": {
          "base_uri": "https://localhost:8080/"
        },
        "outputId": "26797e11-cf5c-4e79-87e1-c184b5faea58"
      },
      "source": [
        "print(history.history.keys())"
      ],
      "execution_count": null,
      "outputs": [
        {
          "output_type": "stream",
          "text": [
            "dict_keys(['loss', 'mae', 'val_loss', 'val_mae'])\n"
          ],
          "name": "stdout"
        }
      ]
    },
    {
      "cell_type": "markdown",
      "metadata": {
        "id": "6-l7fuuvtDy2"
      },
      "source": [
        "## Loss & MAE 시각화"
      ]
    },
    {
      "cell_type": "code",
      "metadata": {
        "id": "NOgcoBclnsJ7",
        "colab": {
          "base_uri": "https://localhost:8080/",
          "height": 400
        },
        "outputId": "c9dd19d7-d40b-44f5-c391-12cb675f60b6"
      },
      "source": [
        "history_dict = history.history\n",
        "\n",
        "loss = history_dict['loss']\n",
        "val_loss = history_dict['val_loss']\n",
        "\n",
        "epochs = range(1, len(loss) + 1)\n",
        "fig = plt.figure(figsize=(12, 6))\n",
        "\n",
        "ax1 = fig.add_subplot(1, 2, 1)\n",
        "ax1.plot(epochs, loss, color='blue', label='train_loss')\n",
        "ax1.plot(epochs, val_loss, color='red', label='val_loss')\n",
        "ax1.set_title('Train and Validation Loss')\n",
        "ax1.set_xlabel('Epochs')\n",
        "ax1.set_ylabel('Loss')\n",
        "ax1.grid()\n",
        "ax1.legend()\n",
        "\n",
        "mae = history_dict['mae']\n",
        "val_mae = history_dict['val_mae']\n",
        "\n",
        "ax2 = fig.add_subplot(1, 2, 2)\n",
        "ax2.plot(epochs, mae, color='blue', label='train_mae')\n",
        "ax2.plot(epochs, val_mae, color='red', label='val_mae')\n",
        "ax2.set_title('Train and Validation MAE')\n",
        "ax2.set_xlabel('Epochs')\n",
        "ax2.set_ylabel('MAE')\n",
        "ax2.grid()\n",
        "ax2.legend()\n",
        "\n",
        "plt.show()"
      ],
      "execution_count": null,
      "outputs": [
        {
          "output_type": "display_data",
          "data": {
            "image/png": "[encoded data removed]",
            "text/plain": [
              "<Figure size 864x432 with 2 Axes>"
            ]
          },
          "metadata": {
            "tags": []
          }
        }
      ]
    }
  ]
}