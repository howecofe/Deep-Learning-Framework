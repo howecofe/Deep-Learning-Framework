{
  "nbformat": 4,
  "nbformat_minor": 0,
  "metadata": {
    "colab": {
      "name": "_9 파이토치(PyTorch) 기초.ipynb의 사본",
      "provenance": [],
      "collapsed_sections": []
    },
    "kernelspec": {
      "name": "python3",
      "display_name": "Python 3"
    },
    "accelerator": "GPU",
    "widgets": {
      "application/vnd.jupyter.widget-state+json": {
        "1b995087aabb4e6f8fb7738cddb2083b": {
          "model_module": "@jupyter-widgets/controls",
          "model_name": "HBoxModel",
          "model_module_version": "1.5.0",
          "state": {
            "_view_name": "HBoxView",
            "_dom_classes": [],
            "_model_name": "HBoxModel",
            "_view_module": "@jupyter-widgets/controls",
            "_model_module_version": "1.5.0",
            "_view_count": null,
            "_view_module_version": "1.5.0",
            "box_style": "",
            "layout": "IPY_MODEL_df29a3d101a84900a6f69d89a9b1b04b",
            "_model_module": "@jupyter-widgets/controls",
            "children": [
              "IPY_MODEL_1a52047759f6472bae1ef8f90e3aedb4",
              "IPY_MODEL_ae3d6619a51944518a93150f3303b476"
            ]
          }
        },
        "df29a3d101a84900a6f69d89a9b1b04b": {
          "model_module": "@jupyter-widgets/base",
          "model_name": "LayoutModel",
          "model_module_version": "1.2.0",
          "state": {
            "_view_name": "LayoutView",
            "grid_template_rows": null,
            "right": null,
            "justify_content": null,
            "_view_module": "@jupyter-widgets/base",
            "overflow": null,
            "_model_module_version": "1.2.0",
            "_view_count": null,
            "flex_flow": null,
            "width": null,
            "min_width": null,
            "border": null,
            "align_items": null,
            "bottom": null,
            "_model_module": "@jupyter-widgets/base",
            "top": null,
            "grid_column": null,
            "overflow_y": null,
            "overflow_x": null,
            "grid_auto_flow": null,
            "grid_area": null,
            "grid_template_columns": null,
            "flex": null,
            "_model_name": "LayoutModel",
            "justify_items": null,
            "grid_row": null,
            "max_height": null,
            "align_content": null,
            "visibility": null,
            "align_self": null,
            "height": null,
            "min_height": null,
            "padding": null,
            "grid_auto_rows": null,
            "grid_gap": null,
            "max_width": null,
            "order": null,
            "_view_module_version": "1.2.0",
            "grid_template_areas": null,
            "object_position": null,
            "object_fit": null,
            "grid_auto_columns": null,
            "margin": null,
            "display": null,
            "left": null
          }
        },
        "1a52047759f6472bae1ef8f90e3aedb4": {
          "model_module": "@jupyter-widgets/controls",
          "model_name": "FloatProgressModel",
          "model_module_version": "1.5.0",
          "state": {
            "_view_name": "ProgressView",
            "style": "IPY_MODEL_b964ef210f474bd483aa75b8ed29e5fc",
            "_dom_classes": [],
            "description": "",
            "_model_name": "FloatProgressModel",
            "bar_style": "info",
            "max": 1,
            "_view_module": "@jupyter-widgets/controls",
            "_model_module_version": "1.5.0",
            "value": 1,
            "_view_count": null,
            "_view_module_version": "1.5.0",
            "orientation": "horizontal",
            "min": 0,
            "description_tooltip": null,
            "_model_module": "@jupyter-widgets/controls",
            "layout": "IPY_MODEL_c8ddc533f99b46ffab4bb631446a042e"
          }
        },
        "ae3d6619a51944518a93150f3303b476": {
          "model_module": "@jupyter-widgets/controls",
          "model_name": "HTMLModel",
          "model_module_version": "1.5.0",
          "state": {
            "_view_name": "HTMLView",
            "style": "IPY_MODEL_a0836a95ea6a4b59bfd631f83a34f874",
            "_dom_classes": [],
            "description": "",
            "_model_name": "HTMLModel",
            "placeholder": "​",
            "_view_module": "@jupyter-widgets/controls",
            "_model_module_version": "1.5.0",
            "value": " 9920512/? [00:20&lt;00:00, 1060924.68it/s]",
            "_view_count": null,
            "_view_module_version": "1.5.0",
            "description_tooltip": null,
            "_model_module": "@jupyter-widgets/controls",
            "layout": "IPY_MODEL_195fd5c29e7447cdb15c0206fb880ed7"
          }
        },
        "b964ef210f474bd483aa75b8ed29e5fc": {
          "model_module": "@jupyter-widgets/controls",
          "model_name": "ProgressStyleModel",
          "model_module_version": "1.5.0",
          "state": {
            "_view_name": "StyleView",
            "_model_name": "ProgressStyleModel",
            "description_width": "initial",
            "_view_module": "@jupyter-widgets/base",
            "_model_module_version": "1.5.0",
            "_view_count": null,
            "_view_module_version": "1.2.0",
            "bar_color": null,
            "_model_module": "@jupyter-widgets/controls"
          }
        },
        "c8ddc533f99b46ffab4bb631446a042e": {
          "model_module": "@jupyter-widgets/base",
          "model_name": "LayoutModel",
          "model_module_version": "1.2.0",
          "state": {
            "_view_name": "LayoutView",
            "grid_template_rows": null,
            "right": null,
            "justify_content": null,
            "_view_module": "@jupyter-widgets/base",
            "overflow": null,
            "_model_module_version": "1.2.0",
            "_view_count": null,
            "flex_flow": null,
            "width": null,
            "min_width": null,
            "border": null,
            "align_items": null,
            "bottom": null,
            "_model_module": "@jupyter-widgets/base",
            "top": null,
            "grid_column": null,
            "overflow_y": null,
            "overflow_x": null,
            "grid_auto_flow": null,
            "grid_area": null,
            "grid_template_columns": null,
            "flex": null,
            "_model_name": "LayoutModel",
            "justify_items": null,
            "grid_row": null,
            "max_height": null,
            "align_content": null,
            "visibility": null,
            "align_self": null,
            "height": null,
            "min_height": null,
            "padding": null,
            "grid_auto_rows": null,
            "grid_gap": null,
            "max_width": null,
            "order": null,
            "_view_module_version": "1.2.0",
            "grid_template_areas": null,
            "object_position": null,
            "object_fit": null,
            "grid_auto_columns": null,
            "margin": null,
            "display": null,
            "left": null
          }
        },
        "a0836a95ea6a4b59bfd631f83a34f874": {
          "model_module": "@jupyter-widgets/controls",
          "model_name": "DescriptionStyleModel",
          "model_module_version": "1.5.0",
          "state": {
            "_view_name": "StyleView",
            "_model_name": "DescriptionStyleModel",
            "description_width": "",
            "_view_module": "@jupyter-widgets/base",
            "_model_module_version": "1.5.0",
            "_view_count": null,
            "_view_module_version": "1.2.0",
            "_model_module": "@jupyter-widgets/controls"
          }
        },
        "195fd5c29e7447cdb15c0206fb880ed7": {
          "model_module": "@jupyter-widgets/base",
          "model_name": "LayoutModel",
          "model_module_version": "1.2.0",
          "state": {
            "_view_name": "LayoutView",
            "grid_template_rows": null,
            "right": null,
            "justify_content": null,
            "_view_module": "@jupyter-widgets/base",
            "overflow": null,
            "_model_module_version": "1.2.0",
            "_view_count": null,
            "flex_flow": null,
            "width": null,
            "min_width": null,
            "border": null,
            "align_items": null,
            "bottom": null,
            "_model_module": "@jupyter-widgets/base",
            "top": null,
            "grid_column": null,
            "overflow_y": null,
            "overflow_x": null,
            "grid_auto_flow": null,
            "grid_area": null,
            "grid_template_columns": null,
            "flex": null,
            "_model_name": "LayoutModel",
            "justify_items": null,
            "grid_row": null,
            "max_height": null,
            "align_content": null,
            "visibility": null,
            "align_self": null,
            "height": null,
            "min_height": null,
            "padding": null,
            "grid_auto_rows": null,
            "grid_gap": null,
            "max_width": null,
            "order": null,
            "_view_module_version": "1.2.0",
            "grid_template_areas": null,
            "object_position": null,
            "object_fit": null,
            "grid_auto_columns": null,
            "margin": null,
            "display": null,
            "left": null
          }
        },
        "2e6e5a61f7db45f4800f1b8209e391d1": {
          "model_module": "@jupyter-widgets/controls",
          "model_name": "HBoxModel",
          "model_module_version": "1.5.0",
          "state": {
            "_view_name": "HBoxView",
            "_dom_classes": [],
            "_model_name": "HBoxModel",
            "_view_module": "@jupyter-widgets/controls",
            "_model_module_version": "1.5.0",
            "_view_count": null,
            "_view_module_version": "1.5.0",
            "box_style": "",
            "layout": "IPY_MODEL_b7b1d289856b4c0b84b1bd7f3b2d5abc",
            "_model_module": "@jupyter-widgets/controls",
            "children": [
              "IPY_MODEL_5c3a9cb99756499aab7672f6793b75cf",
              "IPY_MODEL_547bb04d545d4779b0c8077f1db6b09a"
            ]
          }
        },
        "b7b1d289856b4c0b84b1bd7f3b2d5abc": {
          "model_module": "@jupyter-widgets/base",
          "model_name": "LayoutModel",
          "model_module_version": "1.2.0",
          "state": {
            "_view_name": "LayoutView",
            "grid_template_rows": null,
            "right": null,
            "justify_content": null,
            "_view_module": "@jupyter-widgets/base",
            "overflow": null,
            "_model_module_version": "1.2.0",
            "_view_count": null,
            "flex_flow": null,
            "width": null,
            "min_width": null,
            "border": null,
            "align_items": null,
            "bottom": null,
            "_model_module": "@jupyter-widgets/base",
            "top": null,
            "grid_column": null,
            "overflow_y": null,
            "overflow_x": null,
            "grid_auto_flow": null,
            "grid_area": null,
            "grid_template_columns": null,
            "flex": null,
            "_model_name": "LayoutModel",
            "justify_items": null,
            "grid_row": null,
            "max_height": null,
            "align_content": null,
            "visibility": null,
            "align_self": null,
            "height": null,
            "min_height": null,
            "padding": null,
            "grid_auto_rows": null,
            "grid_gap": null,
            "max_width": null,
            "order": null,
            "_view_module_version": "1.2.0",
            "grid_template_areas": null,
            "object_position": null,
            "object_fit": null,
            "grid_auto_columns": null,
            "margin": null,
            "display": null,
            "left": null
          }
        },
        "5c3a9cb99756499aab7672f6793b75cf": {
          "model_module": "@jupyter-widgets/controls",
          "model_name": "FloatProgressModel",
          "model_module_version": "1.5.0",
          "state": {
            "_view_name": "ProgressView",
            "style": "IPY_MODEL_191363e6afb0412c8de8837520e5d734",
            "_dom_classes": [],
            "description": "",
            "_model_name": "FloatProgressModel",
            "bar_style": "success",
            "max": 1,
            "_view_module": "@jupyter-widgets/controls",
            "_model_module_version": "1.5.0",
            "value": 1,
            "_view_count": null,
            "_view_module_version": "1.5.0",
            "orientation": "horizontal",
            "min": 0,
            "description_tooltip": null,
            "_model_module": "@jupyter-widgets/controls",
            "layout": "IPY_MODEL_c2dc05f9ce1b4ac28a9542a50f753920"
          }
        },
        "547bb04d545d4779b0c8077f1db6b09a": {
          "model_module": "@jupyter-widgets/controls",
          "model_name": "HTMLModel",
          "model_module_version": "1.5.0",
          "state": {
            "_view_name": "HTMLView",
            "style": "IPY_MODEL_df25cc26787e48c9b89877dae1588ad8",
            "_dom_classes": [],
            "description": "",
            "_model_name": "HTMLModel",
            "placeholder": "​",
            "_view_module": "@jupyter-widgets/controls",
            "_model_module_version": "1.5.0",
            "value": " 32768/? [00:03&lt;00:00, 9677.56it/s]",
            "_view_count": null,
            "_view_module_version": "1.5.0",
            "description_tooltip": null,
            "_model_module": "@jupyter-widgets/controls",
            "layout": "IPY_MODEL_b62da60737ba4400a11fc18ad4428fca"
          }
        },
        "191363e6afb0412c8de8837520e5d734": {
          "model_module": "@jupyter-widgets/controls",
          "model_name": "ProgressStyleModel",
          "model_module_version": "1.5.0",
          "state": {
            "_view_name": "StyleView",
            "_model_name": "ProgressStyleModel",
            "description_width": "initial",
            "_view_module": "@jupyter-widgets/base",
            "_model_module_version": "1.5.0",
            "_view_count": null,
            "_view_module_version": "1.2.0",
            "bar_color": null,
            "_model_module": "@jupyter-widgets/controls"
          }
        },
        "c2dc05f9ce1b4ac28a9542a50f753920": {
          "model_module": "@jupyter-widgets/base",
          "model_name": "LayoutModel",
          "model_module_version": "1.2.0",
          "state": {
            "_view_name": "LayoutView",
            "grid_template_rows": null,
            "right": null,
            "justify_content": null,
            "_view_module": "@jupyter-widgets/base",
            "overflow": null,
            "_model_module_version": "1.2.0",
            "_view_count": null,
            "flex_flow": null,
            "width": null,
            "min_width": null,
            "border": null,
            "align_items": null,
            "bottom": null,
            "_model_module": "@jupyter-widgets/base",
            "top": null,
            "grid_column": null,
            "overflow_y": null,
            "overflow_x": null,
            "grid_auto_flow": null,
            "grid_area": null,
            "grid_template_columns": null,
            "flex": null,
            "_model_name": "LayoutModel",
            "justify_items": null,
            "grid_row": null,
            "max_height": null,
            "align_content": null,
            "visibility": null,
            "align_self": null,
            "height": null,
            "min_height": null,
            "padding": null,
            "grid_auto_rows": null,
            "grid_gap": null,
            "max_width": null,
            "order": null,
            "_view_module_version": "1.2.0",
            "grid_template_areas": null,
            "object_position": null,
            "object_fit": null,
            "grid_auto_columns": null,
            "margin": null,
            "display": null,
            "left": null
          }
        },
        "df25cc26787e48c9b89877dae1588ad8": {
          "model_module": "@jupyter-widgets/controls",
          "model_name": "DescriptionStyleModel",
          "model_module_version": "1.5.0",
          "state": {
            "_view_name": "StyleView",
            "_model_name": "DescriptionStyleModel",
            "description_width": "",
            "_view_module": "@jupyter-widgets/base",
            "_model_module_version": "1.5.0",
            "_view_count": null,
            "_view_module_version": "1.2.0",
            "_model_module": "@jupyter-widgets/controls"
          }
        },
        "b62da60737ba4400a11fc18ad4428fca": {
          "model_module": "@jupyter-widgets/base",
          "model_name": "LayoutModel",
          "model_module_version": "1.2.0",
          "state": {
            "_view_name": "LayoutView",
            "grid_template_rows": null,
            "right": null,
            "justify_content": null,
            "_view_module": "@jupyter-widgets/base",
            "overflow": null,
            "_model_module_version": "1.2.0",
            "_view_count": null,
            "flex_flow": null,
            "width": null,
            "min_width": null,
            "border": null,
            "align_items": null,
            "bottom": null,
            "_model_module": "@jupyter-widgets/base",
            "top": null,
            "grid_column": null,
            "overflow_y": null,
            "overflow_x": null,
            "grid_auto_flow": null,
            "grid_area": null,
            "grid_template_columns": null,
            "flex": null,
            "_model_name": "LayoutModel",
            "justify_items": null,
            "grid_row": null,
            "max_height": null,
            "align_content": null,
            "visibility": null,
            "align_self": null,
            "height": null,
            "min_height": null,
            "padding": null,
            "grid_auto_rows": null,
            "grid_gap": null,
            "max_width": null,
            "order": null,
            "_view_module_version": "1.2.0",
            "grid_template_areas": null,
            "object_position": null,
            "object_fit": null,
            "grid_auto_columns": null,
            "margin": null,
            "display": null,
            "left": null
          }
        },
        "0893ffad2c7e41beace8b14cd24c379b": {
          "model_module": "@jupyter-widgets/controls",
          "model_name": "HBoxModel",
          "model_module_version": "1.5.0",
          "state": {
            "_view_name": "HBoxView",
            "_dom_classes": [],
            "_model_name": "HBoxModel",
            "_view_module": "@jupyter-widgets/controls",
            "_model_module_version": "1.5.0",
            "_view_count": null,
            "_view_module_version": "1.5.0",
            "box_style": "",
            "layout": "IPY_MODEL_37dbde6a9b5e401fac1918bd5ffd0718",
            "_model_module": "@jupyter-widgets/controls",
            "children": [
              "IPY_MODEL_136b4d836422455a960d792f98f5f19d",
              "IPY_MODEL_409fca959f094cf988d77083b7500268"
            ]
          }
        },
        "37dbde6a9b5e401fac1918bd5ffd0718": {
          "model_module": "@jupyter-widgets/base",
          "model_name": "LayoutModel",
          "model_module_version": "1.2.0",
          "state": {
            "_view_name": "LayoutView",
            "grid_template_rows": null,
            "right": null,
            "justify_content": null,
            "_view_module": "@jupyter-widgets/base",
            "overflow": null,
            "_model_module_version": "1.2.0",
            "_view_count": null,
            "flex_flow": null,
            "width": null,
            "min_width": null,
            "border": null,
            "align_items": null,
            "bottom": null,
            "_model_module": "@jupyter-widgets/base",
            "top": null,
            "grid_column": null,
            "overflow_y": null,
            "overflow_x": null,
            "grid_auto_flow": null,
            "grid_area": null,
            "grid_template_columns": null,
            "flex": null,
            "_model_name": "LayoutModel",
            "justify_items": null,
            "grid_row": null,
            "max_height": null,
            "align_content": null,
            "visibility": null,
            "align_self": null,
            "height": null,
            "min_height": null,
            "padding": null,
            "grid_auto_rows": null,
            "grid_gap": null,
            "max_width": null,
            "order": null,
            "_view_module_version": "1.2.0",
            "grid_template_areas": null,
            "object_position": null,
            "object_fit": null,
            "grid_auto_columns": null,
            "margin": null,
            "display": null,
            "left": null
          }
        },
        "136b4d836422455a960d792f98f5f19d": {
          "model_module": "@jupyter-widgets/controls",
          "model_name": "FloatProgressModel",
          "model_module_version": "1.5.0",
          "state": {
            "_view_name": "ProgressView",
            "style": "IPY_MODEL_1daa08d190064a3a9f8633f16b1d461a",
            "_dom_classes": [],
            "description": "",
            "_model_name": "FloatProgressModel",
            "bar_style": "success",
            "max": 1,
            "_view_module": "@jupyter-widgets/controls",
            "_model_module_version": "1.5.0",
            "value": 1,
            "_view_count": null,
            "_view_module_version": "1.5.0",
            "orientation": "horizontal",
            "min": 0,
            "description_tooltip": null,
            "_model_module": "@jupyter-widgets/controls",
            "layout": "IPY_MODEL_03721e9ac11049cea7ebbaab04c9b14f"
          }
        },
        "409fca959f094cf988d77083b7500268": {
          "model_module": "@jupyter-widgets/controls",
          "model_name": "HTMLModel",
          "model_module_version": "1.5.0",
          "state": {
            "_view_name": "HTMLView",
            "style": "IPY_MODEL_e9cf3b8b86b444ec852ae73b59a0a8c6",
            "_dom_classes": [],
            "description": "",
            "_model_name": "HTMLModel",
            "placeholder": "​",
            "_view_module": "@jupyter-widgets/controls",
            "_model_module_version": "1.5.0",
            "value": " 1654784/? [00:03&lt;00:00, 532686.88it/s]",
            "_view_count": null,
            "_view_module_version": "1.5.0",
            "description_tooltip": null,
            "_model_module": "@jupyter-widgets/controls",
            "layout": "IPY_MODEL_481838a49cde4716bd3cbb2bf37acd4d"
          }
        },
        "1daa08d190064a3a9f8633f16b1d461a": {
          "model_module": "@jupyter-widgets/controls",
          "model_name": "ProgressStyleModel",
          "model_module_version": "1.5.0",
          "state": {
            "_view_name": "StyleView",
            "_model_name": "ProgressStyleModel",
            "description_width": "initial",
            "_view_module": "@jupyter-widgets/base",
            "_model_module_version": "1.5.0",
            "_view_count": null,
            "_view_module_version": "1.2.0",
            "bar_color": null,
            "_model_module": "@jupyter-widgets/controls"
          }
        },
        "03721e9ac11049cea7ebbaab04c9b14f": {
          "model_module": "@jupyter-widgets/base",
          "model_name": "LayoutModel",
          "model_module_version": "1.2.0",
          "state": {
            "_view_name": "LayoutView",
            "grid_template_rows": null,
            "right": null,
            "justify_content": null,
            "_view_module": "@jupyter-widgets/base",
            "overflow": null,
            "_model_module_version": "1.2.0",
            "_view_count": null,
            "flex_flow": null,
            "width": null,
            "min_width": null,
            "border": null,
            "align_items": null,
            "bottom": null,
            "_model_module": "@jupyter-widgets/base",
            "top": null,
            "grid_column": null,
            "overflow_y": null,
            "overflow_x": null,
            "grid_auto_flow": null,
            "grid_area": null,
            "grid_template_columns": null,
            "flex": null,
            "_model_name": "LayoutModel",
            "justify_items": null,
            "grid_row": null,
            "max_height": null,
            "align_content": null,
            "visibility": null,
            "align_self": null,
            "height": null,
            "min_height": null,
            "padding": null,
            "grid_auto_rows": null,
            "grid_gap": null,
            "max_width": null,
            "order": null,
            "_view_module_version": "1.2.0",
            "grid_template_areas": null,
            "object_position": null,
            "object_fit": null,
            "grid_auto_columns": null,
            "margin": null,
            "display": null,
            "left": null
          }
        },
        "e9cf3b8b86b444ec852ae73b59a0a8c6": {
          "model_module": "@jupyter-widgets/controls",
          "model_name": "DescriptionStyleModel",
          "model_module_version": "1.5.0",
          "state": {
            "_view_name": "StyleView",
            "_model_name": "DescriptionStyleModel",
            "description_width": "",
            "_view_module": "@jupyter-widgets/base",
            "_model_module_version": "1.5.0",
            "_view_count": null,
            "_view_module_version": "1.2.0",
            "_model_module": "@jupyter-widgets/controls"
          }
        },
        "481838a49cde4716bd3cbb2bf37acd4d": {
          "model_module": "@jupyter-widgets/base",
          "model_name": "LayoutModel",
          "model_module_version": "1.2.0",
          "state": {
            "_view_name": "LayoutView",
            "grid_template_rows": null,
            "right": null,
            "justify_content": null,
            "_view_module": "@jupyter-widgets/base",
            "overflow": null,
            "_model_module_version": "1.2.0",
            "_view_count": null,
            "flex_flow": null,
            "width": null,
            "min_width": null,
            "border": null,
            "align_items": null,
            "bottom": null,
            "_model_module": "@jupyter-widgets/base",
            "top": null,
            "grid_column": null,
            "overflow_y": null,
            "overflow_x": null,
            "grid_auto_flow": null,
            "grid_area": null,
            "grid_template_columns": null,
            "flex": null,
            "_model_name": "LayoutModel",
            "justify_items": null,
            "grid_row": null,
            "max_height": null,
            "align_content": null,
            "visibility": null,
            "align_self": null,
            "height": null,
            "min_height": null,
            "padding": null,
            "grid_auto_rows": null,
            "grid_gap": null,
            "max_width": null,
            "order": null,
            "_view_module_version": "1.2.0",
            "grid_template_areas": null,
            "object_position": null,
            "object_fit": null,
            "grid_auto_columns": null,
            "margin": null,
            "display": null,
            "left": null
          }
        },
        "c179820018604e3f8b2659a86a0ad82a": {
          "model_module": "@jupyter-widgets/controls",
          "model_name": "HBoxModel",
          "model_module_version": "1.5.0",
          "state": {
            "_view_name": "HBoxView",
            "_dom_classes": [],
            "_model_name": "HBoxModel",
            "_view_module": "@jupyter-widgets/controls",
            "_model_module_version": "1.5.0",
            "_view_count": null,
            "_view_module_version": "1.5.0",
            "box_style": "",
            "layout": "IPY_MODEL_e28b554d12d5416cbedb8738085878b1",
            "_model_module": "@jupyter-widgets/controls",
            "children": [
              "IPY_MODEL_5a15804e35134c60ae5570fdef00fa7a",
              "IPY_MODEL_20d5d6875c8b422684dc6a1b2100c8a3"
            ]
          }
        },
        "e28b554d12d5416cbedb8738085878b1": {
          "model_module": "@jupyter-widgets/base",
          "model_name": "LayoutModel",
          "model_module_version": "1.2.0",
          "state": {
            "_view_name": "LayoutView",
            "grid_template_rows": null,
            "right": null,
            "justify_content": null,
            "_view_module": "@jupyter-widgets/base",
            "overflow": null,
            "_model_module_version": "1.2.0",
            "_view_count": null,
            "flex_flow": null,
            "width": null,
            "min_width": null,
            "border": null,
            "align_items": null,
            "bottom": null,
            "_model_module": "@jupyter-widgets/base",
            "top": null,
            "grid_column": null,
            "overflow_y": null,
            "overflow_x": null,
            "grid_auto_flow": null,
            "grid_area": null,
            "grid_template_columns": null,
            "flex": null,
            "_model_name": "LayoutModel",
            "justify_items": null,
            "grid_row": null,
            "max_height": null,
            "align_content": null,
            "visibility": null,
            "align_self": null,
            "height": null,
            "min_height": null,
            "padding": null,
            "grid_auto_rows": null,
            "grid_gap": null,
            "max_width": null,
            "order": null,
            "_view_module_version": "1.2.0",
            "grid_template_areas": null,
            "object_position": null,
            "object_fit": null,
            "grid_auto_columns": null,
            "margin": null,
            "display": null,
            "left": null
          }
        },
        "5a15804e35134c60ae5570fdef00fa7a": {
          "model_module": "@jupyter-widgets/controls",
          "model_name": "FloatProgressModel",
          "model_module_version": "1.5.0",
          "state": {
            "_view_name": "ProgressView",
            "style": "IPY_MODEL_f8e051cc6efa47da82026a6ee28876de",
            "_dom_classes": [],
            "description": "",
            "_model_name": "FloatProgressModel",
            "bar_style": "success",
            "max": 1,
            "_view_module": "@jupyter-widgets/controls",
            "_model_module_version": "1.5.0",
            "value": 1,
            "_view_count": null,
            "_view_module_version": "1.5.0",
            "orientation": "horizontal",
            "min": 0,
            "description_tooltip": null,
            "_model_module": "@jupyter-widgets/controls",
            "layout": "IPY_MODEL_aa9223d11b63464ca6c753f937d701da"
          }
        },
        "20d5d6875c8b422684dc6a1b2100c8a3": {
          "model_module": "@jupyter-widgets/controls",
          "model_name": "HTMLModel",
          "model_module_version": "1.5.0",
          "state": {
            "_view_name": "HTMLView",
            "style": "IPY_MODEL_907bcabe689847fb94301469ae2acbd2",
            "_dom_classes": [],
            "description": "",
            "_model_name": "HTMLModel",
            "placeholder": "​",
            "_view_module": "@jupyter-widgets/controls",
            "_model_module_version": "1.5.0",
            "value": " 8192/? [00:02&lt;00:00, 3403.16it/s]",
            "_view_count": null,
            "_view_module_version": "1.5.0",
            "description_tooltip": null,
            "_model_module": "@jupyter-widgets/controls",
            "layout": "IPY_MODEL_3de70cbabff34bd5b0ea0f7a6905f04d"
          }
        },
        "f8e051cc6efa47da82026a6ee28876de": {
          "model_module": "@jupyter-widgets/controls",
          "model_name": "ProgressStyleModel",
          "model_module_version": "1.5.0",
          "state": {
            "_view_name": "StyleView",
            "_model_name": "ProgressStyleModel",
            "description_width": "initial",
            "_view_module": "@jupyter-widgets/base",
            "_model_module_version": "1.5.0",
            "_view_count": null,
            "_view_module_version": "1.2.0",
            "bar_color": null,
            "_model_module": "@jupyter-widgets/controls"
          }
        },
        "aa9223d11b63464ca6c753f937d701da": {
          "model_module": "@jupyter-widgets/base",
          "model_name": "LayoutModel",
          "model_module_version": "1.2.0",
          "state": {
            "_view_name": "LayoutView",
            "grid_template_rows": null,
            "right": null,
            "justify_content": null,
            "_view_module": "@jupyter-widgets/base",
            "overflow": null,
            "_model_module_version": "1.2.0",
            "_view_count": null,
            "flex_flow": null,
            "width": null,
            "min_width": null,
            "border": null,
            "align_items": null,
            "bottom": null,
            "_model_module": "@jupyter-widgets/base",
            "top": null,
            "grid_column": null,
            "overflow_y": null,
            "overflow_x": null,
            "grid_auto_flow": null,
            "grid_area": null,
            "grid_template_columns": null,
            "flex": null,
            "_model_name": "LayoutModel",
            "justify_items": null,
            "grid_row": null,
            "max_height": null,
            "align_content": null,
            "visibility": null,
            "align_self": null,
            "height": null,
            "min_height": null,
            "padding": null,
            "grid_auto_rows": null,
            "grid_gap": null,
            "max_width": null,
            "order": null,
            "_view_module_version": "1.2.0",
            "grid_template_areas": null,
            "object_position": null,
            "object_fit": null,
            "grid_auto_columns": null,
            "margin": null,
            "display": null,
            "left": null
          }
        },
        "907bcabe689847fb94301469ae2acbd2": {
          "model_module": "@jupyter-widgets/controls",
          "model_name": "DescriptionStyleModel",
          "model_module_version": "1.5.0",
          "state": {
            "_view_name": "StyleView",
            "_model_name": "DescriptionStyleModel",
            "description_width": "",
            "_view_module": "@jupyter-widgets/base",
            "_model_module_version": "1.5.0",
            "_view_count": null,
            "_view_module_version": "1.2.0",
            "_model_module": "@jupyter-widgets/controls"
          }
        },
        "3de70cbabff34bd5b0ea0f7a6905f04d": {
          "model_module": "@jupyter-widgets/base",
          "model_name": "LayoutModel",
          "model_module_version": "1.2.0",
          "state": {
            "_view_name": "LayoutView",
            "grid_template_rows": null,
            "right": null,
            "justify_content": null,
            "_view_module": "@jupyter-widgets/base",
            "overflow": null,
            "_model_module_version": "1.2.0",
            "_view_count": null,
            "flex_flow": null,
            "width": null,
            "min_width": null,
            "border": null,
            "align_items": null,
            "bottom": null,
            "_model_module": "@jupyter-widgets/base",
            "top": null,
            "grid_column": null,
            "overflow_y": null,
            "overflow_x": null,
            "grid_auto_flow": null,
            "grid_area": null,
            "grid_template_columns": null,
            "flex": null,
            "_model_name": "LayoutModel",
            "justify_items": null,
            "grid_row": null,
            "max_height": null,
            "align_content": null,
            "visibility": null,
            "align_self": null,
            "height": null,
            "min_height": null,
            "padding": null,
            "grid_auto_rows": null,
            "grid_gap": null,
            "max_width": null,
            "order": null,
            "_view_module_version": "1.2.0",
            "grid_template_areas": null,
            "object_position": null,
            "object_fit": null,
            "grid_auto_columns": null,
            "margin": null,
            "display": null,
            "left": null
          }
        }
      }
    }
  },
  "cells": [
    {
      "cell_type": "markdown",
      "metadata": {
        "id": "f9Xx-jP92OgP"
      },
      "source": [
        "# 파이토치(PyTorch)\n",
        "\n",
        "<img src=\"https://img1.daumcdn.net/thumb/R800x0/?scode=mtistory2&fname=https%3A%2F%2Fblog.kakaocdn.net%2Fdn%2FbuUgoV%2FbtqwWZvcHHX%2Fd6XzIFBEfiuFb0UvyV4A50%2Fimg.jpg\" width=\"300\">\n",
        "\n",
        "- 코드 출처: https://pytorch.org/tutorials/"
      ]
    },
    {
      "cell_type": "markdown",
      "metadata": {
        "id": "3cxreguz2sL0"
      },
      "source": [
        "## 파이토치의 구성요소\n",
        "\n",
        "- `torch`: 텐서를 생성하는 라이브러리\n",
        "\n",
        "- `torch.autograd`: 자동미분 기능을 제공하는 라이브러리\n",
        "\n",
        "- `torch.nn`: 신경망을 생성하는 라이브러리\n",
        "\n",
        "- `torch.multiprocessing`: 병럴처리 기능을 제공하는 라이브러리\n",
        "\n",
        "- `torch.utils`: 데이터 조작 등 유틸리티 기능 제공\n",
        "\n",
        "- `torch.legacy`(./nn/.optim): Torch로부터 포팅해온 코드\n",
        "\n",
        "- `torch.onnx`: ONNX(Open Neural Network Exchange)\n",
        "\n",
        "  - 서로 다른 프레임워크 간의 모델을 공유할 때 사용"
      ]
    },
    {
      "cell_type": "markdown",
      "metadata": {
        "id": "gb5O_aSvtHvb"
      },
      "source": [
        "## 텐서(Tensors)\n",
        "- 넘파이(NumPy)의 ndarray와 유사\n",
        "\n",
        "- GPU를 사용한 연산 가속도 가능"
      ]
    },
    {
      "cell_type": "code",
      "metadata": {
        "id": "CmKIvnx0s8G6"
      },
      "source": [
        "import torch"
      ],
      "execution_count": null,
      "outputs": []
    },
    {
      "cell_type": "code",
      "metadata": {
        "id": "49IHV-qJE5FI",
        "colab": {
          "base_uri": "https://localhost:8080/",
          "height": 35
        },
        "outputId": "d59921c3-fd82-48f6-fc5b-73c3ace7e709"
      },
      "source": [
        "torch.__version__"
      ],
      "execution_count": null,
      "outputs": [
        {
          "output_type": "execute_result",
          "data": {
            "application/vnd.google.colaboratory.intrinsic+json": {
              "type": "string"
            },
            "text/plain": [
              "'1.6.0+cu101'"
            ]
          },
          "metadata": {
            "tags": []
          },
          "execution_count": 2
        }
      ]
    },
    {
      "cell_type": "markdown",
      "metadata": {
        "id": "isUHVy-gtZeT"
      },
      "source": [
        "### 초기화 되지 않은 행렬 "
      ]
    },
    {
      "cell_type": "code",
      "metadata": {
        "id": "3PqY3cZatU0D",
        "colab": {
          "base_uri": "https://localhost:8080/"
        },
        "outputId": "0a37268e-629d-4a9d-f068-c1c70d27a621"
      },
      "source": [
        "x = torch.empty(4, 2)\n",
        "print(x)"
      ],
      "execution_count": null,
      "outputs": [
        {
          "output_type": "stream",
          "text": [
            "tensor([[1.3636e-35, 0.0000e+00],\n",
            "        [3.3631e-44, 0.0000e+00],\n",
            "        [       nan, 1.0746e+10],\n",
            "        [1.1578e+27, 1.1362e+30]])\n"
          ],
          "name": "stdout"
        }
      ]
    },
    {
      "cell_type": "markdown",
      "metadata": {
        "id": "zPCIJ2pNteZv"
      },
      "source": [
        "### 무작위로 초기화된 행렬"
      ]
    },
    {
      "cell_type": "code",
      "metadata": {
        "id": "h6oPj2Q9tdYx",
        "colab": {
          "base_uri": "https://localhost:8080/"
        },
        "outputId": "cd021b40-7df4-42fe-b4f8-129de59a9cd8"
      },
      "source": [
        "x = torch.rand(4, 2)\n",
        "print(x)"
      ],
      "execution_count": null,
      "outputs": [
        {
          "output_type": "stream",
          "text": [
            "tensor([[0.2453, 0.2442],\n",
            "        [0.1906, 0.4486],\n",
            "        [0.2930, 0.1230],\n",
            "        [0.7477, 0.5088]])\n"
          ],
          "name": "stdout"
        }
      ]
    },
    {
      "cell_type": "markdown",
      "metadata": {
        "id": "A5aHphIHtiJk"
      },
      "source": [
        "### dtype이 long, 0으로 채워진 텐서"
      ]
    },
    {
      "cell_type": "code",
      "metadata": {
        "id": "4zykN8aMthXk",
        "colab": {
          "base_uri": "https://localhost:8080/"
        },
        "outputId": "6d8976cf-5180-449d-ffa6-b83000aa4f4d"
      },
      "source": [
        "x = torch.zeros(4, 2, dtype=torch.long)\n",
        "print(x)"
      ],
      "execution_count": null,
      "outputs": [
        {
          "output_type": "stream",
          "text": [
            "tensor([[0, 0],\n",
            "        [0, 0],\n",
            "        [0, 0],\n",
            "        [0, 0]])\n"
          ],
          "name": "stdout"
        }
      ]
    },
    {
      "cell_type": "code",
      "metadata": {
        "id": "W4VL8C_ctu8b",
        "colab": {
          "base_uri": "https://localhost:8080/"
        },
        "outputId": "c3afb1a2-abec-4e07-d8ef-7f05b5bffbed"
      },
      "source": [
        "x = torch.tensor([3, 2.3])\n",
        "print(x)"
      ],
      "execution_count": null,
      "outputs": [
        {
          "output_type": "stream",
          "text": [
            "tensor([3.0000, 2.3000])\n"
          ],
          "name": "stdout"
        }
      ]
    },
    {
      "cell_type": "code",
      "metadata": {
        "id": "4RmVBVtIt46M",
        "colab": {
          "base_uri": "https://localhost:8080/"
        },
        "outputId": "3f2100bd-9638-430d-bf82-1834ad0833bf"
      },
      "source": [
        "x = x.new_ones(2, 4, dtype=torch.double)\n",
        "print(x)"
      ],
      "execution_count": null,
      "outputs": [
        {
          "output_type": "stream",
          "text": [
            "tensor([[1., 1., 1., 1.],\n",
            "        [1., 1., 1., 1.]], dtype=torch.float64)\n"
          ],
          "name": "stdout"
        }
      ]
    },
    {
      "cell_type": "code",
      "metadata": {
        "id": "xxskTUfGuPUe",
        "colab": {
          "base_uri": "https://localhost:8080/"
        },
        "outputId": "ab974515-4bed-4c51-d1ae-7be0bbcba3b1"
      },
      "source": [
        "x = torch.rand_like(x, dtype=torch.float)\n",
        "print(x)"
      ],
      "execution_count": null,
      "outputs": [
        {
          "output_type": "stream",
          "text": [
            "tensor([[0.0142, 0.7364, 0.9854, 0.1673],\n",
            "        [0.3791, 0.6228, 0.1301, 0.6997]])\n"
          ],
          "name": "stdout"
        }
      ]
    },
    {
      "cell_type": "markdown",
      "metadata": {
        "id": "7j5sGxGvucpH"
      },
      "source": [
        "### 텐서의 크기"
      ]
    },
    {
      "cell_type": "code",
      "metadata": {
        "id": "yy-JbqKEuYIR",
        "colab": {
          "base_uri": "https://localhost:8080/"
        },
        "outputId": "ab333e3c-63c9-44f7-cf78-6d2611aa1033"
      },
      "source": [
        "print(x.size())"
      ],
      "execution_count": null,
      "outputs": [
        {
          "output_type": "stream",
          "text": [
            "torch.Size([2, 4])\n"
          ],
          "name": "stdout"
        }
      ]
    },
    {
      "cell_type": "markdown",
      "metadata": {
        "id": "ehOg0eDwufru"
      },
      "source": [
        "## 텐서의 연산(operations)"
      ]
    },
    {
      "cell_type": "markdown",
      "metadata": {
        "id": "j8Doc_37uh3G"
      },
      "source": [
        "### 덧셈 1"
      ]
    },
    {
      "cell_type": "code",
      "metadata": {
        "id": "Rw4JCYkYuef9",
        "colab": {
          "base_uri": "https://localhost:8080/"
        },
        "outputId": "cd2f43dd-656b-4ed0-de76-2d7d2b4dec82"
      },
      "source": [
        "print(x)"
      ],
      "execution_count": null,
      "outputs": [
        {
          "output_type": "stream",
          "text": [
            "tensor([[0.0142, 0.7364, 0.9854, 0.1673],\n",
            "        [0.3791, 0.6228, 0.1301, 0.6997]])\n"
          ],
          "name": "stdout"
        }
      ]
    },
    {
      "cell_type": "code",
      "metadata": {
        "id": "Wa44ur1Nuj5U",
        "colab": {
          "base_uri": "https://localhost:8080/"
        },
        "outputId": "4b3ccdc0-21d4-4dde-8aa6-0c1a2d9e8a4d"
      },
      "source": [
        "y = torch.rand(2, 4)\n",
        "print(y)\n",
        "print(x + y)"
      ],
      "execution_count": null,
      "outputs": [
        {
          "output_type": "stream",
          "text": [
            "tensor([[0.9009, 0.6324, 0.6575, 0.0467],\n",
            "        [0.6305, 0.1415, 0.6417, 0.7998]])\n",
            "tensor([[0.9151, 1.3688, 1.6429, 0.2140],\n",
            "        [1.0096, 0.7643, 0.7718, 1.4995]])\n"
          ],
          "name": "stdout"
        }
      ]
    },
    {
      "cell_type": "markdown",
      "metadata": {
        "id": "E5gcOo-Ouo9B"
      },
      "source": [
        "### 덧셈2"
      ]
    },
    {
      "cell_type": "code",
      "metadata": {
        "id": "Qx-NzJhhumZx",
        "colab": {
          "base_uri": "https://localhost:8080/"
        },
        "outputId": "475a878a-32c2-4d95-bd98-ebd44875de2a"
      },
      "source": [
        "print(torch.add(x, y))"
      ],
      "execution_count": null,
      "outputs": [
        {
          "output_type": "stream",
          "text": [
            "tensor([[0.9151, 1.3688, 1.6429, 0.2140],\n",
            "        [1.0096, 0.7643, 0.7718, 1.4995]])\n"
          ],
          "name": "stdout"
        }
      ]
    },
    {
      "cell_type": "markdown",
      "metadata": {
        "id": "RlvrQhLuuuIr"
      },
      "source": [
        "### 덧셈3\n",
        "- 결과 텐서를 인자로 제공"
      ]
    },
    {
      "cell_type": "code",
      "metadata": {
        "id": "lUsLAOTcur1-",
        "colab": {
          "base_uri": "https://localhost:8080/"
        },
        "outputId": "c52ef1cd-be58-40eb-a41c-5798c9798ef5"
      },
      "source": [
        "result = torch.empty(2, 4)\n",
        "torch.add(x, y, out=result)\n",
        "print(result)"
      ],
      "execution_count": null,
      "outputs": [
        {
          "output_type": "stream",
          "text": [
            "tensor([[0.9151, 1.3688, 1.6429, 0.2140],\n",
            "        [1.0096, 0.7643, 0.7718, 1.4995]])\n"
          ],
          "name": "stdout"
        }
      ]
    },
    {
      "cell_type": "markdown",
      "metadata": {
        "id": "V6BdyZFSu2Ei"
      },
      "source": [
        "### 덧셈4\n",
        "- `in-place` 방식\n",
        "\n",
        "- (참고) in-place 방식\n",
        "  - in-place방식으로 텐서의 값을 변경하는 연산 뒤에는 _''가 붙음\n",
        "  - `x.copy_(y), x.t_()`"
      ]
    },
    {
      "cell_type": "code",
      "metadata": {
        "id": "lu8rR4WVu0wQ",
        "colab": {
          "base_uri": "https://localhost:8080/"
        },
        "outputId": "29721772-3706-49d7-d050-23a8a89b629a"
      },
      "source": [
        "print(x)\n",
        "print(y)\n",
        "y.add_(x)\n",
        "print(y)"
      ],
      "execution_count": null,
      "outputs": [
        {
          "output_type": "stream",
          "text": [
            "tensor([[0.0142, 0.7364, 0.9854, 0.1673],\n",
            "        [0.3791, 0.6228, 0.1301, 0.6997]])\n",
            "tensor([[0.9009, 0.6324, 0.6575, 0.0467],\n",
            "        [0.6305, 0.1415, 0.6417, 0.7998]])\n",
            "tensor([[0.9151, 1.3688, 1.6429, 0.2140],\n",
            "        [1.0096, 0.7643, 0.7718, 1.4995]])\n"
          ],
          "name": "stdout"
        }
      ]
    },
    {
      "cell_type": "markdown",
      "metadata": {
        "id": "Uo8nsrGjOw6W"
      },
      "source": [
        "### 그 외의 연산\n",
        "- `torch.sub` : 뺄셈\n",
        "\n",
        "- `torch.mul` : 곱셉\n",
        "\n",
        "- `torch.div` : 나눗셈\n",
        "\n",
        "- `torch.mm` : 내적(dot product)"
      ]
    },
    {
      "cell_type": "code",
      "metadata": {
        "id": "S51kxzPTO1ER",
        "colab": {
          "base_uri": "https://localhost:8080/"
        },
        "outputId": "48c44db6-cf7e-45c5-c95a-891eedd38268"
      },
      "source": [
        "x = torch.Tensor([[1, 3],\n",
        "                  [5, 7]])\n",
        "y = torch.Tensor([[2, 4],\n",
        "                  [6, 8]])\n",
        "print(x - y)\n",
        "print(torch.sub(x, y))\n",
        "print(x.sub(y))"
      ],
      "execution_count": null,
      "outputs": [
        {
          "output_type": "stream",
          "text": [
            "tensor([[-1., -1.],\n",
            "        [-1., -1.]])\n",
            "tensor([[-1., -1.],\n",
            "        [-1., -1.]])\n",
            "tensor([[-1., -1.],\n",
            "        [-1., -1.]])\n"
          ],
          "name": "stdout"
        }
      ]
    },
    {
      "cell_type": "code",
      "metadata": {
        "id": "ou0dY8mkPR24",
        "colab": {
          "base_uri": "https://localhost:8080/"
        },
        "outputId": "dc80aaa4-e27b-42c0-caff-96aef6ce47f0"
      },
      "source": [
        "x = torch.Tensor([[1, 3],\n",
        "                  [5, 7]])\n",
        "y = torch.Tensor([[2, 4],\n",
        "                  [6, 8]])\n",
        "print(x * y)\n",
        "print(torch.mul(x, y))\n",
        "print(x.mul(y))"
      ],
      "execution_count": null,
      "outputs": [
        {
          "output_type": "stream",
          "text": [
            "tensor([[ 2., 12.],\n",
            "        [30., 56.]])\n",
            "tensor([[ 2., 12.],\n",
            "        [30., 56.]])\n",
            "tensor([[ 2., 12.],\n",
            "        [30., 56.]])\n"
          ],
          "name": "stdout"
        }
      ]
    },
    {
      "cell_type": "code",
      "metadata": {
        "id": "6RlZZBp3PbE4",
        "colab": {
          "base_uri": "https://localhost:8080/"
        },
        "outputId": "59419210-7da7-40e4-de97-4f36ebdc4354"
      },
      "source": [
        "x = torch.Tensor([[1, 3],\n",
        "                  [5, 7]])\n",
        "y = torch.Tensor([[2, 4],\n",
        "                  [6, 8]])\n",
        "print(x / y)\n",
        "print(torch.div(x, y))\n",
        "print(x.div(y))"
      ],
      "execution_count": null,
      "outputs": [
        {
          "output_type": "stream",
          "text": [
            "tensor([[0.5000, 0.7500],\n",
            "        [0.8333, 0.8750]])\n",
            "tensor([[0.5000, 0.7500],\n",
            "        [0.8333, 0.8750]])\n",
            "tensor([[0.5000, 0.7500],\n",
            "        [0.8333, 0.8750]])\n"
          ],
          "name": "stdout"
        }
      ]
    },
    {
      "cell_type": "code",
      "metadata": {
        "id": "7MR-ofE5P7VC",
        "colab": {
          "base_uri": "https://localhost:8080/"
        },
        "outputId": "ec22f0f2-acaf-4c99-d293-755b7f2de9d3"
      },
      "source": [
        "x = torch.Tensor([[1, 3],\n",
        "                  [5, 7]])\n",
        "y = torch.Tensor([[2, 4],\n",
        "                  [6, 8]])\n",
        "print(torch.mm(x, y))"
      ],
      "execution_count": null,
      "outputs": [
        {
          "output_type": "stream",
          "text": [
            "tensor([[20., 28.],\n",
            "        [52., 76.]])\n"
          ],
          "name": "stdout"
        }
      ]
    },
    {
      "cell_type": "markdown",
      "metadata": {
        "id": "8URGwHE_NjDi"
      },
      "source": [
        "## 텐서의 조작(manipulations)"
      ]
    },
    {
      "cell_type": "markdown",
      "metadata": {
        "id": "uCsdZIPTvG53"
      },
      "source": [
        "### 인덱싱\n",
        "- 넘파이처럼 인덱싱 사용가능"
      ]
    },
    {
      "cell_type": "code",
      "metadata": {
        "id": "jF2DE8kzvOs3",
        "colab": {
          "base_uri": "https://localhost:8080/"
        },
        "outputId": "f7155a56-c506-4e0f-b2a7-fbfa111489b9"
      },
      "source": [
        "print(x)"
      ],
      "execution_count": null,
      "outputs": [
        {
          "output_type": "stream",
          "text": [
            "tensor([[1., 3.],\n",
            "        [5., 7.]])\n"
          ],
          "name": "stdout"
        }
      ]
    },
    {
      "cell_type": "code",
      "metadata": {
        "id": "GQtBH3r3u7c3",
        "colab": {
          "base_uri": "https://localhost:8080/"
        },
        "outputId": "c7467b9d-de16-4ee2-abd3-d193084c65df"
      },
      "source": [
        "print(x[:, 1])"
      ],
      "execution_count": null,
      "outputs": [
        {
          "output_type": "stream",
          "text": [
            "tensor([3., 7.])\n"
          ],
          "name": "stdout"
        }
      ]
    },
    {
      "cell_type": "markdown",
      "metadata": {
        "id": "jEscXddKvQ5l"
      },
      "source": [
        "### view\n",
        "- 텐서의 크기(size)나 모양(shape)을 변경"
      ]
    },
    {
      "cell_type": "code",
      "metadata": {
        "id": "xwhWeqhLvKKj",
        "colab": {
          "base_uri": "https://localhost:8080/"
        },
        "outputId": "e35888db-bcf6-4a87-d559-0a816f026da1"
      },
      "source": [
        "x = torch.randn(4, 5)\n",
        "y = x.view(20)\n",
        "z = x.view(5, -1)\n",
        "\n",
        "print(x)\n",
        "print(y)\n",
        "print(z)"
      ],
      "execution_count": null,
      "outputs": [
        {
          "output_type": "stream",
          "text": [
            "tensor([[ 0.0067, -1.0608, -1.3548, -2.3272,  0.8114],\n",
            "        [ 0.9926,  1.2163,  0.2337, -0.5166,  1.0734],\n",
            "        [-0.2683, -0.4863, -0.3025,  0.0754, -1.2326],\n",
            "        [-2.1634,  1.7725,  0.3534,  0.0929, -0.6096]])\n",
            "tensor([ 0.0067, -1.0608, -1.3548, -2.3272,  0.8114,  0.9926,  1.2163,  0.2337,\n",
            "        -0.5166,  1.0734, -0.2683, -0.4863, -0.3025,  0.0754, -1.2326, -2.1634,\n",
            "         1.7725,  0.3534,  0.0929, -0.6096])\n",
            "tensor([[ 0.0067, -1.0608, -1.3548, -2.3272],\n",
            "        [ 0.8114,  0.9926,  1.2163,  0.2337],\n",
            "        [-0.5166,  1.0734, -0.2683, -0.4863],\n",
            "        [-0.3025,  0.0754, -1.2326, -2.1634],\n",
            "        [ 1.7725,  0.3534,  0.0929, -0.6096]])\n"
          ],
          "name": "stdout"
        }
      ]
    },
    {
      "cell_type": "markdown",
      "metadata": {
        "id": "iBY_wuIRvf5j"
      },
      "source": [
        "### item\n",
        "- 텐서에 값이 단 하나라도 존재하면 숫자값을 얻을 수 있음\n"
      ]
    },
    {
      "cell_type": "code",
      "metadata": {
        "id": "E0W24QqpvcmV",
        "colab": {
          "base_uri": "https://localhost:8080/"
        },
        "outputId": "8d4d054b-ba83-49a1-f375-54b7f05b2d4e"
      },
      "source": [
        "x = torch.randn(1)\n",
        "print(x)\n",
        "print(x.item())\n",
        "print(x.dtype)"
      ],
      "execution_count": null,
      "outputs": [
        {
          "output_type": "stream",
          "text": [
            "tensor([-1.6987])\n",
            "-1.6987240314483643\n",
            "torch.float32\n"
          ],
          "name": "stdout"
        }
      ]
    },
    {
      "cell_type": "markdown",
      "metadata": {
        "id": "V1sCUVwC3Nua"
      },
      "source": [
        "- 스칼라값 하나만 존재해야함"
      ]
    },
    {
      "cell_type": "code",
      "metadata": {
        "id": "jl4_FAgd3Lt9",
        "colab": {
          "base_uri": "https://localhost:8080/",
          "height": 245
        },
        "outputId": "3f75f889-0a67-4612-838d-1369afc55990"
      },
      "source": [
        "x = torch.randn(2)\n",
        "print(x)\n",
        "print(x.item())\n",
        "print(x.dtype)"
      ],
      "execution_count": null,
      "outputs": [
        {
          "output_type": "stream",
          "text": [
            "tensor([1.9501, 2.0644])\n"
          ],
          "name": "stdout"
        },
        {
          "output_type": "error",
          "ename": "ValueError",
          "evalue": "ignored",
          "traceback": [
            "\u001b[0;31m---------------------------------------------------------------------------\u001b[0m",
            "\u001b[0;31mValueError\u001b[0m                                Traceback (most recent call last)",
            "\u001b[0;32m<ipython-input-26-7c023f92a1c8>\u001b[0m in \u001b[0;36m<module>\u001b[0;34m()\u001b[0m\n\u001b[1;32m      1\u001b[0m \u001b[0mx\u001b[0m \u001b[0;34m=\u001b[0m \u001b[0mtorch\u001b[0m\u001b[0;34m.\u001b[0m\u001b[0mrandn\u001b[0m\u001b[0;34m(\u001b[0m\u001b[0;36m2\u001b[0m\u001b[0;34m)\u001b[0m\u001b[0;34m\u001b[0m\u001b[0;34m\u001b[0m\u001b[0m\n\u001b[1;32m      2\u001b[0m \u001b[0mprint\u001b[0m\u001b[0;34m(\u001b[0m\u001b[0mx\u001b[0m\u001b[0;34m)\u001b[0m\u001b[0;34m\u001b[0m\u001b[0;34m\u001b[0m\u001b[0m\n\u001b[0;32m----> 3\u001b[0;31m \u001b[0mprint\u001b[0m\u001b[0;34m(\u001b[0m\u001b[0mx\u001b[0m\u001b[0;34m.\u001b[0m\u001b[0mitem\u001b[0m\u001b[0;34m(\u001b[0m\u001b[0;34m)\u001b[0m\u001b[0;34m)\u001b[0m\u001b[0;34m\u001b[0m\u001b[0;34m\u001b[0m\u001b[0m\n\u001b[0m\u001b[1;32m      4\u001b[0m \u001b[0mprint\u001b[0m\u001b[0;34m(\u001b[0m\u001b[0mx\u001b[0m\u001b[0;34m.\u001b[0m\u001b[0mdtype\u001b[0m\u001b[0;34m)\u001b[0m\u001b[0;34m\u001b[0m\u001b[0;34m\u001b[0m\u001b[0m\n",
            "\u001b[0;31mValueError\u001b[0m: only one element tensors can be converted to Python scalars"
          ]
        }
      ]
    },
    {
      "cell_type": "markdown",
      "metadata": {
        "id": "uThndsy5M6wM"
      },
      "source": [
        "### squeeze \n",
        "- 차원을 축소(제거)"
      ]
    },
    {
      "cell_type": "code",
      "metadata": {
        "id": "OF3rOavnRxgM",
        "colab": {
          "base_uri": "https://localhost:8080/"
        },
        "outputId": "da3a6b02-037f-452e-ce8c-954d4b3d1f5a"
      },
      "source": [
        "tensor = torch.rand(1, 3, 3)\n",
        "print(tensor)\n",
        "print(tensor.shape)"
      ],
      "execution_count": null,
      "outputs": [
        {
          "output_type": "stream",
          "text": [
            "tensor([[[0.3187, 0.2723, 0.7815],\n",
            "         [0.4111, 0.7426, 0.1615],\n",
            "         [0.6865, 0.3226, 0.3631]]])\n",
            "torch.Size([1, 3, 3])\n"
          ],
          "name": "stdout"
        }
      ]
    },
    {
      "cell_type": "code",
      "metadata": {
        "id": "Y2jq0jHJR5Jw",
        "colab": {
          "base_uri": "https://localhost:8080/"
        },
        "outputId": "ccc8d97c-2087-48a5-be27-7dfe0a6ceab5"
      },
      "source": [
        "t = tensor.squeeze()\n",
        "\n",
        "print(t)\n",
        "print(t.shape)"
      ],
      "execution_count": null,
      "outputs": [
        {
          "output_type": "stream",
          "text": [
            "tensor([[0.3187, 0.2723, 0.7815],\n",
            "        [0.4111, 0.7426, 0.1615],\n",
            "        [0.6865, 0.3226, 0.3631]])\n",
            "torch.Size([3, 3])\n"
          ],
          "name": "stdout"
        }
      ]
    },
    {
      "cell_type": "markdown",
      "metadata": {
        "id": "COv-dnTYNJ8Z"
      },
      "source": [
        "### unsqueeze\n",
        "- 차원을 증가(생성)"
      ]
    },
    {
      "cell_type": "code",
      "metadata": {
        "id": "PFxaHGY1NOBo",
        "colab": {
          "base_uri": "https://localhost:8080/"
        },
        "outputId": "4f24efad-17f3-4800-8f8b-863652066689"
      },
      "source": [
        "tensor = torch.rand(1, 3, 3)\n",
        "print(tensor)\n",
        "print(tensor.shape)"
      ],
      "execution_count": null,
      "outputs": [
        {
          "output_type": "stream",
          "text": [
            "tensor([[[0.5731, 0.4142, 0.2770],\n",
            "         [0.7887, 0.4739, 0.7005],\n",
            "         [0.4363, 0.8532, 0.9210]]])\n",
            "torch.Size([1, 3, 3])\n"
          ],
          "name": "stdout"
        }
      ]
    },
    {
      "cell_type": "code",
      "metadata": {
        "id": "b6sa4tJ7SA8G",
        "colab": {
          "base_uri": "https://localhost:8080/"
        },
        "outputId": "05a0ab39-84b0-4fed-dd6e-55643937407c"
      },
      "source": [
        "t = tensor.unsqueeze(dim=0)\n",
        "\n",
        "print(t)\n",
        "print(t.shape)"
      ],
      "execution_count": null,
      "outputs": [
        {
          "output_type": "stream",
          "text": [
            "tensor([[[[0.5731, 0.4142, 0.2770],\n",
            "          [0.7887, 0.4739, 0.7005],\n",
            "          [0.4363, 0.8532, 0.9210]]]])\n",
            "torch.Size([1, 1, 3, 3])\n"
          ],
          "name": "stdout"
        }
      ]
    },
    {
      "cell_type": "markdown",
      "metadata": {
        "id": "_C_oa9JANOa6"
      },
      "source": [
        "### stack\n",
        "- 텐서간 결합"
      ]
    },
    {
      "cell_type": "code",
      "metadata": {
        "id": "f3x_XaUYNOuc",
        "colab": {
          "base_uri": "https://localhost:8080/"
        },
        "outputId": "5657e77d-dccf-4b00-8622-f32533008e9e"
      },
      "source": [
        "x = torch.FloatTensor([1, 4])\n",
        "y = torch.FloatTensor([2, 5])\n",
        "z = torch.FloatTensor([3, 6])\n",
        "\n",
        "print(torch.stack([x, y, z]))"
      ],
      "execution_count": null,
      "outputs": [
        {
          "output_type": "stream",
          "text": [
            "tensor([[1., 4.],\n",
            "        [2., 5.],\n",
            "        [3., 6.]])\n"
          ],
          "name": "stdout"
        }
      ]
    },
    {
      "cell_type": "markdown",
      "metadata": {
        "id": "XmJscbfg35-c"
      },
      "source": [
        "### cat\n",
        "- 텐서를 결합하는 메소드(concatenate)\n",
        "\n",
        "- 넘파이의 `stack`과 유사하지만, 쌓을 dim이 존재해야함\n",
        "  - 예를 들어, 해당 차원을 늘려준 후 결합\n"
      ]
    },
    {
      "cell_type": "code",
      "metadata": {
        "id": "Mv3zlaNm37P1",
        "colab": {
          "base_uri": "https://localhost:8080/"
        },
        "outputId": "485e70ed-7d20-478d-fe4b-5ff2ff31537b"
      },
      "source": [
        "a = torch.randn(1, 1, 3, 3)\n",
        "b = torch.randn(1, 1, 3, 3)\n",
        "c = torch.cat((a, b), dim=0)\n",
        "\n",
        "print(c)\n",
        "print(c.size())"
      ],
      "execution_count": null,
      "outputs": [
        {
          "output_type": "stream",
          "text": [
            "tensor([[[[ 0.3246,  1.1999, -0.5908],\n",
            "          [ 0.6608, -0.4917, -2.1463],\n",
            "          [ 0.5757,  0.3304, -0.2031]]],\n",
            "\n",
            "\n",
            "        [[[-0.0401,  0.4420,  0.5243],\n",
            "          [ 1.9353,  0.2357, -0.2555],\n",
            "          [ 0.8367,  0.4798,  1.7595]]]])\n",
            "torch.Size([2, 1, 3, 3])\n"
          ],
          "name": "stdout"
        }
      ]
    },
    {
      "cell_type": "code",
      "metadata": {
        "id": "69M5jY60S7Mi",
        "colab": {
          "base_uri": "https://localhost:8080/"
        },
        "outputId": "ee990155-d750-42bc-a316-ba35e703d2c7"
      },
      "source": [
        "a = torch.randn(1, 3, 3)\n",
        "b = torch.randn(1, 3, 3)\n",
        "c = torch.cat((a, b), dim=0)\n",
        "\n",
        "print(c)\n",
        "print(c.size())"
      ],
      "execution_count": null,
      "outputs": [
        {
          "output_type": "stream",
          "text": [
            "tensor([[[ 0.5520,  0.9397, -0.2838],\n",
            "         [ 0.7138, -1.3301,  1.2893],\n",
            "         [ 1.4982, -0.7569,  0.2834]],\n",
            "\n",
            "        [[-0.7265, -0.3488,  1.1855],\n",
            "         [-0.9204, -1.4487,  0.4913],\n",
            "         [-0.9945, -1.6298, -0.4453]]])\n",
            "torch.Size([2, 3, 3])\n"
          ],
          "name": "stdout"
        }
      ]
    },
    {
      "cell_type": "markdown",
      "metadata": {
        "id": "7gGXnOAqQTmG"
      },
      "source": [
        "### chuck\n",
        "- 텐서를 여러 개로 나눌 때 사용\n",
        "\n",
        "- 몇 개의 텐서로 나눌 것이냐"
      ]
    },
    {
      "cell_type": "code",
      "metadata": {
        "id": "pNV80VzPQZgG",
        "colab": {
          "base_uri": "https://localhost:8080/"
        },
        "outputId": "37a8db68-b0b4-4b29-f1c8-59e08775eb8b"
      },
      "source": [
        "tensor = torch.rand(3, 6)\n",
        "t1, t2, t3 = torch.chunk(tensor, 3, dim=1)\n",
        "\n",
        "print(tensor)\n",
        "print(t1)\n",
        "print(t2)\n",
        "print(t3)"
      ],
      "execution_count": null,
      "outputs": [
        {
          "output_type": "stream",
          "text": [
            "tensor([[0.1782, 0.6548, 0.9431, 0.2809, 0.6125, 0.5664],\n",
            "        [0.4715, 0.8478, 0.4555, 0.5868, 0.2337, 0.3711],\n",
            "        [0.3004, 0.4310, 0.9312, 0.3553, 0.1505, 0.9088]])\n",
            "tensor([[0.1782, 0.6548],\n",
            "        [0.4715, 0.8478],\n",
            "        [0.3004, 0.4310]])\n",
            "tensor([[0.9431, 0.2809],\n",
            "        [0.4555, 0.5868],\n",
            "        [0.9312, 0.3553]])\n",
            "tensor([[0.6125, 0.5664],\n",
            "        [0.2337, 0.3711],\n",
            "        [0.1505, 0.9088]])\n"
          ],
          "name": "stdout"
        }
      ]
    },
    {
      "cell_type": "markdown",
      "metadata": {
        "id": "7U0Qb0jWQgm-"
      },
      "source": [
        "### split\n",
        "- `chunck`와 동일한 기능이지만 조금 다름\n",
        "\n",
        "- 하나의 텐서당 크기가 얼마이냐"
      ]
    },
    {
      "cell_type": "code",
      "metadata": {
        "id": "1V6DDnLVQqxz",
        "colab": {
          "base_uri": "https://localhost:8080/"
        },
        "outputId": "bd963e2f-d277-4296-8b17-3cd42a41ce46"
      },
      "source": [
        "tensor = torch.rand(3, 6)\n",
        "t1, t2 = torch.split(tensor, 3, dim=1)\n",
        "\n",
        "print(tensor)\n",
        "print(t1)\n",
        "print(t2)"
      ],
      "execution_count": null,
      "outputs": [
        {
          "output_type": "stream",
          "text": [
            "tensor([[0.0818, 0.9381, 0.2640, 0.4832, 0.6811, 0.6134],\n",
            "        [0.0970, 0.1508, 0.5246, 0.7639, 0.7271, 0.7347],\n",
            "        [0.6673, 0.5607, 0.5400, 0.3355, 0.3171, 0.7981]])\n",
            "tensor([[0.0818, 0.9381, 0.2640],\n",
            "        [0.0970, 0.1508, 0.5246],\n",
            "        [0.6673, 0.5607, 0.5400]])\n",
            "tensor([[0.4832, 0.6811, 0.6134],\n",
            "        [0.7639, 0.7271, 0.7347],\n",
            "        [0.3355, 0.3171, 0.7981]])\n"
          ],
          "name": "stdout"
        }
      ]
    },
    {
      "cell_type": "markdown",
      "metadata": {
        "id": "estSwhCgvta6"
      },
      "source": [
        "### torch ↔ numpy\n",
        "- Torch Tensor(텐서)를 Numpy array(배열)로 변환 가능\n",
        "\n",
        "  - `numpy()`\n",
        "  - `from_numpy()`\n",
        "\n",
        "- (참고)\n",
        "  - Tensor가 CPU상에 있다면 Numpy 배열은 메모리 공간을 공유하므로 하나가 변하면, 다른 하나도 변함"
      ]
    },
    {
      "cell_type": "code",
      "metadata": {
        "id": "VxHI7c_yvmAT",
        "colab": {
          "base_uri": "https://localhost:8080/"
        },
        "outputId": "2fcdd821-b17f-4b51-8a33-66e71d66bc03"
      },
      "source": [
        "a = torch.ones(7)\n",
        "print(a)"
      ],
      "execution_count": null,
      "outputs": [
        {
          "output_type": "stream",
          "text": [
            "tensor([1., 1., 1., 1., 1., 1., 1.])\n"
          ],
          "name": "stdout"
        }
      ]
    },
    {
      "cell_type": "code",
      "metadata": {
        "id": "whbrhokHwJ3A",
        "colab": {
          "base_uri": "https://localhost:8080/"
        },
        "outputId": "9d6f8502-bcb2-4ffc-ac96-8b9bc053222b"
      },
      "source": [
        "b = a.numpy()\n",
        "print(b)"
      ],
      "execution_count": null,
      "outputs": [
        {
          "output_type": "stream",
          "text": [
            "[1. 1. 1. 1. 1. 1. 1.]\n"
          ],
          "name": "stdout"
        }
      ]
    },
    {
      "cell_type": "code",
      "metadata": {
        "id": "5StIhUWDwQjA",
        "colab": {
          "base_uri": "https://localhost:8080/"
        },
        "outputId": "a5b0772a-8150-4b20-e161-02571577d582"
      },
      "source": [
        "a.add_(1)\n",
        "print(a)\n",
        "print(b)"
      ],
      "execution_count": null,
      "outputs": [
        {
          "output_type": "stream",
          "text": [
            "tensor([2., 2., 2., 2., 2., 2., 2.])\n",
            "[2. 2. 2. 2. 2. 2. 2.]\n"
          ],
          "name": "stdout"
        }
      ]
    },
    {
      "cell_type": "code",
      "metadata": {
        "id": "3RNS5-cRwTt8",
        "colab": {
          "base_uri": "https://localhost:8080/"
        },
        "outputId": "f64dac01-17b5-4e0a-bf6b-0ee41023341c"
      },
      "source": [
        "import numpy as np\n",
        "\n",
        "a = np.ones(7)\n",
        "b = torch.from_numpy(a)\n",
        "np.add(a, 1, out=a)\n",
        "print(a)\n",
        "print(b)"
      ],
      "execution_count": null,
      "outputs": [
        {
          "output_type": "stream",
          "text": [
            "[2. 2. 2. 2. 2. 2. 2.]\n",
            "tensor([2., 2., 2., 2., 2., 2., 2.], dtype=torch.float64)\n"
          ],
          "name": "stdout"
        }
      ]
    },
    {
      "cell_type": "markdown",
      "metadata": {
        "id": "v-ZaxSvLxEej"
      },
      "source": [
        "## CUDA Tensors\n",
        "- `.to` 메소드를 사용하여 텐서를 어떠한 장치로도 옮길 수 있음\n",
        "  - 예) cpu, gpu"
      ]
    },
    {
      "cell_type": "code",
      "metadata": {
        "id": "xkaQznCRxpUj"
      },
      "source": [
        "import torch"
      ],
      "execution_count": null,
      "outputs": []
    },
    {
      "cell_type": "code",
      "metadata": {
        "id": "SCnC0x2Rxpbk",
        "colab": {
          "base_uri": "https://localhost:8080/"
        },
        "outputId": "1fac02c5-161f-4021-cf82-b5c4580084b9"
      },
      "source": [
        "x = torch.randn(1)\n",
        "print(x)\n",
        "print(x.item())\n",
        "print(x.dtype)"
      ],
      "execution_count": null,
      "outputs": [
        {
          "output_type": "stream",
          "text": [
            "tensor([-0.3304])\n",
            "-0.33040547370910645\n",
            "torch.float32\n"
          ],
          "name": "stdout"
        }
      ]
    },
    {
      "cell_type": "code",
      "metadata": {
        "id": "GcSsFLkDw-nI",
        "colab": {
          "base_uri": "https://localhost:8080/"
        },
        "outputId": "b3d240c4-d463-4111-a5eb-161994ef6d6f"
      },
      "source": [
        "device = torch.device(\"cuda\" if torch.cuda.is_available() else \"cpu\")\n",
        "\n",
        "y = torch.ones_like(x, device=device)\n",
        "x = x.to(device)\n",
        "z = x + y\n",
        "print(device)\n",
        "print(z)\n",
        "print(z.to(\"cpu\", torch.double))"
      ],
      "execution_count": null,
      "outputs": [
        {
          "output_type": "stream",
          "text": [
            "cuda\n",
            "tensor([0.6696], device='cuda:0')\n",
            "tensor([0.6696], dtype=torch.float64)\n"
          ],
          "name": "stdout"
        }
      ]
    },
    {
      "cell_type": "markdown",
      "metadata": {
        "id": "NKqiGvLWx2nk"
      },
      "source": [
        "## AUTOGRAD (자동미분)\n",
        "- autograd 패키지는 Tensor의 모든 연산에 대해 **자동 미분** 제공\n",
        "\n",
        "- 이는 코드를 어떻게 작성하여 실행하느냐에 따라 역전파가 정의된다는 뜻\n",
        "\n",
        "- backprop를 위한 미분값을 자동으로 계산"
      ]
    },
    {
      "cell_type": "markdown",
      "metadata": {
        "id": "0zH41l-MyMHi"
      },
      "source": [
        "### Tensor\n",
        "\n",
        "- data: tensor형태의 데이터\n",
        "\n",
        "- grad: data가 겨쳐온 layer에 대한 미분값 저장\n",
        "\n",
        "- grad_fn: 미분값을 계산한 함수에 대한 정보 저장 (어떤 함수에 대해서 backprop 했는지)\n",
        "\n",
        "- `requires_grad` 속성을 `True`로 설정하면, 해당 텐서에서 이루어지는 모든 연산들을 추적하기 시작\n",
        "\n",
        "- 계산이 완료된 후, `.backward()`를 호출하면 자동으로 `gradient`를 계산할 수 있으며, `.grad` 속성에 누적됨\n",
        "\n",
        "- 기록을 추적하는 것을 중단하게 하려면, `.detach()`를 호출하여 연산기록으로부터 분리\n",
        "\n",
        "- 기록을 추적하는 것을 방지하기 위해 코드 블럭을 `with torch.no_grad():`로 감싸면 `gradient`는 필요없지만, `requires_grad=True`로 설정되어 학습 가능한 매개변수를 갖는 모델을 평가(evaluate)할 때 유용\n",
        "\n",
        "- Autograd 구현에서 매우 중요한 클래스 : `Function` 클래스"
      ]
    },
    {
      "cell_type": "code",
      "metadata": {
        "id": "ipdk_1jfx47I"
      },
      "source": [
        "import torch"
      ],
      "execution_count": null,
      "outputs": []
    },
    {
      "cell_type": "code",
      "metadata": {
        "id": "ljNU-r9p0Rpo",
        "colab": {
          "base_uri": "https://localhost:8080/"
        },
        "outputId": "b0af29cc-4c91-47f9-bf38-7430ea2d763c"
      },
      "source": [
        "x = torch.ones(3, 3, requires_grad=True)\n",
        "print(x)"
      ],
      "execution_count": null,
      "outputs": [
        {
          "output_type": "stream",
          "text": [
            "tensor([[1., 1., 1.],\n",
            "        [1., 1., 1.],\n",
            "        [1., 1., 1.]], requires_grad=True)\n"
          ],
          "name": "stdout"
        }
      ]
    },
    {
      "cell_type": "code",
      "metadata": {
        "id": "or6sQ4EB0UYz",
        "colab": {
          "base_uri": "https://localhost:8080/"
        },
        "outputId": "ef1e8e24-6d38-4425-ed94-d23599d3e207"
      },
      "source": [
        "y = x + 5\n",
        "print(y)"
      ],
      "execution_count": null,
      "outputs": [
        {
          "output_type": "stream",
          "text": [
            "tensor([[6., 6., 6.],\n",
            "        [6., 6., 6.],\n",
            "        [6., 6., 6.]], grad_fn=<AddBackward0>)\n"
          ],
          "name": "stdout"
        }
      ]
    },
    {
      "cell_type": "code",
      "metadata": {
        "id": "PuQ7xDmu0Wpj",
        "colab": {
          "base_uri": "https://localhost:8080/"
        },
        "outputId": "85d9e5ab-5a76-44bc-fdd9-87b5c8b7b179"
      },
      "source": [
        "print(y.grad_fn)"
      ],
      "execution_count": null,
      "outputs": [
        {
          "output_type": "stream",
          "text": [
            "<AddBackward0 object at 0x7f69028f0240>\n"
          ],
          "name": "stdout"
        }
      ]
    },
    {
      "cell_type": "code",
      "metadata": {
        "id": "6_2iM-Zq0ZdG",
        "colab": {
          "base_uri": "https://localhost:8080/"
        },
        "outputId": "40fe0b0b-63dc-4bf6-8f06-d2bb8a8a092e"
      },
      "source": [
        "z = y * y * 2\n",
        "out = z.mean()\n",
        "\n",
        "print(z, out)"
      ],
      "execution_count": null,
      "outputs": [
        {
          "output_type": "stream",
          "text": [
            "tensor([[72., 72., 72.],\n",
            "        [72., 72., 72.],\n",
            "        [72., 72., 72.]], grad_fn=<MulBackward0>) tensor(72., grad_fn=<MeanBackward0>)\n"
          ],
          "name": "stdout"
        }
      ]
    },
    {
      "cell_type": "markdown",
      "metadata": {
        "id": "2aZ8SWn_0nqt"
      },
      "source": [
        "- `requires_grad_(...)`는 기존 텐서의 `requires_grad`값을 바꿔치기(`in-place`)하여 변경"
      ]
    },
    {
      "cell_type": "code",
      "metadata": {
        "id": "mHGROgrM0ebO",
        "colab": {
          "base_uri": "https://localhost:8080/"
        },
        "outputId": "6a549aa2-c19f-4a73-8ff2-7160fe59eb24"
      },
      "source": [
        "a = torch.randn(3, 3)\n",
        "a = ((a * 3) / (a - 1))\n",
        "print(a.requires_grad)\n",
        "\n",
        "a.requires_grad_(True)\n",
        "print(a.requires_grad)\n",
        "\n",
        "b = (a * a).sum()\n",
        "print(b.grad_fn)"
      ],
      "execution_count": null,
      "outputs": [
        {
          "output_type": "stream",
          "text": [
            "False\n",
            "True\n",
            "<SumBackward0 object at 0x7f695eed1b38>\n"
          ],
          "name": "stdout"
        }
      ]
    },
    {
      "cell_type": "markdown",
      "metadata": {
        "id": "KiEn_stZ1VgU"
      },
      "source": [
        "### 기울기(Gradient)\n",
        "- 역전파: `.backward()`를 통해 역전파 계산 가능"
      ]
    },
    {
      "cell_type": "code",
      "metadata": {
        "id": "1tdoN9p-1kn4"
      },
      "source": [
        "out.backward()"
      ],
      "execution_count": null,
      "outputs": []
    },
    {
      "cell_type": "code",
      "metadata": {
        "id": "CixGTXbV1B9p",
        "colab": {
          "base_uri": "https://localhost:8080/"
        },
        "outputId": "afacaeef-d7c0-4874-9e2a-ca0015553549"
      },
      "source": [
        "print(x.grad)"
      ],
      "execution_count": null,
      "outputs": [
        {
          "output_type": "stream",
          "text": [
            "tensor([[2.6667, 2.6667, 2.6667],\n",
            "        [2.6667, 2.6667, 2.6667],\n",
            "        [2.6667, 2.6667, 2.6667]])\n"
          ],
          "name": "stdout"
        }
      ]
    },
    {
      "cell_type": "code",
      "metadata": {
        "id": "SY63Mcc-1iNI",
        "colab": {
          "base_uri": "https://localhost:8080/"
        },
        "outputId": "600eaedb-4256-4f4a-a465-ccb1d5b1e700"
      },
      "source": [
        "x = torch.randn(3, requires_grad=True)\n",
        "\n",
        "y = x * 2\n",
        "while y.data.norm() < 1000:\n",
        "  y = y * 2\n",
        "\n",
        "print(y)"
      ],
      "execution_count": null,
      "outputs": [
        {
          "output_type": "stream",
          "text": [
            "tensor([-544.7933, -386.9782, 1860.1641], grad_fn=<MulBackward0>)\n"
          ],
          "name": "stdout"
        }
      ]
    },
    {
      "cell_type": "code",
      "metadata": {
        "id": "YPaVAbIT3gx_",
        "colab": {
          "base_uri": "https://localhost:8080/"
        },
        "outputId": "638cde61-d4eb-4be7-cf47-a7b3d50e7dbb"
      },
      "source": [
        "v = torch.tensor([0.1, 1.0, 0.0001], dtype=torch.float)\n",
        "y.backward(v)\n",
        "\n",
        "print(x.grad)"
      ],
      "execution_count": null,
      "outputs": [
        {
          "output_type": "stream",
          "text": [
            "tensor([1.0240e+02, 1.0240e+03, 1.0240e-01])\n"
          ],
          "name": "stdout"
        }
      ]
    },
    {
      "cell_type": "markdown",
      "metadata": {
        "id": "0b9amArPXtcX"
      },
      "source": [
        "- `with torch.no_grad()`를 사용하여 gradient의 업데이트를 하지 않음"
      ]
    },
    {
      "cell_type": "code",
      "metadata": {
        "id": "weeIe5_Z3jVe",
        "colab": {
          "base_uri": "https://localhost:8080/"
        },
        "outputId": "dbdedbac-e7fd-45d3-85d2-8db9674cd4d1"
      },
      "source": [
        "print(x.requires_grad)\n",
        "print((x ** 2).requires_grad)\n",
        "\n",
        "with torch.no_grad():\n",
        "  print((x ** 2).requires_grad)"
      ],
      "execution_count": null,
      "outputs": [
        {
          "output_type": "stream",
          "text": [
            "True\n",
            "True\n",
            "False\n"
          ],
          "name": "stdout"
        }
      ]
    },
    {
      "cell_type": "markdown",
      "metadata": {
        "id": "bLcTLVRSmCdH"
      },
      "source": [
        "- `detach()`: 내용물(content)은 같지만 require_grad가 다른 새로운 Tensor를 가져올 때"
      ]
    },
    {
      "cell_type": "code",
      "metadata": {
        "id": "ALcth7Ew3l7H",
        "colab": {
          "base_uri": "https://localhost:8080/"
        },
        "outputId": "d1de1a78-a665-4069-8c52-2fccd9d0abbe"
      },
      "source": [
        "print(x.requires_grad)\n",
        "y = x.detach()\n",
        "print(y.requires_grad)\n",
        "print(x.eq(y).all())"
      ],
      "execution_count": null,
      "outputs": [
        {
          "output_type": "stream",
          "text": [
            "True\n",
            "False\n",
            "tensor(True)\n"
          ],
          "name": "stdout"
        }
      ]
    },
    {
      "cell_type": "markdown",
      "metadata": {
        "id": "NSarysrqBh9D"
      },
      "source": [
        "### 자동 미분 흐름 다시 보기(1)\n",
        "- 계산 흐름  \n",
        "  $a \\rightarrow b  \\rightarrow c  \\rightarrow out $\n",
        "\n",
        "<br>\n",
        "\n",
        "## $\\quad \\frac{\\partial out}{\\partial a} = ?$\n",
        "- `backward()`를 통해  \n",
        "  $a \\leftarrow b  \\leftarrow c  \\leftarrow out $을 계산하면  \n",
        "    $\\frac{\\partial out}{\\partial a}$값이 `a.grad`에 채워짐\n"
      ]
    },
    {
      "cell_type": "code",
      "metadata": {
        "id": "NUAc1etP3oBc"
      },
      "source": [
        "import torch"
      ],
      "execution_count": null,
      "outputs": []
    },
    {
      "cell_type": "code",
      "metadata": {
        "id": "tCW7dq9uB89T",
        "colab": {
          "base_uri": "https://localhost:8080/"
        },
        "outputId": "26353919-78c3-4904-8b99-fa35391dcb99"
      },
      "source": [
        "a = torch.ones(2, 2)\n",
        "print(a)"
      ],
      "execution_count": null,
      "outputs": [
        {
          "output_type": "stream",
          "text": [
            "tensor([[1., 1.],\n",
            "        [1., 1.]])\n"
          ],
          "name": "stdout"
        }
      ]
    },
    {
      "cell_type": "code",
      "metadata": {
        "id": "-AyyGy49FLz9",
        "colab": {
          "base_uri": "https://localhost:8080/"
        },
        "outputId": "51b92021-fb05-4a83-8f5a-10091a3bf1bd"
      },
      "source": [
        "a = torch.ones(2, 2, requires_grad=True)\n",
        "print(a)"
      ],
      "execution_count": null,
      "outputs": [
        {
          "output_type": "stream",
          "text": [
            "tensor([[1., 1.],\n",
            "        [1., 1.]], requires_grad=True)\n"
          ],
          "name": "stdout"
        }
      ]
    },
    {
      "cell_type": "code",
      "metadata": {
        "id": "SmmJa-hvFPGH",
        "colab": {
          "base_uri": "https://localhost:8080/"
        },
        "outputId": "23e084a7-d6e9-4c81-d0e8-8117dda3bbab"
      },
      "source": [
        "print(\"a.data:\", a)\n",
        "print(\"a.grad:\", a.grad)\n",
        "print(\"a.grad_fn:\", a.grad_fn)"
      ],
      "execution_count": null,
      "outputs": [
        {
          "output_type": "stream",
          "text": [
            "a.data: tensor([[1., 1.],\n",
            "        [1., 1.]], requires_grad=True)\n",
            "a.grad: None\n",
            "a.grad_fn: None\n"
          ],
          "name": "stdout"
        }
      ]
    },
    {
      "cell_type": "markdown",
      "metadata": {
        "id": "BCwhTsiHGCmG"
      },
      "source": [
        "- $b = a + 2$"
      ]
    },
    {
      "cell_type": "code",
      "metadata": {
        "id": "iUPt042iF9V1",
        "colab": {
          "base_uri": "https://localhost:8080/"
        },
        "outputId": "0207b0bd-f74f-41f9-a1c1-ddba543fdc5a"
      },
      "source": [
        "b = a + 2\n",
        "print(b)"
      ],
      "execution_count": null,
      "outputs": [
        {
          "output_type": "stream",
          "text": [
            "tensor([[3., 3.],\n",
            "        [3., 3.]], grad_fn=<AddBackward0>)\n"
          ],
          "name": "stdout"
        }
      ]
    },
    {
      "cell_type": "markdown",
      "metadata": {
        "id": "6cw2zoq9GHLF"
      },
      "source": [
        "- $c = b^2$ "
      ]
    },
    {
      "cell_type": "code",
      "metadata": {
        "id": "FRDS6gP0GFZG",
        "colab": {
          "base_uri": "https://localhost:8080/"
        },
        "outputId": "7e45fd28-716e-4a49-f00c-ff163c891e5d"
      },
      "source": [
        "c = b**2\n",
        "print(c)"
      ],
      "execution_count": null,
      "outputs": [
        {
          "output_type": "stream",
          "text": [
            "tensor([[9., 9.],\n",
            "        [9., 9.]], grad_fn=<PowBackward0>)\n"
          ],
          "name": "stdout"
        }
      ]
    },
    {
      "cell_type": "code",
      "metadata": {
        "id": "VynoiUywGSwh",
        "colab": {
          "base_uri": "https://localhost:8080/"
        },
        "outputId": "ed9fc701-c901-428f-ca8d-364ec4a2cca2"
      },
      "source": [
        "out = c.sum()\n",
        "print(out)"
      ],
      "execution_count": null,
      "outputs": [
        {
          "output_type": "stream",
          "text": [
            "tensor(36., grad_fn=<SumBackward0>)\n"
          ],
          "name": "stdout"
        }
      ]
    },
    {
      "cell_type": "code",
      "metadata": {
        "id": "v3ryJon9GeMn",
        "colab": {
          "base_uri": "https://localhost:8080/"
        },
        "outputId": "584b1a61-6662-4aae-c368-70380dd3f32a"
      },
      "source": [
        "print(out)\n",
        "out.backward()"
      ],
      "execution_count": null,
      "outputs": [
        {
          "output_type": "stream",
          "text": [
            "tensor(36., grad_fn=<SumBackward0>)\n"
          ],
          "name": "stdout"
        }
      ]
    },
    {
      "cell_type": "markdown",
      "metadata": {
        "id": "f0aoNsPDHsoG"
      },
      "source": [
        "- a의 `grad_fn`이 None인 이유  \n",
        "  직접적으로 계산한 부분이 없었기 때문"
      ]
    },
    {
      "cell_type": "code",
      "metadata": {
        "id": "bccI4vIWGgqj",
        "colab": {
          "base_uri": "https://localhost:8080/"
        },
        "outputId": "78027001-24e2-4c67-d8b2-8c99a9ab8612"
      },
      "source": [
        "print(\"a.data:\", a)\n",
        "print(\"a.grad:\", a.grad)\n",
        "print(\"a.grad_fn:\", a.grad_fn)"
      ],
      "execution_count": null,
      "outputs": [
        {
          "output_type": "stream",
          "text": [
            "a.data: tensor([[1., 1.],\n",
            "        [1., 1.]], requires_grad=True)\n",
            "a.grad: tensor([[6., 6.],\n",
            "        [6., 6.]])\n",
            "a.grad_fn: None\n"
          ],
          "name": "stdout"
        }
      ]
    },
    {
      "cell_type": "code",
      "metadata": {
        "id": "oka1mkadHq-N",
        "colab": {
          "base_uri": "https://localhost:8080/"
        },
        "outputId": "ddafac37-2bb8-4765-81ea-f87f0a51f7f2"
      },
      "source": [
        "print(\"b.data:\", b.data)\n",
        "print(\"b.grad:\", b.grad)\n",
        "print(\"b.grad_fn:\", b.grad_fn)"
      ],
      "execution_count": null,
      "outputs": [
        {
          "output_type": "stream",
          "text": [
            "b.data: tensor([[3., 3.],\n",
            "        [3., 3.]])\n",
            "b.grad: None\n",
            "b.grad_fn: <AddBackward0 object at 0x7f69028775c0>\n"
          ],
          "name": "stdout"
        },
        {
          "output_type": "stream",
          "text": [
            "/usr/local/lib/python3.6/dist-packages/ipykernel_launcher.py:2: UserWarning: The .grad attribute of a Tensor that is not a leaf Tensor is being accessed. Its .grad attribute won't be populated during autograd.backward(). If you indeed want the gradient for a non-leaf Tensor, use .retain_grad() on the non-leaf Tensor. If you access the non-leaf Tensor by mistake, make sure you access the leaf Tensor instead. See github.com/pytorch/pytorch/pull/30531 for more informations.\n",
            "  \n"
          ],
          "name": "stderr"
        }
      ]
    },
    {
      "cell_type": "code",
      "metadata": {
        "id": "ZiYNajdLccUF",
        "colab": {
          "base_uri": "https://localhost:8080/"
        },
        "outputId": "47495a85-d184-4f6e-da19-b9b6add7274f"
      },
      "source": [
        "print(\"c.data:\", c.data)\n",
        "print(\"c.grad:\", c.grad)\n",
        "print(\"c.grad_fn:\", c.grad_fn)"
      ],
      "execution_count": null,
      "outputs": [
        {
          "output_type": "stream",
          "text": [
            "c.data: tensor([[9., 9.],\n",
            "        [9., 9.]])\n",
            "c.grad: None\n",
            "c.grad_fn: <PowBackward0 object at 0x7f690279b5c0>\n"
          ],
          "name": "stdout"
        },
        {
          "output_type": "stream",
          "text": [
            "/usr/local/lib/python3.6/dist-packages/ipykernel_launcher.py:2: UserWarning: The .grad attribute of a Tensor that is not a leaf Tensor is being accessed. Its .grad attribute won't be populated during autograd.backward(). If you indeed want the gradient for a non-leaf Tensor, use .retain_grad() on the non-leaf Tensor. If you access the non-leaf Tensor by mistake, make sure you access the leaf Tensor instead. See github.com/pytorch/pytorch/pull/30531 for more informations.\n",
            "  \n"
          ],
          "name": "stderr"
        }
      ]
    },
    {
      "cell_type": "code",
      "metadata": {
        "id": "BcLoMYite0vU",
        "colab": {
          "base_uri": "https://localhost:8080/"
        },
        "outputId": "9387d195-811c-41d6-f9e0-9ebb3beb1257"
      },
      "source": [
        "print(\"out.data:\", out.data)\n",
        "print(\"out.grad:\", out.grad)\n",
        "print(\"out.grad_fn:\", out.grad_fn)"
      ],
      "execution_count": null,
      "outputs": [
        {
          "output_type": "stream",
          "text": [
            "out.data: tensor(36.)\n",
            "out.grad: None\n",
            "out.grad_fn: <SumBackward0 object at 0x7f6902877ba8>\n"
          ],
          "name": "stdout"
        },
        {
          "output_type": "stream",
          "text": [
            "/usr/local/lib/python3.6/dist-packages/ipykernel_launcher.py:2: UserWarning: The .grad attribute of a Tensor that is not a leaf Tensor is being accessed. Its .grad attribute won't be populated during autograd.backward(). If you indeed want the gradient for a non-leaf Tensor, use .retain_grad() on the non-leaf Tensor. If you access the non-leaf Tensor by mistake, make sure you access the leaf Tensor instead. See github.com/pytorch/pytorch/pull/30531 for more informations.\n",
            "  \n"
          ],
          "name": "stderr"
        }
      ]
    },
    {
      "cell_type": "markdown",
      "metadata": {
        "id": "qZXgwviHfovj"
      },
      "source": [
        "### 자동 미분 흐름 다시 보기(2)\n",
        "- `grad`값을 넣어서 `backward`\n",
        "\n",
        "- 아래의 코드에서 `.grad`값이 None은 gradient값이 필요하지 않기 때문"
      ]
    },
    {
      "cell_type": "code",
      "metadata": {
        "id": "bB6DCYXRfcI_",
        "colab": {
          "base_uri": "https://localhost:8080/"
        },
        "outputId": "fb4021d1-c51c-4b80-cb62-e23ce7374b46"
      },
      "source": [
        "x = torch.ones(3, requires_grad=True)\n",
        "y = (x ** 2)\n",
        "z = y ** 2 + x\n",
        "out = z.sum()\n",
        "print(out)"
      ],
      "execution_count": null,
      "outputs": [
        {
          "output_type": "stream",
          "text": [
            "tensor(6., grad_fn=<SumBackward0>)\n"
          ],
          "name": "stdout"
        }
      ]
    },
    {
      "cell_type": "code",
      "metadata": {
        "id": "AVo-glm8fvFv"
      },
      "source": [
        "grad = torch.Tensor([0.1, 1, 100])\n",
        "z.backward(grad)"
      ],
      "execution_count": null,
      "outputs": []
    },
    {
      "cell_type": "code",
      "metadata": {
        "id": "tdBklrepf2qq",
        "colab": {
          "base_uri": "https://localhost:8080/"
        },
        "outputId": "285d3032-a2e5-4dc3-f0d0-570a437a6abb"
      },
      "source": [
        "print(\"x.data:\", x.data)\n",
        "print(\"x.grad:\", x.grad)\n",
        "print(\"x.grad_fn:\", x.grad_fn)"
      ],
      "execution_count": null,
      "outputs": [
        {
          "output_type": "stream",
          "text": [
            "x.data: tensor([1., 1., 1.])\n",
            "x.grad: tensor([  0.5000,   5.0000, 500.0000])\n",
            "x.grad_fn: None\n"
          ],
          "name": "stdout"
        }
      ]
    },
    {
      "cell_type": "code",
      "metadata": {
        "id": "HQvUGlfRf7jU",
        "colab": {
          "base_uri": "https://localhost:8080/"
        },
        "outputId": "7e90dd44-a4bb-4ebb-8d28-2eae96db035b"
      },
      "source": [
        "print(\"y.data:\", y.data)\n",
        "print(\"y.grad:\", y.grad)\n",
        "print(\"y.grad_fn:\", y.grad_fn)"
      ],
      "execution_count": null,
      "outputs": [
        {
          "output_type": "stream",
          "text": [
            "y.data: tensor([1., 1., 1.])\n",
            "y.grad: None\n",
            "y.grad_fn: <PowBackward0 object at 0x7f69028617f0>\n"
          ],
          "name": "stdout"
        },
        {
          "output_type": "stream",
          "text": [
            "/usr/local/lib/python3.6/dist-packages/ipykernel_launcher.py:2: UserWarning: The .grad attribute of a Tensor that is not a leaf Tensor is being accessed. Its .grad attribute won't be populated during autograd.backward(). If you indeed want the gradient for a non-leaf Tensor, use .retain_grad() on the non-leaf Tensor. If you access the non-leaf Tensor by mistake, make sure you access the leaf Tensor instead. See github.com/pytorch/pytorch/pull/30531 for more informations.\n",
            "  \n"
          ],
          "name": "stderr"
        }
      ]
    },
    {
      "cell_type": "code",
      "metadata": {
        "id": "h7TFHdMfgxvW",
        "colab": {
          "base_uri": "https://localhost:8080/"
        },
        "outputId": "8842a655-be96-475d-f3ca-262468d75929"
      },
      "source": [
        "print(\"z.data:\", z.data)\n",
        "print(\"z.grad:\", z.grad)\n",
        "print(\"z.grad_fn:\", z.grad_fn)"
      ],
      "execution_count": null,
      "outputs": [
        {
          "output_type": "stream",
          "text": [
            "z.data: tensor([2., 2., 2.])\n",
            "z.grad: None\n",
            "z.grad_fn: <AddBackward0 object at 0x7f69028610b8>\n"
          ],
          "name": "stdout"
        },
        {
          "output_type": "stream",
          "text": [
            "/usr/local/lib/python3.6/dist-packages/ipykernel_launcher.py:2: UserWarning: The .grad attribute of a Tensor that is not a leaf Tensor is being accessed. Its .grad attribute won't be populated during autograd.backward(). If you indeed want the gradient for a non-leaf Tensor, use .retain_grad() on the non-leaf Tensor. If you access the non-leaf Tensor by mistake, make sure you access the leaf Tensor instead. See github.com/pytorch/pytorch/pull/30531 for more informations.\n",
            "  \n"
          ],
          "name": "stderr"
        }
      ]
    },
    {
      "cell_type": "markdown",
      "metadata": {
        "id": "DKv-osmNmWiA"
      },
      "source": [
        "## nn & nn.functional\n",
        "\n",
        "- 두 패키지가 같은 기능이지만 방식이 조금 다름\n",
        "\n",
        "- 위의 `autograd` 관련 작업들을 두 패키지를 통해 진행할 수 있음\n",
        "\n",
        "- 텐서를 직접 다룰 때 `requires_grad`와 같은 방식으로 진행할 수 있음\n",
        "\n",
        "- 결론적으로, `torch.nn`은 attribute를 활용해 state를 저장하고 활용하고,  \n",
        "  `torch.nn.functional`로 구현한 함수의 경우에는 인스턴스화 시킬 필요 없이 사용이 가능\n",
        " \n"
      ]
    },
    {
      "cell_type": "markdown",
      "metadata": {
        "id": "jk8fkKq3nWP1"
      },
      "source": [
        "### nn 패키지\n",
        "\n",
        "- 주로 가중치(weights), 편향(bias)값들이 내부에서 자동으로 생성되는 레이어들을 사용할 때  \n",
        "  - 따라서, `weight`값들을 직접 선언 안함\n",
        "\n",
        "- 예시\n",
        "  - Containers\n",
        "\n",
        "  - Convolution Layers\n",
        "\n",
        "  - Pooling layers\n",
        "\n",
        "  - Padding Layers\n",
        "\n",
        "  - Non-linear Activations (weighted sum, nonlinearity)\n",
        "\n",
        "  - Non-linear Activations (other)\n",
        "\n",
        "  - Normalization Layers\n",
        "\n",
        "  - Recurrent Layers\n",
        "\n",
        "  - Transformer Layers\n",
        "\n",
        "  - Linear Layers\n",
        "\n",
        "  - Dropout Layers\n",
        "\n",
        "  - Sparse Layers\n",
        "\n",
        "  - Distance Functions\n",
        "\n",
        "  - Loss Functions\n",
        "\n",
        "  - ..\n",
        "- https://pytorch.org/docs/stable/nn.html\n",
        "\n"
      ]
    },
    {
      "cell_type": "code",
      "metadata": {
        "id": "8tEtWHAsmZMy"
      },
      "source": [
        "import torch\n",
        "import torch.nn as nn"
      ],
      "execution_count": null,
      "outputs": []
    },
    {
      "cell_type": "markdown",
      "metadata": {
        "id": "NcjCbeEQqPSI"
      },
      "source": [
        "- Convolution Layer 예시 (1)\n"
      ]
    },
    {
      "cell_type": "code",
      "metadata": {
        "id": "NQ7Y0tCOpkhM",
        "colab": {
          "base_uri": "https://localhost:8080/"
        },
        "outputId": "6dc3e8c1-7fa1-4254-9a8f-cd1867ab8daf"
      },
      "source": [
        "m = nn.Conv2d(16, 33, 3, stride=2)\n",
        "\n",
        "m = nn.Conv2d(16, 33, (3, 5), stride=(2, 1), padding=(4, 2))\n",
        "\n",
        "m = nn.Conv2d(16, 33, (3, 5), stride=(2, 1), padding=(4, 2), dilation=(3, 1))\n",
        "\n",
        "input = torch.randn(20, 16, 50, 100)\n",
        "print(input)\n",
        "output = m(input)\n",
        "print(output)"
      ],
      "execution_count": null,
      "outputs": [
        {
          "output_type": "stream",
          "text": [
            "tensor([[[[ 5.8307e-02, -3.4237e-01,  7.3275e-01,  ...,  2.9992e-01,\n",
            "            1.3544e+00, -4.4687e-01],\n",
            "          [ 1.5370e+00, -1.0001e+00,  1.0190e+00,  ...,  1.4767e-01,\n",
            "            8.2530e-01, -1.4575e-01],\n",
            "          [-4.8736e-02, -1.7604e-01, -1.0228e+00,  ...,  6.6236e-01,\n",
            "           -2.7283e-02,  6.4363e-01],\n",
            "          ...,\n",
            "          [ 2.7431e-01, -1.2379e-01,  5.6770e-01,  ..., -4.9905e-01,\n",
            "           -4.1330e-01, -7.7630e-01],\n",
            "          [-7.8950e-01,  7.5536e-01, -1.0232e+00,  ...,  1.0944e+00,\n",
            "            1.1531e+00, -1.2705e-01],\n",
            "          [ 3.1827e-01, -3.4354e-01, -1.3805e-01,  ...,  7.8641e-01,\n",
            "           -2.2724e-01,  3.6258e-02]],\n",
            "\n",
            "         [[-2.3197e-01,  1.3392e+00,  2.9071e+00,  ...,  3.6212e-01,\n",
            "           -9.4477e-01, -9.0417e-01],\n",
            "          [-1.0731e+00,  1.6701e-01,  1.6757e+00,  ...,  2.3784e-02,\n",
            "            2.2871e-01, -3.2345e-01],\n",
            "          [-5.8198e-01, -1.5146e+00,  1.2350e+00,  ...,  1.2372e-01,\n",
            "            1.2343e+00,  6.7680e-01],\n",
            "          ...,\n",
            "          [-2.9181e-01,  8.6999e-01, -9.4416e-01,  ...,  1.0127e+00,\n",
            "           -2.8888e-01,  4.5529e-01],\n",
            "          [ 3.5341e-02,  3.7211e-01,  3.2819e-01,  ..., -5.7847e-01,\n",
            "            6.6108e-01, -1.1907e+00],\n",
            "          [-1.3257e+00,  5.5259e-01,  1.0721e+00,  ..., -7.1171e-01,\n",
            "           -2.4692e-01, -6.5455e-01]],\n",
            "\n",
            "         [[ 1.6550e+00,  9.7424e-01,  1.7695e+00,  ..., -6.6471e-01,\n",
            "           -2.1016e-01,  1.8478e+00],\n",
            "          [-4.2191e-02,  1.3286e+00,  1.4897e+00,  ..., -8.7977e-01,\n",
            "            4.2979e-02,  6.5233e-01],\n",
            "          [ 1.6637e-01, -1.8666e+00,  8.0478e-02,  ...,  1.1217e+00,\n",
            "            4.8739e-01,  6.0287e-01],\n",
            "          ...,\n",
            "          [-5.7833e-01, -8.5203e-01,  6.8667e-01,  ...,  7.2248e-01,\n",
            "           -8.2004e-01,  8.7938e-01],\n",
            "          [ 1.5415e+00, -4.7901e-01, -2.0401e+00,  ...,  2.6600e-01,\n",
            "            4.1302e-01, -3.9392e-01],\n",
            "          [-1.6126e+00, -1.3317e+00, -3.6899e-01,  ..., -5.0084e-02,\n",
            "            7.4476e-01, -3.6294e-01]],\n",
            "\n",
            "         ...,\n",
            "\n",
            "         [[-1.2119e+00,  2.1933e+00,  4.5143e-01,  ..., -5.2107e-01,\n",
            "           -9.5217e-01, -1.2577e+00],\n",
            "          [ 1.3990e+00, -1.4654e+00,  2.1201e+00,  ..., -8.0788e-01,\n",
            "           -1.1356e+00,  8.3484e-01],\n",
            "          [-1.0046e+00,  9.5559e-01,  5.9146e-01,  ..., -1.3055e+00,\n",
            "           -5.1774e-01, -1.6764e+00],\n",
            "          ...,\n",
            "          [-6.4456e-01,  1.6647e+00, -5.3180e-01,  ...,  8.8103e-01,\n",
            "           -6.7443e-01, -1.5065e-01],\n",
            "          [ 4.4751e-01,  1.8474e+00, -3.7455e-01,  ..., -8.5740e-01,\n",
            "            7.9806e-01, -2.5266e-01],\n",
            "          [ 2.8766e-02, -1.4334e+00, -1.4101e+00,  ...,  3.1672e-01,\n",
            "           -8.1529e-01, -2.4776e+00]],\n",
            "\n",
            "         [[ 3.3249e-01, -1.0845e+00, -1.7340e+00,  ...,  7.4715e-01,\n",
            "           -2.4342e-01, -4.2176e-01],\n",
            "          [ 7.0331e-01, -7.4302e-01,  9.8958e-01,  ..., -1.1626e+00,\n",
            "            1.2059e+00, -3.8766e-02],\n",
            "          [ 5.3435e-01,  3.8132e-02, -2.3725e-01,  ...,  3.6334e-01,\n",
            "           -4.8706e-01,  7.2208e-03],\n",
            "          ...,\n",
            "          [ 1.0295e-01,  1.1262e+00, -1.1094e+00,  ..., -3.4677e-01,\n",
            "            6.3223e-01,  8.1945e-01],\n",
            "          [-3.3442e-01, -1.5541e+00,  8.4012e-01,  ...,  1.2115e+00,\n",
            "           -1.0688e+00,  1.2277e+00],\n",
            "          [-5.5785e-01, -1.5105e-01, -4.9770e-01,  ...,  5.9033e-02,\n",
            "            2.1840e-01,  4.5515e-01]],\n",
            "\n",
            "         [[-1.2318e+00, -1.7044e+00, -6.4277e-02,  ...,  2.1338e-01,\n",
            "           -1.1464e+00, -3.4383e-01],\n",
            "          [-2.6369e-01, -5.6340e-01, -1.1940e-01,  ..., -1.5558e+00,\n",
            "           -4.2441e-01, -1.0438e+00],\n",
            "          [-4.2314e-01, -1.8415e-01,  1.7474e-02,  ..., -1.2625e+00,\n",
            "            9.9248e-01,  1.8871e+00],\n",
            "          ...,\n",
            "          [-1.2386e+00,  1.8211e+00, -2.2441e+00,  ..., -1.0542e+00,\n",
            "           -2.2215e+00,  9.9813e-01],\n",
            "          [ 1.4163e+00, -1.1438e-01,  2.7753e-01,  ..., -1.9342e-01,\n",
            "            4.8317e-02,  1.1833e-01],\n",
            "          [-4.5775e-01, -8.7889e-02,  2.9063e-01,  ..., -1.7264e+00,\n",
            "            1.3853e+00,  1.0890e+00]]],\n",
            "\n",
            "\n",
            "        [[[ 1.0209e-01,  5.4778e-01, -2.6839e-01,  ..., -2.9869e-01,\n",
            "           -2.8920e-01, -4.9738e-01],\n",
            "          [-7.6592e-01,  1.1808e-01, -1.8655e-01,  ...,  8.2246e-01,\n",
            "            2.9606e-01,  8.5743e-01],\n",
            "          [-1.0814e+00, -1.1003e+00,  1.0753e+00,  ...,  3.2613e-01,\n",
            "           -5.1772e-01,  1.4809e+00],\n",
            "          ...,\n",
            "          [ 1.2085e+00,  1.8739e+00,  3.7904e-01,  ...,  1.0742e-01,\n",
            "           -8.8547e-01, -7.9863e-01],\n",
            "          [ 1.3996e+00,  5.7862e-01,  7.5918e-01,  ..., -2.5410e-01,\n",
            "            6.7761e-01,  1.4057e+00],\n",
            "          [ 1.4871e+00,  1.6876e+00,  1.3457e+00,  ..., -3.2310e-01,\n",
            "            6.7969e-01,  8.3071e-01]],\n",
            "\n",
            "         [[-1.1073e+00, -6.7611e-01, -3.3951e-02,  ...,  5.9628e-01,\n",
            "           -1.3001e+00,  1.6151e+00],\n",
            "          [-6.5000e-02, -1.3328e+00, -8.9570e-01,  ..., -4.6824e-01,\n",
            "           -1.9837e-01,  1.7513e+00],\n",
            "          [ 6.9278e-01, -8.6562e-01,  5.2849e-01,  ..., -3.9668e-01,\n",
            "           -7.0506e-01,  1.2650e+00],\n",
            "          ...,\n",
            "          [ 2.5064e+00, -1.8738e-01, -1.2564e+00,  ...,  1.5950e-01,\n",
            "           -4.8144e-01,  7.9836e-01],\n",
            "          [ 9.0475e-01, -3.5343e-02, -6.4396e-01,  ...,  3.9390e-01,\n",
            "            1.0789e+00, -3.3904e-01],\n",
            "          [ 3.0613e-01,  7.5485e-01, -1.2515e-01,  ..., -1.7701e+00,\n",
            "           -3.4898e-01,  1.3383e+00]],\n",
            "\n",
            "         [[ 6.5789e-01, -2.7925e-01, -8.1908e-01,  ...,  1.6757e+00,\n",
            "           -6.5477e-01,  7.9637e-01],\n",
            "          [-2.5652e+00,  3.1662e-01, -1.1370e+00,  ..., -1.2986e+00,\n",
            "            4.8421e-01,  5.8471e-01],\n",
            "          [-1.1591e-01, -2.6477e-01,  1.9794e+00,  ...,  1.0461e+00,\n",
            "           -8.3977e-01,  5.5407e-01],\n",
            "          ...,\n",
            "          [ 5.5327e-01, -1.2191e+00,  5.7880e-01,  ...,  3.6862e-02,\n",
            "           -1.9705e+00, -6.2322e-01],\n",
            "          [-9.1213e-02, -6.2483e-01, -4.8814e-02,  ...,  4.4860e-01,\n",
            "            3.9538e-01,  1.8334e+00],\n",
            "          [ 3.1147e-01,  2.0850e+00,  1.2053e+00,  ..., -5.2645e-01,\n",
            "            4.5129e-01, -5.8802e-01]],\n",
            "\n",
            "         ...,\n",
            "\n",
            "         [[-7.0824e-01, -1.1260e+00,  5.4828e-01,  ..., -6.5585e-02,\n",
            "           -3.1451e+00, -1.0707e+00],\n",
            "          [-8.2553e-01,  3.5381e-01, -6.1554e-01,  ...,  2.3673e+00,\n",
            "           -1.5118e+00,  6.5684e-01],\n",
            "          [ 8.4969e-01, -2.6834e-01, -8.2907e-01,  ...,  2.1427e-01,\n",
            "           -7.9169e-01, -1.0637e+00],\n",
            "          ...,\n",
            "          [ 5.5621e-01,  4.9535e-01,  2.7826e-01,  ...,  3.6200e-01,\n",
            "           -1.3119e+00,  1.3041e+00],\n",
            "          [ 2.1677e-01,  6.6563e-01, -8.1740e-01,  ...,  3.2329e+00,\n",
            "            1.1487e+00,  1.1116e+00],\n",
            "          [-3.7662e-01, -7.2941e-01, -8.0110e-01,  ..., -4.8909e-01,\n",
            "           -6.0430e-01,  4.4498e-01]],\n",
            "\n",
            "         [[ 1.1267e-01, -1.1256e-01,  1.1761e+00,  ..., -5.3111e-01,\n",
            "           -9.4352e-01, -1.4453e-01],\n",
            "          [-1.3700e+00, -3.3990e-01,  2.3849e-01,  ..., -1.8547e+00,\n",
            "            1.1176e+00,  6.3736e-01],\n",
            "          [-7.1495e-01,  2.9374e-01, -1.8544e-01,  ..., -1.2134e-01,\n",
            "            3.8116e-01,  2.9165e-01],\n",
            "          ...,\n",
            "          [ 1.2482e+00,  8.0928e-01, -1.8577e+00,  ..., -6.3430e-01,\n",
            "            4.4251e-01,  7.5218e-01],\n",
            "          [-8.8717e-01,  7.5964e-01,  4.1923e-01,  ...,  3.3776e-01,\n",
            "           -7.5676e-01, -2.1590e-01],\n",
            "          [ 1.8311e+00, -9.2808e-01,  1.3084e+00,  ..., -6.3362e-02,\n",
            "           -3.9906e-01,  2.4733e-01]],\n",
            "\n",
            "         [[ 2.6654e-01,  7.8178e-01, -5.6896e-01,  ...,  1.6962e+00,\n",
            "            5.0701e-01, -4.2673e-01],\n",
            "          [ 1.3369e-01,  2.5801e-01,  1.3062e+00,  ..., -1.4748e+00,\n",
            "            1.4021e-01,  7.4321e-01],\n",
            "          [ 4.0736e-01, -2.8832e+00, -7.5873e-02,  ..., -5.7661e-01,\n",
            "            1.2907e-01, -1.5771e+00],\n",
            "          ...,\n",
            "          [-3.7991e-01,  1.4651e+00,  1.5179e-01,  ..., -3.5582e-01,\n",
            "           -9.7193e-01, -1.0732e+00],\n",
            "          [ 2.0366e-01,  6.0808e-01, -6.2835e-01,  ..., -6.2207e-01,\n",
            "            1.7322e+00,  1.4802e+00],\n",
            "          [ 1.1336e+00,  2.0653e-01, -1.2941e+00,  ..., -5.8083e-01,\n",
            "            1.1069e+00,  1.1074e+00]]],\n",
            "\n",
            "\n",
            "        [[[-3.3339e-01,  2.8659e-01,  5.8116e-01,  ..., -1.1596e+00,\n",
            "            9.0982e-01,  7.4976e-01],\n",
            "          [ 1.5714e+00, -4.6312e-01,  7.3100e-01,  ...,  6.8918e-01,\n",
            "           -5.9989e-01, -1.3306e+00],\n",
            "          [-4.2206e-01, -8.5370e-01, -1.4672e-01,  ..., -1.6465e-01,\n",
            "           -1.0385e+00,  6.4487e-02],\n",
            "          ...,\n",
            "          [ 5.4208e-01,  9.7106e-01, -1.3847e+00,  ...,  3.0651e-01,\n",
            "           -1.2191e+00,  9.2023e-01],\n",
            "          [ 1.0978e-01, -1.1584e+00,  4.6170e-01,  ...,  2.2265e+00,\n",
            "           -3.6172e-02, -8.5643e-01],\n",
            "          [-7.4247e-01, -1.2910e-01,  1.3918e+00,  ..., -9.8246e-01,\n",
            "           -5.3572e-01,  9.0216e-01]],\n",
            "\n",
            "         [[-1.2551e+00, -7.8096e-01,  6.9736e-01,  ..., -2.3412e+00,\n",
            "            4.1043e-01,  5.1526e-01],\n",
            "          [ 2.4316e-01, -1.3046e+00, -7.6830e-01,  ...,  7.6580e-01,\n",
            "           -7.4956e-01, -8.8104e-01],\n",
            "          [-2.3196e+00,  1.4542e+00,  2.3946e+00,  ...,  3.5319e-01,\n",
            "           -1.6257e+00,  9.9802e-02],\n",
            "          ...,\n",
            "          [ 1.0358e+00,  7.3618e-01,  7.0566e-01,  ..., -8.3331e-01,\n",
            "            1.2357e+00,  1.0016e+00],\n",
            "          [-1.0940e+00,  3.9044e-01, -7.6386e-01,  ...,  5.6337e-01,\n",
            "            6.0335e-01,  1.3480e-01],\n",
            "          [ 6.8579e-01,  1.0745e+00, -5.5405e-01,  ...,  1.1903e+00,\n",
            "            9.2765e-01,  4.3845e-01]],\n",
            "\n",
            "         [[-1.1002e-01,  2.0605e-01, -4.5049e-01,  ...,  2.0685e+00,\n",
            "            8.8979e-01,  6.6035e-01],\n",
            "          [ 1.0116e+00, -1.3759e+00, -1.5122e+00,  ...,  8.2928e-02,\n",
            "           -2.6732e-01, -9.6152e-01],\n",
            "          [ 1.4297e+00,  1.0398e+00,  4.5328e-01,  ..., -8.9083e-01,\n",
            "            3.4249e-01, -1.1196e+00],\n",
            "          ...,\n",
            "          [-1.9448e+00,  6.4791e-01, -5.7100e-01,  ..., -4.5068e-02,\n",
            "           -1.1798e+00,  6.0425e-01],\n",
            "          [-9.0424e-01, -6.9429e-01, -2.6166e+00,  ..., -1.2372e+00,\n",
            "            5.4473e-01,  9.8957e-01],\n",
            "          [-3.5046e-01,  1.2441e+00,  9.8608e-02,  ...,  3.0245e-01,\n",
            "            1.4553e-01,  6.4587e-01]],\n",
            "\n",
            "         ...,\n",
            "\n",
            "         [[-1.7004e+00, -2.1168e+00,  7.9463e-01,  ..., -1.1395e+00,\n",
            "            2.2153e+00, -2.5718e-01],\n",
            "          [-8.1780e-01,  8.0529e-01, -5.4886e-01,  ..., -2.3804e+00,\n",
            "           -1.8597e+00,  1.6203e+00],\n",
            "          [ 3.6430e-01, -5.3035e-01,  4.6077e-01,  ...,  4.4783e-01,\n",
            "           -6.7058e-01,  3.1027e-01],\n",
            "          ...,\n",
            "          [ 1.4247e-01, -5.3466e-01, -8.0514e-01,  ..., -1.3984e+00,\n",
            "            1.8063e-01,  5.8497e-01],\n",
            "          [ 4.6214e-02,  1.0521e-01,  7.5055e-01,  ..., -9.2991e-01,\n",
            "            1.5142e+00, -1.4882e+00],\n",
            "          [ 2.1631e-01, -6.4200e-01,  1.3987e-01,  ..., -3.0770e-01,\n",
            "           -1.2017e+00,  5.7683e-01]],\n",
            "\n",
            "         [[ 2.6360e+00,  1.4097e+00,  4.3227e-01,  ..., -3.9332e-01,\n",
            "            1.1174e+00, -7.3305e-01],\n",
            "          [ 6.7437e-01, -2.2467e-01,  1.9353e+00,  ..., -1.6477e-01,\n",
            "           -1.1102e-01, -4.5579e-01],\n",
            "          [ 6.7472e-01,  2.2412e+00,  1.0320e+00,  ...,  2.0932e-01,\n",
            "           -5.1076e-01, -4.1868e-01],\n",
            "          ...,\n",
            "          [-3.2750e-01, -8.6244e-01,  4.8718e-01,  ...,  1.4630e+00,\n",
            "           -5.3961e-02, -5.2748e-01],\n",
            "          [-8.2119e-02,  1.5866e+00,  1.7036e-01,  ..., -3.5716e-01,\n",
            "           -3.0832e-02, -1.3580e+00],\n",
            "          [ 1.0742e+00, -1.3253e+00,  3.8879e-01,  ..., -6.7670e-01,\n",
            "            1.9689e+00,  1.3560e+00]],\n",
            "\n",
            "         [[ 1.0808e+00, -8.4198e-01,  4.2077e-01,  ...,  1.9694e+00,\n",
            "            2.0904e-01,  4.3763e-01],\n",
            "          [-2.4340e+00, -1.7609e+00, -8.7794e-01,  ..., -9.7858e-01,\n",
            "            4.5813e-01,  1.1872e+00],\n",
            "          [ 1.2596e+00,  7.1277e-01, -8.3547e-01,  ...,  5.6608e-01,\n",
            "           -1.5110e+00, -8.7716e-02],\n",
            "          ...,\n",
            "          [ 6.0132e-01,  4.0373e-01,  6.6688e-01,  ..., -6.8633e-01,\n",
            "           -7.2236e-01, -1.2025e+00],\n",
            "          [-1.8652e-01,  1.4463e+00,  5.5561e-01,  ..., -1.5771e+00,\n",
            "           -2.1410e-02, -6.1696e-02],\n",
            "          [-1.7007e+00,  3.2478e-01,  7.2354e-01,  ...,  1.8120e+00,\n",
            "           -3.3888e-01,  4.9139e-01]]],\n",
            "\n",
            "\n",
            "        ...,\n",
            "\n",
            "\n",
            "        [[[ 1.1271e-01,  5.0801e-01, -5.2288e-01,  ..., -2.5187e-01,\n",
            "            1.5847e-01, -1.7426e+00],\n",
            "          [ 8.2601e-01,  5.5868e-01,  8.9759e-01,  ...,  5.3710e-02,\n",
            "            1.6542e+00,  1.8644e+00],\n",
            "          [-3.9281e-01,  1.0601e-01, -7.4852e-01,  ...,  2.3870e-01,\n",
            "            4.1949e-01, -1.6942e+00],\n",
            "          ...,\n",
            "          [-1.1542e+00, -5.1365e-01,  1.1451e+00,  ...,  1.1863e+00,\n",
            "            6.6112e-01, -1.0410e+00],\n",
            "          [-6.3779e-01,  8.8048e-02, -1.1528e+00,  ..., -1.0341e+00,\n",
            "            4.8995e-01,  4.2539e-01],\n",
            "          [ 8.3719e-01, -1.1667e+00, -1.4709e+00,  ..., -3.5902e-01,\n",
            "            1.2663e+00,  4.8955e-01]],\n",
            "\n",
            "         [[-1.1249e+00,  4.5115e-01,  5.3083e-01,  ..., -7.9714e-02,\n",
            "            1.0353e+00,  1.0311e+00],\n",
            "          [ 1.4720e+00,  1.4374e+00, -9.1370e-01,  ...,  1.6186e-01,\n",
            "            6.4104e-01,  9.9638e-01],\n",
            "          [-9.4174e-01,  1.4042e+00, -1.0595e+00,  ...,  1.1822e+00,\n",
            "           -1.0546e+00, -2.1884e-01],\n",
            "          ...,\n",
            "          [-9.0394e-01, -2.7316e-01,  9.4248e-01,  ..., -4.5671e-01,\n",
            "           -1.0605e-01, -6.4572e-01],\n",
            "          [ 1.1580e-01, -1.1057e+00,  6.7751e-01,  ..., -4.6386e-01,\n",
            "           -7.4818e-01,  1.0228e+00],\n",
            "          [ 2.8973e-01, -1.3755e+00,  5.8838e-01,  ..., -9.2232e-01,\n",
            "            1.0347e+00,  6.4888e-01]],\n",
            "\n",
            "         [[ 1.2605e+00,  1.0161e+00, -4.7189e-01,  ..., -1.0556e+00,\n",
            "           -2.5300e-01,  1.8394e+00],\n",
            "          [-2.2939e-01, -1.5406e+00,  2.8386e-01,  ...,  2.1900e-01,\n",
            "            5.6826e-01, -7.9336e-02],\n",
            "          [ 1.1111e+00,  2.7122e-01, -1.6586e-01,  ...,  9.6625e-01,\n",
            "            4.4215e-01, -2.0885e-01],\n",
            "          ...,\n",
            "          [-1.2563e-01, -4.1222e-01, -1.0561e+00,  ..., -1.7176e-01,\n",
            "           -9.6186e-01,  9.0750e-01],\n",
            "          [-6.2736e-01, -2.3397e-01, -4.1565e-02,  ..., -4.7533e-01,\n",
            "           -1.1933e+00, -1.0499e+00],\n",
            "          [-2.5545e-01, -1.4089e-01,  1.0201e+00,  ..., -8.5856e-01,\n",
            "            7.2475e-01,  2.5075e+00]],\n",
            "\n",
            "         ...,\n",
            "\n",
            "         [[-5.7643e-01, -8.9155e-01, -1.4748e-01,  ...,  1.3571e+00,\n",
            "           -1.9657e+00, -5.3919e-01],\n",
            "          [-8.7825e-01,  2.5699e-01,  3.0585e-01,  ..., -1.4126e+00,\n",
            "           -9.4863e-01,  1.6467e+00],\n",
            "          [ 1.6033e+00,  3.3123e+00, -1.0613e+00,  ..., -2.7592e-01,\n",
            "            3.9091e-01, -6.2339e-01],\n",
            "          ...,\n",
            "          [ 1.0476e+00, -7.0136e-01, -8.4482e-01,  ...,  5.8279e-01,\n",
            "            1.3917e+00,  6.6301e-01],\n",
            "          [-7.7783e-01,  9.8945e-01,  5.9415e-01,  ..., -5.2234e-01,\n",
            "           -5.6360e-01, -8.3482e-01],\n",
            "          [-2.8709e+00, -3.3586e-01, -5.2597e-01,  ..., -3.7555e-01,\n",
            "            6.6646e-02, -5.0383e-02]],\n",
            "\n",
            "         [[-1.4378e+00, -8.4434e-02,  1.0892e+00,  ...,  5.4744e-01,\n",
            "           -8.8008e-01,  9.3948e-01],\n",
            "          [ 1.6445e+00,  7.1280e-01, -4.7370e-03,  ..., -1.3639e+00,\n",
            "           -1.1778e+00,  6.2193e-02],\n",
            "          [-1.1267e+00,  1.2160e+00, -1.3862e-01,  ...,  7.6503e-01,\n",
            "            4.8584e-01,  1.0952e+00],\n",
            "          ...,\n",
            "          [ 5.4917e-01, -1.6395e-01,  5.4667e-01,  ..., -6.7320e-01,\n",
            "           -4.8963e-03,  2.2661e-01],\n",
            "          [-2.5790e-01, -3.1359e-02, -2.6154e-02,  ...,  5.9095e-01,\n",
            "            4.1336e-01, -1.7275e+00],\n",
            "          [ 6.3517e-01, -5.3989e-01, -2.1504e+00,  ...,  5.9563e-01,\n",
            "            1.1471e+00,  1.3241e-01]],\n",
            "\n",
            "         [[-6.6104e-01, -2.8186e+00,  8.5944e-01,  ..., -1.9733e-01,\n",
            "            6.9943e-01,  1.0811e+00],\n",
            "          [-7.5663e-01,  1.0083e+00, -8.2596e-01,  ..., -1.9206e+00,\n",
            "           -1.8587e+00,  1.5082e+00],\n",
            "          [-1.0620e+00,  1.5805e-01,  1.1934e+00,  ...,  2.2327e-01,\n",
            "           -8.4851e-01, -4.0692e-02],\n",
            "          ...,\n",
            "          [-3.3484e-01, -4.4441e-01, -1.1178e+00,  ...,  1.9379e-01,\n",
            "            8.9247e-01, -8.7435e-01],\n",
            "          [-5.6507e-01, -1.1921e+00, -5.2093e-01,  ...,  4.2467e-01,\n",
            "           -2.0053e+00, -1.5308e+00],\n",
            "          [-2.0048e-01, -1.1477e-01,  7.0252e-01,  ..., -1.7181e-01,\n",
            "           -2.0196e-01, -6.1256e-01]]],\n",
            "\n",
            "\n",
            "        [[[ 2.2304e-01,  1.1757e+00, -1.3178e+00,  ..., -3.6937e-01,\n",
            "           -9.0779e-01, -8.5555e-01],\n",
            "          [ 4.7477e-01,  1.1178e+00, -1.8668e+00,  ..., -5.7808e-01,\n",
            "            6.6534e-01,  7.4881e-01],\n",
            "          [-7.2499e-01,  2.2852e+00, -2.5289e-01,  ...,  3.0776e-01,\n",
            "            2.1680e+00, -5.0890e-01],\n",
            "          ...,\n",
            "          [ 1.7329e+00, -1.2559e-01,  6.8449e-01,  ..., -1.0096e+00,\n",
            "           -8.6419e-02,  1.0653e+00],\n",
            "          [-1.4760e+00,  1.2076e+00, -5.8596e-01,  ..., -1.3145e+00,\n",
            "            1.5335e+00, -6.2056e-01],\n",
            "          [-1.4789e+00, -1.3371e+00,  1.5406e+00,  ...,  2.8880e-01,\n",
            "            1.2399e+00,  2.1751e-01]],\n",
            "\n",
            "         [[ 4.7798e-01, -9.6122e-01,  1.2356e-01,  ..., -1.1839e+00,\n",
            "           -2.8818e-02, -4.9403e-01],\n",
            "          [ 4.8554e-01, -1.6813e-01,  3.8036e-01,  ..., -6.7802e-02,\n",
            "            5.1001e-01,  3.4761e-01],\n",
            "          [ 1.0016e+00, -5.7690e-01, -1.2257e+00,  ...,  5.7714e-01,\n",
            "           -2.4041e-01,  5.0044e-01],\n",
            "          ...,\n",
            "          [-1.1339e-01,  1.4697e+00,  2.2694e-01,  ..., -4.0283e-01,\n",
            "           -1.6058e+00,  1.2431e+00],\n",
            "          [ 3.4668e-02,  1.1226e+00,  8.4254e-01,  ..., -5.1042e-01,\n",
            "            5.8733e-01,  5.7809e-03],\n",
            "          [-4.9492e-01, -4.5039e-01, -1.0845e+00,  ..., -1.3813e-01,\n",
            "           -1.7392e+00, -2.1267e-01]],\n",
            "\n",
            "         [[-1.0020e+00, -5.5558e-01,  2.0768e-01,  ..., -2.0933e+00,\n",
            "           -5.3187e-01, -1.6508e-01],\n",
            "          [ 7.2502e-01, -3.9077e-01, -8.3497e-01,  ..., -1.4701e+00,\n",
            "           -1.5251e+00,  3.4391e-01],\n",
            "          [-3.4967e-01,  2.3338e-01,  1.3305e+00,  ...,  1.5120e+00,\n",
            "            5.6175e-01, -4.4894e-01],\n",
            "          ...,\n",
            "          [ 3.9392e-01,  3.7323e-01, -2.3055e-01,  ...,  5.4046e-01,\n",
            "            3.2317e-01, -1.7403e-01],\n",
            "          [-2.5505e-01,  1.6081e+00,  5.7128e-01,  ..., -1.1611e+00,\n",
            "            5.1934e-01, -4.8784e-01],\n",
            "          [ 9.0715e-02, -7.4210e-01,  4.6128e-01,  ..., -1.0188e+00,\n",
            "            2.7179e-01,  5.4587e-01]],\n",
            "\n",
            "         ...,\n",
            "\n",
            "         [[-2.4251e+00,  1.0443e+00, -2.9868e+00,  ...,  1.6118e+00,\n",
            "           -1.1187e+00, -1.6459e-01],\n",
            "          [ 8.9121e-01, -1.1175e+00, -1.0408e+00,  ...,  2.2458e+00,\n",
            "           -1.1596e+00, -9.8886e-01],\n",
            "          [-1.5380e+00,  2.5881e-01, -3.0098e-01,  ..., -2.1176e+00,\n",
            "           -1.5370e-01,  1.7686e+00],\n",
            "          ...,\n",
            "          [ 6.0072e-01,  2.6367e+00, -7.6235e-01,  ...,  1.3773e+00,\n",
            "           -1.0671e+00, -6.7642e-01],\n",
            "          [-1.4490e-01,  9.7313e-01,  1.8235e-01,  ...,  8.4119e-01,\n",
            "            2.1871e+00,  1.1849e+00],\n",
            "          [ 4.4960e-01,  5.5007e-01, -1.2101e+00,  ..., -4.7377e-01,\n",
            "            5.4836e-01, -8.2674e-01]],\n",
            "\n",
            "         [[ 1.2640e-01,  3.1130e-01, -5.8922e-02,  ...,  7.9276e-01,\n",
            "           -9.8318e-01,  1.5340e-01],\n",
            "          [ 4.9699e-01,  7.3692e-01, -1.4993e+00,  ..., -1.3522e+00,\n",
            "           -7.6091e-01, -7.1828e-01],\n",
            "          [-6.7368e-01, -1.1192e+00,  8.7503e-01,  ...,  1.2229e+00,\n",
            "            2.3947e+00, -2.1858e+00],\n",
            "          ...,\n",
            "          [ 2.7699e+00, -5.8020e-01,  8.0088e-01,  ..., -7.1296e-02,\n",
            "            9.9030e-02, -2.1738e+00],\n",
            "          [-4.6737e-01,  9.9424e-01, -8.1788e-01,  ...,  3.7962e-01,\n",
            "            3.7091e-01, -8.7373e-01],\n",
            "          [ 2.0104e+00, -8.1749e-01, -4.6793e-02,  ...,  1.8808e+00,\n",
            "            4.2974e-01, -6.8637e-01]],\n",
            "\n",
            "         [[-1.6452e+00, -1.1971e+00, -8.0073e-01,  ..., -6.8354e-01,\n",
            "            2.0762e-01, -6.1555e-01],\n",
            "          [-1.0461e+00, -7.1371e-02, -3.9182e-01,  ..., -9.3849e-01,\n",
            "            2.2307e-01, -1.1299e+00],\n",
            "          [-8.6333e-01,  1.3462e+00, -1.4400e+00,  ..., -6.1759e-01,\n",
            "            5.1196e-01, -2.9838e-02],\n",
            "          ...,\n",
            "          [-1.7433e-01,  4.8431e-01, -5.5682e-01,  ...,  3.1747e-01,\n",
            "           -7.5918e-01,  3.3324e-01],\n",
            "          [ 1.0122e+00,  5.8951e-01, -9.5396e-01,  ...,  4.3642e-01,\n",
            "           -1.4076e+00, -9.6148e-01],\n",
            "          [-3.4049e-01,  1.0255e+00, -7.4699e-01,  ...,  1.7911e-01,\n",
            "           -1.3240e+00, -3.2954e-01]]],\n",
            "\n",
            "\n",
            "        [[[-2.0670e+00,  8.0309e-01,  7.9244e-01,  ...,  9.6372e-02,\n",
            "            1.5447e+00, -1.9789e+00],\n",
            "          [ 8.2517e-01,  1.5944e+00,  4.7474e-01,  ..., -3.1158e-01,\n",
            "           -4.9522e-01,  3.0216e-02],\n",
            "          [ 2.7215e-01,  5.8553e-01, -9.2172e-01,  ...,  9.8585e-01,\n",
            "           -5.6927e-01,  7.4620e-02],\n",
            "          ...,\n",
            "          [-6.1683e-01,  4.7865e-02, -5.9103e-01,  ...,  2.8425e-01,\n",
            "           -1.5414e+00,  1.1685e+00],\n",
            "          [ 1.3278e+00, -3.8032e-01,  1.3772e-01,  ...,  1.2420e+00,\n",
            "           -1.9833e-01,  2.2502e-01],\n",
            "          [-4.5054e-01, -6.5683e-01, -7.9413e-03,  ..., -4.3458e-01,\n",
            "           -3.5819e-01, -8.7498e-01]],\n",
            "\n",
            "         [[-6.9860e-01,  1.0126e+00,  1.8452e+00,  ..., -5.5419e-01,\n",
            "            1.3837e+00, -2.0509e+00],\n",
            "          [ 1.2449e+00,  1.2102e+00, -9.1664e-01,  ...,  1.0659e+00,\n",
            "            5.0151e-01,  1.9924e-01],\n",
            "          [-1.1045e+00, -1.8671e-01,  3.2498e-01,  ..., -1.8066e+00,\n",
            "           -1.9429e+00,  2.3768e-01],\n",
            "          ...,\n",
            "          [ 1.0796e+00, -6.1669e-01,  7.9807e-02,  ...,  1.4345e+00,\n",
            "           -3.3381e-01,  3.3254e-01],\n",
            "          [ 1.9799e-03,  3.9027e-02, -5.4955e-01,  ..., -9.2023e-01,\n",
            "            1.4809e+00, -9.2934e-01],\n",
            "          [-8.1068e-01,  6.3220e-01,  1.2484e+00,  ..., -4.1590e-01,\n",
            "            1.0426e+00,  8.3020e-01]],\n",
            "\n",
            "         [[-3.2203e-01, -2.8340e-01, -3.3395e-01,  ..., -1.2252e+00,\n",
            "            3.2297e-01,  1.8234e+00],\n",
            "          [ 3.4721e-02,  9.7458e-01,  4.9552e-01,  ..., -1.0824e+00,\n",
            "            1.0391e-01, -1.9119e+00],\n",
            "          [-2.0482e+00, -9.4807e-01, -1.2038e+00,  ...,  2.9978e-01,\n",
            "            5.6512e-01, -2.2769e-01],\n",
            "          ...,\n",
            "          [-1.1317e+00,  6.6550e-01,  2.5506e-01,  ...,  1.8794e-01,\n",
            "           -5.5919e-01,  1.1717e+00],\n",
            "          [-2.0352e-01, -3.5979e-01,  6.6838e-01,  ..., -1.9784e+00,\n",
            "           -4.8690e-01,  6.9334e-01],\n",
            "          [-4.4532e-01,  1.2223e+00, -9.1523e-01,  ...,  7.4061e-01,\n",
            "           -5.2010e-01,  2.4655e-01]],\n",
            "\n",
            "         ...,\n",
            "\n",
            "         [[-1.8660e-01, -1.1011e+00, -2.3574e+00,  ...,  5.6010e-02,\n",
            "            8.1653e-01,  1.5862e-01],\n",
            "          [-1.0340e+00,  4.2605e-01,  3.1401e-01,  ...,  1.4495e+00,\n",
            "            1.3066e+00,  1.2163e+00],\n",
            "          [ 4.8227e-01, -2.0595e-01,  1.6373e-01,  ...,  6.7301e-01,\n",
            "            1.1698e+00, -6.4064e-01],\n",
            "          ...,\n",
            "          [-8.1944e-01,  3.7673e-01, -3.4399e-01,  ..., -7.1440e-01,\n",
            "           -1.0561e+00,  7.2534e-02],\n",
            "          [ 1.2381e+00,  1.5602e+00,  1.2601e+00,  ...,  3.3649e-02,\n",
            "           -6.1941e-01,  1.7930e+00],\n",
            "          [-1.2237e+00,  7.0985e-01, -5.5427e-01,  ..., -1.0539e+00,\n",
            "           -1.4481e+00,  7.9646e-01]],\n",
            "\n",
            "         [[ 7.5027e-01,  2.5617e+00, -1.3978e+00,  ...,  7.6406e-02,\n",
            "           -1.1191e-01, -6.3899e-01],\n",
            "          [ 3.4313e-01,  1.5276e+00,  6.5812e-01,  ..., -7.4419e-02,\n",
            "           -1.0503e-01,  1.2874e+00],\n",
            "          [ 2.4661e-01,  7.1957e-02,  8.3549e-01,  ...,  1.2583e+00,\n",
            "            4.4776e-01,  6.9630e-01],\n",
            "          ...,\n",
            "          [-1.6589e+00,  3.9088e-01,  9.8111e-01,  ..., -4.9396e-01,\n",
            "           -6.7610e-01, -9.7714e-01],\n",
            "          [ 9.1406e-01, -5.2569e-01,  1.2673e-01,  ...,  8.1222e-01,\n",
            "            3.0042e-01,  3.6631e-01],\n",
            "          [ 1.0745e+00, -1.6890e+00, -1.4342e-01,  ..., -2.1111e+00,\n",
            "           -6.0233e-01,  4.7612e-01]],\n",
            "\n",
            "         [[ 7.6128e-01,  5.5565e-01,  8.3191e-01,  ..., -5.1652e-01,\n",
            "           -3.4210e-01,  2.6349e-01],\n",
            "          [-1.1139e+00,  3.5735e-01, -5.1995e-01,  ...,  1.2546e-01,\n",
            "           -1.3423e+00,  2.4684e-01],\n",
            "          [-4.5892e-01,  6.7917e-01,  1.7256e+00,  ...,  1.1124e-01,\n",
            "           -9.8628e-01, -9.9086e-01],\n",
            "          ...,\n",
            "          [ 1.9005e-01,  4.3640e-02,  1.0665e-01,  ..., -4.8470e-01,\n",
            "            9.0159e-01, -1.2992e-01],\n",
            "          [ 3.0694e-01,  7.7602e-01,  1.8245e+00,  ...,  6.1906e-01,\n",
            "            1.3413e+00,  4.9806e-01],\n",
            "          [ 1.2036e+00,  2.1311e-01, -1.0935e+00,  ..., -1.1749e-01,\n",
            "            1.3487e+00, -2.7922e-01]]]])\n",
            "tensor([[[[-4.4836e-02,  6.0318e-01,  2.6545e-01,  ..., -5.5319e-01,\n",
            "           -1.6954e-01, -1.7579e-01],\n",
            "          [-1.9990e-01,  2.5188e-02,  2.6662e-01,  ..., -6.4472e-01,\n",
            "           -5.2059e-01, -6.5314e-01],\n",
            "          [ 6.3620e-02, -4.7358e-01,  1.0121e-01,  ...,  1.1128e+00,\n",
            "            2.0425e-01, -5.1769e-01],\n",
            "          ...,\n",
            "          [-7.7992e-01,  3.3643e-01,  9.9401e-01,  ..., -6.0000e-01,\n",
            "            4.1661e-01,  2.0983e-01],\n",
            "          [ 5.3888e-01,  3.9748e-02,  3.6017e-01,  ..., -6.9198e-01,\n",
            "            2.5934e-01, -2.6869e-02],\n",
            "          [ 3.7462e-01, -3.2955e-01,  5.2816e-01,  ..., -3.6005e-02,\n",
            "           -2.2533e-01, -7.3785e-02]],\n",
            "\n",
            "         [[ 2.2865e-01, -5.5414e-01, -2.8660e-01,  ...,  5.1476e-01,\n",
            "           -2.3474e-02, -2.0752e-01],\n",
            "          [-7.7660e-01,  1.0741e+00, -1.4587e-01,  ..., -1.3492e-01,\n",
            "            2.7856e-01,  4.2866e-01],\n",
            "          [ 1.9396e-01,  3.0949e-01,  8.5396e-01,  ..., -6.2274e-01,\n",
            "            8.8956e-01, -1.0770e-01],\n",
            "          ...,\n",
            "          [-3.6402e-01,  5.6567e-01,  6.6162e-01,  ...,  1.9514e-01,\n",
            "            6.9818e-01,  5.4930e-03],\n",
            "          [ 2.3931e-01,  1.2917e+00, -2.6979e-01,  ...,  8.0972e-01,\n",
            "           -3.8640e-01,  1.2894e-01],\n",
            "          [ 8.0891e-01,  1.7968e-01,  2.2501e-01,  ..., -6.3471e-01,\n",
            "            4.7324e-01, -3.9697e-02]],\n",
            "\n",
            "         [[-1.1916e-01,  1.8859e-01,  6.5005e-01,  ..., -7.4573e-01,\n",
            "           -2.8806e-01,  2.5667e-01],\n",
            "          [ 2.0435e-01,  5.2698e-02, -4.2221e-01,  ...,  5.9662e-01,\n",
            "            4.4177e-01,  3.4864e-01],\n",
            "          [-3.1782e-01,  3.6696e-01,  8.7580e-01,  ..., -7.5953e-02,\n",
            "            6.4322e-03, -1.5548e-02],\n",
            "          ...,\n",
            "          [-3.3788e-01,  5.3831e-01,  4.1602e-01,  ...,  1.5760e-02,\n",
            "           -3.7797e-01, -8.0638e-01],\n",
            "          [ 1.7151e-01, -2.0050e-02,  7.7751e-01,  ...,  2.6069e-01,\n",
            "            4.5518e-01, -3.4875e-02],\n",
            "          [ 1.0081e-01, -9.1573e-01, -3.6167e-01,  ...,  3.4320e-02,\n",
            "           -3.7902e-01, -4.9109e-01]],\n",
            "\n",
            "         ...,\n",
            "\n",
            "         [[-1.8115e-01, -7.3410e-01,  2.2901e-01,  ..., -9.0077e-02,\n",
            "            1.9314e-01,  3.0587e-01],\n",
            "          [ 2.4424e-01, -3.7368e-02, -1.5187e-01,  ...,  1.0200e+00,\n",
            "           -4.4253e-01,  2.4651e-01],\n",
            "          [ 3.8880e-01, -7.0879e-01,  1.4881e-01,  ..., -6.4516e-01,\n",
            "            3.0251e-01,  3.1841e-01],\n",
            "          ...,\n",
            "          [ 6.8505e-02, -8.0920e-02, -3.4912e-01,  ..., -8.1515e-01,\n",
            "           -1.3129e-01,  6.9901e-01],\n",
            "          [-3.5955e-01,  2.1800e-01, -3.9539e-01,  ..., -2.4107e-02,\n",
            "            2.9125e-01, -6.1948e-01],\n",
            "          [-9.0899e-01,  1.9831e-01,  5.1933e-01,  ...,  4.3045e-02,\n",
            "           -5.3852e-01, -4.8374e-01]],\n",
            "\n",
            "         [[ 1.4510e-01, -5.4877e-01,  4.9209e-01,  ..., -3.8596e-01,\n",
            "           -4.7270e-02, -1.6105e-01],\n",
            "          [-7.2115e-01, -2.7124e-02, -6.1599e-01,  ..., -4.1319e-01,\n",
            "            1.4418e-01, -3.2295e-01],\n",
            "          [ 8.0730e-01,  5.4128e-01,  3.4048e-02,  ..., -1.0609e+00,\n",
            "           -9.7230e-01,  3.3921e-02],\n",
            "          ...,\n",
            "          [-2.6554e-01,  3.4031e-02,  4.2346e-01,  ..., -5.2405e-01,\n",
            "            3.0532e-01,  6.7484e-01],\n",
            "          [ 2.1764e-01,  1.7736e-01,  5.3675e-02,  ..., -5.9963e-01,\n",
            "           -2.3316e-01, -4.6481e-01],\n",
            "          [-2.3588e-02,  2.9897e-01,  3.6329e-01,  ...,  3.1251e-01,\n",
            "           -1.4143e-01,  4.2116e-03]],\n",
            "\n",
            "         [[ 3.8972e-02,  2.3679e-01, -2.4101e-01,  ...,  7.0225e-02,\n",
            "           -5.2190e-01, -2.6185e-01],\n",
            "          [ 1.2530e-01, -4.3454e-02,  1.1251e+00,  ..., -3.2102e-01,\n",
            "            2.2481e-01, -1.5874e-01],\n",
            "          [-1.5786e-01,  2.0919e-01,  9.2271e-02,  ...,  1.7387e-01,\n",
            "            3.9238e-01, -1.3970e-01],\n",
            "          ...,\n",
            "          [ 3.4394e-01, -7.7779e-02, -6.5646e-01,  ...,  1.6024e-01,\n",
            "            7.2726e-01, -3.1816e-01],\n",
            "          [ 2.2142e-01,  2.1038e-01,  2.1943e-01,  ...,  4.5731e-01,\n",
            "            5.7172e-01, -1.9254e-01],\n",
            "          [ 2.1207e-01,  1.7415e-01, -5.8516e-01,  ...,  4.8550e-01,\n",
            "            3.0023e-01, -3.4052e-01]]],\n",
            "\n",
            "\n",
            "        [[[ 1.8304e-01, -1.6481e-01, -4.4699e-01,  ...,  3.6417e-01,\n",
            "            7.2582e-02, -3.2809e-01],\n",
            "          [ 3.4497e-01, -1.5465e-02, -3.5482e-02,  ...,  6.1111e-01,\n",
            "           -9.3522e-01,  3.3412e-01],\n",
            "          [ 1.5273e-01,  2.2719e-01, -7.5978e-01,  ...,  2.7649e-02,\n",
            "           -5.4739e-01, -1.6587e-01],\n",
            "          ...,\n",
            "          [-3.8655e-01, -6.1532e-01, -3.5606e-01,  ...,  2.1690e-01,\n",
            "           -7.4629e-01, -2.2981e-01],\n",
            "          [-6.9057e-02, -5.2528e-01,  1.0954e-01,  ..., -3.5581e-01,\n",
            "            2.5584e-01, -1.7688e-01],\n",
            "          [ 5.5092e-02, -4.0920e-01, -3.1906e-01,  ...,  3.9240e-01,\n",
            "            5.6825e-01,  3.4661e-01]],\n",
            "\n",
            "         [[ 2.2845e-01,  3.5591e-01,  1.4144e-01,  ...,  1.3730e-01,\n",
            "            7.8292e-02,  5.5993e-02],\n",
            "          [ 5.4061e-01,  2.2413e-02, -4.8714e-01,  ...,  2.9375e-01,\n",
            "           -6.4814e-01,  2.1682e-01],\n",
            "          [ 7.2775e-02,  6.1160e-02,  1.2457e-01,  ...,  1.2747e-01,\n",
            "            1.1617e+00, -1.9795e-02],\n",
            "          ...,\n",
            "          [-1.0141e+00, -8.6112e-01,  9.7730e-02,  ..., -2.4245e-01,\n",
            "            1.8106e+00,  3.3806e-01],\n",
            "          [ 1.0376e-01,  3.4665e-01, -3.8886e-01,  ...,  5.2220e-01,\n",
            "            1.2630e-01,  2.4431e-01],\n",
            "          [-1.5271e-01,  7.3614e-02,  1.4359e-01,  ...,  5.2482e-01,\n",
            "            2.8477e-01,  6.1921e-01]],\n",
            "\n",
            "         [[ 1.3327e-01, -5.5070e-01, -4.7715e-01,  ..., -1.6613e-01,\n",
            "           -1.3763e-01, -6.7221e-02],\n",
            "          [ 3.5149e-02,  6.1957e-02, -6.3177e-02,  ...,  8.6839e-01,\n",
            "            8.9028e-02, -1.2522e-02],\n",
            "          [ 1.4499e-01, -3.0676e-01,  1.2330e+00,  ..., -1.4815e+00,\n",
            "            4.4473e-01, -2.8718e-01],\n",
            "          ...,\n",
            "          [-4.1396e-01, -2.4435e-01, -8.5544e-04,  ...,  1.3131e-01,\n",
            "            6.2504e-01,  6.7565e-01],\n",
            "          [-1.2487e-02,  5.9839e-01,  3.4673e-01,  ..., -2.0335e-01,\n",
            "           -1.5323e+00,  1.9848e-01],\n",
            "          [-8.2416e-03, -8.0543e-02, -9.2411e-01,  ...,  5.9384e-01,\n",
            "           -1.0369e-01,  2.4358e-01]],\n",
            "\n",
            "         ...,\n",
            "\n",
            "         [[-4.2148e-01,  2.9846e-01, -1.3424e-01,  ...,  2.2802e-02,\n",
            "            2.4965e-01,  9.7697e-02],\n",
            "          [-2.3794e-01,  1.0347e+00, -4.5181e-01,  ...,  5.2963e-03,\n",
            "            9.3314e-01, -3.8084e-01],\n",
            "          [ 1.7583e-01,  4.2012e-01, -1.5956e-01,  ...,  5.4993e-01,\n",
            "           -8.3322e-01,  8.6598e-01],\n",
            "          ...,\n",
            "          [ 8.9665e-02, -5.2792e-01, -5.1110e-02,  ...,  3.7565e-01,\n",
            "            4.7233e-01,  9.8869e-01],\n",
            "          [ 4.9598e-01,  1.0994e-01,  1.5173e-02,  ..., -3.1164e-01,\n",
            "            8.1936e-02,  3.7832e-02],\n",
            "          [-5.1605e-01, -8.5717e-01,  3.3861e-01,  ..., -4.1459e-01,\n",
            "           -3.3479e-01,  1.5014e-01]],\n",
            "\n",
            "         [[ 1.8067e-01, -9.6777e-03, -6.3485e-01,  ...,  3.2299e-01,\n",
            "           -2.6964e-01, -1.5701e-01],\n",
            "          [-2.6216e-01, -7.8085e-01, -5.1326e-01,  ..., -1.0632e+00,\n",
            "           -8.3842e-02, -9.8287e-02],\n",
            "          [ 1.4411e-01,  3.2952e-01,  1.5889e-01,  ..., -9.7198e-02,\n",
            "            3.0839e-01,  5.1303e-01],\n",
            "          ...,\n",
            "          [ 3.5335e-01, -2.7016e-01,  1.0722e+00,  ..., -2.6009e-01,\n",
            "            4.1979e-01,  5.4699e-01],\n",
            "          [ 3.2744e-01, -1.0941e-01, -4.2393e-01,  ..., -5.6530e-01,\n",
            "           -2.1608e-01,  5.3177e-02],\n",
            "          [-5.4633e-02, -4.0146e-01, -4.7044e-01,  ...,  5.2250e-01,\n",
            "            1.5457e-01, -3.7219e-01]],\n",
            "\n",
            "         [[ 3.2106e-01, -4.9913e-01, -2.8336e-02,  ...,  2.0925e-01,\n",
            "           -2.4899e-01,  4.3519e-02],\n",
            "          [-2.8887e-01, -1.3936e-01, -2.9131e-01,  ..., -4.7095e-01,\n",
            "           -3.5238e-02, -2.1468e-01],\n",
            "          [-5.8004e-01,  1.7805e-01,  9.0023e-01,  ...,  1.9500e-01,\n",
            "           -1.1997e+00, -9.2952e-02],\n",
            "          ...,\n",
            "          [ 1.5686e-01, -6.1725e-01,  1.9758e+00,  ...,  2.6225e-01,\n",
            "           -6.9939e-01,  4.7362e-01],\n",
            "          [ 2.7742e-02,  1.1894e-01,  9.1142e-02,  ..., -2.8919e-01,\n",
            "           -3.7476e-01, -9.9276e-02],\n",
            "          [-1.4303e-01, -8.7227e-03, -3.7612e-02,  ..., -1.2007e-01,\n",
            "            1.6636e-01, -6.2800e-02]]],\n",
            "\n",
            "\n",
            "        [[[ 1.5620e-01,  7.0725e-03, -3.8397e-01,  ...,  6.1478e-02,\n",
            "            3.5275e-01, -4.9627e-01],\n",
            "          [ 6.8847e-02,  3.2812e-01, -8.4402e-01,  ..., -1.0390e-01,\n",
            "            7.7119e-01,  1.1528e-01],\n",
            "          [ 4.2612e-01, -1.5832e-01, -1.8131e-01,  ..., -2.3564e-02,\n",
            "            3.7538e-01, -3.3124e-01],\n",
            "          ...,\n",
            "          [ 2.4043e-03, -1.6363e-01, -1.3291e-01,  ..., -6.8277e-01,\n",
            "            7.0850e-01, -6.8278e-02],\n",
            "          [-1.0367e-01, -3.1413e-01, -1.0328e-01,  ...,  5.1571e-01,\n",
            "            1.0687e+00,  3.1175e-01],\n",
            "          [ 8.2692e-02, -3.2213e-01,  1.5311e-01,  ..., -1.8704e-01,\n",
            "           -2.7844e-01, -4.5011e-01]],\n",
            "\n",
            "         [[ 5.7228e-01, -2.7577e-01,  8.3352e-01,  ..., -7.9320e-03,\n",
            "            3.1860e-01, -6.8398e-03],\n",
            "          [-2.6698e-01,  1.2372e-01,  4.9328e-01,  ..., -3.1345e-01,\n",
            "            3.6045e-01,  4.4779e-01],\n",
            "          [ 2.9545e-02,  7.4709e-02, -6.3936e-01,  ..., -3.2970e-01,\n",
            "            6.7521e-01,  3.4159e-01],\n",
            "          ...,\n",
            "          [-3.0925e-01, -2.2098e-03,  3.5947e-01,  ..., -6.7766e-01,\n",
            "            4.2390e-01,  5.4394e-01],\n",
            "          [-5.3244e-01,  5.1491e-01,  9.7100e-01,  ...,  9.5477e-02,\n",
            "            2.0428e-01, -2.2962e-01],\n",
            "          [-1.0072e-01,  4.6668e-01, -6.5829e-01,  ..., -5.7159e-01,\n",
            "           -2.7637e-01,  1.2867e-01]],\n",
            "\n",
            "         [[-3.1003e-01, -2.8376e-03,  6.1533e-01,  ..., -2.6305e-01,\n",
            "           -1.3429e-01, -2.0700e-01],\n",
            "          [-5.5815e-01,  2.4630e-01, -2.4537e-01,  ..., -9.8818e-01,\n",
            "           -4.7688e-01, -3.7228e-01],\n",
            "          [ 6.7614e-01,  6.8167e-01, -3.8829e-01,  ..., -4.8245e-01,\n",
            "            3.3912e-01,  5.1094e-02],\n",
            "          ...,\n",
            "          [-6.1224e-01, -4.9939e-01, -8.0488e-01,  ...,  5.5011e-01,\n",
            "            6.0955e-01, -2.6576e-01],\n",
            "          [-6.5452e-01,  6.4181e-01, -1.1773e+00,  ...,  5.1241e-02,\n",
            "            1.4071e-01,  3.7453e-01],\n",
            "          [-4.7191e-01, -4.3120e-01,  2.4321e-01,  ..., -3.9040e-01,\n",
            "           -1.7781e-01,  1.4662e-01]],\n",
            "\n",
            "         ...,\n",
            "\n",
            "         [[-3.4016e-01,  2.4686e-01, -6.6217e-01,  ...,  1.8058e-01,\n",
            "           -2.5365e-01,  1.1744e-01],\n",
            "          [-6.3721e-02, -8.2794e-02,  9.5779e-01,  ...,  2.7228e-01,\n",
            "           -3.0066e-01, -3.0285e-01],\n",
            "          [ 3.0794e-01,  6.1795e-01,  3.6649e-01,  ..., -1.0468e-01,\n",
            "           -4.6965e-01,  2.5413e-01],\n",
            "          ...,\n",
            "          [ 3.6843e-01,  7.3755e-01, -9.5707e-01,  ..., -6.5761e-01,\n",
            "           -3.7226e-01,  4.6980e-01],\n",
            "          [-3.9661e-01,  4.3521e-01,  2.4804e-02,  ..., -1.0437e-01,\n",
            "           -1.4441e-01,  7.5016e-01],\n",
            "          [ 7.3582e-01, -5.0412e-01, -1.1181e+00,  ..., -1.2774e-01,\n",
            "            1.0269e-01, -4.5169e-01]],\n",
            "\n",
            "         [[-1.3401e-01, -2.1807e-01, -2.6518e-01,  ..., -1.1485e-01,\n",
            "           -1.8522e-01, -1.8301e-01],\n",
            "          [-2.3318e-02, -4.9260e-01,  3.4261e-01,  ..., -2.4803e-01,\n",
            "            2.6590e-01,  7.8048e-01],\n",
            "          [-5.1897e-01, -9.0120e-02,  8.4532e-02,  ...,  1.0193e+00,\n",
            "            1.1942e+00,  4.1672e-01],\n",
            "          ...,\n",
            "          [-8.5482e-01, -1.1064e+00,  4.3066e-01,  ..., -1.0351e+00,\n",
            "           -2.3650e-01,  7.2592e-01],\n",
            "          [-2.1889e-01,  9.0129e-01,  3.7947e-01,  ..., -3.8459e-01,\n",
            "           -3.9173e-01, -7.6113e-02],\n",
            "          [ 1.7953e-01,  5.0252e-02,  2.6891e-01,  ..., -7.5773e-01,\n",
            "           -2.4672e-01, -6.4522e-01]],\n",
            "\n",
            "         [[-3.1481e-01, -2.3765e-02, -6.2383e-02,  ..., -5.4848e-02,\n",
            "           -2.3654e-01, -1.5537e-01],\n",
            "          [ 3.7064e-01,  9.2649e-01, -2.0093e-02,  ...,  9.4894e-01,\n",
            "            1.9630e-02, -2.8032e-01],\n",
            "          [ 1.0053e-01, -1.0021e+00, -5.6349e-01,  ...,  9.5713e-01,\n",
            "           -1.0392e-01, -5.7813e-01],\n",
            "          ...,\n",
            "          [ 1.3861e-01,  6.6394e-02,  2.0323e-01,  ...,  1.4099e+00,\n",
            "           -1.7790e-01, -1.8922e-01],\n",
            "          [ 6.7633e-01,  5.9959e-01, -3.8606e-04,  ..., -5.0756e-01,\n",
            "           -2.3645e-01, -1.9209e-01],\n",
            "          [-7.1710e-03,  1.1432e-01,  7.9402e-01,  ..., -4.8722e-01,\n",
            "           -6.8344e-02, -3.4680e-01]]],\n",
            "\n",
            "\n",
            "        ...,\n",
            "\n",
            "\n",
            "        [[[ 9.2291e-02, -5.3855e-01,  1.8177e-01,  ..., -4.9869e-01,\n",
            "            1.7544e-01, -6.7209e-02],\n",
            "          [ 2.5096e-02, -6.1895e-01, -4.5287e-01,  ...,  2.5074e-01,\n",
            "            1.6901e-02, -5.1043e-01],\n",
            "          [ 9.8866e-01,  3.7464e-01, -1.6625e-01,  ..., -6.8852e-01,\n",
            "            7.5167e-01,  1.0995e-01],\n",
            "          ...,\n",
            "          [ 7.7520e-02,  2.0119e-01, -5.0973e-01,  ..., -8.4124e-02,\n",
            "           -8.9884e-01, -5.9146e-01],\n",
            "          [ 2.7285e-01, -3.5432e-01,  1.3572e-01,  ...,  5.3193e-01,\n",
            "           -3.8092e-01, -2.8108e-01],\n",
            "          [ 1.5846e-01,  9.7285e-02, -1.1133e-01,  ...,  9.1786e-01,\n",
            "           -1.3347e-01,  3.7555e-01]],\n",
            "\n",
            "         [[-4.7540e-02, -2.5102e-01,  3.5358e-01,  ...,  5.8229e-01,\n",
            "           -4.0406e-01,  1.7912e-01],\n",
            "          [-1.9795e-01,  6.4019e-01, -5.2765e-01,  ...,  8.2887e-01,\n",
            "           -3.6758e-01,  9.2932e-02],\n",
            "          [-5.4134e-01,  2.3149e-01,  4.7634e-01,  ...,  9.3308e-01,\n",
            "           -2.8453e-01,  5.2785e-01],\n",
            "          ...,\n",
            "          [ 6.0065e-01, -2.5488e-01,  1.0258e+00,  ...,  7.7086e-01,\n",
            "           -2.0711e-01, -1.8692e-01],\n",
            "          [ 1.2651e-01,  2.5646e-01, -7.8579e-01,  ..., -5.9668e-01,\n",
            "            8.3459e-01, -3.1988e-01],\n",
            "          [-1.9771e-01,  4.6052e-01, -1.8320e-01,  ..., -4.0624e-01,\n",
            "            4.7938e-01, -1.7887e-02]],\n",
            "\n",
            "         [[-7.5574e-03, -1.2542e-01,  3.1731e-01,  ..., -4.5805e-02,\n",
            "            1.3316e-01,  3.3403e-02],\n",
            "          [-9.3258e-01,  3.1384e-01, -1.6296e-01,  ...,  8.0164e-02,\n",
            "            2.0503e-01,  1.8927e-01],\n",
            "          [-1.1278e-01, -7.1050e-01, -5.6284e-02,  ...,  2.6317e-02,\n",
            "           -6.3899e-01,  2.8288e-01],\n",
            "          ...,\n",
            "          [ 2.0462e-01,  3.8532e-01, -1.3094e+00,  ..., -1.0305e+00,\n",
            "            6.4160e-01,  3.8269e-01],\n",
            "          [-1.0498e-01, -2.3177e-01,  3.6588e-01,  ...,  2.9903e-01,\n",
            "            3.2728e-01,  1.5867e-01],\n",
            "          [-1.3265e-01, -4.4028e-01,  2.2459e-02,  ..., -1.8395e-01,\n",
            "           -3.3381e-01,  1.2573e-01]],\n",
            "\n",
            "         ...,\n",
            "\n",
            "         [[-1.4374e-01,  3.8239e-01, -4.3730e-01,  ..., -4.4812e-02,\n",
            "           -6.1550e-02, -1.2733e-01],\n",
            "          [ 1.4001e-01,  4.1811e-02,  8.0629e-02,  ..., -9.1090e-02,\n",
            "           -2.7130e-01,  2.5518e-01],\n",
            "          [-1.8055e-01,  1.1712e+00, -2.8434e-01,  ...,  3.1184e-01,\n",
            "           -4.6452e-02,  6.3408e-01],\n",
            "          ...,\n",
            "          [-3.8577e-01,  8.4895e-01,  5.6662e-01,  ...,  3.7119e-01,\n",
            "            2.9825e-01,  5.8409e-02],\n",
            "          [ 1.2536e-01,  6.6166e-02, -6.0516e-02,  ...,  6.3351e-03,\n",
            "            2.9251e-01, -3.6702e-01],\n",
            "          [-6.7573e-01, -4.7403e-01,  6.5377e-01,  ..., -1.7563e-01,\n",
            "           -1.0600e+00, -1.6266e-01]],\n",
            "\n",
            "         [[-3.5788e-01,  1.3780e-01, -5.0406e-02,  ..., -2.4421e-01,\n",
            "            1.5457e-01, -6.5827e-02],\n",
            "          [ 5.0738e-01, -1.0802e+00, -6.8813e-01,  ..., -4.5606e-01,\n",
            "            5.8592e-01, -7.0973e-01],\n",
            "          [ 4.2101e-01,  3.1242e-01,  7.2354e-01,  ...,  1.2820e+00,\n",
            "           -2.2698e-01, -3.6561e-01],\n",
            "          ...,\n",
            "          [ 4.7203e-01, -9.7714e-01,  3.6413e-01,  ...,  3.3169e-01,\n",
            "           -2.9115e-01,  1.9666e-02],\n",
            "          [-1.0436e-01,  4.2524e-01, -1.8910e-03,  ..., -1.2291e-01,\n",
            "           -6.1662e-01, -3.0542e-01],\n",
            "          [ 3.0897e-01, -2.8333e-01,  6.2615e-01,  ..., -1.7484e-02,\n",
            "            2.5483e-02, -9.7227e-02]],\n",
            "\n",
            "         [[-6.1111e-01, -1.2009e-01, -6.2361e-01,  ...,  8.7578e-03,\n",
            "           -4.5612e-02,  2.2850e-01],\n",
            "          [-7.2516e-01, -2.7313e-01,  6.5135e-01,  ...,  1.7474e-01,\n",
            "            7.9076e-04, -4.2795e-01],\n",
            "          [-1.2994e-02, -1.6377e-01,  3.1975e-01,  ...,  3.6793e-01,\n",
            "           -4.1544e-01, -5.2952e-01],\n",
            "          ...,\n",
            "          [ 1.5171e-01,  2.0586e-01, -1.0211e+00,  ...,  4.9042e-01,\n",
            "            3.6263e-01, -2.2871e-01],\n",
            "          [-2.8109e-02, -2.6202e-01, -2.5926e-01,  ..., -8.4173e-01,\n",
            "            3.8087e-01, -1.3700e-01],\n",
            "          [ 1.9361e-01, -2.1022e-01, -2.6261e-01,  ...,  6.5124e-01,\n",
            "            5.8677e-02,  5.3662e-01]]],\n",
            "\n",
            "\n",
            "        [[[-2.5629e-01, -3.9933e-01,  2.8520e-01,  ..., -2.6503e-01,\n",
            "           -6.4070e-01, -1.1459e-01],\n",
            "          [-4.0429e-01,  4.3560e-01,  1.0296e-02,  ...,  3.0252e-01,\n",
            "            9.4580e-02, -6.1761e-02],\n",
            "          [ 5.5701e-01,  3.0546e-01,  3.9372e-01,  ..., -2.9176e-01,\n",
            "           -1.6522e-01, -1.0587e+00],\n",
            "          ...,\n",
            "          [-4.3793e-01, -3.6038e-01, -7.4122e-01,  ..., -2.3881e-01,\n",
            "           -3.2263e-02,  2.4364e-01],\n",
            "          [-3.0558e-01, -2.5249e-01,  4.3506e-01,  ...,  6.4328e-01,\n",
            "            7.4650e-01, -2.4700e-02],\n",
            "          [ 3.6830e-01, -2.6350e-01, -2.8384e-01,  ..., -2.5337e-01,\n",
            "            2.0113e-01, -2.7316e-01]],\n",
            "\n",
            "         [[ 1.5876e-01,  3.0120e-02, -1.7403e-01,  ...,  2.6714e-01,\n",
            "           -4.1956e-01,  4.1811e-01],\n",
            "          [-4.7763e-01, -3.4149e-01,  1.2156e+00,  ..., -5.0655e-01,\n",
            "           -5.2170e-01,  1.0505e-01],\n",
            "          [-1.7133e-01, -2.1475e-01,  2.1747e-01,  ...,  2.9678e-01,\n",
            "            7.7950e-03,  2.3438e-01],\n",
            "          ...,\n",
            "          [ 3.2396e-01,  5.6148e-01, -2.1371e-01,  ..., -6.2360e-01,\n",
            "            9.1265e-02,  6.4405e-02],\n",
            "          [-1.5018e-01,  4.7599e-01, -4.7486e-01,  ..., -8.3014e-01,\n",
            "            9.7293e-01,  3.0826e-01],\n",
            "          [-2.8583e-01, -6.9262e-02, -1.6385e-01,  ...,  3.4797e-01,\n",
            "            1.1263e+00,  2.1472e-01]],\n",
            "\n",
            "         [[ 3.5586e-01, -2.0411e-01, -2.0069e-01,  ..., -3.5941e-01,\n",
            "           -1.1474e-01, -3.9333e-02],\n",
            "          [-1.6642e-01, -2.9071e-01, -4.1822e-01,  ..., -6.6277e-01,\n",
            "            2.3849e-01,  1.1660e-02],\n",
            "          [ 7.6207e-01, -4.7158e-01,  3.8503e-02,  ..., -1.1089e+00,\n",
            "            4.6454e-01,  4.4552e-02],\n",
            "          ...,\n",
            "          [-1.6704e-03, -1.6397e-01, -1.3278e-01,  ...,  2.6429e-01,\n",
            "            9.8469e-01, -7.6303e-04],\n",
            "          [ 4.2600e-02, -1.7744e-01, -4.2242e-02,  ..., -2.7045e-01,\n",
            "           -3.9999e-01, -1.1271e-01],\n",
            "          [ 1.3313e-01, -3.2668e-03,  3.4168e-01,  ...,  7.5816e-01,\n",
            "            5.4654e-01, -1.3032e-01]],\n",
            "\n",
            "         ...,\n",
            "\n",
            "         [[ 3.2293e-02,  9.5423e-02, -1.9837e-01,  ...,  2.2950e-01,\n",
            "           -2.8881e-01,  4.9914e-01],\n",
            "          [ 2.2209e-02,  3.6428e-01, -6.4686e-01,  ...,  1.2064e-01,\n",
            "           -9.7531e-02,  3.5243e-02],\n",
            "          [ 2.1015e-01,  9.7093e-01, -2.4637e-01,  ...,  4.1775e-01,\n",
            "           -3.7877e-01, -3.4331e-01],\n",
            "          ...,\n",
            "          [-7.1209e-01, -1.5231e-01, -9.5746e-01,  ...,  1.8656e-01,\n",
            "            6.3822e-01, -3.4848e-01],\n",
            "          [ 2.6837e-01,  5.3544e-01, -3.2726e-02,  ..., -2.3864e-01,\n",
            "            4.8943e-01, -6.3011e-01],\n",
            "          [ 3.9754e-01, -3.5777e-02, -4.4155e-01,  ..., -6.5857e-01,\n",
            "           -6.7600e-02, -4.2028e-01]],\n",
            "\n",
            "         [[-1.3536e-01, -1.5558e-02, -3.9841e-01,  ...,  2.0457e-01,\n",
            "           -6.1612e-01,  7.9147e-02],\n",
            "          [ 1.1357e-01, -8.7495e-01,  2.8632e-01,  ..., -2.8713e-01,\n",
            "            1.6580e-01,  4.5186e-01],\n",
            "          [-4.8392e-01, -6.4756e-01, -1.2803e+00,  ...,  1.1271e-01,\n",
            "           -6.8883e-01, -6.7151e-01],\n",
            "          ...,\n",
            "          [ 1.2318e-01, -2.8223e-01, -2.8164e-01,  ..., -4.5198e-01,\n",
            "            2.7305e-01,  2.5800e-01],\n",
            "          [-2.2664e-01, -5.6924e-01,  5.4694e-01,  ..., -2.7263e-01,\n",
            "           -5.2480e-01, -9.2333e-02],\n",
            "          [-9.7164e-02,  2.5214e-01, -2.9236e-01,  ..., -9.5255e-01,\n",
            "           -1.0418e-01, -6.8113e-02]],\n",
            "\n",
            "         [[-1.7274e-01,  2.7538e-01,  2.8083e-01,  ..., -4.9253e-01,\n",
            "            1.4333e-01,  9.6712e-02],\n",
            "          [ 6.4816e-01,  2.7120e-01,  7.6789e-02,  ..., -1.3353e-02,\n",
            "            6.7651e-02,  9.7807e-01],\n",
            "          [ 6.4712e-01,  4.0297e-01,  7.1300e-02,  ..., -7.0838e-01,\n",
            "           -3.3024e-01,  3.8199e-01],\n",
            "          ...,\n",
            "          [-1.9480e-01, -6.0045e-01,  2.7253e-02,  ..., -5.4941e-01,\n",
            "            8.1756e-01,  4.1506e-01],\n",
            "          [-6.2263e-01, -3.9715e-01,  5.2753e-01,  ...,  8.0040e-01,\n",
            "            1.6064e-01, -2.0272e-01],\n",
            "          [-1.2101e-01, -2.9971e-01,  5.5140e-01,  ..., -1.6034e-01,\n",
            "           -4.5731e-02, -4.2775e-01]]],\n",
            "\n",
            "\n",
            "        [[[ 2.4494e-01, -6.5914e-02,  4.3041e-01,  ..., -5.9264e-02,\n",
            "           -7.9792e-02, -7.2518e-01],\n",
            "          [ 1.2650e-01, -6.7109e-01, -3.1017e-01,  ..., -7.8398e-01,\n",
            "            8.5501e-01, -4.0633e-01],\n",
            "          [-1.6304e-01,  9.6473e-01,  3.8248e-01,  ...,  8.1728e-01,\n",
            "           -1.0992e-01, -7.3662e-01],\n",
            "          ...,\n",
            "          [-1.1345e-01, -1.1416e+00, -5.0105e-01,  ..., -1.1265e+00,\n",
            "           -8.5196e-01,  3.6369e-01],\n",
            "          [-4.3740e-01, -5.3173e-01, -3.1504e-01,  ...,  1.7586e-01,\n",
            "           -2.5115e-02,  5.8238e-01],\n",
            "          [ 8.0192e-02, -4.8803e-01,  1.0563e-01,  ...,  2.4236e-01,\n",
            "            1.8913e-01,  8.1101e-02]],\n",
            "\n",
            "         [[-2.0447e-01, -1.7895e-01, -1.6550e-02,  ..., -3.6685e-01,\n",
            "           -5.8587e-03, -1.2664e-01],\n",
            "          [-1.1114e-01,  4.1786e-01,  1.7394e-01,  ...,  5.2336e-01,\n",
            "           -4.7678e-01, -1.1832e-01],\n",
            "          [ 3.3289e-01,  1.3407e+00, -4.4141e-01,  ...,  3.5125e-01,\n",
            "            3.7062e-01, -3.1675e-01],\n",
            "          ...,\n",
            "          [ 1.6828e-01, -1.5769e-01,  4.0872e-01,  ..., -1.1567e-01,\n",
            "           -5.3257e-01, -1.7427e-01],\n",
            "          [-8.7697e-02,  3.5913e-01,  9.9705e-01,  ...,  6.6666e-01,\n",
            "            5.2664e-01, -1.5969e-01],\n",
            "          [ 7.1816e-01, -5.5357e-01, -1.6649e-01,  ..., -3.7092e-01,\n",
            "            3.9659e-01, -1.1167e-01]],\n",
            "\n",
            "         [[-3.9681e-01,  2.1248e-02,  3.5666e-01,  ..., -3.3714e-01,\n",
            "           -4.2172e-01, -2.7109e-01],\n",
            "          [ 1.7255e-01,  4.8554e-01,  2.2831e-01,  ...,  5.3360e-01,\n",
            "           -3.7868e-01, -1.7910e-01],\n",
            "          [ 6.8544e-01, -4.3149e-01, -1.9920e-01,  ...,  6.3944e-01,\n",
            "           -1.1804e-01, -4.8907e-01],\n",
            "          ...,\n",
            "          [ 1.2417e-01,  1.4853e-01, -4.6722e-01,  ..., -5.7615e-01,\n",
            "           -3.7689e-01, -4.5135e-02],\n",
            "          [-9.0782e-01,  6.6114e-01, -3.7901e-01,  ..., -5.9379e-02,\n",
            "           -7.0974e-02,  2.6558e-01],\n",
            "          [-4.6357e-01,  7.0433e-03,  5.5310e-03,  ..., -2.5417e-01,\n",
            "           -2.1116e-01,  2.4604e-01]],\n",
            "\n",
            "         ...,\n",
            "\n",
            "         [[ 5.0074e-02,  1.0157e-01, -4.9726e-01,  ..., -2.2625e-01,\n",
            "            4.0157e-01,  2.2120e-01],\n",
            "          [ 6.6436e-02, -2.4346e-02,  8.1097e-01,  ...,  5.1806e-01,\n",
            "            3.4584e-01, -3.7351e-01],\n",
            "          [ 2.1922e-01,  5.4983e-01, -7.5942e-01,  ..., -5.3479e-01,\n",
            "           -7.1362e-01, -9.2099e-02],\n",
            "          ...,\n",
            "          [ 3.5560e-01,  7.4241e-01,  1.0932e+00,  ..., -3.8449e-01,\n",
            "           -3.3404e-01, -8.3592e-01],\n",
            "          [-6.5746e-02,  4.1662e-02, -5.4157e-01,  ...,  4.2370e-01,\n",
            "            7.0434e-01, -1.0820e+00],\n",
            "          [ 2.9921e-01,  1.6695e-01,  5.2829e-01,  ...,  5.3752e-01,\n",
            "            1.1305e-01,  6.1183e-01]],\n",
            "\n",
            "         [[-1.2357e-01,  2.3501e-01, -3.0348e-01,  ..., -1.1225e-02,\n",
            "            4.8580e-01, -2.7588e-02],\n",
            "          [-2.6855e-01, -3.1314e-01, -7.9052e-01,  ..., -2.1709e-01,\n",
            "            3.1118e-01, -8.7214e-01],\n",
            "          [-3.0599e-01,  8.5516e-02, -9.0121e-02,  ..., -1.5165e-01,\n",
            "           -8.6152e-01, -8.7820e-01],\n",
            "          ...,\n",
            "          [-3.9325e-01,  2.9465e-01, -1.7173e-01,  ..., -4.6008e-01,\n",
            "           -3.6542e-01,  1.4046e-01],\n",
            "          [-1.0471e-01, -3.0992e-01,  3.5215e-01,  ...,  7.3922e-02,\n",
            "           -3.2469e-01, -3.5176e-01],\n",
            "          [ 3.6104e-02,  5.2019e-01,  2.6755e-01,  ...,  2.1958e-01,\n",
            "            9.4420e-01,  6.9178e-01]],\n",
            "\n",
            "         [[ 1.5237e-01,  2.4646e-01, -7.5523e-01,  ...,  8.1340e-01,\n",
            "            8.6677e-02, -1.4598e-01],\n",
            "          [-7.6170e-02, -8.9877e-02,  3.2526e-01,  ..., -3.6622e-01,\n",
            "            5.6909e-01, -5.9371e-01],\n",
            "          [-2.0728e-01, -3.7608e-02, -6.3341e-01,  ..., -7.2485e-01,\n",
            "           -5.1080e-01, -2.4423e-01],\n",
            "          ...,\n",
            "          [ 4.2661e-02, -3.1972e-01,  1.1818e-01,  ..., -7.1591e-01,\n",
            "            2.6489e-01,  5.1857e-01],\n",
            "          [-6.1411e-01,  5.1017e-01, -3.7522e-01,  ...,  3.0993e-01,\n",
            "            3.3396e-02,  1.1118e-02],\n",
            "          [-1.3987e-01, -7.5227e-02,  6.6246e-01,  ..., -7.5198e-01,\n",
            "            7.4154e-01,  2.3972e-01]]]], grad_fn=<SlowConvDilated2DBackward>)\n"
          ],
          "name": "stdout"
        }
      ]
    },
    {
      "cell_type": "code",
      "metadata": {
        "id": "RLqGbclbp3_N",
        "colab": {
          "base_uri": "https://localhost:8080/"
        },
        "outputId": "8000ff67-2b88-4a0e-bc57-fa910d80fa0f"
      },
      "source": [
        "output.shape"
      ],
      "execution_count": null,
      "outputs": [
        {
          "output_type": "execute_result",
          "data": {
            "text/plain": [
              "torch.Size([20, 33, 26, 100])"
            ]
          },
          "metadata": {
            "tags": []
          },
          "execution_count": 79
        }
      ]
    },
    {
      "cell_type": "markdown",
      "metadata": {
        "id": "CYeGAJEuneqW"
      },
      "source": [
        "### nn.functional 패키지\n",
        "\n",
        "- 가중치를 직접 선언하여 인자로 넣어줘야함\n",
        "\n",
        "- 예시)\n",
        "  - Convolution functions\n",
        "\n",
        "  - Pooling functions\n",
        "  \n",
        "  - Non-linear activation functions\n",
        "\n",
        "  - Normalization functions\n",
        "\n",
        "  - Linear functions\n",
        "\n",
        "  - Dropout functions\n",
        "  \n",
        "  - Sparse functions\n",
        "  \n",
        "  - Distance functions\n",
        "\n",
        "  - Loss functions\n",
        "  - ..\n",
        "\n",
        "- https://pytorch.org/docs/stable/nn.functional.html"
      ]
    },
    {
      "cell_type": "code",
      "metadata": {
        "id": "NpwbO9Dhpflm"
      },
      "source": [
        "import torch\n",
        "import torch.nn.functional as F"
      ],
      "execution_count": null,
      "outputs": []
    },
    {
      "cell_type": "markdown",
      "metadata": {
        "id": "fUYaJ5aLqKed"
      },
      "source": [
        "- Convolution Layer 예시 (2)"
      ]
    },
    {
      "cell_type": "code",
      "metadata": {
        "id": "GAWLQE2GouHP"
      },
      "source": [
        "filters = torch.randn(8, 4, 3, 3)"
      ],
      "execution_count": null,
      "outputs": []
    },
    {
      "cell_type": "code",
      "metadata": {
        "id": "lWmSlFBrpms1",
        "colab": {
          "base_uri": "https://localhost:8080/"
        },
        "outputId": "9b6515e6-2b87-44cd-8c5a-19b7a425102b"
      },
      "source": [
        "inputs = torch.randn(1, 4, 5, 5)\n",
        "conv = F.conv2d(inputs, filters, padding=1)\n",
        "conv.shape"
      ],
      "execution_count": null,
      "outputs": [
        {
          "output_type": "execute_result",
          "data": {
            "text/plain": [
              "torch.Size([1, 8, 5, 5])"
            ]
          },
          "metadata": {
            "tags": []
          },
          "execution_count": 84
        }
      ]
    },
    {
      "cell_type": "markdown",
      "metadata": {
        "id": "Wah4RsmgrRDP"
      },
      "source": [
        "## Torchvision\n",
        "\n",
        "- `transforms`: 전처리할 때 사용하는 메소드\n",
        "\n",
        "- `transforms`에서 제공하는 클래스 이외에  \n",
        "  일반적으로 클래스를 따로 만들어 전처리 단계를 진행\n",
        "  \n",
        "  - 아래의 코드에서 다양한 전처리 기술 확인  \n",
        "    https://pytorch.org/docs/stable/torchvision/transforms.html\n"
      ]
    },
    {
      "cell_type": "code",
      "metadata": {
        "id": "akvq4QWmqSil"
      },
      "source": [
        "import torch\n",
        "import torchvision\n",
        "import torchvision.transforms as transforms"
      ],
      "execution_count": null,
      "outputs": []
    },
    {
      "cell_type": "markdown",
      "metadata": {
        "id": "PKu5mzyTs-Qj"
      },
      "source": [
        "- 예시)\n",
        "  - `DataLoader`의 인자로 들어갈 `transform`을 미리 정의할 수 있음\n",
        "\n",
        "  - `Compose`를 통해 리스트 안에 순서대로 전처리 진행\n",
        "\n",
        "  - 대표적인 예로, `ToTensor`()를 하는 이유는  \n",
        "   <u>torchvision이 PIL Image형태로만 입력을 받기 때문에</u> 데이터 처리를 위해서 Tensor형으로 변환해야함"
      ]
    },
    {
      "cell_type": "code",
      "metadata": {
        "id": "y6K7FH-Rs9my"
      },
      "source": [
        "transform = transforms.Compose([transforms.ToTensor(),\n",
        "                                transforms.Normalize(mean=(0.5,), std=(0.5,))])"
      ],
      "execution_count": null,
      "outputs": []
    },
    {
      "cell_type": "markdown",
      "metadata": {
        "id": "I4l1GvIlslKa"
      },
      "source": [
        "## utils.data\n",
        "\n",
        "- `Dataset`에는 다양한 데이터셋이 존재  \n",
        "  - MNIST, CIFAR10, ...\n",
        "\n",
        "- `DataLoader`, `Dataset`을 통해  \n",
        "  `batch_size`, `train`여부, `transform`등을 인자로 넣어 데이터를 어떻게 load할 것인지 정해줄 수 있음"
      ]
    },
    {
      "cell_type": "code",
      "metadata": {
        "id": "1wsZKY7-s2Vv"
      },
      "source": [
        "import torch\n",
        "from torch.utils.data import Dataset, DataLoader\n",
        "\n",
        "import torchvision\n",
        "import torchvision.transforms as transforms"
      ],
      "execution_count": null,
      "outputs": []
    },
    {
      "cell_type": "code",
      "metadata": {
        "id": "lldpI2lquBu3",
        "colab": {
          "base_uri": "https://localhost:8080/",
          "height": 383,
          "referenced_widgets": [
            "1b995087aabb4e6f8fb7738cddb2083b",
            "df29a3d101a84900a6f69d89a9b1b04b",
            "1a52047759f6472bae1ef8f90e3aedb4",
            "ae3d6619a51944518a93150f3303b476",
            "b964ef210f474bd483aa75b8ed29e5fc",
            "c8ddc533f99b46ffab4bb631446a042e",
            "a0836a95ea6a4b59bfd631f83a34f874",
            "195fd5c29e7447cdb15c0206fb880ed7",
            "2e6e5a61f7db45f4800f1b8209e391d1",
            "b7b1d289856b4c0b84b1bd7f3b2d5abc",
            "5c3a9cb99756499aab7672f6793b75cf",
            "547bb04d545d4779b0c8077f1db6b09a",
            "191363e6afb0412c8de8837520e5d734",
            "c2dc05f9ce1b4ac28a9542a50f753920",
            "df25cc26787e48c9b89877dae1588ad8",
            "b62da60737ba4400a11fc18ad4428fca",
            "0893ffad2c7e41beace8b14cd24c379b",
            "37dbde6a9b5e401fac1918bd5ffd0718",
            "136b4d836422455a960d792f98f5f19d",
            "409fca959f094cf988d77083b7500268",
            "1daa08d190064a3a9f8633f16b1d461a",
            "03721e9ac11049cea7ebbaab04c9b14f",
            "e9cf3b8b86b444ec852ae73b59a0a8c6",
            "481838a49cde4716bd3cbb2bf37acd4d",
            "c179820018604e3f8b2659a86a0ad82a",
            "e28b554d12d5416cbedb8738085878b1",
            "5a15804e35134c60ae5570fdef00fa7a",
            "20d5d6875c8b422684dc6a1b2100c8a3",
            "f8e051cc6efa47da82026a6ee28876de",
            "aa9223d11b63464ca6c753f937d701da",
            "907bcabe689847fb94301469ae2acbd2",
            "3de70cbabff34bd5b0ea0f7a6905f04d"
          ]
        },
        "outputId": "cd570c34-c50a-42e3-d507-7f0f7a239782"
      },
      "source": [
        "trainset = torchvision.datasets.MNIST(root='/content/',\n",
        "                                      train=True,\n",
        "                                      download=True,\n",
        "                                      transform=transform)\n",
        "\n",
        "testset = torchvision.datasets.MNIST(root='/content/',\n",
        "                                      train=False,\n",
        "                                      download=True,\n",
        "                                      transform=transform)"
      ],
      "execution_count": null,
      "outputs": [
        {
          "output_type": "stream",
          "text": [
            "Downloading http://yann.lecun.com/exdb/mnist/train-images-idx3-ubyte.gz to /content/MNIST/raw/train-images-idx3-ubyte.gz\n"
          ],
          "name": "stdout"
        },
        {
          "output_type": "display_data",
          "data": {
            "application/vnd.jupyter.widget-view+json": {
              "model_id": "1b995087aabb4e6f8fb7738cddb2083b",
              "version_minor": 0,
              "version_major": 2
            },
            "text/plain": [
              "HBox(children=(FloatProgress(value=1.0, bar_style='info', max=1.0), HTML(value='')))"
            ]
          },
          "metadata": {
            "tags": []
          }
        },
        {
          "output_type": "stream",
          "text": [
            "Extracting /content/MNIST/raw/train-images-idx3-ubyte.gz to /content/MNIST/raw\n",
            "Downloading http://yann.lecun.com/exdb/mnist/train-labels-idx1-ubyte.gz to /content/MNIST/raw/train-labels-idx1-ubyte.gz\n"
          ],
          "name": "stdout"
        },
        {
          "output_type": "display_data",
          "data": {
            "application/vnd.jupyter.widget-view+json": {
              "model_id": "2e6e5a61f7db45f4800f1b8209e391d1",
              "version_minor": 0,
              "version_major": 2
            },
            "text/plain": [
              "HBox(children=(FloatProgress(value=1.0, bar_style='info', max=1.0), HTML(value='')))"
            ]
          },
          "metadata": {
            "tags": []
          }
        },
        {
          "output_type": "stream",
          "text": [
            "Extracting /content/MNIST/raw/train-labels-idx1-ubyte.gz to /content/MNIST/raw\n",
            "Downloading http://yann.lecun.com/exdb/mnist/t10k-images-idx3-ubyte.gz to /content/MNIST/raw/t10k-images-idx3-ubyte.gz\n"
          ],
          "name": "stdout"
        },
        {
          "output_type": "display_data",
          "data": {
            "application/vnd.jupyter.widget-view+json": {
              "model_id": "0893ffad2c7e41beace8b14cd24c379b",
              "version_minor": 0,
              "version_major": 2
            },
            "text/plain": [
              "HBox(children=(FloatProgress(value=1.0, bar_style='info', max=1.0), HTML(value='')))"
            ]
          },
          "metadata": {
            "tags": []
          }
        },
        {
          "output_type": "stream",
          "text": [
            "Extracting /content/MNIST/raw/t10k-images-idx3-ubyte.gz to /content/MNIST/raw\n",
            "Downloading http://yann.lecun.com/exdb/mnist/t10k-labels-idx1-ubyte.gz to /content/MNIST/raw/t10k-labels-idx1-ubyte.gz\n"
          ],
          "name": "stdout"
        },
        {
          "output_type": "display_data",
          "data": {
            "application/vnd.jupyter.widget-view+json": {
              "model_id": "c179820018604e3f8b2659a86a0ad82a",
              "version_minor": 0,
              "version_major": 2
            },
            "text/plain": [
              "HBox(children=(FloatProgress(value=1.0, bar_style='info', max=1.0), HTML(value='')))"
            ]
          },
          "metadata": {
            "tags": []
          }
        },
        {
          "output_type": "stream",
          "text": [
            "Extracting /content/MNIST/raw/t10k-labels-idx1-ubyte.gz to /content/MNIST/raw\n",
            "Processing...\n",
            "Done!\n"
          ],
          "name": "stdout"
        },
        {
          "output_type": "stream",
          "text": [
            "/usr/local/lib/python3.6/dist-packages/torchvision/datasets/mnist.py:469: UserWarning: The given NumPy array is not writeable, and PyTorch does not support non-writeable tensors. This means you can write to the underlying (supposedly non-writeable) NumPy array using the tensor. You may want to copy the array to protect its data or make it writeable before converting it to a tensor. This type of warning will be suppressed for the rest of this program. (Triggered internally at  /pytorch/torch/csrc/utils/tensor_numpy.cpp:141.)\n",
            "  return torch.from_numpy(parsed.astype(m[2], copy=False)).view(*s)\n"
          ],
          "name": "stderr"
        }
      ]
    },
    {
      "cell_type": "code",
      "metadata": {
        "id": "fKddZnT1uQmT"
      },
      "source": [
        "train_loader = DataLoader(trainset, batch_size=8, shuffle=True, num_workers=2)\n",
        "test_loader = DataLoader(testset, batch_size=8, shuffle=False, num_workers=2)"
      ],
      "execution_count": null,
      "outputs": []
    },
    {
      "cell_type": "markdown",
      "metadata": {
        "id": "zrxymquLxeo8"
      },
      "source": [
        "- `batch_size`만큼 데이터를 하나씩 가져옴"
      ]
    },
    {
      "cell_type": "code",
      "metadata": {
        "id": "hvgMIyF6uUuU",
        "colab": {
          "base_uri": "https://localhost:8080/"
        },
        "outputId": "b87aefc3-9a2d-4ba5-f371-99596f1b2bd3"
      },
      "source": [
        "detaiter = iter(train_loader)\n",
        "images, labels = detaiter.next()\n",
        "images.shape, labels.shape"
      ],
      "execution_count": null,
      "outputs": [
        {
          "output_type": "execute_result",
          "data": {
            "text/plain": [
              "(torch.Size([8, 1, 28, 28]), torch.Size([8]))"
            ]
          },
          "metadata": {
            "tags": []
          },
          "execution_count": 91
        }
      ]
    },
    {
      "cell_type": "markdown",
      "metadata": {
        "id": "YPUC0a0aw6OM"
      },
      "source": [
        "<u>**(중요) torch에서는 channel(채널)이 앞에 옴**</u>\n",
        "\n",
        "- `channel first`\n",
        "\n",
        "- tensorflow, keras 등에서는 channel이 뒤에 옴(`channel last`)"
      ]
    },
    {
      "cell_type": "markdown",
      "metadata": {
        "id": "wuhylD3iyFYr"
      },
      "source": [
        "### 데이터 확인"
      ]
    },
    {
      "cell_type": "code",
      "metadata": {
        "id": "C9hAQmQlul8P"
      },
      "source": [
        "import matplotlib.pyplot as plt\n",
        "plt.style.use('seaborn-white')"
      ],
      "execution_count": null,
      "outputs": []
    },
    {
      "cell_type": "code",
      "metadata": {
        "id": "zDcUY6o4xUQp",
        "colab": {
          "base_uri": "https://localhost:8080/"
        },
        "outputId": "0a31a833-080a-476b-881d-a48533ba8b5e"
      },
      "source": [
        "torch_image = torch.squeeze(images[0])\n",
        "torch_image.shape"
      ],
      "execution_count": null,
      "outputs": [
        {
          "output_type": "execute_result",
          "data": {
            "text/plain": [
              "torch.Size([28, 28])"
            ]
          },
          "metadata": {
            "tags": []
          },
          "execution_count": 93
        }
      ]
    },
    {
      "cell_type": "code",
      "metadata": {
        "id": "MZmPWiGbxoiW",
        "colab": {
          "base_uri": "https://localhost:8080/"
        },
        "outputId": "30f89054-bfb3-4436-e0e4-4ebf59514e85"
      },
      "source": [
        "image = torch_image.numpy()\n",
        "image.shape"
      ],
      "execution_count": null,
      "outputs": [
        {
          "output_type": "execute_result",
          "data": {
            "text/plain": [
              "(28, 28)"
            ]
          },
          "metadata": {
            "tags": []
          },
          "execution_count": 94
        }
      ]
    },
    {
      "cell_type": "code",
      "metadata": {
        "id": "AUOdd4UaxaXO",
        "colab": {
          "base_uri": "https://localhost:8080/"
        },
        "outputId": "2e83cc66-2dd2-4fbe-a7a8-e96ef1d08316"
      },
      "source": [
        "label = labels[0].numpy()\n",
        "label.shape"
      ],
      "execution_count": null,
      "outputs": [
        {
          "output_type": "execute_result",
          "data": {
            "text/plain": [
              "()"
            ]
          },
          "metadata": {
            "tags": []
          },
          "execution_count": 95
        }
      ]
    },
    {
      "cell_type": "code",
      "metadata": {
        "id": "PDQfjw4wxr1z",
        "colab": {
          "base_uri": "https://localhost:8080/"
        },
        "outputId": "e0abc9b7-bfa9-464e-de43-3ee48ec764cd"
      },
      "source": [
        "label"
      ],
      "execution_count": null,
      "outputs": [
        {
          "output_type": "execute_result",
          "data": {
            "text/plain": [
              "array(1)"
            ]
          },
          "metadata": {
            "tags": []
          },
          "execution_count": 96
        }
      ]
    },
    {
      "cell_type": "code",
      "metadata": {
        "id": "JDCVw59ax3-A",
        "colab": {
          "base_uri": "https://localhost:8080/",
          "height": 277
        },
        "outputId": "54f5a2e9-6e5d-4e89-9530-0920a2f3260c"
      },
      "source": [
        "plt.title(label)\n",
        "plt.imshow(image, 'gray')\n",
        "plt.show()"
      ],
      "execution_count": null,
      "outputs": [
        {
          "output_type": "display_data",
          "data": {
            "image/png": "[encoded data removed]",
            "text/plain": [
              "<Figure size 432x288 with 1 Axes>"
            ]
          },
          "metadata": {
            "tags": []
          }
        }
      ]
    },
    {
      "cell_type": "markdown",
      "metadata": {
        "id": "JVcWQlxzihtS"
      },
      "source": [
        "## 각 Layer 설명"
      ]
    },
    {
      "cell_type": "code",
      "metadata": {
        "id": "IGXn1_weif5H"
      },
      "source": [
        "import torch\n",
        "import torch.nn as nn\n",
        "import torch.nn.functional as F\n",
        "import torch.optim as optim"
      ],
      "execution_count": null,
      "outputs": []
    },
    {
      "cell_type": "markdown",
      "metadata": {
        "id": "73kJ3heBi26y"
      },
      "source": [
        "### nn.Conv2d\n",
        "\n",
        "- `in_channels`: channel의 갯수\n",
        "\n",
        "- `out_channels`: 출력 채널의 갯수\n",
        "\n",
        "- `kernel_size`: 커널(필터) 사이즈\n",
        "\n",
        "- 텐서플로우, 케라스와 다르게 레이어의 `input`인자에도 값을 집어 넣어줘야함"
      ]
    },
    {
      "cell_type": "code",
      "metadata": {
        "id": "RcHJguyFipTl",
        "colab": {
          "base_uri": "https://localhost:8080/"
        },
        "outputId": "7b387117-536c-47a6-9984-7bffbcc39d6d"
      },
      "source": [
        "nn.Conv2d(in_channels=1, out_channels=20, kernel_size=5, stride=1)"
      ],
      "execution_count": null,
      "outputs": [
        {
          "output_type": "execute_result",
          "data": {
            "text/plain": [
              "Conv2d(1, 20, kernel_size=(5, 5), stride=(1, 1))"
            ]
          },
          "metadata": {
            "tags": []
          },
          "execution_count": 99
        }
      ]
    },
    {
      "cell_type": "code",
      "metadata": {
        "id": "iWiJbViHjFG0",
        "colab": {
          "base_uri": "https://localhost:8080/"
        },
        "outputId": "3b708dea-1f06-41b4-e789-aadef8e2c64a"
      },
      "source": [
        "layer = nn.Conv2d(1, 20, 5, 1).to(torch.device('cpu'))\n",
        "layer"
      ],
      "execution_count": null,
      "outputs": [
        {
          "output_type": "execute_result",
          "data": {
            "text/plain": [
              "Conv2d(1, 20, kernel_size=(5, 5), stride=(1, 1))"
            ]
          },
          "metadata": {
            "tags": []
          },
          "execution_count": 100
        }
      ]
    },
    {
      "cell_type": "markdown",
      "metadata": {
        "id": "GxWYFm2xjUeN"
      },
      "source": [
        "- `wegiht`확인"
      ]
    },
    {
      "cell_type": "code",
      "metadata": {
        "id": "za0enRbyjPzV",
        "colab": {
          "base_uri": "https://localhost:8080/"
        },
        "outputId": "8bb63691-2535-42c4-d0a4-8c711c6b7076"
      },
      "source": [
        "weight = layer.weight\n",
        "weight.shape"
      ],
      "execution_count": null,
      "outputs": [
        {
          "output_type": "execute_result",
          "data": {
            "text/plain": [
              "torch.Size([20, 1, 5, 5])"
            ]
          },
          "metadata": {
            "tags": []
          },
          "execution_count": 101
        }
      ]
    },
    {
      "cell_type": "markdown",
      "metadata": {
        "id": "MAZcTU2gjiCX"
      },
      "source": [
        "- `weight`는 `detach()`를 통해 꺼내줘야 `numpy()`변환이 가능"
      ]
    },
    {
      "cell_type": "code",
      "metadata": {
        "id": "9eN_oUBkjT85"
      },
      "source": [
        "weight = weight.detach()"
      ],
      "execution_count": null,
      "outputs": []
    },
    {
      "cell_type": "code",
      "metadata": {
        "id": "kwso9tsijmz8",
        "colab": {
          "base_uri": "https://localhost:8080/"
        },
        "outputId": "2956dee8-207f-4a9c-b3d9-12d33a83a765"
      },
      "source": [
        "weight = weight.numpy()\n",
        "weight.shape"
      ],
      "execution_count": null,
      "outputs": [
        {
          "output_type": "execute_result",
          "data": {
            "text/plain": [
              "(20, 1, 5, 5)"
            ]
          },
          "metadata": {
            "tags": []
          },
          "execution_count": 103
        }
      ]
    },
    {
      "cell_type": "code",
      "metadata": {
        "id": "mUegf6HPjdPl",
        "colab": {
          "base_uri": "https://localhost:8080/",
          "height": 262
        },
        "outputId": "0026b15b-0ef5-4918-8702-da0e25ec57e2"
      },
      "source": [
        "plt.imshow(weight[0, 0, :, :], 'jet')\n",
        "plt.colorbar()\n",
        "plt.show()"
      ],
      "execution_count": null,
      "outputs": [
        {
          "output_type": "display_data",
          "data": {
            "image/png": "[encoded data removed]",
            "text/plain": [
              "<Figure size 432x288 with 2 Axes>"
            ]
          },
          "metadata": {
            "tags": []
          }
        }
      ]
    },
    {
      "cell_type": "code",
      "metadata": {
        "id": "DMeTOqVmcdWa",
        "colab": {
          "base_uri": "https://localhost:8080/"
        },
        "outputId": "1e2d4864-b2a8-4950-f3c6-87f24d0f2f4f"
      },
      "source": [
        "print(images.shape)"
      ],
      "execution_count": null,
      "outputs": [
        {
          "output_type": "stream",
          "text": [
            "torch.Size([8, 1, 28, 28])\n"
          ],
          "name": "stdout"
        }
      ]
    },
    {
      "cell_type": "code",
      "metadata": {
        "id": "cvolnNsscdHs"
      },
      "source": [
        "input_image = torch.unsqueeze(images[0], dim=0)"
      ],
      "execution_count": null,
      "outputs": []
    },
    {
      "cell_type": "code",
      "metadata": {
        "id": "NLOAfD5mjup1"
      },
      "source": [
        "output_data = layer(input_image)"
      ],
      "execution_count": null,
      "outputs": []
    },
    {
      "cell_type": "code",
      "metadata": {
        "id": "r50wFkl6j1sY"
      },
      "source": [
        "output = output_data.data"
      ],
      "execution_count": null,
      "outputs": []
    },
    {
      "cell_type": "code",
      "metadata": {
        "id": "ZiIp-frJj2Hl",
        "colab": {
          "base_uri": "https://localhost:8080/"
        },
        "outputId": "f321e6f2-2e22-4d42-d25c-854308f49b98"
      },
      "source": [
        "output_arr = output.numpy()\n",
        "output_arr.shape"
      ],
      "execution_count": null,
      "outputs": [
        {
          "output_type": "execute_result",
          "data": {
            "text/plain": [
              "(1, 20, 24, 24)"
            ]
          },
          "metadata": {
            "tags": []
          },
          "execution_count": 109
        }
      ]
    },
    {
      "cell_type": "code",
      "metadata": {
        "id": "uOHMu-UQkW3a",
        "colab": {
          "base_uri": "https://localhost:8080/",
          "height": 306
        },
        "outputId": "a583cb64-bda7-4443-8da4-f3f3888fe96b"
      },
      "source": [
        "plt.figure(figsize=(15, 30))\n",
        "\n",
        "plt.subplot(131)\n",
        "plt.title(\"Input\")\n",
        "plt.imshow(image, 'gray')\n",
        "plt.subplot(132)\n",
        "plt.title(\"Weight\")\n",
        "plt.imshow(weight[0, 0, :, :], 'jet')\n",
        "plt.subplot(133)\n",
        "plt.title(\"Output\")\n",
        "plt.imshow(output_arr[0, 0, :, :], 'gray')\n",
        "plt.show()"
      ],
      "execution_count": null,
      "outputs": [
        {
          "output_type": "display_data",
          "data": {
            "image/png": "[encoded data removed]",
            "text/plain": [
              "<Figure size 1080x2160 with 3 Axes>"
            ]
          },
          "metadata": {
            "tags": []
          }
        }
      ]
    },
    {
      "cell_type": "markdown",
      "metadata": {
        "id": "6sCqGmH_kwHm"
      },
      "source": [
        "### Pooling\n",
        "- `F.max_pool2d` \n",
        "  - `stride`\n",
        "\n",
        "  - `kernel_size`\n",
        "\n",
        "- `torch.nn.MaxPool2d` 도 많이 사용"
      ]
    },
    {
      "cell_type": "code",
      "metadata": {
        "id": "AYqPrLH1kxQl",
        "colab": {
          "base_uri": "https://localhost:8080/"
        },
        "outputId": "5e8c3dd1-b11f-4402-d494-7235509b98a3"
      },
      "source": [
        "image.shape"
      ],
      "execution_count": null,
      "outputs": [
        {
          "output_type": "execute_result",
          "data": {
            "text/plain": [
              "(28, 28)"
            ]
          },
          "metadata": {
            "tags": []
          },
          "execution_count": 115
        }
      ]
    },
    {
      "cell_type": "code",
      "metadata": {
        "id": "tvI8W_8Yk81S",
        "colab": {
          "base_uri": "https://localhost:8080/"
        },
        "outputId": "fd132a5c-995d-4d74-e4b7-909404edc647"
      },
      "source": [
        "pool = F.max_pool2d(output, 2, 2)\n",
        "pool.shape"
      ],
      "execution_count": null,
      "outputs": [
        {
          "output_type": "execute_result",
          "data": {
            "text/plain": [
              "torch.Size([1, 20, 12, 12])"
            ]
          },
          "metadata": {
            "tags": []
          },
          "execution_count": 116
        }
      ]
    },
    {
      "cell_type": "markdown",
      "metadata": {
        "id": "aV3HK4FulCaJ"
      },
      "source": [
        "- MaxPool Layer는 weight가 없기 때문에 바로 `numpy()`변환 가능"
      ]
    },
    {
      "cell_type": "code",
      "metadata": {
        "id": "fseB_qlflBta",
        "colab": {
          "base_uri": "https://localhost:8080/"
        },
        "outputId": "8fe7c723-669c-4336-dfa2-dd84ead5b007"
      },
      "source": [
        "pool_arr = pool.numpy()\n",
        "pool_arr.shape"
      ],
      "execution_count": null,
      "outputs": [
        {
          "output_type": "execute_result",
          "data": {
            "text/plain": [
              "(1, 20, 12, 12)"
            ]
          },
          "metadata": {
            "tags": []
          },
          "execution_count": 117
        }
      ]
    },
    {
      "cell_type": "code",
      "metadata": {
        "id": "6w8DQnNtlNCq",
        "colab": {
          "base_uri": "https://localhost:8080/",
          "height": 313
        },
        "outputId": "e70ab4bf-dcdc-43a9-f741-24f4e913a545"
      },
      "source": [
        "plt.figure(figsize=(10, 15))\n",
        "plt.subplot(121)\n",
        "plt.title(\"Input\")\n",
        "plt.imshow(image, 'gray')\n",
        "plt.subplot(122)\n",
        "plt.title(\"Output\")\n",
        "plt.imshow(pool_arr[0, 0, :, :], 'gray')\n",
        "plt.show()"
      ],
      "execution_count": null,
      "outputs": [
        {
          "output_type": "display_data",
          "data": {
            "image/png": "[encoded data removed]",
            "text/plain": [
              "<Figure size 720x1080 with 2 Axes>"
            ]
          },
          "metadata": {
            "tags": []
          }
        }
      ]
    },
    {
      "cell_type": "markdown",
      "metadata": {
        "id": "q7RVioKwlbH1"
      },
      "source": [
        "### Linear\n",
        "- 1d만 가능 `.view()`를 통해 1D로 펼쳐줘야함"
      ]
    },
    {
      "cell_type": "code",
      "metadata": {
        "id": "Kwcedadrlcbl",
        "colab": {
          "base_uri": "https://localhost:8080/"
        },
        "outputId": "ccf41531-cb09-4a19-a965-d9fbed99a17e"
      },
      "source": [
        "image = torch.from_numpy(image)\n",
        "image.shape"
      ],
      "execution_count": null,
      "outputs": [
        {
          "output_type": "execute_result",
          "data": {
            "text/plain": [
              "torch.Size([28, 28])"
            ]
          },
          "metadata": {
            "tags": []
          },
          "execution_count": 119
        }
      ]
    },
    {
      "cell_type": "code",
      "metadata": {
        "id": "_mYQy4I3lmAm",
        "colab": {
          "base_uri": "https://localhost:8080/"
        },
        "outputId": "b15048e4-8782-47ee-9618-5292e7cc4b3e"
      },
      "source": [
        "flatten = image.view(1, 28 * 28)\n",
        "flatten.shape"
      ],
      "execution_count": null,
      "outputs": [
        {
          "output_type": "execute_result",
          "data": {
            "text/plain": [
              "torch.Size([1, 784])"
            ]
          },
          "metadata": {
            "tags": []
          },
          "execution_count": 120
        }
      ]
    },
    {
      "cell_type": "code",
      "metadata": {
        "id": "6wgSmY0Zlofk",
        "colab": {
          "base_uri": "https://localhost:8080/"
        },
        "outputId": "3b77cdbf-3a41-4d84-cc39-8dd28d3d972d"
      },
      "source": [
        "lin = nn.Linear(784, 10)(flatten)\n",
        "lin.shape"
      ],
      "execution_count": null,
      "outputs": [
        {
          "output_type": "execute_result",
          "data": {
            "text/plain": [
              "torch.Size([1, 10])"
            ]
          },
          "metadata": {
            "tags": []
          },
          "execution_count": 122
        }
      ]
    },
    {
      "cell_type": "code",
      "metadata": {
        "id": "LcJFqf0alsxr",
        "colab": {
          "base_uri": "https://localhost:8080/"
        },
        "outputId": "8979af69-3999-4263-cdec-3a6e44a5c5c0"
      },
      "source": [
        "lin"
      ],
      "execution_count": null,
      "outputs": [
        {
          "output_type": "execute_result",
          "data": {
            "text/plain": [
              "tensor([[ 0.6245,  0.3331,  0.3728, -0.0591,  0.3755, -0.4754,  0.4386,  0.3170,\n",
              "         -0.0598, -0.8203]], grad_fn=<AddmmBackward>)"
            ]
          },
          "metadata": {
            "tags": []
          },
          "execution_count": 123
        }
      ]
    },
    {
      "cell_type": "code",
      "metadata": {
        "id": "ewEpebSVluHz",
        "colab": {
          "base_uri": "https://localhost:8080/",
          "height": 252
        },
        "outputId": "75e08638-7797-4072-a8c0-b1a11fa4d415"
      },
      "source": [
        "plt.imshow(lin.detach().numpy(), 'jet')\n",
        "plt.colorbar()\n",
        "plt.show()"
      ],
      "execution_count": null,
      "outputs": [
        {
          "output_type": "display_data",
          "data": {
            "image/png": "[encoded data removed]",
            "text/plain": [
              "<Figure size 432x288 with 2 Axes>"
            ]
          },
          "metadata": {
            "tags": []
          }
        }
      ]
    },
    {
      "cell_type": "markdown",
      "metadata": {
        "id": "0IjPKDKRl3CV"
      },
      "source": [
        "### Softmax"
      ]
    },
    {
      "cell_type": "code",
      "metadata": {
        "id": "obhBb3O-lzbs"
      },
      "source": [
        "with torch.no_grad():\n",
        "  flatten = image.view(1, 28*28)\n",
        "  lin = nn.Linear(784, 10)(flatten)\n",
        "  softmax = F.softmax(lin, dim=1)"
      ],
      "execution_count": null,
      "outputs": []
    },
    {
      "cell_type": "code",
      "metadata": {
        "id": "ljgOEyNMmBEE",
        "colab": {
          "base_uri": "https://localhost:8080/"
        },
        "outputId": "491a2aee-2627-47be-e3de-801d182423c2"
      },
      "source": [
        "softmax"
      ],
      "execution_count": null,
      "outputs": [
        {
          "output_type": "execute_result",
          "data": {
            "text/plain": [
              "tensor([[0.1678, 0.0931, 0.0351, 0.1520, 0.1024, 0.0839, 0.1123, 0.0784, 0.0292,\n",
              "         0.1459]])"
            ]
          },
          "metadata": {
            "tags": []
          },
          "execution_count": 126
        }
      ]
    },
    {
      "cell_type": "code",
      "metadata": {
        "id": "18ymFSRAmBo7",
        "colab": {
          "base_uri": "https://localhost:8080/"
        },
        "outputId": "0ca4ccec-9893-4be8-97ba-3ad444838014"
      },
      "source": [
        "np.sum(softmax.numpy())"
      ],
      "execution_count": null,
      "outputs": [
        {
          "output_type": "execute_result",
          "data": {
            "text/plain": [
              "0.9999999"
            ]
          },
          "metadata": {
            "tags": []
          },
          "execution_count": 127
        }
      ]
    },
    {
      "cell_type": "markdown",
      "metadata": {
        "id": "bYh13Bnj5wEN"
      },
      "source": [
        "### F.relu\n",
        "\n",
        "- ReLU 함수를 적용하는 레이어\n",
        "\n",
        "- `nn.ReLU`로도 사용 가능"
      ]
    },
    {
      "cell_type": "code",
      "metadata": {
        "id": "D4VFePpR9_Ak",
        "colab": {
          "base_uri": "https://localhost:8080/"
        },
        "outputId": "debb6a82-1069-45cf-d259-f1da4d6a46d2"
      },
      "source": [
        "inputs = torch.randn(4, 3, 28, 28).to(device)\n",
        "inputs.shape"
      ],
      "execution_count": null,
      "outputs": [
        {
          "output_type": "execute_result",
          "data": {
            "text/plain": [
              "torch.Size([4, 3, 28, 28])"
            ]
          },
          "metadata": {
            "tags": []
          },
          "execution_count": 128
        }
      ]
    },
    {
      "cell_type": "code",
      "metadata": {
        "id": "1lKlSiaY5wZW",
        "colab": {
          "base_uri": "https://localhost:8080/"
        },
        "outputId": "86847e39-33ad-4e15-93f4-15e2b540f800"
      },
      "source": [
        "layer = nn.Conv2d(3, 20, 5, 1).to(device)\n",
        "output = F.relu(layer(inputs))\n",
        "output.shape"
      ],
      "execution_count": null,
      "outputs": [
        {
          "output_type": "execute_result",
          "data": {
            "text/plain": [
              "torch.Size([4, 20, 24, 24])"
            ]
          },
          "metadata": {
            "tags": []
          },
          "execution_count": 129
        }
      ]
    },
    {
      "cell_type": "markdown",
      "metadata": {
        "id": "0yuABl4h-yye"
      },
      "source": [
        "## Optimizer\n",
        "\n",
        "- `import torch.optim as optim`\n",
        "\n",
        "- `model`의 파라미터를 업데이트\n",
        "\n",
        "- 예시)\n",
        "  ```python\n",
        "  optimizer = torch.optim.Adam(model.parameters(), lr=1e-4, weight_decay=1e-5)\n",
        "  optimizer = optim.SGD(model.parameters(), lr=0.001)\n",
        "  ```\n",
        "\n",
        "- `.zero_grad()`로 초기화\n",
        "- `.step()`으로 업데이트\n",
        "\n"
      ]
    }
  ]
}