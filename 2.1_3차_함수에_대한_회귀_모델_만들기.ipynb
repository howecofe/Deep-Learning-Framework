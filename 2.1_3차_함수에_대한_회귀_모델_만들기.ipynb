{
  "nbformat": 4,
  "nbformat_minor": 0,
  "metadata": {
    "colab": {
      "name": "[과제] 3차 함수에 대한 회귀 모델 만들기.ipynb",
      "provenance": [],
      "collapsed_sections": []
    },
    "kernelspec": {
      "name": "python3",
      "display_name": "Python 3"
    }
  },
  "cells": [
    {
      "cell_type": "markdown",
      "metadata": {
        "id": "PGQpy8N4k2jI"
      },
      "source": [
        "- 3차 함수에 대한 데이터를 생성하고, 텐서플로우를 이용하여 회귀 모델 만들어 학습하고 시각화하기"
      ]
    },
    {
      "cell_type": "markdown",
      "metadata": {
        "id": "hmwhh8v7ooEh"
      },
      "source": [
        "## 다항 회귀 (Nonlinear Regression)\n"
      ]
    },
    {
      "cell_type": "markdown",
      "metadata": {
        "id": "JzPHMupUouoj"
      },
      "source": [
        "### modules import"
      ]
    },
    {
      "cell_type": "code",
      "metadata": {
        "id": "nwjaLZxmosFb"
      },
      "source": [
        "import numpy as np\n",
        "import tensorflow as tf\n",
        "import matplotlib.pyplot as plt\n",
        "plt.style.use('seaborn-white')\n",
        "from tensorflow.keras.optimizers import Adam"
      ],
      "execution_count": null,
      "outputs": []
    },
    {
      "cell_type": "markdown",
      "metadata": {
        "id": "a4Eypd3lqIH7"
      },
      "source": [
        "### Hyper Parameters"
      ]
    },
    {
      "cell_type": "code",
      "metadata": {
        "id": "PwYv4RjrqKDk"
      },
      "source": [
        "epochs = 2000\n",
        "learning_rate = 0.03"
      ],
      "execution_count": null,
      "outputs": []
    },
    {
      "cell_type": "markdown",
      "metadata": {
        "id": "SBFf3xYkpK__"
      },
      "source": [
        "### 변수 지정"
      ]
    },
    {
      "cell_type": "code",
      "metadata": {
        "id": "rdYHM586osJT"
      },
      "source": [
        "a = tf.Variable(np.random.randn())\n",
        "b = tf.Variable(np.random.randn())\n",
        "c = tf.Variable(np.random.randn())\n",
        "d = tf.Variable(np.random.randn())"
      ],
      "execution_count": null,
      "outputs": []
    },
    {
      "cell_type": "code",
      "metadata": {
        "id": "n0BoMoSgqmR2",
        "colab": {
          "base_uri": "https://localhost:8080/",
          "height": 90
        },
        "outputId": "44d13a74-b531-4ac1-c769-4e17ca804228"
      },
      "source": [
        "print(a.numpy())\n",
        "print(b.numpy())\n",
        "print(c.numpy())\n",
        "print(d.numpy())"
      ],
      "execution_count": null,
      "outputs": [
        {
          "output_type": "stream",
          "text": [
            "-1.8728286\n",
            "-0.696889\n",
            "-1.2121513\n",
            "-1.6465634\n"
          ],
          "name": "stdout"
        }
      ]
    },
    {
      "cell_type": "markdown",
      "metadata": {
        "id": "3-ks5u2ypTtb"
      },
      "source": [
        "### 데이터 지정"
      ]
    },
    {
      "cell_type": "code",
      "metadata": {
        "id": "rgVzGBLEor8l"
      },
      "source": [
        "X = np.random.randn(100)\n",
        "Y = X**3 + X**2 + X*np.random.randn(100)"
      ],
      "execution_count": null,
      "outputs": []
    },
    {
      "cell_type": "code",
      "metadata": {
        "id": "uodrzxT1rU1G",
        "colab": {
          "base_uri": "https://localhost:8080/",
          "height": 262
        },
        "outputId": "7764df46-7748-4142-ab77-78ac90f0de0c"
      },
      "source": [
        "line_x = np.arange(min(X), max(X), 0.001)\n",
        "line_y = a*line_x**3 + b*line_x**2 + c*line_x + d\n",
        "\n",
        "x_ = np.arange(-4.0, 4.0, 0.001)\n",
        "y_ = a*x_**3 + b*x_**2 + c*x_ + d\n",
        "\n",
        "plt.scatter(X, Y, label='X data')\n",
        "plt.plot(x_, y_, 'g--', label='origin line')\n",
        "plt.plot(line_x, line_y, 'r--', label='before train')\n",
        "plt.xlim(-4.0, 4.0)\n",
        "plt.legend()\n",
        "plt.grid()\n",
        "plt.show()"
      ],
      "execution_count": null,
      "outputs": [
        {
          "output_type": "display_data",
          "data": {
            "image/png": "[encoded data removed]",
            "text/plain": [
              "<Figure size 432x288 with 1 Axes>"
            ]
          },
          "metadata": {
            "tags": []
          }
        }
      ]
    },
    {
      "cell_type": "markdown",
      "metadata": {
        "id": "7C56lq45uM-V"
      },
      "source": [
        "### Util Functions"
      ]
    },
    {
      "cell_type": "code",
      "metadata": {
        "id": "_pvdH6U9uJ8i"
      },
      "source": [
        "def compute_loss():\n",
        "  pred_y = a*(np.array(X)**3) + b*(np.array(X)**2) + c*np.array(X) + d\n",
        "  loss = tf.reduce_mean((Y - pred_y)**2)\n",
        "  return loss"
      ],
      "execution_count": null,
      "outputs": []
    },
    {
      "cell_type": "markdown",
      "metadata": {
        "id": "kcme5VWPp6fz"
      },
      "source": [
        "### Optimizer"
      ]
    },
    {
      "cell_type": "code",
      "metadata": {
        "id": "R4TSy8j2or5J"
      },
      "source": [
        "optimizer = Adam(learning_rate=learning_rate)"
      ],
      "execution_count": null,
      "outputs": []
    },
    {
      "cell_type": "markdown",
      "metadata": {
        "id": "5QVfbg2uqEx8"
      },
      "source": [
        "### 학습"
      ]
    },
    {
      "cell_type": "code",
      "metadata": {
        "id": "DBjCdWz9or1p",
        "colab": {
          "base_uri": "https://localhost:8080/",
          "height": 380
        },
        "outputId": "c5e66924-f011-4c1a-c7af-437b46107839"
      },
      "source": [
        "for epoch in range(1, epochs+1, 1):\n",
        "  optimizer.minimize(compute_loss, var_list=[a, b, c, d])\n",
        "\n",
        "  if epoch % 100 == 0:\n",
        "    print(\"epoch: {:4d}\\ta: {:.4f}\\tb: {:.4f}\\tc: {:.4f}\\td: {:.4f}\".format(epoch, a.numpy(), b.numpy(), c.numpy(), d.numpy()))"
      ],
      "execution_count": null,
      "outputs": [
        {
          "output_type": "stream",
          "text": [
            "epoch:  100\ta: 0.2859\tb: 0.9635\tc: 0.8812\td: 0.0063\n",
            "epoch:  200\ta: 0.6559\tb: 1.0113\tc: 0.9815\td: 0.0150\n",
            "epoch:  300\ta: 0.7333\tb: 1.0177\tc: 0.7296\td: 0.0002\n",
            "epoch:  400\ta: 0.8060\tb: 1.0189\tc: 0.4827\td: -0.0055\n",
            "epoch:  500\ta: 0.8705\tb: 1.0191\tc: 0.2630\td: -0.0087\n",
            "epoch:  600\ta: 0.9243\tb: 1.0192\tc: 0.0803\td: -0.0112\n",
            "epoch:  700\ta: 0.9665\tb: 1.0192\tc: -0.0633\td: -0.0131\n",
            "epoch:  800\ta: 0.9980\tb: 1.0192\tc: -0.1704\td: -0.0145\n",
            "epoch:  900\ta: 1.0203\tb: 1.0192\tc: -0.2464\td: -0.0155\n",
            "epoch: 1000\ta: 1.0354\tb: 1.0192\tc: -0.2977\td: -0.0161\n",
            "epoch: 1100\ta: 1.0451\tb: 1.0193\tc: -0.3308\td: -0.0166\n",
            "epoch: 1200\ta: 1.0511\tb: 1.0193\tc: -0.3511\td: -0.0168\n",
            "epoch: 1300\ta: 1.0546\tb: 1.0193\tc: -0.3630\td: -0.0170\n",
            "epoch: 1400\ta: 1.0565\tb: 1.0193\tc: -0.3696\td: -0.0171\n",
            "epoch: 1500\ta: 1.0576\tb: 1.0193\tc: -0.3731\td: -0.0171\n",
            "epoch: 1600\ta: 1.0581\tb: 1.0193\tc: -0.3748\td: -0.0171\n",
            "epoch: 1700\ta: 1.0583\tb: 1.0193\tc: -0.3757\td: -0.0172\n",
            "epoch: 1800\ta: 1.0584\tb: 1.0193\tc: -0.3760\td: -0.0172\n",
            "epoch: 1900\ta: 1.0585\tb: 1.0193\tc: -0.3762\td: -0.0172\n",
            "epoch: 2000\ta: 1.0585\tb: 1.0193\tc: -0.3762\td: -0.0172\n"
          ],
          "name": "stdout"
        }
      ]
    },
    {
      "cell_type": "markdown",
      "metadata": {
        "id": "Fbyej01IumFX"
      },
      "source": [
        "### 학습 후의 회귀선"
      ]
    },
    {
      "cell_type": "code",
      "metadata": {
        "id": "gKqDyDwXugdP",
        "colab": {
          "base_uri": "https://localhost:8080/",
          "height": 262
        },
        "outputId": "6f7d98ef-1ca5-4cf4-8b73-dfbb0265c984"
      },
      "source": [
        "line_x = np.arange(min(X), max(X), 0.001)\n",
        "line_y = a*line_x**3 + b*line_x**2 + c*line_x + d\n",
        "\n",
        "plt.scatter(X, Y, label='X data')\n",
        "plt.plot(x_, y_, 'g--', label='origin line')\n",
        "plt.plot(line_x, line_y, 'r--', label='after train')\n",
        "plt.xlim(-4.0, 4.0)\n",
        "plt.legend()\n",
        "plt.grid()\n",
        "plt.show()"
      ],
      "execution_count": null,
      "outputs": [
        {
          "output_type": "display_data",
          "data": {
            "image/png": "[encoded data removed]",
            "text/plain": [
              "<Figure size 432x288 with 1 Axes>"
            ]
          },
          "metadata": {
            "tags": []
          }
        }
      ]
    }
  ]
}