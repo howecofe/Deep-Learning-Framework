{
  "nbformat": 4,
  "nbformat_minor": 0,
  "metadata": {
    "colab": {
      "name": "_8 케라스 순환 신경망.ipynb의 사본",
      "provenance": [],
      "collapsed_sections": []
    },
    "kernelspec": {
      "name": "python3",
      "display_name": "Python 3"
    },
    "accelerator": "GPU"
  },
  "cells": [
    {
      "cell_type": "markdown",
      "metadata": {
        "id": "XP9Qr2-36gAf"
      },
      "source": [
        "# 순환 신경망(Recurrent Neural Network, RNN)\n",
        "\n",
        "- 루프(loop)를 가진 신경망의 한 종류\n",
        "\n",
        "- 시퀀스의 원소를 순회하면서 지금까지 처리한 정보를 상태(state)에 저장\n",
        "\n",
        "<img src=\"https://miro.medium.com/max/627/1*go8PHsPNbbV6qRiwpUQ5BQ.png\">\n",
        "\n",
        "<sub>출처: https://towardsdatascience.com/understanding-rnn-and-lstm-f7cdf6dfc14e</sub>"
      ]
    },
    {
      "cell_type": "markdown",
      "metadata": {
        "id": "lp3_sVIjHk0F"
      },
      "source": [
        "## 순환 신경망 레이어 (RNN Layer)\n",
        "\n",
        "- 입력: `(timesteps, input_features)`\n",
        "\n",
        "- 출력: `(timesteps, output_features)`"
      ]
    },
    {
      "cell_type": "code",
      "metadata": {
        "id": "n08yr0aAIbFD"
      },
      "source": [
        "import numpy as np"
      ],
      "execution_count": null,
      "outputs": []
    },
    {
      "cell_type": "code",
      "metadata": {
        "id": "ZKIInEEZIcBj"
      },
      "source": [
        "timesteps = 100\n",
        "input_features = 32\n",
        "output_features = 64\n",
        "\n",
        "inputs = np.random.random((timesteps, input_features))\n",
        "\n",
        "state_t = np.zeros((output_features, ))\n",
        "\n",
        "W = np.random.random((output_features, input_features))\n",
        "U = np.random.random((output_features, output_features))\n",
        "b = np.random.random((output_features, ))\n",
        "\n",
        "successive_outputs = []\n",
        "\n",
        "for input_t in inputs:\n",
        "  output_t = np.tanh(np.dot(W, input_t) + np.dot(U, state_t) + b)\n",
        "  successive_outputs.append(output_t)\n",
        "  state_t = output_t\n",
        "\n",
        "final_output_sequence = np.stack(successive_outputs, axis=0)"
      ],
      "execution_count": null,
      "outputs": []
    },
    {
      "cell_type": "markdown",
      "metadata": {
        "id": "bEZ8dQEEKxlQ"
      },
      "source": [
        "## 케라스의 순환층\n",
        "- `SimpleRNN` layer\n",
        "\n",
        "- 입력: `(batch_size, timesteps, input_features)`\n",
        "\n",
        "- 출력\n",
        "  - `return_sequences`로 결정할 수 있음\n",
        "  \n",
        "  - 3D 텐서\n",
        "    - 타임스텝의 출력을 모은 전체 시퀀스를 반환\n",
        "\n",
        "    - `(batch_size, timesteps, output_features)`\n",
        "\n",
        "  - 2D 텐서\n",
        "    - 입력 시퀀스에 대한 마지막 출력만 반환\n",
        "\n",
        "    - `(batch_size, output_features)`\n"
      ]
    },
    {
      "cell_type": "code",
      "metadata": {
        "id": "lZ1YCi1iKMC8"
      },
      "source": [
        "from tensorflow.keras.layers import SimpleRNN, Embedding\n",
        "from tensorflow.keras.models import Sequential"
      ],
      "execution_count": null,
      "outputs": []
    },
    {
      "cell_type": "code",
      "metadata": {
        "id": "GQ9LbTgoKxIl",
        "colab": {
          "base_uri": "https://localhost:8080/"
        },
        "outputId": "01f4598f-b587-4089-aa0d-4f0e2881d913"
      },
      "source": [
        "model = Sequential()\n",
        "model.add(Embedding(1000, 32))\n",
        "model.add(SimpleRNN(32))\n",
        "model.summary()"
      ],
      "execution_count": null,
      "outputs": [
        {
          "output_type": "stream",
          "text": [
            "Model: \"sequential\"\n",
            "_________________________________________________________________\n",
            "Layer (type)                 Output Shape              Param #   \n",
            "=================================================================\n",
            "embedding (Embedding)        (None, None, 32)          32000     \n",
            "_________________________________________________________________\n",
            "simple_rnn (SimpleRNN)       (None, 32)                2080      \n",
            "=================================================================\n",
            "Total params: 34,080\n",
            "Trainable params: 34,080\n",
            "Non-trainable params: 0\n",
            "_________________________________________________________________\n"
          ],
          "name": "stdout"
        }
      ]
    },
    {
      "cell_type": "code",
      "metadata": {
        "id": "KDxE5Jv0Kc7O",
        "colab": {
          "base_uri": "https://localhost:8080/"
        },
        "outputId": "380a645f-3c07-4052-d760-93eb9863e535"
      },
      "source": [
        "model = Sequential()\n",
        "model.add(Embedding(1000, 32))\n",
        "model.add(SimpleRNN(32, return_sequences=True))\n",
        "model.summary()"
      ],
      "execution_count": null,
      "outputs": [
        {
          "output_type": "stream",
          "text": [
            "Model: \"sequential_1\"\n",
            "_________________________________________________________________\n",
            "Layer (type)                 Output Shape              Param #   \n",
            "=================================================================\n",
            "embedding_1 (Embedding)      (None, None, 32)          32000     \n",
            "_________________________________________________________________\n",
            "simple_rnn_1 (SimpleRNN)     (None, None, 32)          2080      \n",
            "=================================================================\n",
            "Total params: 34,080\n",
            "Trainable params: 34,080\n",
            "Non-trainable params: 0\n",
            "_________________________________________________________________\n"
          ],
          "name": "stdout"
        }
      ]
    },
    {
      "cell_type": "markdown",
      "metadata": {
        "id": "E-MDIz1zcIyP"
      },
      "source": [
        "- 네트워크의 표현력을 증가시키기 위해 여러 개의 순환층을 차례대로 쌓는 것이 유용할 때가 있음\n",
        "\n",
        "  - 이런 설정에서는 중간층들이 전체 출력 시퀀스를 반환하도록 설정"
      ]
    },
    {
      "cell_type": "code",
      "metadata": {
        "id": "E1tUaIe2L7GZ",
        "colab": {
          "base_uri": "https://localhost:8080/"
        },
        "outputId": "6a5ae562-c452-45b5-f5cb-42bf5da82cc7"
      },
      "source": [
        "model = Sequential()\n",
        "model.add(Embedding(1000, 32))\n",
        "model.add(SimpleRNN(32, return_sequences=True))\n",
        "model.add(SimpleRNN(32, return_sequences=True))\n",
        "model.add(SimpleRNN(32, return_sequences=True))\n",
        "model.add(SimpleRNN(32))\n",
        "model.summary()"
      ],
      "execution_count": null,
      "outputs": [
        {
          "output_type": "stream",
          "text": [
            "Model: \"sequential_2\"\n",
            "_________________________________________________________________\n",
            "Layer (type)                 Output Shape              Param #   \n",
            "=================================================================\n",
            "embedding_2 (Embedding)      (None, None, 32)          32000     \n",
            "_________________________________________________________________\n",
            "simple_rnn_2 (SimpleRNN)     (None, None, 32)          2080      \n",
            "_________________________________________________________________\n",
            "simple_rnn_3 (SimpleRNN)     (None, None, 32)          2080      \n",
            "_________________________________________________________________\n",
            "simple_rnn_4 (SimpleRNN)     (None, None, 32)          2080      \n",
            "_________________________________________________________________\n",
            "simple_rnn_5 (SimpleRNN)     (None, 32)                2080      \n",
            "=================================================================\n",
            "Total params: 40,320\n",
            "Trainable params: 40,320\n",
            "Non-trainable params: 0\n",
            "_________________________________________________________________\n"
          ],
          "name": "stdout"
        }
      ]
    },
    {
      "cell_type": "markdown",
      "metadata": {
        "id": "j0CNAzN_deXE"
      },
      "source": [
        "## IMDB 데이터 적용"
      ]
    },
    {
      "cell_type": "markdown",
      "metadata": {
        "id": "W1SbNYRdmVTY"
      },
      "source": [
        "### 데이터 로드"
      ]
    },
    {
      "cell_type": "code",
      "metadata": {
        "id": "-27Tkihbcei2"
      },
      "source": [
        "from tensorflow.keras.datasets import imdb\n",
        "from tensorflow.keras.preprocessing import sequence"
      ],
      "execution_count": null,
      "outputs": []
    },
    {
      "cell_type": "code",
      "metadata": {
        "id": "KL-_piPIdms6",
        "colab": {
          "base_uri": "https://localhost:8080/"
        },
        "outputId": "3ca6e00a-8e29-4730-d4b9-a3b7f6b4e788"
      },
      "source": [
        "num_words = 10000\n",
        "max_len = 500\n",
        "batch_size = 32\n",
        "\n",
        "(input_train, y_train), (input_test, y_test) = imdb.load_data(num_words=num_words)\n",
        "print(len(input_train))\n",
        "print(len(input_test))\n",
        "\n",
        "input_train = sequence.pad_sequences(input_train, maxlen=max_len)\n",
        "input_test = sequence.pad_sequences(input_test, maxlen=max_len)\n",
        "print(input_train.shape)\n",
        "print(input_test.shape)"
      ],
      "execution_count": null,
      "outputs": [
        {
          "output_type": "stream",
          "text": [
            "Downloading data from https://storage.googleapis.com/tensorflow/tf-keras-datasets/imdb.npz\n",
            "17465344/17464789 [==============================] - 0s 0us/step\n",
            "25000\n",
            "25000\n",
            "(25000, 500)\n",
            "(25000, 500)\n"
          ],
          "name": "stdout"
        }
      ]
    },
    {
      "cell_type": "markdown",
      "metadata": {
        "id": "uf2EVnzceS4R"
      },
      "source": [
        "### 모델 구성"
      ]
    },
    {
      "cell_type": "code",
      "metadata": {
        "id": "d7dfeDC5eMdj"
      },
      "source": [
        "from tensorflow.keras.layers import Dense"
      ],
      "execution_count": null,
      "outputs": []
    },
    {
      "cell_type": "code",
      "metadata": {
        "id": "KnAUijOReWGu",
        "colab": {
          "base_uri": "https://localhost:8080/"
        },
        "outputId": "9ab76ac6-3e9f-431d-b997-1f9772d25217"
      },
      "source": [
        "model = Sequential()\n",
        "\n",
        "model.add(Embedding(num_words, 32))\n",
        "model.add(SimpleRNN(32))\n",
        "model.add(Dense(1, activation='sigmoid'))\n",
        "\n",
        "model.compile(optimizer='rmsprop',\n",
        "              loss='binary_crossentropy',\n",
        "              metrics=['acc'])\n",
        "model.summary()"
      ],
      "execution_count": null,
      "outputs": [
        {
          "output_type": "stream",
          "text": [
            "Model: \"sequential_3\"\n",
            "_________________________________________________________________\n",
            "Layer (type)                 Output Shape              Param #   \n",
            "=================================================================\n",
            "embedding_3 (Embedding)      (None, None, 32)          320000    \n",
            "_________________________________________________________________\n",
            "simple_rnn_6 (SimpleRNN)     (None, 32)                2080      \n",
            "_________________________________________________________________\n",
            "dense (Dense)                (None, 1)                 33        \n",
            "=================================================================\n",
            "Total params: 322,113\n",
            "Trainable params: 322,113\n",
            "Non-trainable params: 0\n",
            "_________________________________________________________________\n"
          ],
          "name": "stdout"
        }
      ]
    },
    {
      "cell_type": "markdown",
      "metadata": {
        "id": "pU_9-Hu7mcMa"
      },
      "source": [
        "### 모델 학습"
      ]
    },
    {
      "cell_type": "code",
      "metadata": {
        "id": "XdPtzPwNeonA",
        "colab": {
          "base_uri": "https://localhost:8080/"
        },
        "outputId": "4d44a5ed-c6e3-42fd-be19-e40dadc4aa96"
      },
      "source": [
        "history = model.fit(input_train, y_train,\n",
        "                    epochs=10,\n",
        "                    batch_size=128,\n",
        "                    validation_split=0.2)"
      ],
      "execution_count": null,
      "outputs": [
        {
          "output_type": "stream",
          "text": [
            "Epoch 1/10\n",
            "157/157 [==============================] - 52s 332ms/step - loss: 0.6093 - acc: 0.6510 - val_loss: 0.4783 - val_acc: 0.7770\n",
            "Epoch 2/10\n",
            "157/157 [==============================] - 51s 326ms/step - loss: 0.3716 - acc: 0.8451 - val_loss: 0.3949 - val_acc: 0.8252\n",
            "Epoch 3/10\n",
            "157/157 [==============================] - 53s 336ms/step - loss: 0.2783 - acc: 0.8909 - val_loss: 0.4483 - val_acc: 0.7816\n",
            "Epoch 4/10\n",
            "157/157 [==============================] - 51s 325ms/step - loss: 0.2231 - acc: 0.9151 - val_loss: 0.4928 - val_acc: 0.8396\n",
            "Epoch 5/10\n",
            "157/157 [==============================] - 51s 324ms/step - loss: 0.1760 - acc: 0.9366 - val_loss: 0.4901 - val_acc: 0.8508\n",
            "Epoch 6/10\n",
            "157/157 [==============================] - 51s 327ms/step - loss: 0.1362 - acc: 0.9528 - val_loss: 0.3929 - val_acc: 0.8538\n",
            "Epoch 7/10\n",
            "157/157 [==============================] - 52s 334ms/step - loss: 0.0966 - acc: 0.9671 - val_loss: 0.4604 - val_acc: 0.8272\n",
            "Epoch 8/10\n",
            "157/157 [==============================] - 54s 342ms/step - loss: 0.0691 - acc: 0.9765 - val_loss: 0.5537 - val_acc: 0.7682\n",
            "Epoch 9/10\n",
            "157/157 [==============================] - 53s 336ms/step - loss: 0.0593 - acc: 0.9810 - val_loss: 0.5239 - val_acc: 0.8440\n",
            "Epoch 10/10\n",
            "157/157 [==============================] - 53s 335ms/step - loss: 0.0357 - acc: 0.9898 - val_loss: 0.5899 - val_acc: 0.8258\n"
          ],
          "name": "stdout"
        }
      ]
    },
    {
      "cell_type": "markdown",
      "metadata": {
        "id": "afIyKdLsmj6N"
      },
      "source": [
        "### 시각화"
      ]
    },
    {
      "cell_type": "code",
      "metadata": {
        "id": "sendhEujeu8S"
      },
      "source": [
        "import matplotlib.pyplot as plt\n",
        "plt.style.use('seaborn-white')"
      ],
      "execution_count": null,
      "outputs": []
    },
    {
      "cell_type": "code",
      "metadata": {
        "id": "3rjMFpiBe4Fa",
        "colab": {
          "base_uri": "https://localhost:8080/",
          "height": 507
        },
        "outputId": "29ca89bd-e90b-48c1-c1f0-1bdeaf8f4978"
      },
      "source": [
        "loss = history.history['loss']\n",
        "val_loss = history.history['val_loss']\n",
        "acc = history.history['acc']\n",
        "val_acc = history.history['val_acc']\n",
        "\n",
        "epochs = range(1, len(loss) + 1)\n",
        "\n",
        "plt.plot(epochs, loss, 'b--', label='training loss')\n",
        "plt.plot(epochs, val_loss, 'r:', label='validation loss')\n",
        "plt.legend()\n",
        "plt.grid()\n",
        "\n",
        "plt.figure()\n",
        "plt.plot(epochs, acc, 'b--', label='training accuracy')\n",
        "plt.plot(epochs, val_acc, 'r:', label='validation accuracy')\n",
        "plt.legend()\n",
        "plt.grid()\n",
        "\n",
        "plt.show()"
      ],
      "execution_count": null,
      "outputs": [
        {
          "output_type": "display_data",
          "data": {
            "image/png": "[encoded data removed]",
            "text/plain": [
              "<Figure size 432x288 with 1 Axes>"
            ]
          },
          "metadata": {
            "tags": []
          }
        },
        {
          "output_type": "display_data",
          "data": {
            "image/png": "[encoded data removed]",
            "text/plain": [
              "<Figure size 432x288 with 1 Axes>"
            ]
          },
          "metadata": {
            "tags": []
          }
        }
      ]
    },
    {
      "cell_type": "code",
      "metadata": {
        "id": "YLO526Sgf-U_",
        "colab": {
          "base_uri": "https://localhost:8080/"
        },
        "outputId": "554f6728-e424-4747-9ab7-ebaa181c19e9"
      },
      "source": [
        "model.evaluate(input_test, y_test)"
      ],
      "execution_count": null,
      "outputs": [
        {
          "output_type": "stream",
          "text": [
            "782/782 [==============================] - 27s 34ms/step - loss: 0.5817 - acc: 0.8255\n"
          ],
          "name": "stdout"
        },
        {
          "output_type": "execute_result",
          "data": {
            "text/plain": [
              "[0.5816594362258911, 0.8254799842834473]"
            ]
          },
          "metadata": {
            "tags": []
          },
          "execution_count": 14
        }
      ]
    },
    {
      "cell_type": "markdown",
      "metadata": {
        "id": "ytqqPh0ZgSja"
      },
      "source": [
        "- 전체 시퀀스가 아니라 순서대로 500개의 단어만 입력했기 때문에 성능이 낮게 나옴\n",
        "\n",
        "- SimpleRNN은 긴 시퀀스를 처리하는데 적합하지 않음"
      ]
    },
    {
      "cell_type": "markdown",
      "metadata": {
        "id": "VTmZ_XiZguM5"
      },
      "source": [
        "# LSTM과 GRU 레이어\n",
        "\n",
        "- SimpleRNN은 실전에 사용하기엔 너무 단순\n",
        "\n",
        "- SimpleRNN은 이론적으로 시간 $t$ 에서 이전의 모든 타임스텝의 정보를 유지할 수 있지만, 실제로는 긴 시간에 걸친 의존성은 학습할 수 없음\n",
        "\n",
        "- 그래디언트 소실 문제(vanishing gradient problem)\n",
        "  - 이를 방지하기 위해 LSTM, GRU 같은 레이어 등장\n",
        "\n"
      ]
    },
    {
      "cell_type": "markdown",
      "metadata": {
        "id": "oZXJIdDai7sV"
      },
      "source": [
        "## LSTM(Long Short-Term Memory)\n",
        "- 장단기 메모리 알고리즘\n",
        "\n",
        "- 나중을 위해 정보를 저장함으로써 오래된 시그널이 점차 소실되는 것을 막아줌\n",
        "\n",
        "  <img src=\"https://colah.github.io/posts/2015-08-Understanding-LSTMs/img/LSTM3-chain.png\">\n",
        "\n",
        "  <sub>출처: https://colah.github.io/posts/2015-08-Understanding-LSTMs/</sub>"
      ]
    },
    {
      "cell_type": "markdown",
      "metadata": {
        "id": "TvnFLeqSsOSh"
      },
      "source": [
        "## 예제로 보는 순환 신경망: Reuters \n",
        "\n",
        "- IMDB와 유사한 데이터셋(텍스트 데이터)\n",
        "\n",
        "- 46개의 상호 배타적인 토픽으로 이루어진 데이터셋 \n",
        "  - 다중 분류 문제\n"
      ]
    },
    {
      "cell_type": "markdown",
      "metadata": {
        "id": "ONPaMDFEsftq"
      },
      "source": [
        "### 데이터셋 로드"
      ]
    },
    {
      "cell_type": "code",
      "metadata": {
        "id": "sFyvFVizsUVD"
      },
      "source": [
        "from tensorflow.keras.datasets import reuters"
      ],
      "execution_count": null,
      "outputs": []
    },
    {
      "cell_type": "code",
      "metadata": {
        "id": "C234q3AVsUSp",
        "colab": {
          "base_uri": "https://localhost:8080/"
        },
        "outputId": "e55cc5f6-032f-4744-aeb8-20a21c8b7688"
      },
      "source": [
        "num_words = 10000\n",
        "(x_train, y_train), (x_test, y_test) = reuters.load_data(num_words=num_words)\n",
        "\n",
        "print(x_train.shape)\n",
        "print(y_train.shape)\n",
        "\n",
        "print(x_test.shape)\n",
        "print(y_test.shape)"
      ],
      "execution_count": null,
      "outputs": [
        {
          "output_type": "stream",
          "text": [
            "Downloading data from https://storage.googleapis.com/tensorflow/tf-keras-datasets/reuters.npz\n",
            "2113536/2110848 [==============================] - 0s 0us/step\n",
            "(8982,)\n",
            "(8982,)\n",
            "(2246,)\n",
            "(2246,)\n"
          ],
          "name": "stdout"
        }
      ]
    },
    {
      "cell_type": "markdown",
      "metadata": {
        "id": "VioYGD8Ms4zH"
      },
      "source": [
        "### 데이터 전처리 및 확인"
      ]
    },
    {
      "cell_type": "code",
      "metadata": {
        "id": "2Sb0OxNlsUQT"
      },
      "source": [
        "from tensorflow.keras.preprocessing.sequence import pad_sequences"
      ],
      "execution_count": null,
      "outputs": []
    },
    {
      "cell_type": "code",
      "metadata": {
        "id": "rNUkve6-sUN6"
      },
      "source": [
        "max_len = 500"
      ],
      "execution_count": null,
      "outputs": []
    },
    {
      "cell_type": "code",
      "metadata": {
        "id": "jBxQZtOJsULl",
        "colab": {
          "base_uri": "https://localhost:8080/"
        },
        "outputId": "3cfdebf9-6b5f-4780-892d-8ac50e5e1b1e"
      },
      "source": [
        "pad_x_train = pad_sequences(x_train, maxlen=max_len)\n",
        "pad_x_test = pad_sequences(x_test, maxlen=max_len)\n",
        "\n",
        "print(len(pad_x_train[0]))"
      ],
      "execution_count": null,
      "outputs": [
        {
          "output_type": "stream",
          "text": [
            "500\n"
          ],
          "name": "stdout"
        }
      ]
    },
    {
      "cell_type": "code",
      "metadata": {
        "id": "a6hwQtn_sUJN",
        "colab": {
          "base_uri": "https://localhost:8080/"
        },
        "outputId": "d80a76d8-af4a-49f0-e866-b3aaf053903a"
      },
      "source": [
        "pad_x_train[0]"
      ],
      "execution_count": null,
      "outputs": [
        {
          "output_type": "execute_result",
          "data": {
            "text/plain": [
              "array([   0,    0,    0,    0,    0,    0,    0,    0,    0,    0,    0,\n",
              "          0,    0,    0,    0,    0,    0,    0,    0,    0,    0,    0,\n",
              "          0,    0,    0,    0,    0,    0,    0,    0,    0,    0,    0,\n",
              "          0,    0,    0,    0,    0,    0,    0,    0,    0,    0,    0,\n",
              "          0,    0,    0,    0,    0,    0,    0,    0,    0,    0,    0,\n",
              "          0,    0,    0,    0,    0,    0,    0,    0,    0,    0,    0,\n",
              "          0,    0,    0,    0,    0,    0,    0,    0,    0,    0,    0,\n",
              "          0,    0,    0,    0,    0,    0,    0,    0,    0,    0,    0,\n",
              "          0,    0,    0,    0,    0,    0,    0,    0,    0,    0,    0,\n",
              "          0,    0,    0,    0,    0,    0,    0,    0,    0,    0,    0,\n",
              "          0,    0,    0,    0,    0,    0,    0,    0,    0,    0,    0,\n",
              "          0,    0,    0,    0,    0,    0,    0,    0,    0,    0,    0,\n",
              "          0,    0,    0,    0,    0,    0,    0,    0,    0,    0,    0,\n",
              "          0,    0,    0,    0,    0,    0,    0,    0,    0,    0,    0,\n",
              "          0,    0,    0,    0,    0,    0,    0,    0,    0,    0,    0,\n",
              "          0,    0,    0,    0,    0,    0,    0,    0,    0,    0,    0,\n",
              "          0,    0,    0,    0,    0,    0,    0,    0,    0,    0,    0,\n",
              "          0,    0,    0,    0,    0,    0,    0,    0,    0,    0,    0,\n",
              "          0,    0,    0,    0,    0,    0,    0,    0,    0,    0,    0,\n",
              "          0,    0,    0,    0,    0,    0,    0,    0,    0,    0,    0,\n",
              "          0,    0,    0,    0,    0,    0,    0,    0,    0,    0,    0,\n",
              "          0,    0,    0,    0,    0,    0,    0,    0,    0,    0,    0,\n",
              "          0,    0,    0,    0,    0,    0,    0,    0,    0,    0,    0,\n",
              "          0,    0,    0,    0,    0,    0,    0,    0,    0,    0,    0,\n",
              "          0,    0,    0,    0,    0,    0,    0,    0,    0,    0,    0,\n",
              "          0,    0,    0,    0,    0,    0,    0,    0,    0,    0,    0,\n",
              "          0,    0,    0,    0,    0,    0,    0,    0,    0,    0,    0,\n",
              "          0,    0,    0,    0,    0,    0,    0,    0,    0,    0,    0,\n",
              "          0,    0,    0,    0,    0,    0,    0,    0,    0,    0,    0,\n",
              "          0,    0,    0,    0,    0,    0,    0,    0,    0,    0,    0,\n",
              "          0,    0,    0,    0,    0,    0,    0,    0,    0,    0,    0,\n",
              "          0,    0,    0,    0,    0,    0,    0,    0,    0,    0,    0,\n",
              "          0,    0,    0,    0,    0,    0,    0,    0,    0,    0,    0,\n",
              "          0,    0,    0,    0,    0,    0,    0,    0,    0,    0,    0,\n",
              "          0,    0,    0,    0,    0,    0,    0,    0,    0,    0,    0,\n",
              "          0,    0,    0,    0,    0,    0,    0,    0,    0,    0,    0,\n",
              "          0,    0,    0,    0,    0,    0,    0,    0,    0,    0,    0,\n",
              "          0,    0,    0,    0,    0,    0,    1,    2,    2,    8,   43,\n",
              "         10,  447,    5,   25,  207,  270,    5, 3095,  111,   16,  369,\n",
              "        186,   90,   67,    7,   89,    5,   19,  102,    6,   19,  124,\n",
              "         15,   90,   67,   84,   22,  482,   26,    7,   48,    4,   49,\n",
              "          8,  864,   39,  209,  154,    6,  151,    6,   83,   11,   15,\n",
              "         22,  155,   11,   15,    7,   48,    9, 4579, 1005,  504,    6,\n",
              "        258,    6,  272,   11,   15,   22,  134,   44,   11,   15,   16,\n",
              "          8,  197, 1245,   90,   67,   52,   29,  209,   30,   32,  132,\n",
              "          6,  109,   15,   17,   12], dtype=int32)"
            ]
          },
          "metadata": {
            "tags": []
          },
          "execution_count": 20
        }
      ]
    },
    {
      "cell_type": "markdown",
      "metadata": {
        "id": "_P_JxBFntQOP"
      },
      "source": [
        "### 모델 구성\n",
        "- LSTM 레이어도 SimpleRNN과 같이 `return_sequences` 인자 사용가능"
      ]
    },
    {
      "cell_type": "code",
      "metadata": {
        "id": "1vG3ZGSksUG5"
      },
      "source": [
        "from tensorflow.keras.models import Sequential\n",
        "from tensorflow.keras.layers import LSTM, Dense, Embedding"
      ],
      "execution_count": null,
      "outputs": []
    },
    {
      "cell_type": "code",
      "metadata": {
        "id": "K_uMdxmysUEg",
        "colab": {
          "base_uri": "https://localhost:8080/"
        },
        "outputId": "15f526c3-1bd6-4747-cd44-fadae0412a6f"
      },
      "source": [
        "model = Sequential()\n",
        "model.add(Embedding(input_dim=num_words, output_dim=64))\n",
        "model.add(LSTM(64, return_sequences=True))\n",
        "model.add(LSTM(32))\n",
        "model.add(Dense(46, activation='softmax'))\n",
        "\n",
        "model.compile(optimizer='adam',\n",
        "              loss='sparse_categorical_crossentropy',\n",
        "              metrics=['acc'])\n",
        "model.summary()"
      ],
      "execution_count": null,
      "outputs": [
        {
          "output_type": "stream",
          "text": [
            "Model: \"sequential_4\"\n",
            "_________________________________________________________________\n",
            "Layer (type)                 Output Shape              Param #   \n",
            "=================================================================\n",
            "embedding_4 (Embedding)      (None, None, 64)          640000    \n",
            "_________________________________________________________________\n",
            "lstm (LSTM)                  (None, None, 64)          33024     \n",
            "_________________________________________________________________\n",
            "lstm_1 (LSTM)                (None, 32)                12416     \n",
            "_________________________________________________________________\n",
            "dense_1 (Dense)              (None, 46)                1518      \n",
            "=================================================================\n",
            "Total params: 686,958\n",
            "Trainable params: 686,958\n",
            "Non-trainable params: 0\n",
            "_________________________________________________________________\n"
          ],
          "name": "stdout"
        }
      ]
    },
    {
      "cell_type": "markdown",
      "metadata": {
        "id": "qjgupW2puHXA"
      },
      "source": [
        "### 모델 학습"
      ]
    },
    {
      "cell_type": "code",
      "metadata": {
        "id": "T22YsRQ8sUBg",
        "colab": {
          "base_uri": "https://localhost:8080/"
        },
        "outputId": "73434faa-103f-4d0a-9e56-239f1c50ff70"
      },
      "source": [
        "history = model.fit(pad_x_train, y_train,\n",
        "                    batch_size=32, epochs=20,\n",
        "                    validation_split=0.2)"
      ],
      "execution_count": null,
      "outputs": [
        {
          "output_type": "stream",
          "text": [
            "Epoch 1/20\n",
            "225/225 [==============================] - 10s 45ms/step - loss: 2.5570 - acc: 0.3511 - val_loss: 2.4091 - val_acc: 0.3450\n",
            "Epoch 2/20\n",
            "225/225 [==============================] - 9s 41ms/step - loss: 2.3323 - acc: 0.3722 - val_loss: 2.0054 - val_acc: 0.4446\n",
            "Epoch 3/20\n",
            "225/225 [==============================] - 9s 42ms/step - loss: 1.9157 - acc: 0.5123 - val_loss: 1.9306 - val_acc: 0.4213\n",
            "Epoch 4/20\n",
            "225/225 [==============================] - 10s 42ms/step - loss: 1.6975 - acc: 0.5518 - val_loss: 1.6727 - val_acc: 0.5710\n",
            "Epoch 5/20\n",
            "225/225 [==============================] - 10s 43ms/step - loss: 1.6330 - acc: 0.5858 - val_loss: 1.6443 - val_acc: 0.5799\n",
            "Epoch 6/20\n",
            "225/225 [==============================] - 9s 42ms/step - loss: 1.5910 - acc: 0.5900 - val_loss: 1.6265 - val_acc: 0.5715\n",
            "Epoch 7/20\n",
            "225/225 [==============================] - 9s 42ms/step - loss: 1.5393 - acc: 0.6079 - val_loss: 1.6350 - val_acc: 0.5899\n",
            "Epoch 8/20\n",
            "225/225 [==============================] - 10s 42ms/step - loss: 1.5199 - acc: 0.6102 - val_loss: 1.6195 - val_acc: 0.5927\n",
            "Epoch 9/20\n",
            "225/225 [==============================] - 9s 41ms/step - loss: 1.4732 - acc: 0.6299 - val_loss: 1.6984 - val_acc: 0.5609\n",
            "Epoch 10/20\n",
            "225/225 [==============================] - 9s 41ms/step - loss: 1.4401 - acc: 0.6438 - val_loss: 1.5753 - val_acc: 0.6210\n",
            "Epoch 11/20\n",
            "225/225 [==============================] - 9s 41ms/step - loss: 1.3607 - acc: 0.6669 - val_loss: 1.5644 - val_acc: 0.6305\n",
            "Epoch 12/20\n",
            "225/225 [==============================] - 9s 41ms/step - loss: 1.2787 - acc: 0.6892 - val_loss: 1.5398 - val_acc: 0.6316\n",
            "Epoch 13/20\n",
            "225/225 [==============================] - 9s 42ms/step - loss: 1.2290 - acc: 0.6999 - val_loss: 1.5311 - val_acc: 0.6377\n",
            "Epoch 14/20\n",
            "225/225 [==============================] - 9s 41ms/step - loss: 1.1394 - acc: 0.7246 - val_loss: 1.5204 - val_acc: 0.6444\n",
            "Epoch 15/20\n",
            "225/225 [==============================] - 9s 41ms/step - loss: 1.0521 - acc: 0.7388 - val_loss: 1.5703 - val_acc: 0.6377\n",
            "Epoch 16/20\n",
            "225/225 [==============================] - 10s 42ms/step - loss: 0.9754 - acc: 0.7557 - val_loss: 1.4958 - val_acc: 0.6644\n",
            "Epoch 17/20\n",
            "225/225 [==============================] - 10s 43ms/step - loss: 0.9097 - acc: 0.7716 - val_loss: 1.5255 - val_acc: 0.6561\n",
            "Epoch 18/20\n",
            "225/225 [==============================] - 10s 43ms/step - loss: 0.8663 - acc: 0.7812 - val_loss: 1.5178 - val_acc: 0.6633\n",
            "Epoch 19/20\n",
            "225/225 [==============================] - 10s 42ms/step - loss: 0.8221 - acc: 0.7915 - val_loss: 1.4746 - val_acc: 0.6650\n",
            "Epoch 20/20\n",
            "225/225 [==============================] - 9s 42ms/step - loss: 0.7637 - acc: 0.8058 - val_loss: 1.4669 - val_acc: 0.6733\n"
          ],
          "name": "stdout"
        }
      ]
    },
    {
      "cell_type": "markdown",
      "metadata": {
        "id": "JGZhIiYeuSCD"
      },
      "source": [
        "### 시각화"
      ]
    },
    {
      "cell_type": "code",
      "metadata": {
        "id": "INJu0-itsT_T",
        "colab": {
          "base_uri": "https://localhost:8080/",
          "height": 507
        },
        "outputId": "99aed214-d055-40cb-9eb3-b4bc96def2b6"
      },
      "source": [
        "loss = history.history['loss']\n",
        "val_loss = history.history['val_loss']\n",
        "acc = history.history['acc']\n",
        "val_acc = history.history['val_acc']\n",
        "\n",
        "epochs = range(1, len(loss) + 1)\n",
        "\n",
        "plt.plot(epochs, loss, 'b--', label='training loss')\n",
        "plt.plot(epochs, val_loss, 'r:', label='validation loss')\n",
        "plt.legend()\n",
        "plt.grid()\n",
        "\n",
        "plt.figure()\n",
        "plt.plot(epochs, acc, 'b--', label='training accuracy')\n",
        "plt.plot(epochs, val_acc, 'r:', label='validation accuracy')\n",
        "plt.legend()\n",
        "plt.grid()\n",
        "\n",
        "plt.show()"
      ],
      "execution_count": null,
      "outputs": [
        {
          "output_type": "display_data",
          "data": {
            "image/png": "[encoded data removed]",
            "text/plain": [
              "<Figure size 432x288 with 1 Axes>"
            ]
          },
          "metadata": {
            "tags": []
          }
        },
        {
          "output_type": "display_data",
          "data": {
            "image/png": "[encoded data removed]",
            "text/plain": [
              "<Figure size 432x288 with 1 Axes>"
            ]
          },
          "metadata": {
            "tags": []
          }
        }
      ]
    },
    {
      "cell_type": "markdown",
      "metadata": {
        "id": "dLZLATDBuTtj"
      },
      "source": [
        "### 모델 평가\n"
      ]
    },
    {
      "cell_type": "code",
      "metadata": {
        "id": "SVxVV-kmsT6D",
        "colab": {
          "base_uri": "https://localhost:8080/"
        },
        "outputId": "253a0de9-5889-4c84-c0c6-f509e43108b2"
      },
      "source": [
        "model.evaluate(pad_x_test, y_test)"
      ],
      "execution_count": null,
      "outputs": [
        {
          "output_type": "stream",
          "text": [
            "71/71 [==============================] - 1s 17ms/step - loss: 1.5699 - acc: 0.6487\n"
          ],
          "name": "stdout"
        },
        {
          "output_type": "execute_result",
          "data": {
            "text/plain": [
              "[1.5698655843734741, 0.6487088203430176]"
            ]
          },
          "metadata": {
            "tags": []
          },
          "execution_count": 27
        }
      ]
    },
    {
      "cell_type": "markdown",
      "metadata": {
        "id": "j3afhQOUlqG9"
      },
      "source": [
        "## IMDB 데이터셋 with LSTM"
      ]
    },
    {
      "cell_type": "markdown",
      "metadata": {
        "id": "tZOCK6EQl1QI"
      },
      "source": [
        "### 데이터 로드"
      ]
    },
    {
      "cell_type": "code",
      "metadata": {
        "id": "00ZS9v3YmT_H"
      },
      "source": [
        "from tensorflow.keras.datasets import imdb\n",
        "from tensorflow.keras.preprocessing.sequence import pad_sequences"
      ],
      "execution_count": null,
      "outputs": []
    },
    {
      "cell_type": "code",
      "metadata": {
        "id": "UW-VG35_gwmt",
        "colab": {
          "base_uri": "https://localhost:8080/"
        },
        "outputId": "52b47ce5-a245-4103-df31-062466de0a61"
      },
      "source": [
        "num_words = 10000\n",
        "max_len = 500\n",
        "batch_size = 32\n",
        "\n",
        "(x_train, y_train), (x_test, y_test) = imdb.load_data(num_words=num_words)\n",
        "print(len(x_train))\n",
        "print(len(x_test))\n",
        "\n",
        "pad_x_train = sequence.pad_sequences(x_train, maxlen=max_len)\n",
        "pad_x_test = sequence.pad_sequences(x_test, maxlen=max_len)\n",
        "print(pad_x_train.shape)\n",
        "print(pad_x_test.shape)"
      ],
      "execution_count": null,
      "outputs": [
        {
          "output_type": "stream",
          "text": [
            "25000\n",
            "25000\n",
            "(25000, 500)\n",
            "(25000, 500)\n"
          ],
          "name": "stdout"
        }
      ]
    },
    {
      "cell_type": "markdown",
      "metadata": {
        "id": "uo8uhFyBl2k-"
      },
      "source": [
        "### 모델 구성"
      ]
    },
    {
      "cell_type": "code",
      "metadata": {
        "id": "tFkAN2Dzl3GC"
      },
      "source": [
        "from tensorflow.keras.models import Sequential\n",
        "from tensorflow.keras.layers import Dense, LSTM, Embedding"
      ],
      "execution_count": null,
      "outputs": []
    },
    {
      "cell_type": "code",
      "metadata": {
        "id": "TPr9Ec-El50W",
        "colab": {
          "base_uri": "https://localhost:8080/"
        },
        "outputId": "9ac74d06-5fd6-4c2e-b397-0da5bbab270a"
      },
      "source": [
        "model = Sequential()\n",
        "\n",
        "model.add(Embedding(num_words, 32))\n",
        "model.add(LSTM(32))\n",
        "model.add(Dense(1, activation='sigmoid'))\n",
        "\n",
        "model.compile(optimizer='rmsprop',\n",
        "              loss='binary_crossentropy',\n",
        "              metrics=['acc'])\n",
        "model.summary()"
      ],
      "execution_count": null,
      "outputs": [
        {
          "output_type": "stream",
          "text": [
            "Model: \"sequential_5\"\n",
            "_________________________________________________________________\n",
            "Layer (type)                 Output Shape              Param #   \n",
            "=================================================================\n",
            "embedding_5 (Embedding)      (None, None, 32)          320000    \n",
            "_________________________________________________________________\n",
            "lstm_2 (LSTM)                (None, 32)                8320      \n",
            "_________________________________________________________________\n",
            "dense_2 (Dense)              (None, 1)                 33        \n",
            "=================================================================\n",
            "Total params: 328,353\n",
            "Trainable params: 328,353\n",
            "Non-trainable params: 0\n",
            "_________________________________________________________________\n"
          ],
          "name": "stdout"
        }
      ]
    },
    {
      "cell_type": "markdown",
      "metadata": {
        "id": "vAPnX6ACmenz"
      },
      "source": [
        "### 모델 학습"
      ]
    },
    {
      "cell_type": "code",
      "metadata": {
        "id": "FGWhqX5GmNeR",
        "colab": {
          "base_uri": "https://localhost:8080/"
        },
        "outputId": "ee7de1b4-a5fb-4284-f9ac-d14d520975ef"
      },
      "source": [
        "history = model.fit(pad_x_train, y_train,\n",
        "                    epochs=10,\n",
        "                    batch_size=128,\n",
        "                    validation_split=0.2)"
      ],
      "execution_count": null,
      "outputs": [
        {
          "output_type": "stream",
          "text": [
            "Epoch 1/10\n",
            "157/157 [==============================] - 5s 30ms/step - loss: 0.4937 - acc: 0.7634 - val_loss: 0.4405 - val_acc: 0.7906\n",
            "Epoch 2/10\n",
            "157/157 [==============================] - 4s 28ms/step - loss: 0.2870 - acc: 0.8883 - val_loss: 0.3934 - val_acc: 0.8296\n",
            "Epoch 3/10\n",
            "157/157 [==============================] - 4s 28ms/step - loss: 0.2283 - acc: 0.9141 - val_loss: 0.2859 - val_acc: 0.8866\n",
            "Epoch 4/10\n",
            "157/157 [==============================] - 4s 28ms/step - loss: 0.1961 - acc: 0.9285 - val_loss: 0.3153 - val_acc: 0.8878\n",
            "Epoch 5/10\n",
            "157/157 [==============================] - 4s 28ms/step - loss: 0.1714 - acc: 0.9373 - val_loss: 0.3318 - val_acc: 0.8656\n",
            "Epoch 6/10\n",
            "157/157 [==============================] - 4s 27ms/step - loss: 0.1535 - acc: 0.9431 - val_loss: 0.3771 - val_acc: 0.8522\n",
            "Epoch 7/10\n",
            "157/157 [==============================] - 4s 28ms/step - loss: 0.1377 - acc: 0.9506 - val_loss: 0.3149 - val_acc: 0.8720\n",
            "Epoch 8/10\n",
            "157/157 [==============================] - 5s 29ms/step - loss: 0.1273 - acc: 0.9542 - val_loss: 0.3717 - val_acc: 0.8582\n",
            "Epoch 9/10\n",
            "157/157 [==============================] - 4s 29ms/step - loss: 0.1165 - acc: 0.9585 - val_loss: 0.4474 - val_acc: 0.8550\n",
            "Epoch 10/10\n",
            "157/157 [==============================] - 4s 28ms/step - loss: 0.1130 - acc: 0.9620 - val_loss: 0.4172 - val_acc: 0.8536\n"
          ],
          "name": "stdout"
        }
      ]
    },
    {
      "cell_type": "markdown",
      "metadata": {
        "id": "gFiE5SpPmh_x"
      },
      "source": [
        "### 시각화"
      ]
    },
    {
      "cell_type": "code",
      "metadata": {
        "id": "jwQ6ZYHTyXHS",
        "colab": {
          "base_uri": "https://localhost:8080/",
          "height": 507
        },
        "outputId": "10b06dab-c976-4695-8ae4-4d358e2ba530"
      },
      "source": [
        "loss = history.history['loss']\n",
        "val_loss = history.history['val_loss']\n",
        "acc = history.history['acc']\n",
        "val_acc = history.history['val_acc']\n",
        "\n",
        "epochs = range(1, len(loss) + 1)\n",
        "\n",
        "plt.plot(epochs, loss, 'b--', label='training loss')\n",
        "plt.plot(epochs, val_loss, 'r:', label='validation loss')\n",
        "plt.legend()\n",
        "plt.grid()\n",
        "\n",
        "plt.figure()\n",
        "plt.plot(epochs, acc, 'b--', label='training accuracy')\n",
        "plt.plot(epochs, val_acc, 'r:', label='validation accuracy')\n",
        "plt.legend()\n",
        "plt.grid()\n",
        "\n",
        "plt.show()"
      ],
      "execution_count": null,
      "outputs": [
        {
          "output_type": "display_data",
          "data": {
            "image/png": "[encoded data removed]",
            "text/plain": [
              "<Figure size 432x288 with 1 Axes>"
            ]
          },
          "metadata": {
            "tags": []
          }
        },
        {
          "output_type": "display_data",
          "data": {
            "image/png": "[encoded data removed]",
            "text/plain": [
              "<Figure size 432x288 with 1 Axes>"
            ]
          },
          "metadata": {
            "tags": []
          }
        }
      ]
    },
    {
      "cell_type": "markdown",
      "metadata": {
        "id": "NiZ6uiUPyXHN"
      },
      "source": [
        "### 모델 평가"
      ]
    },
    {
      "cell_type": "code",
      "metadata": {
        "id": "DZjW6iOV3k-J",
        "colab": {
          "base_uri": "https://localhost:8080/"
        },
        "outputId": "9d60acb4-f78d-406c-e993-815e02402ef5"
      },
      "source": [
        "model.evaluate(pad_x_test, y_test)"
      ],
      "execution_count": null,
      "outputs": [
        {
          "output_type": "stream",
          "text": [
            "782/782 [==============================] - 7s 9ms/step - loss: 0.4308 - acc: 0.8502\n"
          ],
          "name": "stdout"
        },
        {
          "output_type": "execute_result",
          "data": {
            "text/plain": [
              "[0.43078798055648804, 0.8501999974250793]"
            ]
          },
          "metadata": {
            "tags": []
          },
          "execution_count": 34
        }
      ]
    },
    {
      "cell_type": "markdown",
      "metadata": {
        "id": "FekNEQuJVicJ"
      },
      "source": [
        "# Cosine 함수를 이용한 순환 신경망"
      ]
    },
    {
      "cell_type": "code",
      "metadata": {
        "id": "JfUyJSoHVpUh"
      },
      "source": [
        "import numpy as np"
      ],
      "execution_count": null,
      "outputs": []
    },
    {
      "cell_type": "code",
      "metadata": {
        "id": "JgE5D6rCVpQO"
      },
      "source": [
        "np.random.seed(111)\n",
        "\n",
        "time = np.arange(30*12+1)\n",
        "month_time = (time % 30) / 30\n",
        "time_series = 20 * np.where(month_time < 0.5,\n",
        "                            np.cos(2 * np.pi * month_time),\n",
        "                            np.cos(2 * np.pi * month_time) + np.random.random(361))"
      ],
      "execution_count": null,
      "outputs": []
    },
    {
      "cell_type": "code",
      "metadata": {
        "id": "p-_g8LYTVpLx",
        "colab": {
          "base_uri": "https://localhost:8080/",
          "height": 493
        },
        "outputId": "d145714f-8370-44bb-a7ec-ba142839fc41"
      },
      "source": [
        "plt.figure(figsize=(15, 8))\n",
        "plt.xlabel('Time')\n",
        "plt.ylabel('Value')\n",
        "plt.plot(np.arange(0, 30*11+1),\n",
        "         time_series[:30*11+1],\n",
        "         color='blue', alpha=0.6, label='Train Data')\n",
        "plt.plot(np.arange(30*11, 30*12+1),\n",
        "         time_series[30*11:],\n",
        "         color='orange', label='Test Data')\n",
        "plt.show()"
      ],
      "execution_count": null,
      "outputs": [
        {
          "output_type": "display_data",
          "data": {
            "image/png": "[encoded data removed]",
            "text/plain": [
              "<Figure size 1080x576 with 1 Axes>"
            ]
          },
          "metadata": {
            "tags": []
          }
        }
      ]
    },
    {
      "cell_type": "markdown",
      "metadata": {
        "id": "ar_N0gTrZtk9"
      },
      "source": [
        "### 데이터 전처리"
      ]
    },
    {
      "cell_type": "code",
      "metadata": {
        "id": "z-0JrfZoVpFj"
      },
      "source": [
        "def make_data(time_series, n):\n",
        "  x_train_full, y_train_full = list(), list()\n",
        "\n",
        "  for i in range(len(time_series)):\n",
        "    x = time_series[i:(i+n)]\n",
        "    if (i+n) < len(time_series):\n",
        "      x_train_full.append(x)\n",
        "      y_train_full.append(time_series[i+n])\n",
        "    else:\n",
        "      break\n",
        "\n",
        "  x_train_full, y_train_full = np.array(x_train_full), np.array(y_train_full)\n",
        "\n",
        "  return x_train_full, y_train_full"
      ],
      "execution_count": null,
      "outputs": []
    },
    {
      "cell_type": "code",
      "metadata": {
        "id": "qkdd7YkAbnVG"
      },
      "source": [
        "n = 10\n",
        "x_train_full, y_train_full = make_data(time_series, n)"
      ],
      "execution_count": null,
      "outputs": []
    },
    {
      "cell_type": "code",
      "metadata": {
        "id": "rwcXpeF9VpBQ",
        "colab": {
          "base_uri": "https://localhost:8080/"
        },
        "outputId": "150e0f85-c448-491a-94ed-0e57fc4c9123"
      },
      "source": [
        "print(x_train_full.shape)\n",
        "print(y_train_full.shape)"
      ],
      "execution_count": null,
      "outputs": [
        {
          "output_type": "stream",
          "text": [
            "(351, 10)\n",
            "(351,)\n"
          ],
          "name": "stdout"
        }
      ]
    },
    {
      "cell_type": "code",
      "metadata": {
        "id": "4-KvUJs1Vo9d"
      },
      "source": [
        "x_train_full = x_train_full.reshape(-1, n, 1)\n",
        "y_train_full = y_train_full.reshape(-1, 1)"
      ],
      "execution_count": null,
      "outputs": []
    },
    {
      "cell_type": "code",
      "metadata": {
        "id": "G_kes8afVo54",
        "colab": {
          "base_uri": "https://localhost:8080/"
        },
        "outputId": "6ebf7c11-db10-4314-800c-ee60f23a993b"
      },
      "source": [
        "print(x_train_full.shape)\n",
        "print(y_train_full.shape)"
      ],
      "execution_count": null,
      "outputs": [
        {
          "output_type": "stream",
          "text": [
            "(351, 10, 1)\n",
            "(351, 1)\n"
          ],
          "name": "stdout"
        }
      ]
    },
    {
      "cell_type": "markdown",
      "metadata": {
        "id": "_e8ZgkRZak5V"
      },
      "source": [
        "## 테스트 데이터셋 생성"
      ]
    },
    {
      "cell_type": "code",
      "metadata": {
        "id": "WUHKyXaPVo2G"
      },
      "source": [
        "x_train = x_train_full[:30*11]\n",
        "y_train = y_train_full[:30*11]\n",
        "\n",
        "x_test = x_train_full[30*11:]\n",
        "y_test = y_train_full[30*11:]"
      ],
      "execution_count": null,
      "outputs": []
    },
    {
      "cell_type": "code",
      "metadata": {
        "id": "xe2CYFcXVoxu",
        "colab": {
          "base_uri": "https://localhost:8080/"
        },
        "outputId": "8fd305f4-a748-46b3-c568-12cf157602f7"
      },
      "source": [
        "print(x_train.shape, y_train.shape)\n",
        "print(x_test.shape, y_test.shape)"
      ],
      "execution_count": null,
      "outputs": [
        {
          "output_type": "stream",
          "text": [
            "(330, 10, 1) (330, 1)\n",
            "(21, 10, 1) (21, 1)\n"
          ],
          "name": "stdout"
        }
      ]
    },
    {
      "cell_type": "markdown",
      "metadata": {
        "id": "2gvgVvkEbRsq"
      },
      "source": [
        "## 데이터 확인"
      ]
    },
    {
      "cell_type": "code",
      "metadata": {
        "id": "uJuKu5bvVosF",
        "colab": {
          "base_uri": "https://localhost:8080/"
        },
        "outputId": "56ca6aac-eb1c-42d9-a0b4-c80c74139b3b"
      },
      "source": [
        "sample_series = np.arange(100)\n",
        "a, b = make_data(sample_series, 10)\n",
        "\n",
        "print(a[0])\n",
        "print(b[0])"
      ],
      "execution_count": null,
      "outputs": [
        {
          "output_type": "stream",
          "text": [
            "[0 1 2 3 4 5 6 7 8 9]\n",
            "10\n"
          ],
          "name": "stdout"
        }
      ]
    },
    {
      "cell_type": "markdown",
      "metadata": {
        "id": "5ZzsxLa-b9fq"
      },
      "source": [
        "## 모델 구성"
      ]
    },
    {
      "cell_type": "code",
      "metadata": {
        "id": "AbvWl9pGVooV"
      },
      "source": [
        "from tensorflow.keras.layers import SimpleRNN, Flatten, Dense\n",
        "from tensorflow.keras.models import Sequential"
      ],
      "execution_count": null,
      "outputs": []
    },
    {
      "cell_type": "code",
      "metadata": {
        "id": "dwT7KGJTVokn"
      },
      "source": [
        "def build_model(n):\n",
        "  model = Sequential()\n",
        "\n",
        "  model.add(SimpleRNN(units=32, activation='tanh', input_shape=(n, 1)))\n",
        "  model.add(Dense(1))\n",
        "\n",
        "  model.compile(optimizer='adam',\n",
        "                loss='mse')\n",
        "  \n",
        "  return model"
      ],
      "execution_count": null,
      "outputs": []
    },
    {
      "cell_type": "code",
      "metadata": {
        "id": "TYmQpmusVogh",
        "colab": {
          "base_uri": "https://localhost:8080/"
        },
        "outputId": "e6672f3b-053d-44b4-cfad-66b55102b3cf"
      },
      "source": [
        "model = build_model(10)\n",
        "model.summary()"
      ],
      "execution_count": null,
      "outputs": [
        {
          "output_type": "stream",
          "text": [
            "Model: \"sequential_6\"\n",
            "_________________________________________________________________\n",
            "Layer (type)                 Output Shape              Param #   \n",
            "=================================================================\n",
            "simple_rnn_7 (SimpleRNN)     (None, 32)                1088      \n",
            "_________________________________________________________________\n",
            "dense_3 (Dense)              (None, 1)                 33        \n",
            "=================================================================\n",
            "Total params: 1,121\n",
            "Trainable params: 1,121\n",
            "Non-trainable params: 0\n",
            "_________________________________________________________________\n"
          ],
          "name": "stdout"
        }
      ]
    },
    {
      "cell_type": "markdown",
      "metadata": {
        "id": "pvVl7a-wc8fx"
      },
      "source": [
        "## 모델 학습"
      ]
    },
    {
      "cell_type": "code",
      "metadata": {
        "id": "OCb5Php2VocQ",
        "colab": {
          "base_uri": "https://localhost:8080/"
        },
        "outputId": "084f6e4d-c355-4b03-aac3-743c3df23487"
      },
      "source": [
        "model.fit(x_train, y_train,\n",
        "          epochs=100, batch_size=12)"
      ],
      "execution_count": null,
      "outputs": [
        {
          "output_type": "stream",
          "text": [
            "Epoch 1/100\n",
            "28/28 [==============================] - 0s 8ms/step - loss: 225.5079\n",
            "Epoch 2/100\n",
            "28/28 [==============================] - 0s 7ms/step - loss: 190.1570\n",
            "Epoch 3/100\n",
            "28/28 [==============================] - 0s 8ms/step - loss: 161.9402\n",
            "Epoch 4/100\n",
            "28/28 [==============================] - 0s 10ms/step - loss: 142.4745\n",
            "Epoch 5/100\n",
            "28/28 [==============================] - 0s 9ms/step - loss: 129.1514\n",
            "Epoch 6/100\n",
            "28/28 [==============================] - 0s 7ms/step - loss: 117.5078\n",
            "Epoch 7/100\n",
            "28/28 [==============================] - 0s 8ms/step - loss: 106.2488\n",
            "Epoch 8/100\n",
            "28/28 [==============================] - 0s 7ms/step - loss: 97.8153\n",
            "Epoch 9/100\n",
            "28/28 [==============================] - 0s 8ms/step - loss: 91.2466\n",
            "Epoch 10/100\n",
            "28/28 [==============================] - 0s 7ms/step - loss: 85.0664\n",
            "Epoch 11/100\n",
            "28/28 [==============================] - 0s 7ms/step - loss: 79.9175\n",
            "Epoch 12/100\n",
            "28/28 [==============================] - 0s 8ms/step - loss: 75.2399\n",
            "Epoch 13/100\n",
            "28/28 [==============================] - 0s 8ms/step - loss: 70.8502\n",
            "Epoch 14/100\n",
            "28/28 [==============================] - 0s 7ms/step - loss: 67.0722\n",
            "Epoch 15/100\n",
            "28/28 [==============================] - 0s 7ms/step - loss: 63.1026\n",
            "Epoch 16/100\n",
            "28/28 [==============================] - 0s 9ms/step - loss: 59.6258\n",
            "Epoch 17/100\n",
            "28/28 [==============================] - 0s 7ms/step - loss: 56.2715\n",
            "Epoch 18/100\n",
            "28/28 [==============================] - 0s 7ms/step - loss: 53.2749\n",
            "Epoch 19/100\n",
            "28/28 [==============================] - 0s 6ms/step - loss: 50.4397\n",
            "Epoch 20/100\n",
            "28/28 [==============================] - 0s 7ms/step - loss: 47.9032\n",
            "Epoch 21/100\n",
            "28/28 [==============================] - 0s 7ms/step - loss: 45.5829\n",
            "Epoch 22/100\n",
            "28/28 [==============================] - 0s 8ms/step - loss: 43.5603\n",
            "Epoch 23/100\n",
            "28/28 [==============================] - 0s 8ms/step - loss: 41.7583\n",
            "Epoch 24/100\n",
            "28/28 [==============================] - 0s 7ms/step - loss: 39.9791\n",
            "Epoch 25/100\n",
            "28/28 [==============================] - 0s 7ms/step - loss: 38.7018\n",
            "Epoch 26/100\n",
            "28/28 [==============================] - 0s 7ms/step - loss: 37.3566\n",
            "Epoch 27/100\n",
            "28/28 [==============================] - 0s 7ms/step - loss: 36.0807\n",
            "Epoch 28/100\n",
            "28/28 [==============================] - 0s 7ms/step - loss: 34.9293\n",
            "Epoch 29/100\n",
            "28/28 [==============================] - 0s 7ms/step - loss: 34.2181\n",
            "Epoch 30/100\n",
            "28/28 [==============================] - 0s 8ms/step - loss: 33.0632\n",
            "Epoch 31/100\n",
            "28/28 [==============================] - 0s 10ms/step - loss: 32.6170\n",
            "Epoch 32/100\n",
            "28/28 [==============================] - 0s 9ms/step - loss: 31.7448\n",
            "Epoch 33/100\n",
            "28/28 [==============================] - 0s 10ms/step - loss: 31.2579\n",
            "Epoch 34/100\n",
            "28/28 [==============================] - 0s 7ms/step - loss: 30.6962\n",
            "Epoch 35/100\n",
            "28/28 [==============================] - 0s 9ms/step - loss: 29.7400\n",
            "Epoch 36/100\n",
            "28/28 [==============================] - 0s 10ms/step - loss: 29.1239\n",
            "Epoch 37/100\n",
            "28/28 [==============================] - 0s 7ms/step - loss: 28.4605\n",
            "Epoch 38/100\n",
            "28/28 [==============================] - 0s 8ms/step - loss: 28.4351\n",
            "Epoch 39/100\n",
            "28/28 [==============================] - 0s 8ms/step - loss: 27.3955\n",
            "Epoch 40/100\n",
            "28/28 [==============================] - 0s 10ms/step - loss: 27.0608\n",
            "Epoch 41/100\n",
            "28/28 [==============================] - 0s 7ms/step - loss: 26.5885\n",
            "Epoch 42/100\n",
            "28/28 [==============================] - 0s 7ms/step - loss: 26.1194\n",
            "Epoch 43/100\n",
            "28/28 [==============================] - 0s 7ms/step - loss: 26.3527\n",
            "Epoch 44/100\n",
            "28/28 [==============================] - 0s 7ms/step - loss: 25.6288\n",
            "Epoch 45/100\n",
            "28/28 [==============================] - 0s 7ms/step - loss: 25.1529\n",
            "Epoch 46/100\n",
            "28/28 [==============================] - 0s 7ms/step - loss: 24.7615\n",
            "Epoch 47/100\n",
            "28/28 [==============================] - 0s 8ms/step - loss: 24.4352\n",
            "Epoch 48/100\n",
            "28/28 [==============================] - 0s 7ms/step - loss: 24.0859\n",
            "Epoch 49/100\n",
            "28/28 [==============================] - 0s 10ms/step - loss: 24.2146\n",
            "Epoch 50/100\n",
            "28/28 [==============================] - 0s 7ms/step - loss: 23.5752\n",
            "Epoch 51/100\n",
            "28/28 [==============================] - 0s 8ms/step - loss: 23.0014\n",
            "Epoch 52/100\n",
            "28/28 [==============================] - 0s 7ms/step - loss: 23.0016\n",
            "Epoch 53/100\n",
            "28/28 [==============================] - 0s 7ms/step - loss: 22.7275\n",
            "Epoch 54/100\n",
            "28/28 [==============================] - 0s 7ms/step - loss: 22.7427\n",
            "Epoch 55/100\n",
            "28/28 [==============================] - 0s 7ms/step - loss: 22.3649\n",
            "Epoch 56/100\n",
            "28/28 [==============================] - 0s 9ms/step - loss: 21.7801\n",
            "Epoch 57/100\n",
            "28/28 [==============================] - 0s 7ms/step - loss: 21.9060\n",
            "Epoch 58/100\n",
            "28/28 [==============================] - 0s 7ms/step - loss: 21.3885\n",
            "Epoch 59/100\n",
            "28/28 [==============================] - 0s 7ms/step - loss: 21.4180\n",
            "Epoch 60/100\n",
            "28/28 [==============================] - 0s 7ms/step - loss: 21.3220\n",
            "Epoch 61/100\n",
            "28/28 [==============================] - 0s 7ms/step - loss: 20.9389\n",
            "Epoch 62/100\n",
            "28/28 [==============================] - 0s 7ms/step - loss: 21.2463\n",
            "Epoch 63/100\n",
            "28/28 [==============================] - 0s 7ms/step - loss: 20.8280\n",
            "Epoch 64/100\n",
            "28/28 [==============================] - 0s 7ms/step - loss: 20.8377\n",
            "Epoch 65/100\n",
            "28/28 [==============================] - 0s 9ms/step - loss: 20.5884\n",
            "Epoch 66/100\n",
            "28/28 [==============================] - 0s 7ms/step - loss: 20.3033\n",
            "Epoch 67/100\n",
            "28/28 [==============================] - 0s 7ms/step - loss: 20.9732\n",
            "Epoch 68/100\n",
            "28/28 [==============================] - 0s 8ms/step - loss: 20.1553\n",
            "Epoch 69/100\n",
            "28/28 [==============================] - 0s 7ms/step - loss: 20.1308\n",
            "Epoch 70/100\n",
            "28/28 [==============================] - 0s 8ms/step - loss: 19.9294\n",
            "Epoch 71/100\n",
            "28/28 [==============================] - 0s 7ms/step - loss: 19.9896\n",
            "Epoch 72/100\n",
            "28/28 [==============================] - 0s 7ms/step - loss: 19.9647\n",
            "Epoch 73/100\n",
            "28/28 [==============================] - 0s 7ms/step - loss: 19.6769\n",
            "Epoch 74/100\n",
            "28/28 [==============================] - 0s 7ms/step - loss: 19.4913\n",
            "Epoch 75/100\n",
            "28/28 [==============================] - 0s 7ms/step - loss: 19.7379\n",
            "Epoch 76/100\n",
            "28/28 [==============================] - 0s 7ms/step - loss: 19.4063\n",
            "Epoch 77/100\n",
            "28/28 [==============================] - 0s 8ms/step - loss: 19.4586\n",
            "Epoch 78/100\n",
            "28/28 [==============================] - 0s 9ms/step - loss: 19.4066\n",
            "Epoch 79/100\n",
            "28/28 [==============================] - 0s 8ms/step - loss: 19.6571\n",
            "Epoch 80/100\n",
            "28/28 [==============================] - 0s 10ms/step - loss: 19.6550\n",
            "Epoch 81/100\n",
            "28/28 [==============================] - 0s 8ms/step - loss: 19.2962\n",
            "Epoch 82/100\n",
            "28/28 [==============================] - 0s 7ms/step - loss: 19.3028\n",
            "Epoch 83/100\n",
            "28/28 [==============================] - 0s 9ms/step - loss: 18.9590\n",
            "Epoch 84/100\n",
            "28/28 [==============================] - 0s 7ms/step - loss: 18.7376\n",
            "Epoch 85/100\n",
            "28/28 [==============================] - 0s 8ms/step - loss: 18.8422\n",
            "Epoch 86/100\n",
            "28/28 [==============================] - 0s 7ms/step - loss: 18.8039\n",
            "Epoch 87/100\n",
            "28/28 [==============================] - 0s 7ms/step - loss: 18.7774\n",
            "Epoch 88/100\n",
            "28/28 [==============================] - 0s 7ms/step - loss: 18.8607\n",
            "Epoch 89/100\n",
            "28/28 [==============================] - 0s 7ms/step - loss: 18.5384\n",
            "Epoch 90/100\n",
            "28/28 [==============================] - 0s 7ms/step - loss: 18.4690\n",
            "Epoch 91/100\n",
            "28/28 [==============================] - 0s 8ms/step - loss: 18.3553\n",
            "Epoch 92/100\n",
            "28/28 [==============================] - 0s 10ms/step - loss: 18.3081\n",
            "Epoch 93/100\n",
            "28/28 [==============================] - 0s 10ms/step - loss: 18.1597\n",
            "Epoch 94/100\n",
            "28/28 [==============================] - 0s 10ms/step - loss: 18.0522\n",
            "Epoch 95/100\n",
            "28/28 [==============================] - 0s 8ms/step - loss: 18.4229\n",
            "Epoch 96/100\n",
            "28/28 [==============================] - 0s 9ms/step - loss: 17.9997\n",
            "Epoch 97/100\n",
            "28/28 [==============================] - 0s 10ms/step - loss: 18.3762\n",
            "Epoch 98/100\n",
            "28/28 [==============================] - 0s 7ms/step - loss: 17.7526\n",
            "Epoch 99/100\n",
            "28/28 [==============================] - 0s 7ms/step - loss: 17.8437\n",
            "Epoch 100/100\n",
            "28/28 [==============================] - 0s 10ms/step - loss: 17.6038\n"
          ],
          "name": "stdout"
        },
        {
          "output_type": "execute_result",
          "data": {
            "text/plain": [
              "<tensorflow.python.keras.callbacks.History at 0x7f3f6e2606d8>"
            ]
          },
          "metadata": {
            "tags": []
          },
          "execution_count": 50
        }
      ]
    },
    {
      "cell_type": "markdown",
      "metadata": {
        "id": "CBWO8NqAdzRZ"
      },
      "source": [
        "## 예측값 그려보기"
      ]
    },
    {
      "cell_type": "code",
      "metadata": {
        "id": "80XSEaQ8dxOk",
        "colab": {
          "base_uri": "https://localhost:8080/",
          "height": 330
        },
        "outputId": "a5c139a7-a70a-48e9-a5c0-b68dd89c5c6e"
      },
      "source": [
        "prediction = model.predict(x_test)\n",
        "\n",
        "pred_range = np.arange(len(y_train), len(y_train) + len(prediction))\n",
        "\n",
        "plt.figure(figsize=(12, 5))\n",
        "plt.xlabel('Time')\n",
        "plt.ylabel('Value')\n",
        "plt.plot(pred_range, y_test.flatten(), color='orange', label='Ground Truth')\n",
        "plt.plot(pred_range, prediction.flatten(), color='blue', label='Prediction')\n",
        "plt.legend()\n",
        "plt.show()"
      ],
      "execution_count": null,
      "outputs": [
        {
          "output_type": "display_data",
          "data": {
            "image/png": "[encoded data removed]",
            "text/plain": [
              "<Figure size 864x360 with 1 Axes>"
            ]
          },
          "metadata": {
            "tags": []
          }
        }
      ]
    },
    {
      "cell_type": "markdown",
      "metadata": {
        "id": "KqWPWvHWelCp"
      },
      "source": [
        "## 모델 재구성 (2)\n",
        "- LSTM 사용"
      ]
    },
    {
      "cell_type": "code",
      "metadata": {
        "id": "gRdRAH5Hew6s"
      },
      "source": [
        "from tensorflow.keras.layers import LSTM"
      ],
      "execution_count": null,
      "outputs": []
    },
    {
      "cell_type": "code",
      "metadata": {
        "id": "wFk0_R10eqGu"
      },
      "source": [
        "def build_model2(n):\n",
        "  model = Sequential()\n",
        "\n",
        "  model.add(LSTM(units=64, return_sequences=True, input_shape=(n, 1)))\n",
        "  model.add(LSTM(units=32))\n",
        "  model.add(Dense(1))\n",
        "\n",
        "  model.compile(optimizer='adam',\n",
        "                loss='mse')\n",
        "  \n",
        "  return model"
      ],
      "execution_count": null,
      "outputs": []
    },
    {
      "cell_type": "code",
      "metadata": {
        "id": "MH6nCyR0eqBl",
        "colab": {
          "base_uri": "https://localhost:8080/"
        },
        "outputId": "6d02194e-c01b-4bb5-a287-c2251e9fa82c"
      },
      "source": [
        "model_2 = build_model2(10)\n",
        "model_2.summary()"
      ],
      "execution_count": null,
      "outputs": [
        {
          "output_type": "stream",
          "text": [
            "Model: \"sequential_7\"\n",
            "_________________________________________________________________\n",
            "Layer (type)                 Output Shape              Param #   \n",
            "=================================================================\n",
            "lstm_3 (LSTM)                (None, 10, 64)            16896     \n",
            "_________________________________________________________________\n",
            "lstm_4 (LSTM)                (None, 32)                12416     \n",
            "_________________________________________________________________\n",
            "dense_4 (Dense)              (None, 1)                 33        \n",
            "=================================================================\n",
            "Total params: 29,345\n",
            "Trainable params: 29,345\n",
            "Non-trainable params: 0\n",
            "_________________________________________________________________\n"
          ],
          "name": "stdout"
        }
      ]
    },
    {
      "cell_type": "markdown",
      "metadata": {
        "id": "te5tAar7fUIK"
      },
      "source": [
        "## 모델 재학습 및 예측값 그려보기"
      ]
    },
    {
      "cell_type": "code",
      "metadata": {
        "id": "qDAPz1QJep9D",
        "colab": {
          "base_uri": "https://localhost:8080/"
        },
        "outputId": "1bfebc52-c79d-4cc6-d209-3913dd0344d6"
      },
      "source": [
        "model_2.fit(x_train, y_train,\n",
        "          epochs=100, batch_size=12)"
      ],
      "execution_count": null,
      "outputs": [
        {
          "output_type": "stream",
          "text": [
            "Epoch 1/100\n",
            "28/28 [==============================] - 0s 4ms/step - loss: 224.2687\n",
            "Epoch 2/100\n",
            "28/28 [==============================] - 0s 4ms/step - loss: 165.5193\n",
            "Epoch 3/100\n",
            "28/28 [==============================] - 0s 4ms/step - loss: 118.2790\n",
            "Epoch 4/100\n",
            "28/28 [==============================] - 0s 5ms/step - loss: 93.2704\n",
            "Epoch 5/100\n",
            "28/28 [==============================] - 0s 5ms/step - loss: 79.7098\n",
            "Epoch 6/100\n",
            "28/28 [==============================] - 0s 5ms/step - loss: 67.6598\n",
            "Epoch 7/100\n",
            "28/28 [==============================] - 0s 4ms/step - loss: 59.0414\n",
            "Epoch 8/100\n",
            "28/28 [==============================] - 0s 4ms/step - loss: 52.7374\n",
            "Epoch 9/100\n",
            "28/28 [==============================] - 0s 4ms/step - loss: 48.8713\n",
            "Epoch 10/100\n",
            "28/28 [==============================] - 0s 4ms/step - loss: 43.8860\n",
            "Epoch 11/100\n",
            "28/28 [==============================] - 0s 4ms/step - loss: 41.9214\n",
            "Epoch 12/100\n",
            "28/28 [==============================] - 0s 4ms/step - loss: 38.6767\n",
            "Epoch 13/100\n",
            "28/28 [==============================] - 0s 4ms/step - loss: 36.8886\n",
            "Epoch 14/100\n",
            "28/28 [==============================] - 0s 4ms/step - loss: 34.5303\n",
            "Epoch 15/100\n",
            "28/28 [==============================] - 0s 5ms/step - loss: 33.0448\n",
            "Epoch 16/100\n",
            "28/28 [==============================] - 0s 5ms/step - loss: 32.0272\n",
            "Epoch 17/100\n",
            "28/28 [==============================] - 0s 4ms/step - loss: 30.8514\n",
            "Epoch 18/100\n",
            "28/28 [==============================] - 0s 4ms/step - loss: 29.7717\n",
            "Epoch 19/100\n",
            "28/28 [==============================] - 0s 4ms/step - loss: 28.9752\n",
            "Epoch 20/100\n",
            "28/28 [==============================] - 0s 5ms/step - loss: 27.8014\n",
            "Epoch 21/100\n",
            "28/28 [==============================] - 0s 5ms/step - loss: 27.2968\n",
            "Epoch 22/100\n",
            "28/28 [==============================] - 0s 4ms/step - loss: 26.7339\n",
            "Epoch 23/100\n",
            "28/28 [==============================] - 0s 4ms/step - loss: 25.0361\n",
            "Epoch 24/100\n",
            "28/28 [==============================] - 0s 4ms/step - loss: 26.2298\n",
            "Epoch 25/100\n",
            "28/28 [==============================] - 0s 4ms/step - loss: 23.8865\n",
            "Epoch 26/100\n",
            "28/28 [==============================] - 0s 5ms/step - loss: 23.3063\n",
            "Epoch 27/100\n",
            "28/28 [==============================] - 0s 4ms/step - loss: 24.5084\n",
            "Epoch 28/100\n",
            "28/28 [==============================] - 0s 4ms/step - loss: 23.1699\n",
            "Epoch 29/100\n",
            "28/28 [==============================] - 0s 4ms/step - loss: 22.6268\n",
            "Epoch 30/100\n",
            "28/28 [==============================] - 0s 4ms/step - loss: 21.4920\n",
            "Epoch 31/100\n",
            "28/28 [==============================] - 0s 4ms/step - loss: 20.7993\n",
            "Epoch 32/100\n",
            "28/28 [==============================] - 0s 4ms/step - loss: 20.3587\n",
            "Epoch 33/100\n",
            "28/28 [==============================] - 0s 4ms/step - loss: 20.4149\n",
            "Epoch 34/100\n",
            "28/28 [==============================] - 0s 4ms/step - loss: 19.9417\n",
            "Epoch 35/100\n",
            "28/28 [==============================] - 0s 4ms/step - loss: 19.6518\n",
            "Epoch 36/100\n",
            "28/28 [==============================] - 0s 4ms/step - loss: 19.5848\n",
            "Epoch 37/100\n",
            "28/28 [==============================] - 0s 4ms/step - loss: 18.8135\n",
            "Epoch 38/100\n",
            "28/28 [==============================] - 0s 4ms/step - loss: 19.7270\n",
            "Epoch 39/100\n",
            "28/28 [==============================] - 0s 4ms/step - loss: 18.3422\n",
            "Epoch 40/100\n",
            "28/28 [==============================] - 0s 4ms/step - loss: 18.5255\n",
            "Epoch 41/100\n",
            "28/28 [==============================] - 0s 4ms/step - loss: 18.5802\n",
            "Epoch 42/100\n",
            "28/28 [==============================] - 0s 4ms/step - loss: 17.9337\n",
            "Epoch 43/100\n",
            "28/28 [==============================] - 0s 4ms/step - loss: 18.3951\n",
            "Epoch 44/100\n",
            "28/28 [==============================] - 0s 4ms/step - loss: 18.6024\n",
            "Epoch 45/100\n",
            "28/28 [==============================] - 0s 4ms/step - loss: 17.8889\n",
            "Epoch 46/100\n",
            "28/28 [==============================] - 0s 5ms/step - loss: 16.7972\n",
            "Epoch 47/100\n",
            "28/28 [==============================] - 0s 5ms/step - loss: 17.1447\n",
            "Epoch 48/100\n",
            "28/28 [==============================] - 0s 5ms/step - loss: 17.1565\n",
            "Epoch 49/100\n",
            "28/28 [==============================] - 0s 4ms/step - loss: 16.8963\n",
            "Epoch 50/100\n",
            "28/28 [==============================] - 0s 4ms/step - loss: 16.1224\n",
            "Epoch 51/100\n",
            "28/28 [==============================] - 0s 4ms/step - loss: 16.4423\n",
            "Epoch 52/100\n",
            "28/28 [==============================] - 0s 4ms/step - loss: 16.4632\n",
            "Epoch 53/100\n",
            "28/28 [==============================] - 0s 4ms/step - loss: 16.1068\n",
            "Epoch 54/100\n",
            "28/28 [==============================] - 0s 4ms/step - loss: 15.9486\n",
            "Epoch 55/100\n",
            "28/28 [==============================] - 0s 4ms/step - loss: 16.2136\n",
            "Epoch 56/100\n",
            "28/28 [==============================] - 0s 4ms/step - loss: 16.4715\n",
            "Epoch 57/100\n",
            "28/28 [==============================] - 0s 4ms/step - loss: 15.5241\n",
            "Epoch 58/100\n",
            "28/28 [==============================] - 0s 4ms/step - loss: 16.2268\n",
            "Epoch 59/100\n",
            "28/28 [==============================] - 0s 4ms/step - loss: 16.0611\n",
            "Epoch 60/100\n",
            "28/28 [==============================] - 0s 4ms/step - loss: 15.6499\n",
            "Epoch 61/100\n",
            "28/28 [==============================] - 0s 4ms/step - loss: 15.6888\n",
            "Epoch 62/100\n",
            "28/28 [==============================] - 0s 4ms/step - loss: 15.0872\n",
            "Epoch 63/100\n",
            "28/28 [==============================] - 0s 4ms/step - loss: 14.8605\n",
            "Epoch 64/100\n",
            "28/28 [==============================] - 0s 4ms/step - loss: 14.7113\n",
            "Epoch 65/100\n",
            "28/28 [==============================] - 0s 4ms/step - loss: 14.6281\n",
            "Epoch 66/100\n",
            "28/28 [==============================] - 0s 4ms/step - loss: 14.6998\n",
            "Epoch 67/100\n",
            "28/28 [==============================] - 0s 4ms/step - loss: 14.4752\n",
            "Epoch 68/100\n",
            "28/28 [==============================] - 0s 4ms/step - loss: 14.1957\n",
            "Epoch 69/100\n",
            "28/28 [==============================] - 0s 4ms/step - loss: 14.4054\n",
            "Epoch 70/100\n",
            "28/28 [==============================] - 0s 4ms/step - loss: 14.0958\n",
            "Epoch 71/100\n",
            "28/28 [==============================] - 0s 4ms/step - loss: 14.0137\n",
            "Epoch 72/100\n",
            "28/28 [==============================] - 0s 4ms/step - loss: 14.1295\n",
            "Epoch 73/100\n",
            "28/28 [==============================] - 0s 4ms/step - loss: 14.2374\n",
            "Epoch 74/100\n",
            "28/28 [==============================] - 0s 5ms/step - loss: 14.6816\n",
            "Epoch 75/100\n",
            "28/28 [==============================] - 0s 5ms/step - loss: 13.2655\n",
            "Epoch 76/100\n",
            "28/28 [==============================] - 0s 5ms/step - loss: 14.1680\n",
            "Epoch 77/100\n",
            "28/28 [==============================] - 0s 4ms/step - loss: 13.8195\n",
            "Epoch 78/100\n",
            "28/28 [==============================] - 0s 4ms/step - loss: 13.3481\n",
            "Epoch 79/100\n",
            "28/28 [==============================] - 0s 4ms/step - loss: 13.3908\n",
            "Epoch 80/100\n",
            "28/28 [==============================] - 0s 4ms/step - loss: 13.4723\n",
            "Epoch 81/100\n",
            "28/28 [==============================] - 0s 4ms/step - loss: 13.3506\n",
            "Epoch 82/100\n",
            "28/28 [==============================] - 0s 4ms/step - loss: 12.9579\n",
            "Epoch 83/100\n",
            "28/28 [==============================] - 0s 5ms/step - loss: 13.7198\n",
            "Epoch 84/100\n",
            "28/28 [==============================] - 0s 4ms/step - loss: 13.4703\n",
            "Epoch 85/100\n",
            "28/28 [==============================] - 0s 5ms/step - loss: 12.6973\n",
            "Epoch 86/100\n",
            "28/28 [==============================] - 0s 4ms/step - loss: 12.4849\n",
            "Epoch 87/100\n",
            "28/28 [==============================] - 0s 4ms/step - loss: 12.1604\n",
            "Epoch 88/100\n",
            "28/28 [==============================] - 0s 4ms/step - loss: 12.1894\n",
            "Epoch 89/100\n",
            "28/28 [==============================] - 0s 4ms/step - loss: 11.8041\n",
            "Epoch 90/100\n",
            "28/28 [==============================] - 0s 4ms/step - loss: 12.2251\n",
            "Epoch 91/100\n",
            "28/28 [==============================] - 0s 4ms/step - loss: 12.4264\n",
            "Epoch 92/100\n",
            "28/28 [==============================] - 0s 4ms/step - loss: 12.2151\n",
            "Epoch 93/100\n",
            "28/28 [==============================] - 0s 4ms/step - loss: 11.8212\n",
            "Epoch 94/100\n",
            "28/28 [==============================] - 0s 4ms/step - loss: 12.2697\n",
            "Epoch 95/100\n",
            "28/28 [==============================] - 0s 4ms/step - loss: 11.2416\n",
            "Epoch 96/100\n",
            "28/28 [==============================] - 0s 4ms/step - loss: 12.5475\n",
            "Epoch 97/100\n",
            "28/28 [==============================] - 0s 4ms/step - loss: 12.3118\n",
            "Epoch 98/100\n",
            "28/28 [==============================] - 0s 4ms/step - loss: 12.4848\n",
            "Epoch 99/100\n",
            "28/28 [==============================] - 0s 4ms/step - loss: 11.5398\n",
            "Epoch 100/100\n",
            "28/28 [==============================] - 0s 4ms/step - loss: 10.8585\n"
          ],
          "name": "stdout"
        },
        {
          "output_type": "execute_result",
          "data": {
            "text/plain": [
              "<tensorflow.python.keras.callbacks.History at 0x7f3f68d0abe0>"
            ]
          },
          "metadata": {
            "tags": []
          },
          "execution_count": 56
        }
      ]
    },
    {
      "cell_type": "code",
      "metadata": {
        "id": "a2PO8mlRep4i",
        "colab": {
          "base_uri": "https://localhost:8080/",
          "height": 330
        },
        "outputId": "59415ca3-6ec8-46fc-b4a2-1f5cdf2576f5"
      },
      "source": [
        "prediction_2 = model_2.predict(x_test)\n",
        "\n",
        "pred_range = np.arange(len(y_train), len(y_train) + len(prediction_2))\n",
        "\n",
        "plt.figure(figsize=(12, 5))\n",
        "plt.xlabel('Time')\n",
        "plt.ylabel('Value')\n",
        "plt.plot(pred_range, y_test.flatten(), color='orange', label='Ground Truth')\n",
        "plt.plot(pred_range, prediction.flatten(), 'r:', label='Model 1 Prediction')\n",
        "plt.plot(pred_range, prediction_2.flatten(), color='blue', label='Model 2 Prediction')\n",
        "plt.legend()\n",
        "plt.show()"
      ],
      "execution_count": null,
      "outputs": [
        {
          "output_type": "display_data",
          "data": {
            "image/png": "[encoded data removed]",
            "text/plain": [
              "<Figure size 864x360 with 1 Axes>"
            ]
          },
          "metadata": {
            "tags": []
          }
        }
      ]
    },
    {
      "cell_type": "markdown",
      "metadata": {
        "id": "a52Hf5A8gBY1"
      },
      "source": [
        "## 모델 재구성(3)\n",
        "- GRU 사용\n",
        "  - LSTM 보다 더 쉬운 구조"
      ]
    },
    {
      "cell_type": "code",
      "metadata": {
        "id": "mjJvMhvegFWa"
      },
      "source": [
        "from tensorflow.keras.layers import GRU"
      ],
      "execution_count": null,
      "outputs": []
    },
    {
      "cell_type": "code",
      "metadata": {
        "id": "elzfgn1ngFR7",
        "colab": {
          "base_uri": "https://localhost:8080/"
        },
        "outputId": "568e6b9c-795f-4b33-8c54-278ce7c236aa"
      },
      "source": [
        "def build_model3(n):\n",
        "  model = Sequential()\n",
        "\n",
        "  model.add(GRU(units=30, return_sequences=True, input_shape=(n, 1)))\n",
        "  model.add(GRU(30))\n",
        "  model.add(Dense(1))\n",
        "\n",
        "  model.compile(optimizer='adam',\n",
        "                loss='mse')\n",
        "  \n",
        "  return model\n",
        "\n",
        "model_3 = build_model3(10)\n",
        "model_3.summary()"
      ],
      "execution_count": null,
      "outputs": [
        {
          "output_type": "stream",
          "text": [
            "Model: \"sequential_8\"\n",
            "_________________________________________________________________\n",
            "Layer (type)                 Output Shape              Param #   \n",
            "=================================================================\n",
            "gru (GRU)                    (None, 10, 30)            2970      \n",
            "_________________________________________________________________\n",
            "gru_1 (GRU)                  (None, 30)                5580      \n",
            "_________________________________________________________________\n",
            "dense_5 (Dense)              (None, 1)                 31        \n",
            "=================================================================\n",
            "Total params: 8,581\n",
            "Trainable params: 8,581\n",
            "Non-trainable params: 0\n",
            "_________________________________________________________________\n"
          ],
          "name": "stdout"
        }
      ]
    },
    {
      "cell_type": "markdown",
      "metadata": {
        "id": "Lz4dAZvvgbQp"
      },
      "source": [
        "## 모델 재학습 및 예측값 그려보기"
      ]
    },
    {
      "cell_type": "code",
      "metadata": {
        "id": "sg-NFBcEgFMg",
        "colab": {
          "base_uri": "https://localhost:8080/"
        },
        "outputId": "a20ed50e-4167-47d9-9dd3-e45311dba0ac"
      },
      "source": [
        "model_3.fit(x_train, y_train,\n",
        "          epochs=100, batch_size=12)"
      ],
      "execution_count": null,
      "outputs": [
        {
          "output_type": "stream",
          "text": [
            "Epoch 1/100\n",
            "28/28 [==============================] - 0s 5ms/step - loss: 211.4148\n",
            "Epoch 2/100\n",
            "28/28 [==============================] - 0s 5ms/step - loss: 148.8961\n",
            "Epoch 3/100\n",
            "28/28 [==============================] - 0s 4ms/step - loss: 112.0188\n",
            "Epoch 4/100\n",
            "28/28 [==============================] - 0s 4ms/step - loss: 91.0459\n",
            "Epoch 5/100\n",
            "28/28 [==============================] - 0s 4ms/step - loss: 76.4145\n",
            "Epoch 6/100\n",
            "28/28 [==============================] - 0s 4ms/step - loss: 66.9126\n",
            "Epoch 7/100\n",
            "28/28 [==============================] - 0s 4ms/step - loss: 60.2150\n",
            "Epoch 8/100\n",
            "28/28 [==============================] - 0s 4ms/step - loss: 55.2455\n",
            "Epoch 9/100\n",
            "28/28 [==============================] - 0s 4ms/step - loss: 50.4895\n",
            "Epoch 10/100\n",
            "28/28 [==============================] - 0s 4ms/step - loss: 47.2709\n",
            "Epoch 11/100\n",
            "28/28 [==============================] - 0s 4ms/step - loss: 43.9690\n",
            "Epoch 12/100\n",
            "28/28 [==============================] - 0s 4ms/step - loss: 40.7782\n",
            "Epoch 13/100\n",
            "28/28 [==============================] - 0s 4ms/step - loss: 38.1616\n",
            "Epoch 14/100\n",
            "28/28 [==============================] - 0s 4ms/step - loss: 36.1885\n",
            "Epoch 15/100\n",
            "28/28 [==============================] - 0s 4ms/step - loss: 34.6494\n",
            "Epoch 16/100\n",
            "28/28 [==============================] - 0s 4ms/step - loss: 33.5222\n",
            "Epoch 17/100\n",
            "28/28 [==============================] - 0s 5ms/step - loss: 32.6405\n",
            "Epoch 18/100\n",
            "28/28 [==============================] - 0s 5ms/step - loss: 30.7594\n",
            "Epoch 19/100\n",
            "28/28 [==============================] - 0s 5ms/step - loss: 29.8068\n",
            "Epoch 20/100\n",
            "28/28 [==============================] - 0s 4ms/step - loss: 28.9579\n",
            "Epoch 21/100\n",
            "28/28 [==============================] - 0s 4ms/step - loss: 27.8427\n",
            "Epoch 22/100\n",
            "28/28 [==============================] - 0s 4ms/step - loss: 26.9184\n",
            "Epoch 23/100\n",
            "28/28 [==============================] - 0s 4ms/step - loss: 26.3594\n",
            "Epoch 24/100\n",
            "28/28 [==============================] - 0s 4ms/step - loss: 26.0230\n",
            "Epoch 25/100\n",
            "28/28 [==============================] - 0s 4ms/step - loss: 25.1904\n",
            "Epoch 26/100\n",
            "28/28 [==============================] - 0s 4ms/step - loss: 24.4951\n",
            "Epoch 27/100\n",
            "28/28 [==============================] - 0s 4ms/step - loss: 23.8167\n",
            "Epoch 28/100\n",
            "28/28 [==============================] - 0s 4ms/step - loss: 23.1889\n",
            "Epoch 29/100\n",
            "28/28 [==============================] - 0s 4ms/step - loss: 22.6302\n",
            "Epoch 30/100\n",
            "28/28 [==============================] - 0s 4ms/step - loss: 22.1612\n",
            "Epoch 31/100\n",
            "28/28 [==============================] - 0s 4ms/step - loss: 22.0895\n",
            "Epoch 32/100\n",
            "28/28 [==============================] - 0s 5ms/step - loss: 22.5895\n",
            "Epoch 33/100\n",
            "28/28 [==============================] - 0s 5ms/step - loss: 21.5258\n",
            "Epoch 34/100\n",
            "28/28 [==============================] - 0s 5ms/step - loss: 21.1770\n",
            "Epoch 35/100\n",
            "28/28 [==============================] - 0s 5ms/step - loss: 20.6550\n",
            "Epoch 36/100\n",
            "28/28 [==============================] - 0s 5ms/step - loss: 20.5096\n",
            "Epoch 37/100\n",
            "28/28 [==============================] - 0s 5ms/step - loss: 20.3570\n",
            "Epoch 38/100\n",
            "28/28 [==============================] - 0s 5ms/step - loss: 19.8514\n",
            "Epoch 39/100\n",
            "28/28 [==============================] - 0s 4ms/step - loss: 19.7175\n",
            "Epoch 40/100\n",
            "28/28 [==============================] - 0s 4ms/step - loss: 19.3539\n",
            "Epoch 41/100\n",
            "28/28 [==============================] - 0s 4ms/step - loss: 19.3109\n",
            "Epoch 42/100\n",
            "28/28 [==============================] - 0s 4ms/step - loss: 19.4778\n",
            "Epoch 43/100\n",
            "28/28 [==============================] - 0s 4ms/step - loss: 19.3973\n",
            "Epoch 44/100\n",
            "28/28 [==============================] - 0s 4ms/step - loss: 19.6843\n",
            "Epoch 45/100\n",
            "28/28 [==============================] - 0s 4ms/step - loss: 18.6441\n",
            "Epoch 46/100\n",
            "28/28 [==============================] - 0s 4ms/step - loss: 18.2985\n",
            "Epoch 47/100\n",
            "28/28 [==============================] - 0s 5ms/step - loss: 18.5559\n",
            "Epoch 48/100\n",
            "28/28 [==============================] - 0s 4ms/step - loss: 18.5445\n",
            "Epoch 49/100\n",
            "28/28 [==============================] - 0s 4ms/step - loss: 18.8255\n",
            "Epoch 50/100\n",
            "28/28 [==============================] - 0s 4ms/step - loss: 18.7499\n",
            "Epoch 51/100\n",
            "28/28 [==============================] - 0s 4ms/step - loss: 18.4759\n",
            "Epoch 52/100\n",
            "28/28 [==============================] - 0s 4ms/step - loss: 18.4554\n",
            "Epoch 53/100\n",
            "28/28 [==============================] - 0s 4ms/step - loss: 17.9917\n",
            "Epoch 54/100\n",
            "28/28 [==============================] - 0s 5ms/step - loss: 17.4244\n",
            "Epoch 55/100\n",
            "28/28 [==============================] - 0s 5ms/step - loss: 19.0137\n",
            "Epoch 56/100\n",
            "28/28 [==============================] - 0s 4ms/step - loss: 17.8800\n",
            "Epoch 57/100\n",
            "28/28 [==============================] - 0s 4ms/step - loss: 17.2784\n",
            "Epoch 58/100\n",
            "28/28 [==============================] - 0s 4ms/step - loss: 17.3218\n",
            "Epoch 59/100\n",
            "28/28 [==============================] - 0s 4ms/step - loss: 17.2007\n",
            "Epoch 60/100\n",
            "28/28 [==============================] - 0s 4ms/step - loss: 17.7247\n",
            "Epoch 61/100\n",
            "28/28 [==============================] - 0s 4ms/step - loss: 17.0409\n",
            "Epoch 62/100\n",
            "28/28 [==============================] - 0s 4ms/step - loss: 17.1257\n",
            "Epoch 63/100\n",
            "28/28 [==============================] - 0s 4ms/step - loss: 16.9840\n",
            "Epoch 64/100\n",
            "28/28 [==============================] - 0s 4ms/step - loss: 17.7353\n",
            "Epoch 65/100\n",
            "28/28 [==============================] - 0s 4ms/step - loss: 17.1437\n",
            "Epoch 66/100\n",
            "28/28 [==============================] - 0s 4ms/step - loss: 16.8001\n",
            "Epoch 67/100\n",
            "28/28 [==============================] - 0s 4ms/step - loss: 16.8545\n",
            "Epoch 68/100\n",
            "28/28 [==============================] - 0s 4ms/step - loss: 16.5764\n",
            "Epoch 69/100\n",
            "28/28 [==============================] - 0s 4ms/step - loss: 16.3105\n",
            "Epoch 70/100\n",
            "28/28 [==============================] - 0s 4ms/step - loss: 16.3803\n",
            "Epoch 71/100\n",
            "28/28 [==============================] - 0s 5ms/step - loss: 16.1970\n",
            "Epoch 72/100\n",
            "28/28 [==============================] - 0s 4ms/step - loss: 16.2785\n",
            "Epoch 73/100\n",
            "28/28 [==============================] - 0s 4ms/step - loss: 16.5490\n",
            "Epoch 74/100\n",
            "28/28 [==============================] - 0s 4ms/step - loss: 16.5044\n",
            "Epoch 75/100\n",
            "28/28 [==============================] - 0s 4ms/step - loss: 16.3884\n",
            "Epoch 76/100\n",
            "28/28 [==============================] - 0s 4ms/step - loss: 16.4750\n",
            "Epoch 77/100\n",
            "28/28 [==============================] - 0s 4ms/step - loss: 16.3551\n",
            "Epoch 78/100\n",
            "28/28 [==============================] - 0s 4ms/step - loss: 16.1020\n",
            "Epoch 79/100\n",
            "28/28 [==============================] - 0s 4ms/step - loss: 16.3325\n",
            "Epoch 80/100\n",
            "28/28 [==============================] - 0s 4ms/step - loss: 15.8754\n",
            "Epoch 81/100\n",
            "28/28 [==============================] - 0s 4ms/step - loss: 15.9398\n",
            "Epoch 82/100\n",
            "28/28 [==============================] - 0s 4ms/step - loss: 15.6382\n",
            "Epoch 83/100\n",
            "28/28 [==============================] - 0s 4ms/step - loss: 16.2159\n",
            "Epoch 84/100\n",
            "28/28 [==============================] - 0s 4ms/step - loss: 15.9001\n",
            "Epoch 85/100\n",
            "28/28 [==============================] - 0s 4ms/step - loss: 15.6180\n",
            "Epoch 86/100\n",
            "28/28 [==============================] - 0s 4ms/step - loss: 15.8854\n",
            "Epoch 87/100\n",
            "28/28 [==============================] - 0s 4ms/step - loss: 15.9796\n",
            "Epoch 88/100\n",
            "28/28 [==============================] - 0s 4ms/step - loss: 15.7027\n",
            "Epoch 89/100\n",
            "28/28 [==============================] - 0s 4ms/step - loss: 15.2715\n",
            "Epoch 90/100\n",
            "28/28 [==============================] - 0s 4ms/step - loss: 15.6467\n",
            "Epoch 91/100\n",
            "28/28 [==============================] - 0s 4ms/step - loss: 15.4756\n",
            "Epoch 92/100\n",
            "28/28 [==============================] - 0s 4ms/step - loss: 15.2291\n",
            "Epoch 93/100\n",
            "28/28 [==============================] - 0s 4ms/step - loss: 15.8839\n",
            "Epoch 94/100\n",
            "28/28 [==============================] - 0s 4ms/step - loss: 15.5038\n",
            "Epoch 95/100\n",
            "28/28 [==============================] - 0s 4ms/step - loss: 15.0118\n",
            "Epoch 96/100\n",
            "28/28 [==============================] - 0s 4ms/step - loss: 15.2828\n",
            "Epoch 97/100\n",
            "28/28 [==============================] - 0s 5ms/step - loss: 15.1108\n",
            "Epoch 98/100\n",
            "28/28 [==============================] - 0s 5ms/step - loss: 15.2645\n",
            "Epoch 99/100\n",
            "28/28 [==============================] - 0s 4ms/step - loss: 14.8839\n",
            "Epoch 100/100\n",
            "28/28 [==============================] - 0s 4ms/step - loss: 14.8597\n"
          ],
          "name": "stdout"
        },
        {
          "output_type": "execute_result",
          "data": {
            "text/plain": [
              "<tensorflow.python.keras.callbacks.History at 0x7f3f69fc6fd0>"
            ]
          },
          "metadata": {
            "tags": []
          },
          "execution_count": 60
        }
      ]
    },
    {
      "cell_type": "code",
      "metadata": {
        "id": "HVwnDvHIgokR",
        "colab": {
          "base_uri": "https://localhost:8080/",
          "height": 330
        },
        "outputId": "d0ff0960-39d6-4502-ce4e-dae7c300c7fa"
      },
      "source": [
        "prediction_3 = model_3.predict(x_test)\n",
        "\n",
        "pred_range = np.arange(len(y_train), len(y_train) + len(prediction_3))\n",
        "\n",
        "plt.figure(figsize=(12, 5))\n",
        "plt.xlabel('Time')\n",
        "plt.ylabel('Value')\n",
        "plt.plot(pred_range, y_test.flatten(), color='orange', label='Ground Truth')\n",
        "plt.plot(pred_range, prediction_3.flatten(), color='blue', label='Model 3 Prediction')\n",
        "plt.legend()\n",
        "plt.show()"
      ],
      "execution_count": null,
      "outputs": [
        {
          "output_type": "display_data",
          "data": {
            "image/png": "[encoded data removed]",
            "text/plain": [
              "<Figure size 864x360 with 1 Axes>"
            ]
          },
          "metadata": {
            "tags": []
          }
        }
      ]
    },
    {
      "cell_type": "markdown",
      "metadata": {
        "id": "CrvtX4LrkhPI"
      },
      "source": [
        "# Conv1D \n",
        "\n",
        "- 텍스트 분류나 시계열 예측 같은 간단한 문제, 오디오 생성, 기계 번역 등의 문제에서 좋은 성능\n",
        "\n",
        "- 타임스텝의 순서에 민감하지 X\n",
        "\n",
        "\n",
        "- 2D Convolution\n",
        "  - 지역적 특징을 인식\n",
        "\n",
        "  <img src=\"https://missinglink.ai/wp-content/uploads/2019/03/2D-convolutional-example_2x-700x584.png\" width=\"500\">\n",
        "\n",
        "- 1D Convolution\n",
        "  - 문맥을 인식\n",
        "\n",
        "  <img src=\"https://missinglink.ai/wp-content/uploads/2019/03/1D-convolutional-example_2x.png\" width=\"500\">\n",
        "\n",
        "  <sub>출처: https://missinglink.ai/guides/keras/keras-conv1d-working-1d-convolutional-neural-networks-keras/</sub>"
      ]
    },
    {
      "cell_type": "markdown",
      "metadata": {
        "id": "aJNAI-aYnDuc"
      },
      "source": [
        "## Conv1D Layer\n",
        "- 입력: `(batch_size, timesteps, channels)`\n",
        "\n",
        "- 출력: `(batch_size, timesteps, filters)`\n",
        "\n",
        "- 필터의 사이즈가 커져도 모델이 급격히 증가하지 않기 때문에 다양한 크기를 사용할 수 있음\n",
        "- 데이터의 품질이 좋으면 굳이 크기를 달리하여 여러 개를 사용하지 않아도 될 수도 있음"
      ]
    },
    {
      "cell_type": "markdown",
      "metadata": {
        "id": "ADJZHPLJqTZa"
      },
      "source": [
        "## MaxPooling1D Layer\n",
        "- 다운 샘플링 효과\n",
        "\n",
        "- 단지 1차원형태로 바뀐 것 뿐"
      ]
    },
    {
      "cell_type": "markdown",
      "metadata": {
        "id": "wirZzwYJrNll"
      },
      "source": [
        "## GlovalMaxPooling Layer\n",
        "- 배치차원을 제외하고 2차원 형태를 1차원 형태로 바꾸어주는 레이어\n",
        "\n",
        "- Flatten layer로 대신 사용가능"
      ]
    },
    {
      "cell_type": "markdown",
      "metadata": {
        "id": "YQY_1IL9nQs2"
      },
      "source": [
        "## IMDB 데이터셋"
      ]
    },
    {
      "cell_type": "markdown",
      "metadata": {
        "id": "pl4Eu32qnUES"
      },
      "source": [
        "### 데이터 로드 및 전처리"
      ]
    },
    {
      "cell_type": "code",
      "metadata": {
        "id": "WcG-Hiltklbe"
      },
      "source": [
        "from tensorflow.keras.datasets import imdb\n",
        "from tensorflow.keras.preprocessing.sequence import pad_sequences\n",
        "from tensorflow.keras.models import Sequential\n",
        "from tensorflow.keras.optimizers import RMSprop\n",
        "from tensorflow.keras.layers import Dense, Embedding, Conv1D, MaxPooling1D, GlobalMaxPooling1D"
      ],
      "execution_count": null,
      "outputs": []
    },
    {
      "cell_type": "code",
      "metadata": {
        "id": "GGYaNT8hnec5",
        "colab": {
          "base_uri": "https://localhost:8080/"
        },
        "outputId": "bd9a80e1-3c34-4989-fe79-8155259e8c37"
      },
      "source": [
        "num_words = 10000\n",
        "max_len = 500\n",
        "batch_size = 32\n",
        "\n",
        "(input_train, y_train), (input_test, y_test) = imdb.load_data(num_words=num_words)\n",
        "\n",
        "print(len(input_train))\n",
        "print(len(input_test))"
      ],
      "execution_count": null,
      "outputs": [
        {
          "output_type": "stream",
          "text": [
            "25000\n",
            "25000\n"
          ],
          "name": "stdout"
        }
      ]
    },
    {
      "cell_type": "code",
      "metadata": {
        "id": "nQBzp3ownpEK",
        "colab": {
          "base_uri": "https://localhost:8080/"
        },
        "outputId": "85d39e01-f834-48c1-8b1c-b6f9547fb232"
      },
      "source": [
        "pad_x_train = sequence.pad_sequences(input_train, maxlen=max_len)\n",
        "pad_x_test = sequence.pad_sequences(input_test, maxlen=max_len)\n",
        "\n",
        "print(pad_x_train.shape)\n",
        "print(pad_x_test.shape)"
      ],
      "execution_count": null,
      "outputs": [
        {
          "output_type": "stream",
          "text": [
            "(25000, 500)\n",
            "(25000, 500)\n"
          ],
          "name": "stdout"
        }
      ]
    },
    {
      "cell_type": "markdown",
      "metadata": {
        "id": "j3E0hYiHoBO0"
      },
      "source": [
        "### 모델 구성"
      ]
    },
    {
      "cell_type": "code",
      "metadata": {
        "id": "PvKPr7N6nuHr"
      },
      "source": [
        "def build_model():\n",
        "  model = Sequential()\n",
        "\n",
        "  model.add(Embedding(input_dim=num_words, output_dim=32,\n",
        "                      input_length=max_len))\n",
        "  model.add(Conv1D(32, 7, activation='relu'))\n",
        "  model.add(MaxPooling1D(7))\n",
        "  model.add(Conv1D(32, 5, activation='relu'))\n",
        "  model.add(MaxPooling1D(5))\n",
        "  model.add(GlobalMaxPooling1D())\n",
        "  model.add(Dense(1, activation='sigmoid'))\n",
        "\n",
        "  model.compile(optimizer=RMSprop(learning_rate=1e-4),\n",
        "                loss='binary_crossentropy',\n",
        "                metrics=['accuracy'])\n",
        "  \n",
        "  return model"
      ],
      "execution_count": null,
      "outputs": []
    },
    {
      "cell_type": "code",
      "metadata": {
        "id": "wwWZ47NHolB6",
        "colab": {
          "base_uri": "https://localhost:8080/"
        },
        "outputId": "11be2bb1-b94a-471d-c848-f94da698914e"
      },
      "source": [
        "model = build_model()\n",
        "model.summary()"
      ],
      "execution_count": null,
      "outputs": [
        {
          "output_type": "stream",
          "text": [
            "Model: \"sequential_9\"\n",
            "_________________________________________________________________\n",
            "Layer (type)                 Output Shape              Param #   \n",
            "=================================================================\n",
            "embedding_6 (Embedding)      (None, 500, 32)           320000    \n",
            "_________________________________________________________________\n",
            "conv1d (Conv1D)              (None, 494, 32)           7200      \n",
            "_________________________________________________________________\n",
            "max_pooling1d (MaxPooling1D) (None, 70, 32)            0         \n",
            "_________________________________________________________________\n",
            "conv1d_1 (Conv1D)            (None, 66, 32)            5152      \n",
            "_________________________________________________________________\n",
            "max_pooling1d_1 (MaxPooling1 (None, 13, 32)            0         \n",
            "_________________________________________________________________\n",
            "global_max_pooling1d (Global (None, 32)                0         \n",
            "_________________________________________________________________\n",
            "dense_6 (Dense)              (None, 1)                 33        \n",
            "=================================================================\n",
            "Total params: 332,385\n",
            "Trainable params: 332,385\n",
            "Non-trainable params: 0\n",
            "_________________________________________________________________\n"
          ],
          "name": "stdout"
        }
      ]
    },
    {
      "cell_type": "markdown",
      "metadata": {
        "id": "0qUbPGdmpHpQ"
      },
      "source": [
        "### 모델 학습"
      ]
    },
    {
      "cell_type": "code",
      "metadata": {
        "id": "xcCgjLHvonWB",
        "colab": {
          "base_uri": "https://localhost:8080/"
        },
        "outputId": "432e7891-57e5-456f-f687-781b869d4742"
      },
      "source": [
        "history = model.fit(pad_x_train, y_train, \n",
        "                    batch_size=128, epochs=30,\n",
        "                    validation_split=0.2)"
      ],
      "execution_count": null,
      "outputs": [
        {
          "output_type": "stream",
          "text": [
            "Epoch 1/30\n",
            "157/157 [==============================] - 2s 13ms/step - loss: 0.6928 - accuracy: 0.5113 - val_loss: 0.6925 - val_accuracy: 0.5312\n",
            "Epoch 2/30\n",
            "157/157 [==============================] - 2s 12ms/step - loss: 0.6904 - accuracy: 0.6076 - val_loss: 0.6913 - val_accuracy: 0.5140\n",
            "Epoch 3/30\n",
            "157/157 [==============================] - 2s 12ms/step - loss: 0.6873 - accuracy: 0.6584 - val_loss: 0.6876 - val_accuracy: 0.6028\n",
            "Epoch 4/30\n",
            "157/157 [==============================] - 2s 12ms/step - loss: 0.6808 - accuracy: 0.6931 - val_loss: 0.6785 - val_accuracy: 0.6808\n",
            "Epoch 5/30\n",
            "157/157 [==============================] - 2s 12ms/step - loss: 0.6654 - accuracy: 0.7348 - val_loss: 0.6556 - val_accuracy: 0.7354\n",
            "Epoch 6/30\n",
            "157/157 [==============================] - 2s 12ms/step - loss: 0.6304 - accuracy: 0.7674 - val_loss: 0.6092 - val_accuracy: 0.7742\n",
            "Epoch 7/30\n",
            "157/157 [==============================] - 2s 12ms/step - loss: 0.5686 - accuracy: 0.7996 - val_loss: 0.5401 - val_accuracy: 0.8006\n",
            "Epoch 8/30\n",
            "157/157 [==============================] - 2s 11ms/step - loss: 0.4886 - accuracy: 0.8255 - val_loss: 0.4661 - val_accuracy: 0.8208\n",
            "Epoch 9/30\n",
            "157/157 [==============================] - 2s 12ms/step - loss: 0.4137 - accuracy: 0.8468 - val_loss: 0.4091 - val_accuracy: 0.8352\n",
            "Epoch 10/30\n",
            "157/157 [==============================] - 2s 12ms/step - loss: 0.3601 - accuracy: 0.8609 - val_loss: 0.3749 - val_accuracy: 0.8472\n",
            "Epoch 11/30\n",
            "157/157 [==============================] - 2s 12ms/step - loss: 0.3235 - accuracy: 0.8730 - val_loss: 0.3551 - val_accuracy: 0.8512\n",
            "Epoch 12/30\n",
            "157/157 [==============================] - 2s 12ms/step - loss: 0.2978 - accuracy: 0.8819 - val_loss: 0.3424 - val_accuracy: 0.8548\n",
            "Epoch 13/30\n",
            "157/157 [==============================] - 2s 12ms/step - loss: 0.2776 - accuracy: 0.8916 - val_loss: 0.3349 - val_accuracy: 0.8608\n",
            "Epoch 14/30\n",
            "157/157 [==============================] - 2s 12ms/step - loss: 0.2615 - accuracy: 0.8971 - val_loss: 0.3305 - val_accuracy: 0.8600\n",
            "Epoch 15/30\n",
            "157/157 [==============================] - 2s 12ms/step - loss: 0.2472 - accuracy: 0.9036 - val_loss: 0.3275 - val_accuracy: 0.8638\n",
            "Epoch 16/30\n",
            "157/157 [==============================] - 2s 12ms/step - loss: 0.2347 - accuracy: 0.9096 - val_loss: 0.3253 - val_accuracy: 0.8604\n",
            "Epoch 17/30\n",
            "157/157 [==============================] - 2s 12ms/step - loss: 0.2234 - accuracy: 0.9140 - val_loss: 0.3244 - val_accuracy: 0.8642\n",
            "Epoch 18/30\n",
            "157/157 [==============================] - 2s 12ms/step - loss: 0.2130 - accuracy: 0.9201 - val_loss: 0.3260 - val_accuracy: 0.8632\n",
            "Epoch 19/30\n",
            "157/157 [==============================] - 2s 12ms/step - loss: 0.2038 - accuracy: 0.9243 - val_loss: 0.3283 - val_accuracy: 0.8644\n",
            "Epoch 20/30\n",
            "157/157 [==============================] - 2s 12ms/step - loss: 0.1951 - accuracy: 0.9288 - val_loss: 0.3268 - val_accuracy: 0.8690\n",
            "Epoch 21/30\n",
            "157/157 [==============================] - 2s 12ms/step - loss: 0.1871 - accuracy: 0.9326 - val_loss: 0.3292 - val_accuracy: 0.8674\n",
            "Epoch 22/30\n",
            "157/157 [==============================] - 2s 12ms/step - loss: 0.1795 - accuracy: 0.9365 - val_loss: 0.3329 - val_accuracy: 0.8662\n",
            "Epoch 23/30\n",
            "157/157 [==============================] - 2s 12ms/step - loss: 0.1726 - accuracy: 0.9391 - val_loss: 0.3348 - val_accuracy: 0.8664\n",
            "Epoch 24/30\n",
            "157/157 [==============================] - 2s 12ms/step - loss: 0.1656 - accuracy: 0.9422 - val_loss: 0.3403 - val_accuracy: 0.8644\n",
            "Epoch 25/30\n",
            "157/157 [==============================] - 2s 12ms/step - loss: 0.1597 - accuracy: 0.9450 - val_loss: 0.3407 - val_accuracy: 0.8664\n",
            "Epoch 26/30\n",
            "157/157 [==============================] - 2s 12ms/step - loss: 0.1534 - accuracy: 0.9463 - val_loss: 0.3453 - val_accuracy: 0.8668\n",
            "Epoch 27/30\n",
            "157/157 [==============================] - 2s 12ms/step - loss: 0.1476 - accuracy: 0.9485 - val_loss: 0.3500 - val_accuracy: 0.8660\n",
            "Epoch 28/30\n",
            "157/157 [==============================] - 2s 12ms/step - loss: 0.1420 - accuracy: 0.9512 - val_loss: 0.3552 - val_accuracy: 0.8656\n",
            "Epoch 29/30\n",
            "157/157 [==============================] - 2s 12ms/step - loss: 0.1372 - accuracy: 0.9529 - val_loss: 0.3593 - val_accuracy: 0.8660\n",
            "Epoch 30/30\n",
            "157/157 [==============================] - 2s 12ms/step - loss: 0.1320 - accuracy: 0.9552 - val_loss: 0.3631 - val_accuracy: 0.8680\n"
          ],
          "name": "stdout"
        }
      ]
    },
    {
      "cell_type": "markdown",
      "metadata": {
        "id": "n2yEkawIph4C"
      },
      "source": [
        "### 시각화"
      ]
    },
    {
      "cell_type": "code",
      "metadata": {
        "id": "BfKC0UOkpPmP",
        "colab": {
          "base_uri": "https://localhost:8080/",
          "height": 507
        },
        "outputId": "327c010e-c3d4-4f1a-8caf-a319d83af006"
      },
      "source": [
        "loss = history.history['loss']\n",
        "val_loss = history.history['val_loss']\n",
        "acc = history.history['accuracy']\n",
        "val_acc = history.history['val_accuracy']\n",
        "\n",
        "epochs = range(1, len(loss) + 1)\n",
        "\n",
        "plt.plot(epochs, loss, 'b--', label='training loss')\n",
        "plt.plot(epochs, val_loss, 'r:', label='validation loss')\n",
        "plt.legend()\n",
        "plt.grid()\n",
        "\n",
        "plt.figure()\n",
        "plt.plot(epochs, acc, 'b--', label='training accuracy')\n",
        "plt.plot(epochs, val_acc, 'r:', label='validation accuracy')\n",
        "plt.legend()\n",
        "plt.grid()\n",
        "\n",
        "plt.show()"
      ],
      "execution_count": null,
      "outputs": [
        {
          "output_type": "display_data",
          "data": {
            "image/png": "[encoded data removed]",
            "text/plain": [
              "<Figure size 432x288 with 1 Axes>"
            ]
          },
          "metadata": {
            "tags": []
          }
        },
        {
          "output_type": "display_data",
          "data": {
            "image/png": "[encoded data removed]",
            "text/plain": [
              "<Figure size 432x288 with 1 Axes>"
            ]
          },
          "metadata": {
            "tags": []
          }
        }
      ]
    },
    {
      "cell_type": "markdown",
      "metadata": {
        "id": "npd7lwPGrbz9"
      },
      "source": [
        "- 과적합이 일어났지만, 다른 옵티마이저 사용, 규제화를 걸어보는 등 다양하게 시도해볼 수 있음"
      ]
    }
  ]
}