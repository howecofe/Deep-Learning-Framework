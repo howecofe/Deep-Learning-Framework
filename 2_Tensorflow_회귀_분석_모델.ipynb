{
  "nbformat": 4,
  "nbformat_minor": 0,
  "metadata": {
    "colab": {
      "name": "Jiyun Lee - _2 텐서플로우 회귀 분석 모델.ipynb",
      "provenance": [],
      "collapsed_sections": []
    },
    "kernelspec": {
      "name": "python3",
      "display_name": "Python 3"
    },
    "accelerator": "GPU"
  },
  "cells": [
    {
      "cell_type": "markdown",
      "metadata": {
        "id": "ME4xVKRSvWxH"
      },
      "source": [
        "# 텐서플로우 회귀 분석 모델\n",
        "\n",
        "- 다양한 방법이 존재\n",
        "- 텐서플로우2만 사용하는 방법, 케라스를 이용한 방법, 둘을 모두 섞은 방법 등등  \n"
      ]
    },
    {
      "cell_type": "markdown",
      "metadata": {
        "id": "Lw9JHQ2btU9O"
      },
      "source": [
        "## 선형 회귀(Linear Regression)"
      ]
    },
    {
      "cell_type": "code",
      "metadata": {
        "id": "rc0SydSstXAj"
      },
      "source": [
        "import numpy as np\n",
        "import tensorflow as tf\n",
        "import matplotlib.pyplot as plt\n",
        "plt.style.use('seaborn-white')"
      ],
      "execution_count": null,
      "outputs": []
    },
    {
      "cell_type": "code",
      "metadata": {
        "id": "qvFld-m-tcnD"
      },
      "source": [
        "learning_rate = 0.01\n",
        "training_steps = 1000"
      ],
      "execution_count": null,
      "outputs": []
    },
    {
      "cell_type": "code",
      "metadata": {
        "id": "0-3wzjHjtgBg"
      },
      "source": [
        "X = np.random.randn(50)\n",
        "Y = 2*X + np.random.randn(50)"
      ],
      "execution_count": null,
      "outputs": []
    },
    {
      "cell_type": "code",
      "metadata": {
        "id": "yAdt62LKti-W"
      },
      "source": [
        "W = tf.Variable(np.random.randn(), name='weight')\n",
        "b = tf.Variable(np.random.randn(), name='bias')\n",
        "\n",
        "def linear_regression(x):\n",
        "  return W * x + b\n",
        "\n",
        "def mean_square(y_pred, y_true):\n",
        "  return tf.reduce_mean(tf.square(y_pred - y_true))\n",
        "\n",
        "optimizer = tf.optimizers.SGD(learning_rate)"
      ],
      "execution_count": null,
      "outputs": []
    },
    {
      "cell_type": "code",
      "metadata": {
        "id": "P8mLzC5vuCwp"
      },
      "source": [
        "def run_optimization():\n",
        "  with tf.GradientTape() as tape:\n",
        "    pred = linear_regression(X)\n",
        "    loss = mean_square(pred, Y)\n",
        "\n",
        "  gradients = tape.gradient(loss, [W, b])\n",
        "\n",
        "  optimizer.apply_gradients(zip(gradients, [W, b]))"
      ],
      "execution_count": null,
      "outputs": []
    },
    {
      "cell_type": "code",
      "metadata": {
        "id": "dpMeJIaquPld",
        "colab": {
          "base_uri": "https://localhost:8080/",
          "height": 380
        },
        "outputId": "11ef5179-3de0-461c-8db6-71811756264c"
      },
      "source": [
        "for step in range(1, training_steps + 1):\n",
        "  run_optimization()\n",
        "\n",
        "  if step % 50 == 0:\n",
        "    pred = linear_regression(X)\n",
        "    loss = mean_square(pred, Y)\n",
        "    print(\"step: {:4d}\\tloss: {:.4f}\\tW: {:.4f}\\tb: {:.4f}\".format(step, loss, W.numpy(), b.numpy()))"
      ],
      "execution_count": null,
      "outputs": [
        {
          "output_type": "stream",
          "text": [
            "step:   50\tloss: 0.8801\tW: 1.9986\tb: -0.2540\n",
            "step:  100\tloss: 0.8801\tW: 1.9986\tb: -0.2540\n",
            "step:  150\tloss: 0.8801\tW: 1.9986\tb: -0.2540\n",
            "step:  200\tloss: 0.8801\tW: 1.9986\tb: -0.2540\n",
            "step:  250\tloss: 0.8801\tW: 1.9986\tb: -0.2540\n",
            "step:  300\tloss: 0.8801\tW: 1.9986\tb: -0.2540\n",
            "step:  350\tloss: 0.8801\tW: 1.9986\tb: -0.2540\n",
            "step:  400\tloss: 0.8801\tW: 1.9986\tb: -0.2540\n",
            "step:  450\tloss: 0.8801\tW: 1.9986\tb: -0.2540\n",
            "step:  500\tloss: 0.8801\tW: 1.9986\tb: -0.2540\n",
            "step:  550\tloss: 0.8801\tW: 1.9986\tb: -0.2540\n",
            "step:  600\tloss: 0.8801\tW: 1.9986\tb: -0.2540\n",
            "step:  650\tloss: 0.8801\tW: 1.9986\tb: -0.2540\n",
            "step:  700\tloss: 0.8801\tW: 1.9986\tb: -0.2540\n",
            "step:  750\tloss: 0.8801\tW: 1.9986\tb: -0.2540\n",
            "step:  800\tloss: 0.8801\tW: 1.9986\tb: -0.2540\n",
            "step:  850\tloss: 0.8801\tW: 1.9986\tb: -0.2540\n",
            "step:  900\tloss: 0.8801\tW: 1.9986\tb: -0.2540\n",
            "step:  950\tloss: 0.8801\tW: 1.9986\tb: -0.2540\n",
            "step: 1000\tloss: 0.8801\tW: 1.9986\tb: -0.2540\n"
          ],
          "name": "stdout"
        }
      ]
    },
    {
      "cell_type": "code",
      "metadata": {
        "id": "is397GkquXu1",
        "colab": {
          "base_uri": "https://localhost:8080/",
          "height": 262
        },
        "outputId": "e3287fdb-7fdc-4f22-82df-969fbbc6ce3c"
      },
      "source": [
        "plt.plot(X, Y, 'ro', label='Data')\n",
        "plt.plot(X, np.array(W * X + b), label='Fitted Line')\n",
        "plt.legend()\n",
        "plt.grid()\n",
        "plt.show()"
      ],
      "execution_count": null,
      "outputs": [
        {
          "output_type": "display_data",
          "data": {
            "image/png": "[encoded data removed]",
            "text/plain": [
              "<Figure size 432x288 with 1 Axes>"
            ]
          },
          "metadata": {
            "tags": [],
            "needs_background": "light"
          }
        }
      ]
    },
    {
      "cell_type": "markdown",
      "metadata": {
        "id": "hmwhh8v7ooEh"
      },
      "source": [
        "## 다항 회귀 (Nonlinear Regression)\n"
      ]
    },
    {
      "cell_type": "markdown",
      "metadata": {
        "id": "JzPHMupUouoj"
      },
      "source": [
        "### modules import"
      ]
    },
    {
      "cell_type": "code",
      "metadata": {
        "id": "nwjaLZxmosFb"
      },
      "source": [
        "from tensorflow.keras.optimizers import Adam"
      ],
      "execution_count": null,
      "outputs": []
    },
    {
      "cell_type": "markdown",
      "metadata": {
        "id": "a4Eypd3lqIH7"
      },
      "source": [
        "### Hyper Parameters"
      ]
    },
    {
      "cell_type": "code",
      "metadata": {
        "id": "PwYv4RjrqKDk"
      },
      "source": [
        "epochs = 1000\n",
        "learning_rate = 0.04"
      ],
      "execution_count": null,
      "outputs": []
    },
    {
      "cell_type": "markdown",
      "metadata": {
        "id": "SBFf3xYkpK__"
      },
      "source": [
        "### 변수 지정"
      ]
    },
    {
      "cell_type": "code",
      "metadata": {
        "id": "rdYHM586osJT"
      },
      "source": [
        "a = tf.Variable(np.random.randn())\n",
        "b = tf.Variable(np.random.randn())\n",
        "c = tf.Variable(np.random.randn())"
      ],
      "execution_count": null,
      "outputs": []
    },
    {
      "cell_type": "code",
      "metadata": {
        "id": "n0BoMoSgqmR2",
        "colab": {
          "base_uri": "https://localhost:8080/",
          "height": 71
        },
        "outputId": "1979b416-72c9-4af7-ad75-f40e40824da6"
      },
      "source": [
        "print(a.numpy())\n",
        "print(b.numpy())\n",
        "print(c.numpy())"
      ],
      "execution_count": null,
      "outputs": [
        {
          "output_type": "stream",
          "text": [
            "0.23474981\n",
            "0.14161798\n",
            "-0.5957194\n"
          ],
          "name": "stdout"
        }
      ]
    },
    {
      "cell_type": "markdown",
      "metadata": {
        "id": "3-ks5u2ypTtb"
      },
      "source": [
        "### 데이터 지정"
      ]
    },
    {
      "cell_type": "code",
      "metadata": {
        "id": "rgVzGBLEor8l"
      },
      "source": [
        "X = np.random.randn(50)\n",
        "Y = X**2 + X*np.random.randn(50)"
      ],
      "execution_count": null,
      "outputs": []
    },
    {
      "cell_type": "code",
      "metadata": {
        "id": "uodrzxT1rU1G",
        "colab": {
          "base_uri": "https://localhost:8080/",
          "height": 262
        },
        "outputId": "bb568c72-4365-492a-e267-026a5e4324f9"
      },
      "source": [
        "line_x = np.arange(min(X), max(X), 0.001)\n",
        "line_y = a*line_x**2 + b*line_x + c\n",
        "\n",
        "x_ = np.arange(-4.0, 4.0, 0.001)\n",
        "y_ = a*x_**2 + b*x_ + c\n",
        "\n",
        "plt.scatter(X, Y, label='X data')\n",
        "plt.plot(x_, y_, 'g--', label='origin line')\n",
        "plt.plot(line_x, line_y, 'r--', label='before train')\n",
        "plt.xlim(-4.0, 4.0)\n",
        "plt.legend()\n",
        "plt.grid()\n",
        "plt.show()"
      ],
      "execution_count": null,
      "outputs": [
        {
          "output_type": "display_data",
          "data": {
            "image/png": "[encoded data removed]",
            "text/plain": [
              "<Figure size 432x288 with 1 Axes>"
            ]
          },
          "metadata": {
            "tags": [],
            "needs_background": "light"
          }
        }
      ]
    },
    {
      "cell_type": "markdown",
      "metadata": {
        "id": "7C56lq45uM-V"
      },
      "source": [
        "### Util Functions"
      ]
    },
    {
      "cell_type": "code",
      "metadata": {
        "id": "_pvdH6U9uJ8i"
      },
      "source": [
        "def compute_loss():\n",
        "  pred_y = a*(np.array(X)**2) + b*np.array(X) + c\n",
        "  loss = tf.reduce_mean((Y - pred_y)**2)\n",
        "  return loss"
      ],
      "execution_count": null,
      "outputs": []
    },
    {
      "cell_type": "markdown",
      "metadata": {
        "id": "kcme5VWPp6fz"
      },
      "source": [
        "### Optimizer"
      ]
    },
    {
      "cell_type": "code",
      "metadata": {
        "id": "R4TSy8j2or5J"
      },
      "source": [
        "optimizer = Adam(learning_rate=learning_rate)"
      ],
      "execution_count": null,
      "outputs": []
    },
    {
      "cell_type": "markdown",
      "metadata": {
        "id": "5QVfbg2uqEx8"
      },
      "source": [
        "### 학습"
      ]
    },
    {
      "cell_type": "code",
      "metadata": {
        "id": "DBjCdWz9or1p",
        "colab": {
          "base_uri": "https://localhost:8080/",
          "height": 199
        },
        "outputId": "8798801b-2760-4260-82cd-ce017375bed1"
      },
      "source": [
        "for epoch in range(1, epochs+1, 1):\n",
        "  optimizer.minimize(compute_loss, var_list=[a, b, c])\n",
        "\n",
        "  if epoch % 100 == 0:\n",
        "    print(\"epoch: {:4d}\\ta: {:.4f}\\tb: {:.4f}\\tc: {:.4f}\".format(epoch, a.numpy(), b.numpy(), c.numpy()))"
      ],
      "execution_count": null,
      "outputs": [
        {
          "output_type": "stream",
          "text": [
            "epoch:  100\ta: 1.1105\tb: -0.2091\tc: 0.0357\n",
            "epoch:  200\ta: 1.1069\tb: -0.2080\tc: 0.0351\n",
            "epoch:  300\ta: 1.1069\tb: -0.2080\tc: 0.0352\n",
            "epoch:  400\ta: 1.1069\tb: -0.2080\tc: 0.0352\n",
            "epoch:  500\ta: 1.1069\tb: -0.2080\tc: 0.0352\n",
            "epoch:  600\ta: 1.1069\tb: -0.2080\tc: 0.0352\n",
            "epoch:  700\ta: 1.1069\tb: -0.2080\tc: 0.0352\n",
            "epoch:  800\ta: 1.1069\tb: -0.2080\tc: 0.0352\n",
            "epoch:  900\ta: 1.1069\tb: -0.2080\tc: 0.0352\n",
            "epoch: 1000\ta: 1.1069\tb: -0.2080\tc: 0.0352\n"
          ],
          "name": "stdout"
        }
      ]
    },
    {
      "cell_type": "markdown",
      "metadata": {
        "id": "Fbyej01IumFX"
      },
      "source": [
        "### 학습 후의 회귀선"
      ]
    },
    {
      "cell_type": "code",
      "metadata": {
        "id": "gKqDyDwXugdP",
        "colab": {
          "base_uri": "https://localhost:8080/",
          "height": 262
        },
        "outputId": "e7f01eac-56fc-49f4-91f4-390b3d557297"
      },
      "source": [
        "line_x = np.arange(min(X), max(X), 0.001)\n",
        "line_y = a*line_x**2 + b*line_x + c\n",
        "\n",
        "plt.scatter(X, Y, label='X data')\n",
        "plt.plot(x_, y_, 'g--', label='origin line')\n",
        "plt.plot(line_x, line_y, 'r--', label='after train')\n",
        "plt.xlim(-4.0, 4.0)\n",
        "plt.legend()\n",
        "plt.grid()\n",
        "plt.show()"
      ],
      "execution_count": null,
      "outputs": [
        {
          "output_type": "display_data",
          "data": {
            "image/png": "[encoded data removed]",
            "text/plain": [
              "<Figure size 432x288 with 1 Axes>"
            ]
          },
          "metadata": {
            "tags": [],
            "needs_background": "light"
          }
        }
      ]
    },
    {
      "cell_type": "markdown",
      "metadata": {
        "id": "jtCFXjS6uwry"
      },
      "source": [
        "## 로지스틱 회귀(Logistic Regression)\n",
        "- 다항 분류, MNIST"
      ]
    },
    {
      "cell_type": "markdown",
      "metadata": {
        "id": "GIdxzXa1vJmt"
      },
      "source": [
        "### modules import"
      ]
    },
    {
      "cell_type": "code",
      "metadata": {
        "id": "LGHeQjgYumXM"
      },
      "source": [
        "from tensorflow.keras.datasets import mnist\n",
        "import matplotlib.pyplot as plt\n",
        "plt.style.use('seaborn-white')"
      ],
      "execution_count": null,
      "outputs": []
    },
    {
      "cell_type": "markdown",
      "metadata": {
        "id": "96xeDaPJvFW1"
      },
      "source": [
        "### 하이퍼 파라미터 (Hyper Parameter)\n"
      ]
    },
    {
      "cell_type": "code",
      "metadata": {
        "id": "-lPlvJz1u6k-"
      },
      "source": [
        "num_classes = 10\n",
        "num_features = 784   # (28 * 28)\n",
        "\n",
        "learning_rate = 0.1\n",
        "traininig_steps = 1000\n",
        "batch_size = 256"
      ],
      "execution_count": null,
      "outputs": []
    },
    {
      "cell_type": "markdown",
      "metadata": {
        "id": "ZM5M9h8NvDWV"
      },
      "source": [
        "### 데이터 로드"
      ]
    },
    {
      "cell_type": "code",
      "metadata": {
        "id": "qnobrT26vAvQ",
        "colab": {
          "base_uri": "https://localhost:8080/",
          "height": 53
        },
        "outputId": "cbf35070-0639-4bfd-ad10-31a4f28fb95a"
      },
      "source": [
        "(x_train, y_train), (x_test, y_test) = mnist.load_data()\n",
        "\n",
        "x_train, x_test = np.array(x_train, np.float32), np.array(x_test, np.float32)\n",
        "\n",
        "x_train, x_test = x_train.reshape([-1, num_features]), x_test.reshape([-1, num_features])\n",
        "\n",
        "x_train, x_test = x_train / 255., x_test / 255."
      ],
      "execution_count": null,
      "outputs": [
        {
          "output_type": "stream",
          "text": [
            "Downloading data from https://storage.googleapis.com/tensorflow/tf-keras-datasets/mnist.npz\n",
            "11493376/11490434 [==============================] - 0s 0us/step\n"
          ],
          "name": "stdout"
        }
      ]
    },
    {
      "cell_type": "markdown",
      "metadata": {
        "id": "o3bJVBPtve43"
      },
      "source": [
        "### tf.data API 사용\n",
        "- 03 에서 다시 다룸 "
      ]
    },
    {
      "cell_type": "code",
      "metadata": {
        "id": "-OWS2nV_vPly"
      },
      "source": [
        "train_data = tf.data.Dataset.from_tensor_slices((x_train, y_train))\n",
        "train_data = train_data.repeat().shuffle(5000).batch(batch_size).prefetch(1)"
      ],
      "execution_count": null,
      "outputs": []
    },
    {
      "cell_type": "markdown",
      "metadata": {
        "id": "fHbbQ29awub_"
      },
      "source": [
        "### 변수 지정"
      ]
    },
    {
      "cell_type": "code",
      "metadata": {
        "id": "NTMKizyIww0x"
      },
      "source": [
        "W = tf.Variable(tf.random.normal([num_features, num_classes]), name='weight')\n",
        "b = tf.Variable(tf.zeros([num_classes]), name='bias')"
      ],
      "execution_count": null,
      "outputs": []
    },
    {
      "cell_type": "markdown",
      "metadata": {
        "id": "kiK9LRUNwxC1"
      },
      "source": [
        "### Util Functions"
      ]
    },
    {
      "cell_type": "code",
      "metadata": {
        "id": "ylkNeSdhvbi6"
      },
      "source": [
        "def logistic_regression(x):\n",
        "  return tf.nn.softmax(tf.matmul(x, W) + b)\n",
        "\n",
        "def cross_entropy(pred_y, true_y):\n",
        "  true_y = tf.one_hot(true_y, depth=num_classes)\n",
        "  pred_y = tf.clip_by_value(pred_y, 1e-9, 1.)\n",
        "\n",
        "  return tf.reduce_mean(-tf.reduce_sum(true_y * tf.math.log(pred_y), 1))\n",
        "\n",
        "def accuracy(y_pred, y_true):\n",
        "  correct_prediction = tf.equal(tf.argmax(y_pred, 1), tf.cast(y_true, tf.int64))\n",
        "  return tf.reduce_mean(tf.cast(correct_prediction, tf.float32))"
      ],
      "execution_count": null,
      "outputs": []
    },
    {
      "cell_type": "markdown",
      "metadata": {
        "id": "ePdcyFeUxVNu"
      },
      "source": [
        "### Optimizer"
      ]
    },
    {
      "cell_type": "code",
      "metadata": {
        "id": "uAQHksH_xW6h"
      },
      "source": [
        "optimizer = tf.optimizers.SGD(learning_rate)"
      ],
      "execution_count": null,
      "outputs": []
    },
    {
      "cell_type": "code",
      "metadata": {
        "id": "hksbn4Njvvyk"
      },
      "source": [
        "def run_optimization(x, y):\n",
        "  with tf.GradientTape() as tape:\n",
        "    pred = logistic_regression(x)\n",
        "    loss = cross_entropy(pred, y)\n",
        "\n",
        "  gradients = tape.gradient(loss, [W, b])\n",
        "  \n",
        "  optimizer.apply_gradients(zip(gradients, [W, b]))"
      ],
      "execution_count": null,
      "outputs": []
    },
    {
      "cell_type": "markdown",
      "metadata": {
        "id": "6B0i4_VvzheR"
      },
      "source": [
        "### 학습 진행"
      ]
    },
    {
      "cell_type": "code",
      "metadata": {
        "id": "k1z97_GVwrOV",
        "colab": {
          "base_uri": "https://localhost:8080/",
          "height": 380
        },
        "outputId": "c6c36794-3f04-4aa2-d7e5-4605b615ba47"
      },
      "source": [
        "for step, (batch_x, batch_y) in enumerate(train_data.take(training_steps), 1):\n",
        "  run_optimization(batch_x, batch_y)\n",
        "\n",
        "  if step % 50 == 0:\n",
        "    pred = logistic_regression(batch_x)\n",
        "    loss = cross_entropy(pred, batch_y)\n",
        "    acc = accuracy(pred, batch_y)\n",
        "    print(\"step: {:4d}\\tloss: {:.4f}\\taccuracy: {:.4f}\".format(step, loss, acc))"
      ],
      "execution_count": null,
      "outputs": [
        {
          "output_type": "stream",
          "text": [
            "step:   50\tloss: 5.8989\taccuracy: 0.3320\n",
            "step:  100\tloss: 4.0862\taccuracy: 0.4297\n",
            "step:  150\tloss: 3.1666\taccuracy: 0.5547\n",
            "step:  200\tloss: 2.5613\taccuracy: 0.6172\n",
            "step:  250\tloss: 2.1068\taccuracy: 0.6484\n",
            "step:  300\tloss: 1.8507\taccuracy: 0.6523\n",
            "step:  350\tloss: 1.9269\taccuracy: 0.7070\n",
            "step:  400\tloss: 1.7436\taccuracy: 0.7148\n",
            "step:  450\tloss: 1.3766\taccuracy: 0.7148\n",
            "step:  500\tloss: 1.5115\taccuracy: 0.7227\n",
            "step:  550\tloss: 1.1246\taccuracy: 0.7617\n",
            "step:  600\tloss: 1.0869\taccuracy: 0.7852\n",
            "step:  650\tloss: 1.3228\taccuracy: 0.7852\n",
            "step:  700\tloss: 1.0578\taccuracy: 0.7617\n",
            "step:  750\tloss: 0.9213\taccuracy: 0.7578\n",
            "step:  800\tloss: 1.0021\taccuracy: 0.8008\n",
            "step:  850\tloss: 1.2418\taccuracy: 0.7500\n",
            "step:  900\tloss: 0.9768\taccuracy: 0.8242\n",
            "step:  950\tloss: 0.9046\taccuracy: 0.8242\n",
            "step: 1000\tloss: 1.0025\taccuracy: 0.7969\n"
          ],
          "name": "stdout"
        }
      ]
    },
    {
      "cell_type": "markdown",
      "metadata": {
        "id": "RTv-fBSMzj3e"
      },
      "source": [
        "###  테스트"
      ]
    },
    {
      "cell_type": "code",
      "metadata": {
        "id": "MlKYyRnWxbzs",
        "colab": {
          "base_uri": "https://localhost:8080/",
          "height": 35
        },
        "outputId": "d08475f0-db98-4ec9-e846-1dbb49666508"
      },
      "source": [
        "pred = logistic_regression(x_test)\n",
        "print(\"Test Accuracy: {}\".format(accuracy(pred, y_test)))"
      ],
      "execution_count": null,
      "outputs": [
        {
          "output_type": "stream",
          "text": [
            "Test Accuracy: 0.8136000037193298\n"
          ],
          "name": "stdout"
        }
      ]
    },
    {
      "cell_type": "markdown",
      "metadata": {
        "id": "NX_R9BP3zkzH"
      },
      "source": [
        "### 시각화"
      ]
    },
    {
      "cell_type": "code",
      "metadata": {
        "id": "Y2sVd13zyh3a",
        "colab": {
          "base_uri": "https://localhost:8080/",
          "height": 194
        },
        "outputId": "66a742c2-ea98-469a-b8d0-f579aa30ce55"
      },
      "source": [
        "num_images = 5\n",
        "test_images = x_test[:num_images]\n",
        "predictions = logistic_regression(test_images)\n",
        "\n",
        "plt.figure(figsize=(14, 8))\n",
        "for i in range(1, num_images+1, 1):\n",
        "  plt.subplot(1, num_images, i)\n",
        "  plt.imshow(np.reshape(test_images[i-1], [28, 28]), cmap='gray')\n",
        "  plt.title(\"Model prediction: {}\".format(np.argmax(predictions.numpy()[i-1])))\n",
        "\n",
        "plt.show()"
      ],
      "execution_count": null,
      "outputs": [
        {
          "output_type": "display_data",
          "data": {
            "image/png": "[encoded data removed]",
            "text/plain": [
              "<Figure size 1008x576 with 5 Axes>"
            ]
          },
          "metadata": {
            "tags": []
          }
        }
      ]
    }
  ]
}